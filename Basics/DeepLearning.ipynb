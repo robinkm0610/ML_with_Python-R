{
  "nbformat": 4,
  "nbformat_minor": 0,
  "metadata": {
    "colab": {
      "provenance": [],
      "gpuType": "T4",
      "include_colab_link": true
    },
    "kernelspec": {
      "name": "python3",
      "display_name": "Python 3"
    },
    "language_info": {
      "name": "python"
    },
    "accelerator": "GPU"
  },
  "cells": [
    {
      "cell_type": "markdown",
      "metadata": {
        "id": "view-in-github",
        "colab_type": "text"
      },
      "source": [
        "<a href=\"https://colab.research.google.com/github/robinkm0610/ML_with_Python-R/blob/main/Basics/DeepLearning.ipynb\" target=\"_parent\"><img src=\"https://colab.research.google.com/assets/colab-badge.svg\" alt=\"Open In Colab\"/></a>"
      ]
    },
    {
      "cell_type": "code",
      "execution_count": null,
      "metadata": {
        "id": "4A2fMrhVRy5I"
      },
      "outputs": [],
      "source": [
        "import pandas as pd\n",
        "import numpy as np\n",
        "from sklearn.datasets import load_iris"
      ]
    },
    {
      "cell_type": "code",
      "source": [
        "iris = load_iris()"
      ],
      "metadata": {
        "id": "t_S5CnVfSH3V"
      },
      "execution_count": null,
      "outputs": []
    },
    {
      "cell_type": "code",
      "source": [
        "iris"
      ],
      "metadata": {
        "colab": {
          "base_uri": "https://localhost:8080/"
        },
        "id": "tyY6xjcPSRE3",
        "outputId": "f141ac6b-b7cb-43ea-b196-e1e0c22abd4c"
      },
      "execution_count": null,
      "outputs": [
        {
          "output_type": "execute_result",
          "data": {
            "text/plain": [
              "{'data': array([[5.1, 3.5, 1.4, 0.2],\n",
              "        [4.9, 3. , 1.4, 0.2],\n",
              "        [4.7, 3.2, 1.3, 0.2],\n",
              "        [4.6, 3.1, 1.5, 0.2],\n",
              "        [5. , 3.6, 1.4, 0.2],\n",
              "        [5.4, 3.9, 1.7, 0.4],\n",
              "        [4.6, 3.4, 1.4, 0.3],\n",
              "        [5. , 3.4, 1.5, 0.2],\n",
              "        [4.4, 2.9, 1.4, 0.2],\n",
              "        [4.9, 3.1, 1.5, 0.1],\n",
              "        [5.4, 3.7, 1.5, 0.2],\n",
              "        [4.8, 3.4, 1.6, 0.2],\n",
              "        [4.8, 3. , 1.4, 0.1],\n",
              "        [4.3, 3. , 1.1, 0.1],\n",
              "        [5.8, 4. , 1.2, 0.2],\n",
              "        [5.7, 4.4, 1.5, 0.4],\n",
              "        [5.4, 3.9, 1.3, 0.4],\n",
              "        [5.1, 3.5, 1.4, 0.3],\n",
              "        [5.7, 3.8, 1.7, 0.3],\n",
              "        [5.1, 3.8, 1.5, 0.3],\n",
              "        [5.4, 3.4, 1.7, 0.2],\n",
              "        [5.1, 3.7, 1.5, 0.4],\n",
              "        [4.6, 3.6, 1. , 0.2],\n",
              "        [5.1, 3.3, 1.7, 0.5],\n",
              "        [4.8, 3.4, 1.9, 0.2],\n",
              "        [5. , 3. , 1.6, 0.2],\n",
              "        [5. , 3.4, 1.6, 0.4],\n",
              "        [5.2, 3.5, 1.5, 0.2],\n",
              "        [5.2, 3.4, 1.4, 0.2],\n",
              "        [4.7, 3.2, 1.6, 0.2],\n",
              "        [4.8, 3.1, 1.6, 0.2],\n",
              "        [5.4, 3.4, 1.5, 0.4],\n",
              "        [5.2, 4.1, 1.5, 0.1],\n",
              "        [5.5, 4.2, 1.4, 0.2],\n",
              "        [4.9, 3.1, 1.5, 0.2],\n",
              "        [5. , 3.2, 1.2, 0.2],\n",
              "        [5.5, 3.5, 1.3, 0.2],\n",
              "        [4.9, 3.6, 1.4, 0.1],\n",
              "        [4.4, 3. , 1.3, 0.2],\n",
              "        [5.1, 3.4, 1.5, 0.2],\n",
              "        [5. , 3.5, 1.3, 0.3],\n",
              "        [4.5, 2.3, 1.3, 0.3],\n",
              "        [4.4, 3.2, 1.3, 0.2],\n",
              "        [5. , 3.5, 1.6, 0.6],\n",
              "        [5.1, 3.8, 1.9, 0.4],\n",
              "        [4.8, 3. , 1.4, 0.3],\n",
              "        [5.1, 3.8, 1.6, 0.2],\n",
              "        [4.6, 3.2, 1.4, 0.2],\n",
              "        [5.3, 3.7, 1.5, 0.2],\n",
              "        [5. , 3.3, 1.4, 0.2],\n",
              "        [7. , 3.2, 4.7, 1.4],\n",
              "        [6.4, 3.2, 4.5, 1.5],\n",
              "        [6.9, 3.1, 4.9, 1.5],\n",
              "        [5.5, 2.3, 4. , 1.3],\n",
              "        [6.5, 2.8, 4.6, 1.5],\n",
              "        [5.7, 2.8, 4.5, 1.3],\n",
              "        [6.3, 3.3, 4.7, 1.6],\n",
              "        [4.9, 2.4, 3.3, 1. ],\n",
              "        [6.6, 2.9, 4.6, 1.3],\n",
              "        [5.2, 2.7, 3.9, 1.4],\n",
              "        [5. , 2. , 3.5, 1. ],\n",
              "        [5.9, 3. , 4.2, 1.5],\n",
              "        [6. , 2.2, 4. , 1. ],\n",
              "        [6.1, 2.9, 4.7, 1.4],\n",
              "        [5.6, 2.9, 3.6, 1.3],\n",
              "        [6.7, 3.1, 4.4, 1.4],\n",
              "        [5.6, 3. , 4.5, 1.5],\n",
              "        [5.8, 2.7, 4.1, 1. ],\n",
              "        [6.2, 2.2, 4.5, 1.5],\n",
              "        [5.6, 2.5, 3.9, 1.1],\n",
              "        [5.9, 3.2, 4.8, 1.8],\n",
              "        [6.1, 2.8, 4. , 1.3],\n",
              "        [6.3, 2.5, 4.9, 1.5],\n",
              "        [6.1, 2.8, 4.7, 1.2],\n",
              "        [6.4, 2.9, 4.3, 1.3],\n",
              "        [6.6, 3. , 4.4, 1.4],\n",
              "        [6.8, 2.8, 4.8, 1.4],\n",
              "        [6.7, 3. , 5. , 1.7],\n",
              "        [6. , 2.9, 4.5, 1.5],\n",
              "        [5.7, 2.6, 3.5, 1. ],\n",
              "        [5.5, 2.4, 3.8, 1.1],\n",
              "        [5.5, 2.4, 3.7, 1. ],\n",
              "        [5.8, 2.7, 3.9, 1.2],\n",
              "        [6. , 2.7, 5.1, 1.6],\n",
              "        [5.4, 3. , 4.5, 1.5],\n",
              "        [6. , 3.4, 4.5, 1.6],\n",
              "        [6.7, 3.1, 4.7, 1.5],\n",
              "        [6.3, 2.3, 4.4, 1.3],\n",
              "        [5.6, 3. , 4.1, 1.3],\n",
              "        [5.5, 2.5, 4. , 1.3],\n",
              "        [5.5, 2.6, 4.4, 1.2],\n",
              "        [6.1, 3. , 4.6, 1.4],\n",
              "        [5.8, 2.6, 4. , 1.2],\n",
              "        [5. , 2.3, 3.3, 1. ],\n",
              "        [5.6, 2.7, 4.2, 1.3],\n",
              "        [5.7, 3. , 4.2, 1.2],\n",
              "        [5.7, 2.9, 4.2, 1.3],\n",
              "        [6.2, 2.9, 4.3, 1.3],\n",
              "        [5.1, 2.5, 3. , 1.1],\n",
              "        [5.7, 2.8, 4.1, 1.3],\n",
              "        [6.3, 3.3, 6. , 2.5],\n",
              "        [5.8, 2.7, 5.1, 1.9],\n",
              "        [7.1, 3. , 5.9, 2.1],\n",
              "        [6.3, 2.9, 5.6, 1.8],\n",
              "        [6.5, 3. , 5.8, 2.2],\n",
              "        [7.6, 3. , 6.6, 2.1],\n",
              "        [4.9, 2.5, 4.5, 1.7],\n",
              "        [7.3, 2.9, 6.3, 1.8],\n",
              "        [6.7, 2.5, 5.8, 1.8],\n",
              "        [7.2, 3.6, 6.1, 2.5],\n",
              "        [6.5, 3.2, 5.1, 2. ],\n",
              "        [6.4, 2.7, 5.3, 1.9],\n",
              "        [6.8, 3. , 5.5, 2.1],\n",
              "        [5.7, 2.5, 5. , 2. ],\n",
              "        [5.8, 2.8, 5.1, 2.4],\n",
              "        [6.4, 3.2, 5.3, 2.3],\n",
              "        [6.5, 3. , 5.5, 1.8],\n",
              "        [7.7, 3.8, 6.7, 2.2],\n",
              "        [7.7, 2.6, 6.9, 2.3],\n",
              "        [6. , 2.2, 5. , 1.5],\n",
              "        [6.9, 3.2, 5.7, 2.3],\n",
              "        [5.6, 2.8, 4.9, 2. ],\n",
              "        [7.7, 2.8, 6.7, 2. ],\n",
              "        [6.3, 2.7, 4.9, 1.8],\n",
              "        [6.7, 3.3, 5.7, 2.1],\n",
              "        [7.2, 3.2, 6. , 1.8],\n",
              "        [6.2, 2.8, 4.8, 1.8],\n",
              "        [6.1, 3. , 4.9, 1.8],\n",
              "        [6.4, 2.8, 5.6, 2.1],\n",
              "        [7.2, 3. , 5.8, 1.6],\n",
              "        [7.4, 2.8, 6.1, 1.9],\n",
              "        [7.9, 3.8, 6.4, 2. ],\n",
              "        [6.4, 2.8, 5.6, 2.2],\n",
              "        [6.3, 2.8, 5.1, 1.5],\n",
              "        [6.1, 2.6, 5.6, 1.4],\n",
              "        [7.7, 3. , 6.1, 2.3],\n",
              "        [6.3, 3.4, 5.6, 2.4],\n",
              "        [6.4, 3.1, 5.5, 1.8],\n",
              "        [6. , 3. , 4.8, 1.8],\n",
              "        [6.9, 3.1, 5.4, 2.1],\n",
              "        [6.7, 3.1, 5.6, 2.4],\n",
              "        [6.9, 3.1, 5.1, 2.3],\n",
              "        [5.8, 2.7, 5.1, 1.9],\n",
              "        [6.8, 3.2, 5.9, 2.3],\n",
              "        [6.7, 3.3, 5.7, 2.5],\n",
              "        [6.7, 3. , 5.2, 2.3],\n",
              "        [6.3, 2.5, 5. , 1.9],\n",
              "        [6.5, 3. , 5.2, 2. ],\n",
              "        [6.2, 3.4, 5.4, 2.3],\n",
              "        [5.9, 3. , 5.1, 1.8]]),\n",
              " 'target': array([0, 0, 0, 0, 0, 0, 0, 0, 0, 0, 0, 0, 0, 0, 0, 0, 0, 0, 0, 0, 0, 0,\n",
              "        0, 0, 0, 0, 0, 0, 0, 0, 0, 0, 0, 0, 0, 0, 0, 0, 0, 0, 0, 0, 0, 0,\n",
              "        0, 0, 0, 0, 0, 0, 1, 1, 1, 1, 1, 1, 1, 1, 1, 1, 1, 1, 1, 1, 1, 1,\n",
              "        1, 1, 1, 1, 1, 1, 1, 1, 1, 1, 1, 1, 1, 1, 1, 1, 1, 1, 1, 1, 1, 1,\n",
              "        1, 1, 1, 1, 1, 1, 1, 1, 1, 1, 1, 1, 2, 2, 2, 2, 2, 2, 2, 2, 2, 2,\n",
              "        2, 2, 2, 2, 2, 2, 2, 2, 2, 2, 2, 2, 2, 2, 2, 2, 2, 2, 2, 2, 2, 2,\n",
              "        2, 2, 2, 2, 2, 2, 2, 2, 2, 2, 2, 2, 2, 2, 2, 2, 2, 2]),\n",
              " 'frame': None,\n",
              " 'target_names': array(['setosa', 'versicolor', 'virginica'], dtype='<U10'),\n",
              " 'DESCR': '.. _iris_dataset:\\n\\nIris plants dataset\\n--------------------\\n\\n**Data Set Characteristics:**\\n\\n    :Number of Instances: 150 (50 in each of three classes)\\n    :Number of Attributes: 4 numeric, predictive attributes and the class\\n    :Attribute Information:\\n        - sepal length in cm\\n        - sepal width in cm\\n        - petal length in cm\\n        - petal width in cm\\n        - class:\\n                - Iris-Setosa\\n                - Iris-Versicolour\\n                - Iris-Virginica\\n                \\n    :Summary Statistics:\\n\\n    ============== ==== ==== ======= ===== ====================\\n                    Min  Max   Mean    SD   Class Correlation\\n    ============== ==== ==== ======= ===== ====================\\n    sepal length:   4.3  7.9   5.84   0.83    0.7826\\n    sepal width:    2.0  4.4   3.05   0.43   -0.4194\\n    petal length:   1.0  6.9   3.76   1.76    0.9490  (high!)\\n    petal width:    0.1  2.5   1.20   0.76    0.9565  (high!)\\n    ============== ==== ==== ======= ===== ====================\\n\\n    :Missing Attribute Values: None\\n    :Class Distribution: 33.3% for each of 3 classes.\\n    :Creator: R.A. Fisher\\n    :Donor: Michael Marshall (MARSHALL%PLU@io.arc.nasa.gov)\\n    :Date: July, 1988\\n\\nThe famous Iris database, first used by Sir R.A. Fisher. The dataset is taken\\nfrom Fisher\\'s paper. Note that it\\'s the same as in R, but not as in the UCI\\nMachine Learning Repository, which has two wrong data points.\\n\\nThis is perhaps the best known database to be found in the\\npattern recognition literature.  Fisher\\'s paper is a classic in the field and\\nis referenced frequently to this day.  (See Duda & Hart, for example.)  The\\ndata set contains 3 classes of 50 instances each, where each class refers to a\\ntype of iris plant.  One class is linearly separable from the other 2; the\\nlatter are NOT linearly separable from each other.\\n\\n.. topic:: References\\n\\n   - Fisher, R.A. \"The use of multiple measurements in taxonomic problems\"\\n     Annual Eugenics, 7, Part II, 179-188 (1936); also in \"Contributions to\\n     Mathematical Statistics\" (John Wiley, NY, 1950).\\n   - Duda, R.O., & Hart, P.E. (1973) Pattern Classification and Scene Analysis.\\n     (Q327.D83) John Wiley & Sons.  ISBN 0-471-22361-1.  See page 218.\\n   - Dasarathy, B.V. (1980) \"Nosing Around the Neighborhood: A New System\\n     Structure and Classification Rule for Recognition in Partially Exposed\\n     Environments\".  IEEE Transactions on Pattern Analysis and Machine\\n     Intelligence, Vol. PAMI-2, No. 1, 67-71.\\n   - Gates, G.W. (1972) \"The Reduced Nearest Neighbor Rule\".  IEEE Transactions\\n     on Information Theory, May 1972, 431-433.\\n   - See also: 1988 MLC Proceedings, 54-64.  Cheeseman et al\"s AUTOCLASS II\\n     conceptual clustering system finds 3 classes in the data.\\n   - Many, many more ...',\n",
              " 'feature_names': ['sepal length (cm)',\n",
              "  'sepal width (cm)',\n",
              "  'petal length (cm)',\n",
              "  'petal width (cm)'],\n",
              " 'filename': 'iris.csv',\n",
              " 'data_module': 'sklearn.datasets.data'}"
            ]
          },
          "metadata": {},
          "execution_count": 6
        }
      ]
    },
    {
      "cell_type": "code",
      "source": [
        "X = iris.data[:, (2,3)] # petal lenth and width"
      ],
      "metadata": {
        "id": "GW0JOVCCSY4G"
      },
      "execution_count": null,
      "outputs": []
    },
    {
      "cell_type": "code",
      "source": [
        "iris.target"
      ],
      "metadata": {
        "colab": {
          "base_uri": "https://localhost:8080/"
        },
        "id": "oRO-u7qzSnOk",
        "outputId": "021cf104-47ed-4d94-b1f2-c6c7dffbf3cd"
      },
      "execution_count": null,
      "outputs": [
        {
          "output_type": "execute_result",
          "data": {
            "text/plain": [
              "array([0, 0, 0, 0, 0, 0, 0, 0, 0, 0, 0, 0, 0, 0, 0, 0, 0, 0, 0, 0, 0, 0,\n",
              "       0, 0, 0, 0, 0, 0, 0, 0, 0, 0, 0, 0, 0, 0, 0, 0, 0, 0, 0, 0, 0, 0,\n",
              "       0, 0, 0, 0, 0, 0, 1, 1, 1, 1, 1, 1, 1, 1, 1, 1, 1, 1, 1, 1, 1, 1,\n",
              "       1, 1, 1, 1, 1, 1, 1, 1, 1, 1, 1, 1, 1, 1, 1, 1, 1, 1, 1, 1, 1, 1,\n",
              "       1, 1, 1, 1, 1, 1, 1, 1, 1, 1, 1, 1, 2, 2, 2, 2, 2, 2, 2, 2, 2, 2,\n",
              "       2, 2, 2, 2, 2, 2, 2, 2, 2, 2, 2, 2, 2, 2, 2, 2, 2, 2, 2, 2, 2, 2,\n",
              "       2, 2, 2, 2, 2, 2, 2, 2, 2, 2, 2, 2, 2, 2, 2, 2, 2, 2])"
            ]
          },
          "metadata": {},
          "execution_count": 8
        }
      ]
    },
    {
      "cell_type": "code",
      "source": [
        "# 0 setosa\n",
        "# 1 versicolor\n",
        "# 2 virginica\n",
        "y = (iris.target == 0)"
      ],
      "metadata": {
        "id": "oBd9N79FStbD"
      },
      "execution_count": null,
      "outputs": []
    },
    {
      "cell_type": "code",
      "source": [
        "y"
      ],
      "metadata": {
        "colab": {
          "base_uri": "https://localhost:8080/"
        },
        "id": "HKF7LJwMS6pC",
        "outputId": "4531242d-ebea-4784-ecdb-13431e36be71"
      },
      "execution_count": null,
      "outputs": [
        {
          "output_type": "execute_result",
          "data": {
            "text/plain": [
              "array([ True,  True,  True,  True,  True,  True,  True,  True,  True,\n",
              "        True,  True,  True,  True,  True,  True,  True,  True,  True,\n",
              "        True,  True,  True,  True,  True,  True,  True,  True,  True,\n",
              "        True,  True,  True,  True,  True,  True,  True,  True,  True,\n",
              "        True,  True,  True,  True,  True,  True,  True,  True,  True,\n",
              "        True,  True,  True,  True,  True, False, False, False, False,\n",
              "       False, False, False, False, False, False, False, False, False,\n",
              "       False, False, False, False, False, False, False, False, False,\n",
              "       False, False, False, False, False, False, False, False, False,\n",
              "       False, False, False, False, False, False, False, False, False,\n",
              "       False, False, False, False, False, False, False, False, False,\n",
              "       False, False, False, False, False, False, False, False, False,\n",
              "       False, False, False, False, False, False, False, False, False,\n",
              "       False, False, False, False, False, False, False, False, False,\n",
              "       False, False, False, False, False, False, False, False, False,\n",
              "       False, False, False, False, False, False, False, False, False,\n",
              "       False, False, False, False, False, False])"
            ]
          },
          "metadata": {},
          "execution_count": 11
        }
      ]
    },
    {
      "cell_type": "code",
      "source": [
        " y = (iris.target == 0).astype(int)"
      ],
      "metadata": {
        "id": "xD9UlZJuS9pn"
      },
      "execution_count": null,
      "outputs": []
    },
    {
      "cell_type": "code",
      "source": [
        "y"
      ],
      "metadata": {
        "colab": {
          "base_uri": "https://localhost:8080/"
        },
        "id": "aA5xMAxkTGSM",
        "outputId": "031f9c85-cc1d-4b0c-a179-4e38774430f0"
      },
      "execution_count": null,
      "outputs": [
        {
          "output_type": "execute_result",
          "data": {
            "text/plain": [
              "array([1, 1, 1, 1, 1, 1, 1, 1, 1, 1, 1, 1, 1, 1, 1, 1, 1, 1, 1, 1, 1, 1,\n",
              "       1, 1, 1, 1, 1, 1, 1, 1, 1, 1, 1, 1, 1, 1, 1, 1, 1, 1, 1, 1, 1, 1,\n",
              "       1, 1, 1, 1, 1, 1, 0, 0, 0, 0, 0, 0, 0, 0, 0, 0, 0, 0, 0, 0, 0, 0,\n",
              "       0, 0, 0, 0, 0, 0, 0, 0, 0, 0, 0, 0, 0, 0, 0, 0, 0, 0, 0, 0, 0, 0,\n",
              "       0, 0, 0, 0, 0, 0, 0, 0, 0, 0, 0, 0, 0, 0, 0, 0, 0, 0, 0, 0, 0, 0,\n",
              "       0, 0, 0, 0, 0, 0, 0, 0, 0, 0, 0, 0, 0, 0, 0, 0, 0, 0, 0, 0, 0, 0,\n",
              "       0, 0, 0, 0, 0, 0, 0, 0, 0, 0, 0, 0, 0, 0, 0, 0, 0, 0])"
            ]
          },
          "metadata": {},
          "execution_count": 14
        }
      ]
    },
    {
      "cell_type": "code",
      "source": [
        "X"
      ],
      "metadata": {
        "colab": {
          "base_uri": "https://localhost:8080/"
        },
        "id": "mWcCycdkTSkr",
        "outputId": "2a00579c-1f84-44e1-f119-afcaa05f2902"
      },
      "execution_count": null,
      "outputs": [
        {
          "output_type": "execute_result",
          "data": {
            "text/plain": [
              "array([[1.4, 0.2],\n",
              "       [1.4, 0.2],\n",
              "       [1.3, 0.2],\n",
              "       [1.5, 0.2],\n",
              "       [1.4, 0.2],\n",
              "       [1.7, 0.4],\n",
              "       [1.4, 0.3],\n",
              "       [1.5, 0.2],\n",
              "       [1.4, 0.2],\n",
              "       [1.5, 0.1],\n",
              "       [1.5, 0.2],\n",
              "       [1.6, 0.2],\n",
              "       [1.4, 0.1],\n",
              "       [1.1, 0.1],\n",
              "       [1.2, 0.2],\n",
              "       [1.5, 0.4],\n",
              "       [1.3, 0.4],\n",
              "       [1.4, 0.3],\n",
              "       [1.7, 0.3],\n",
              "       [1.5, 0.3],\n",
              "       [1.7, 0.2],\n",
              "       [1.5, 0.4],\n",
              "       [1. , 0.2],\n",
              "       [1.7, 0.5],\n",
              "       [1.9, 0.2],\n",
              "       [1.6, 0.2],\n",
              "       [1.6, 0.4],\n",
              "       [1.5, 0.2],\n",
              "       [1.4, 0.2],\n",
              "       [1.6, 0.2],\n",
              "       [1.6, 0.2],\n",
              "       [1.5, 0.4],\n",
              "       [1.5, 0.1],\n",
              "       [1.4, 0.2],\n",
              "       [1.5, 0.2],\n",
              "       [1.2, 0.2],\n",
              "       [1.3, 0.2],\n",
              "       [1.4, 0.1],\n",
              "       [1.3, 0.2],\n",
              "       [1.5, 0.2],\n",
              "       [1.3, 0.3],\n",
              "       [1.3, 0.3],\n",
              "       [1.3, 0.2],\n",
              "       [1.6, 0.6],\n",
              "       [1.9, 0.4],\n",
              "       [1.4, 0.3],\n",
              "       [1.6, 0.2],\n",
              "       [1.4, 0.2],\n",
              "       [1.5, 0.2],\n",
              "       [1.4, 0.2],\n",
              "       [4.7, 1.4],\n",
              "       [4.5, 1.5],\n",
              "       [4.9, 1.5],\n",
              "       [4. , 1.3],\n",
              "       [4.6, 1.5],\n",
              "       [4.5, 1.3],\n",
              "       [4.7, 1.6],\n",
              "       [3.3, 1. ],\n",
              "       [4.6, 1.3],\n",
              "       [3.9, 1.4],\n",
              "       [3.5, 1. ],\n",
              "       [4.2, 1.5],\n",
              "       [4. , 1. ],\n",
              "       [4.7, 1.4],\n",
              "       [3.6, 1.3],\n",
              "       [4.4, 1.4],\n",
              "       [4.5, 1.5],\n",
              "       [4.1, 1. ],\n",
              "       [4.5, 1.5],\n",
              "       [3.9, 1.1],\n",
              "       [4.8, 1.8],\n",
              "       [4. , 1.3],\n",
              "       [4.9, 1.5],\n",
              "       [4.7, 1.2],\n",
              "       [4.3, 1.3],\n",
              "       [4.4, 1.4],\n",
              "       [4.8, 1.4],\n",
              "       [5. , 1.7],\n",
              "       [4.5, 1.5],\n",
              "       [3.5, 1. ],\n",
              "       [3.8, 1.1],\n",
              "       [3.7, 1. ],\n",
              "       [3.9, 1.2],\n",
              "       [5.1, 1.6],\n",
              "       [4.5, 1.5],\n",
              "       [4.5, 1.6],\n",
              "       [4.7, 1.5],\n",
              "       [4.4, 1.3],\n",
              "       [4.1, 1.3],\n",
              "       [4. , 1.3],\n",
              "       [4.4, 1.2],\n",
              "       [4.6, 1.4],\n",
              "       [4. , 1.2],\n",
              "       [3.3, 1. ],\n",
              "       [4.2, 1.3],\n",
              "       [4.2, 1.2],\n",
              "       [4.2, 1.3],\n",
              "       [4.3, 1.3],\n",
              "       [3. , 1.1],\n",
              "       [4.1, 1.3],\n",
              "       [6. , 2.5],\n",
              "       [5.1, 1.9],\n",
              "       [5.9, 2.1],\n",
              "       [5.6, 1.8],\n",
              "       [5.8, 2.2],\n",
              "       [6.6, 2.1],\n",
              "       [4.5, 1.7],\n",
              "       [6.3, 1.8],\n",
              "       [5.8, 1.8],\n",
              "       [6.1, 2.5],\n",
              "       [5.1, 2. ],\n",
              "       [5.3, 1.9],\n",
              "       [5.5, 2.1],\n",
              "       [5. , 2. ],\n",
              "       [5.1, 2.4],\n",
              "       [5.3, 2.3],\n",
              "       [5.5, 1.8],\n",
              "       [6.7, 2.2],\n",
              "       [6.9, 2.3],\n",
              "       [5. , 1.5],\n",
              "       [5.7, 2.3],\n",
              "       [4.9, 2. ],\n",
              "       [6.7, 2. ],\n",
              "       [4.9, 1.8],\n",
              "       [5.7, 2.1],\n",
              "       [6. , 1.8],\n",
              "       [4.8, 1.8],\n",
              "       [4.9, 1.8],\n",
              "       [5.6, 2.1],\n",
              "       [5.8, 1.6],\n",
              "       [6.1, 1.9],\n",
              "       [6.4, 2. ],\n",
              "       [5.6, 2.2],\n",
              "       [5.1, 1.5],\n",
              "       [5.6, 1.4],\n",
              "       [6.1, 2.3],\n",
              "       [5.6, 2.4],\n",
              "       [5.5, 1.8],\n",
              "       [4.8, 1.8],\n",
              "       [5.4, 2.1],\n",
              "       [5.6, 2.4],\n",
              "       [5.1, 2.3],\n",
              "       [5.1, 1.9],\n",
              "       [5.9, 2.3],\n",
              "       [5.7, 2.5],\n",
              "       [5.2, 2.3],\n",
              "       [5. , 1.9],\n",
              "       [5.2, 2. ],\n",
              "       [5.4, 2.3],\n",
              "       [5.1, 1.8]])"
            ]
          },
          "metadata": {},
          "execution_count": 15
        }
      ]
    },
    {
      "cell_type": "code",
      "source": [
        "from sklearn.linear_model import Perceptron"
      ],
      "metadata": {
        "id": "sinXBRPKTYjT"
      },
      "execution_count": null,
      "outputs": []
    },
    {
      "cell_type": "code",
      "source": [
        "per_clf = Perceptron(random_state=42)\n",
        "per_clf.fit(X,y)"
      ],
      "metadata": {
        "colab": {
          "base_uri": "https://localhost:8080/",
          "height": 74
        },
        "id": "QpdnI9A0VCVy",
        "outputId": "24fc708f-c4b9-4099-a483-c5079bed1116"
      },
      "execution_count": null,
      "outputs": [
        {
          "output_type": "execute_result",
          "data": {
            "text/plain": [
              "Perceptron(random_state=42)"
            ],
            "text/html": [
              "<style>#sk-container-id-1 {color: black;background-color: white;}#sk-container-id-1 pre{padding: 0;}#sk-container-id-1 div.sk-toggleable {background-color: white;}#sk-container-id-1 label.sk-toggleable__label {cursor: pointer;display: block;width: 100%;margin-bottom: 0;padding: 0.3em;box-sizing: border-box;text-align: center;}#sk-container-id-1 label.sk-toggleable__label-arrow:before {content: \"▸\";float: left;margin-right: 0.25em;color: #696969;}#sk-container-id-1 label.sk-toggleable__label-arrow:hover:before {color: black;}#sk-container-id-1 div.sk-estimator:hover label.sk-toggleable__label-arrow:before {color: black;}#sk-container-id-1 div.sk-toggleable__content {max-height: 0;max-width: 0;overflow: hidden;text-align: left;background-color: #f0f8ff;}#sk-container-id-1 div.sk-toggleable__content pre {margin: 0.2em;color: black;border-radius: 0.25em;background-color: #f0f8ff;}#sk-container-id-1 input.sk-toggleable__control:checked~div.sk-toggleable__content {max-height: 200px;max-width: 100%;overflow: auto;}#sk-container-id-1 input.sk-toggleable__control:checked~label.sk-toggleable__label-arrow:before {content: \"▾\";}#sk-container-id-1 div.sk-estimator input.sk-toggleable__control:checked~label.sk-toggleable__label {background-color: #d4ebff;}#sk-container-id-1 div.sk-label input.sk-toggleable__control:checked~label.sk-toggleable__label {background-color: #d4ebff;}#sk-container-id-1 input.sk-hidden--visually {border: 0;clip: rect(1px 1px 1px 1px);clip: rect(1px, 1px, 1px, 1px);height: 1px;margin: -1px;overflow: hidden;padding: 0;position: absolute;width: 1px;}#sk-container-id-1 div.sk-estimator {font-family: monospace;background-color: #f0f8ff;border: 1px dotted black;border-radius: 0.25em;box-sizing: border-box;margin-bottom: 0.5em;}#sk-container-id-1 div.sk-estimator:hover {background-color: #d4ebff;}#sk-container-id-1 div.sk-parallel-item::after {content: \"\";width: 100%;border-bottom: 1px solid gray;flex-grow: 1;}#sk-container-id-1 div.sk-label:hover label.sk-toggleable__label {background-color: #d4ebff;}#sk-container-id-1 div.sk-serial::before {content: \"\";position: absolute;border-left: 1px solid gray;box-sizing: border-box;top: 0;bottom: 0;left: 50%;z-index: 0;}#sk-container-id-1 div.sk-serial {display: flex;flex-direction: column;align-items: center;background-color: white;padding-right: 0.2em;padding-left: 0.2em;position: relative;}#sk-container-id-1 div.sk-item {position: relative;z-index: 1;}#sk-container-id-1 div.sk-parallel {display: flex;align-items: stretch;justify-content: center;background-color: white;position: relative;}#sk-container-id-1 div.sk-item::before, #sk-container-id-1 div.sk-parallel-item::before {content: \"\";position: absolute;border-left: 1px solid gray;box-sizing: border-box;top: 0;bottom: 0;left: 50%;z-index: -1;}#sk-container-id-1 div.sk-parallel-item {display: flex;flex-direction: column;z-index: 1;position: relative;background-color: white;}#sk-container-id-1 div.sk-parallel-item:first-child::after {align-self: flex-end;width: 50%;}#sk-container-id-1 div.sk-parallel-item:last-child::after {align-self: flex-start;width: 50%;}#sk-container-id-1 div.sk-parallel-item:only-child::after {width: 0;}#sk-container-id-1 div.sk-dashed-wrapped {border: 1px dashed gray;margin: 0 0.4em 0.5em 0.4em;box-sizing: border-box;padding-bottom: 0.4em;background-color: white;}#sk-container-id-1 div.sk-label label {font-family: monospace;font-weight: bold;display: inline-block;line-height: 1.2em;}#sk-container-id-1 div.sk-label-container {text-align: center;}#sk-container-id-1 div.sk-container {/* jupyter's `normalize.less` sets `[hidden] { display: none; }` but bootstrap.min.css set `[hidden] { display: none !important; }` so we also need the `!important` here to be able to override the default hidden behavior on the sphinx rendered scikit-learn.org. See: https://github.com/scikit-learn/scikit-learn/issues/21755 */display: inline-block !important;position: relative;}#sk-container-id-1 div.sk-text-repr-fallback {display: none;}</style><div id=\"sk-container-id-1\" class=\"sk-top-container\"><div class=\"sk-text-repr-fallback\"><pre>Perceptron(random_state=42)</pre><b>In a Jupyter environment, please rerun this cell to show the HTML representation or trust the notebook. <br />On GitHub, the HTML representation is unable to render, please try loading this page with nbviewer.org.</b></div><div class=\"sk-container\" hidden><div class=\"sk-item\"><div class=\"sk-estimator sk-toggleable\"><input class=\"sk-toggleable__control sk-hidden--visually\" id=\"sk-estimator-id-1\" type=\"checkbox\" checked><label for=\"sk-estimator-id-1\" class=\"sk-toggleable__label sk-toggleable__label-arrow\">Perceptron</label><div class=\"sk-toggleable__content\"><pre>Perceptron(random_state=42)</pre></div></div></div></div></div>"
            ]
          },
          "metadata": {},
          "execution_count": 17
        }
      ]
    },
    {
      "cell_type": "code",
      "source": [
        "y_per = per_clf.predict(X)\n",
        "y_per"
      ],
      "metadata": {
        "colab": {
          "base_uri": "https://localhost:8080/"
        },
        "id": "chsJVpUdVH2x",
        "outputId": "c0824f8a-5352-46cd-9b49-cae580fe3056"
      },
      "execution_count": null,
      "outputs": [
        {
          "output_type": "execute_result",
          "data": {
            "text/plain": [
              "array([1, 1, 1, 1, 1, 1, 1, 1, 1, 1, 1, 1, 1, 1, 1, 1, 1, 1, 1, 1, 1, 1,\n",
              "       1, 1, 1, 1, 1, 1, 1, 1, 1, 1, 1, 1, 1, 1, 1, 1, 1, 1, 1, 1, 1, 1,\n",
              "       1, 1, 1, 1, 1, 1, 0, 0, 0, 0, 0, 0, 0, 0, 0, 0, 0, 0, 0, 0, 0, 0,\n",
              "       0, 0, 0, 0, 0, 0, 0, 0, 0, 0, 0, 0, 0, 0, 0, 0, 0, 0, 0, 0, 0, 0,\n",
              "       0, 0, 0, 0, 0, 0, 0, 0, 0, 0, 0, 0, 0, 0, 0, 0, 0, 0, 0, 0, 0, 0,\n",
              "       0, 0, 0, 0, 0, 0, 0, 0, 0, 0, 0, 0, 0, 0, 0, 0, 0, 0, 0, 0, 0, 0,\n",
              "       0, 0, 0, 0, 0, 0, 0, 0, 0, 0, 0, 0, 0, 0, 0, 0, 0, 0])"
            ]
          },
          "metadata": {},
          "execution_count": 18
        }
      ]
    },
    {
      "cell_type": "code",
      "source": [
        "from sklearn.metrics import accuracy_score\n",
        "accuracy_score(y,y_per)"
      ],
      "metadata": {
        "colab": {
          "base_uri": "https://localhost:8080/"
        },
        "id": "UpdHqxBUVQkP",
        "outputId": "0da9c0ee-807a-447d-b117-a43cadc2ed97"
      },
      "execution_count": null,
      "outputs": [
        {
          "output_type": "execute_result",
          "data": {
            "text/plain": [
              "1.0"
            ]
          },
          "metadata": {},
          "execution_count": 19
        }
      ]
    },
    {
      "cell_type": "code",
      "source": [
        "per_clf.coef_"
      ],
      "metadata": {
        "colab": {
          "base_uri": "https://localhost:8080/"
        },
        "id": "1WCjzPkMVVyH",
        "outputId": "92d44563-950b-487d-d2f4-3704793d4411"
      },
      "execution_count": null,
      "outputs": [
        {
          "output_type": "execute_result",
          "data": {
            "text/plain": [
              "array([[-1.4, -2.2]])"
            ]
          },
          "metadata": {},
          "execution_count": 20
        }
      ]
    },
    {
      "cell_type": "code",
      "source": [
        "per_clf.intercept_"
      ],
      "metadata": {
        "colab": {
          "base_uri": "https://localhost:8080/"
        },
        "id": "5KTqT57GVZRJ",
        "outputId": "16c917dd-927b-4f57-d307-e2fc3a4e9221"
      },
      "execution_count": null,
      "outputs": [
        {
          "output_type": "execute_result",
          "data": {
            "text/plain": [
              "array([4.])"
            ]
          },
          "metadata": {},
          "execution_count": 21
        }
      ]
    },
    {
      "cell_type": "code",
      "source": [
        "import numpy as np\n",
        "import pandas as pd\n",
        "import matplotlib.pyplot as plt\n",
        "import matplotlib as mpl"
      ],
      "metadata": {
        "id": "wbCg-J8u-LUt"
      },
      "execution_count": null,
      "outputs": []
    },
    {
      "cell_type": "code",
      "source": [
        "import tensorflow as tf\n",
        "from tensorflow import keras"
      ],
      "metadata": {
        "id": "zkCW6nORVbMu"
      },
      "execution_count": null,
      "outputs": []
    },
    {
      "cell_type": "code",
      "source": [
        "help(keras)"
      ],
      "metadata": {
        "colab": {
          "base_uri": "https://localhost:8080/"
        },
        "id": "aI9baHQ09Sq2",
        "outputId": "b6110640-e822-4da5-8082-10626bb47d83"
      },
      "execution_count": null,
      "outputs": [
        {
          "output_type": "stream",
          "name": "stdout",
          "text": [
            "Help on package keras.api._v2.keras in keras.api._v2:\n",
            "\n",
            "NAME\n",
            "    keras.api._v2.keras - AUTOGENERATED. DO NOT EDIT.\n",
            "\n",
            "PACKAGE CONTENTS\n",
            "    __internal__ (package)\n",
            "    activations (package)\n",
            "    applications (package)\n",
            "    backend (package)\n",
            "    callbacks (package)\n",
            "    constraints (package)\n",
            "    datasets (package)\n",
            "    dtensor (package)\n",
            "    estimator (package)\n",
            "    experimental (package)\n",
            "    export (package)\n",
            "    initializers (package)\n",
            "    layers (package)\n",
            "    losses (package)\n",
            "    metrics (package)\n",
            "    mixed_precision (package)\n",
            "    models (package)\n",
            "    optimizers (package)\n",
            "    preprocessing (package)\n",
            "    regularizers (package)\n",
            "    saving (package)\n",
            "    utils (package)\n",
            "\n",
            "FILE\n",
            "    /usr/local/lib/python3.10/dist-packages/keras/api/_v2/keras/__init__.py\n",
            "\n",
            "\n"
          ]
        }
      ]
    },
    {
      "cell_type": "code",
      "source": [
        "tf.__version__"
      ],
      "metadata": {
        "colab": {
          "base_uri": "https://localhost:8080/",
          "height": 36
        },
        "id": "2xm0TSRd9k5I",
        "outputId": "7d12b9c1-475f-46de-bf79-cea63ef83a31"
      },
      "execution_count": null,
      "outputs": [
        {
          "output_type": "execute_result",
          "data": {
            "text/plain": [
              "'2.15.0'"
            ],
            "application/vnd.google.colaboratory.intrinsic+json": {
              "type": "string"
            }
          },
          "metadata": {},
          "execution_count": 7
        }
      ]
    },
    {
      "cell_type": "code",
      "source": [
        "fashion_mnist = keras.datasets.fashion_mnist\n",
        "(X_train_full, y_train_full), (X_test, y_test) = fashion_mnist.load_data()"
      ],
      "metadata": {
        "colab": {
          "base_uri": "https://localhost:8080/"
        },
        "id": "KXmcknOE-hUn",
        "outputId": "9bbb45b1-6698-47d7-c92b-34c857ddbe92"
      },
      "execution_count": null,
      "outputs": [
        {
          "output_type": "stream",
          "name": "stdout",
          "text": [
            "Downloading data from https://storage.googleapis.com/tensorflow/tf-keras-datasets/train-labels-idx1-ubyte.gz\n",
            "29515/29515 [==============================] - 0s 0us/step\n",
            "Downloading data from https://storage.googleapis.com/tensorflow/tf-keras-datasets/train-images-idx3-ubyte.gz\n",
            "26421880/26421880 [==============================] - 0s 0us/step\n",
            "Downloading data from https://storage.googleapis.com/tensorflow/tf-keras-datasets/t10k-labels-idx1-ubyte.gz\n",
            "5148/5148 [==============================] - 0s 0us/step\n",
            "Downloading data from https://storage.googleapis.com/tensorflow/tf-keras-datasets/t10k-images-idx3-ubyte.gz\n",
            "4422102/4422102 [==============================] - 0s 0us/step\n"
          ]
        }
      ]
    },
    {
      "cell_type": "code",
      "source": [
        "plt.imshow(X_train_full[0])"
      ],
      "metadata": {
        "colab": {
          "base_uri": "https://localhost:8080/",
          "height": 448
        },
        "id": "xhElgoxk-riQ",
        "outputId": "dfe1cdac-bd6f-46bd-b7f6-9a99e76f284c"
      },
      "execution_count": null,
      "outputs": [
        {
          "output_type": "execute_result",
          "data": {
            "text/plain": [
              "<matplotlib.image.AxesImage at 0x7cc373b5f820>"
            ]
          },
          "metadata": {},
          "execution_count": 12
        },
        {
          "output_type": "display_data",
          "data": {
            "text/plain": [
              "<Figure size 640x480 with 1 Axes>"
            ],
            "image/png": "[encoded data removed]"
          },
          "metadata": {}
        }
      ]
    },
    {
      "cell_type": "code",
      "source": [
        "y_train_full[0]"
      ],
      "metadata": {
        "colab": {
          "base_uri": "https://localhost:8080/"
        },
        "id": "d1Z8oVCF-wmw",
        "outputId": "f1983fe0-70cb-4c13-f5f2-c9d7d7bf3cb7"
      },
      "execution_count": null,
      "outputs": [
        {
          "output_type": "execute_result",
          "data": {
            "text/plain": [
              "9"
            ]
          },
          "metadata": {},
          "execution_count": 13
        }
      ]
    },
    {
      "cell_type": "code",
      "source": [
        "class_names = [\"T-shirt/top\", \"Trouser\", \"Pullover\", \"Dress\", \"Coat\",\n",
        "               \"Sandal\", \"Shirt\", \"Sneaker\", \"Bag\", \"Ankle boot\"]"
      ],
      "metadata": {
        "id": "KXyVbgNr-2Kq"
      },
      "execution_count": null,
      "outputs": []
    },
    {
      "cell_type": "code",
      "source": [
        "class_names[y_train_full[0]]"
      ],
      "metadata": {
        "colab": {
          "base_uri": "https://localhost:8080/",
          "height": 36
        },
        "id": "iAUrXsec_BWY",
        "outputId": "bcf62e89-18b9-4965-b797-04a7c16305cc"
      },
      "execution_count": null,
      "outputs": [
        {
          "output_type": "execute_result",
          "data": {
            "text/plain": [
              "'Ankle boot'"
            ],
            "application/vnd.google.colaboratory.intrinsic+json": {
              "type": "string"
            }
          },
          "metadata": {},
          "execution_count": 16
        }
      ]
    },
    {
      "cell_type": "code",
      "source": [
        "X_train_full[0]"
      ],
      "metadata": {
        "colab": {
          "base_uri": "https://localhost:8080/",
          "height": 1000
        },
        "id": "wQgwfaLw_FvX",
        "outputId": "554b40b7-d9f8-43d7-82fc-e093cb936deb"
      },
      "execution_count": null,
      "outputs": [
        {
          "output_type": "execute_result",
          "data": {
            "text/plain": [
              "array([[  0,   0,   0,   0,   0,   0,   0,   0,   0,   0,   0,   0,   0,\n",
              "          0,   0,   0,   0,   0,   0,   0,   0,   0,   0,   0,   0,   0,\n",
              "          0,   0],\n",
              "       [  0,   0,   0,   0,   0,   0,   0,   0,   0,   0,   0,   0,   0,\n",
              "          0,   0,   0,   0,   0,   0,   0,   0,   0,   0,   0,   0,   0,\n",
              "          0,   0],\n",
              "       [  0,   0,   0,   0,   0,   0,   0,   0,   0,   0,   0,   0,   0,\n",
              "          0,   0,   0,   0,   0,   0,   0,   0,   0,   0,   0,   0,   0,\n",
              "          0,   0],\n",
              "       [  0,   0,   0,   0,   0,   0,   0,   0,   0,   0,   0,   0,   1,\n",
              "          0,   0,  13,  73,   0,   0,   1,   4,   0,   0,   0,   0,   1,\n",
              "          1,   0],\n",
              "       [  0,   0,   0,   0,   0,   0,   0,   0,   0,   0,   0,   0,   3,\n",
              "          0,  36, 136, 127,  62,  54,   0,   0,   0,   1,   3,   4,   0,\n",
              "          0,   3],\n",
              "       [  0,   0,   0,   0,   0,   0,   0,   0,   0,   0,   0,   0,   6,\n",
              "          0, 102, 204, 176, 134, 144, 123,  23,   0,   0,   0,   0,  12,\n",
              "         10,   0],\n",
              "       [  0,   0,   0,   0,   0,   0,   0,   0,   0,   0,   0,   0,   0,\n",
              "          0, 155, 236, 207, 178, 107, 156, 161, 109,  64,  23,  77, 130,\n",
              "         72,  15],\n",
              "       [  0,   0,   0,   0,   0,   0,   0,   0,   0,   0,   0,   1,   0,\n",
              "         69, 207, 223, 218, 216, 216, 163, 127, 121, 122, 146, 141,  88,\n",
              "        172,  66],\n",
              "       [  0,   0,   0,   0,   0,   0,   0,   0,   0,   1,   1,   1,   0,\n",
              "        200, 232, 232, 233, 229, 223, 223, 215, 213, 164, 127, 123, 196,\n",
              "        229,   0],\n",
              "       [  0,   0,   0,   0,   0,   0,   0,   0,   0,   0,   0,   0,   0,\n",
              "        183, 225, 216, 223, 228, 235, 227, 224, 222, 224, 221, 223, 245,\n",
              "        173,   0],\n",
              "       [  0,   0,   0,   0,   0,   0,   0,   0,   0,   0,   0,   0,   0,\n",
              "        193, 228, 218, 213, 198, 180, 212, 210, 211, 213, 223, 220, 243,\n",
              "        202,   0],\n",
              "       [  0,   0,   0,   0,   0,   0,   0,   0,   0,   1,   3,   0,  12,\n",
              "        219, 220, 212, 218, 192, 169, 227, 208, 218, 224, 212, 226, 197,\n",
              "        209,  52],\n",
              "       [  0,   0,   0,   0,   0,   0,   0,   0,   0,   0,   6,   0,  99,\n",
              "        244, 222, 220, 218, 203, 198, 221, 215, 213, 222, 220, 245, 119,\n",
              "        167,  56],\n",
              "       [  0,   0,   0,   0,   0,   0,   0,   0,   0,   4,   0,   0,  55,\n",
              "        236, 228, 230, 228, 240, 232, 213, 218, 223, 234, 217, 217, 209,\n",
              "         92,   0],\n",
              "       [  0,   0,   1,   4,   6,   7,   2,   0,   0,   0,   0,   0, 237,\n",
              "        226, 217, 223, 222, 219, 222, 221, 216, 223, 229, 215, 218, 255,\n",
              "         77,   0],\n",
              "       [  0,   3,   0,   0,   0,   0,   0,   0,   0,  62, 145, 204, 228,\n",
              "        207, 213, 221, 218, 208, 211, 218, 224, 223, 219, 215, 224, 244,\n",
              "        159,   0],\n",
              "       [  0,   0,   0,   0,  18,  44,  82, 107, 189, 228, 220, 222, 217,\n",
              "        226, 200, 205, 211, 230, 224, 234, 176, 188, 250, 248, 233, 238,\n",
              "        215,   0],\n",
              "       [  0,  57, 187, 208, 224, 221, 224, 208, 204, 214, 208, 209, 200,\n",
              "        159, 245, 193, 206, 223, 255, 255, 221, 234, 221, 211, 220, 232,\n",
              "        246,   0],\n",
              "       [  3, 202, 228, 224, 221, 211, 211, 214, 205, 205, 205, 220, 240,\n",
              "         80, 150, 255, 229, 221, 188, 154, 191, 210, 204, 209, 222, 228,\n",
              "        225,   0],\n",
              "       [ 98, 233, 198, 210, 222, 229, 229, 234, 249, 220, 194, 215, 217,\n",
              "        241,  65,  73, 106, 117, 168, 219, 221, 215, 217, 223, 223, 224,\n",
              "        229,  29],\n",
              "       [ 75, 204, 212, 204, 193, 205, 211, 225, 216, 185, 197, 206, 198,\n",
              "        213, 240, 195, 227, 245, 239, 223, 218, 212, 209, 222, 220, 221,\n",
              "        230,  67],\n",
              "       [ 48, 203, 183, 194, 213, 197, 185, 190, 194, 192, 202, 214, 219,\n",
              "        221, 220, 236, 225, 216, 199, 206, 186, 181, 177, 172, 181, 205,\n",
              "        206, 115],\n",
              "       [  0, 122, 219, 193, 179, 171, 183, 196, 204, 210, 213, 207, 211,\n",
              "        210, 200, 196, 194, 191, 195, 191, 198, 192, 176, 156, 167, 177,\n",
              "        210,  92],\n",
              "       [  0,   0,  74, 189, 212, 191, 175, 172, 175, 181, 185, 188, 189,\n",
              "        188, 193, 198, 204, 209, 210, 210, 211, 188, 188, 194, 192, 216,\n",
              "        170,   0],\n",
              "       [  2,   0,   0,   0,  66, 200, 222, 237, 239, 242, 246, 243, 244,\n",
              "        221, 220, 193, 191, 179, 182, 182, 181, 176, 166, 168,  99,  58,\n",
              "          0,   0],\n",
              "       [  0,   0,   0,   0,   0,   0,   0,  40,  61,  44,  72,  41,  35,\n",
              "          0,   0,   0,   0,   0,   0,   0,   0,   0,   0,   0,   0,   0,\n",
              "          0,   0],\n",
              "       [  0,   0,   0,   0,   0,   0,   0,   0,   0,   0,   0,   0,   0,\n",
              "          0,   0,   0,   0,   0,   0,   0,   0,   0,   0,   0,   0,   0,\n",
              "          0,   0],\n",
              "       [  0,   0,   0,   0,   0,   0,   0,   0,   0,   0,   0,   0,   0,\n",
              "          0,   0,   0,   0,   0,   0,   0,   0,   0,   0,   0,   0,   0,\n",
              "          0,   0]], dtype=uint8)"
            ],
            "text/html": [
              "<style>\n",
              "      .ndarray_repr .ndarray_raw_data {\n",
              "        display: none;\n",
              "      }\n",
              "      .ndarray_repr.show_array .ndarray_raw_data {\n",
              "        display: block;\n",
              "      }\n",
              "      .ndarray_repr.show_array .ndarray_image_preview {\n",
              "        display: none;\n",
              "      }\n",
              "      </style>\n",
              "      <div id=\"id-1567794f-fc0c-4902-98af-406232828f21\" class=\"ndarray_repr\"><pre>ndarray (28, 28) <button style=\"padding: 0 2px;\">show data</button></pre><img src=\"data:image/png;base64,iVBORw0KGgoAAAANSUhEUgAAABwAAAAcCAAAAABXZoBIAAACBUlEQVR4nLXSz0tUURQH8O+597373rx545g6NmNJY6TlJgozEsKFZGCrkDBoVdGmdf9BiwJ3bVr1PwhBUbQfJQcKjWZRTsjo0KDpDPV+eN+997WK0Z2bvtsPfM+Bc4D/HwJycwBZAEAE6zAyfe5RFMQfFYiRAj+CXM/c2HK82VetVMM34RGUmCxz9v7yYnW9dnWyskyHR6azi72Jwep3ScVk9c7LLhKQrpRBSiI2n76puZFT3doUwH4pcmw/zpjrU2zw3dFt4XEWdvbKhpinzTBYt5bDH4qlLYO8cbKBWHOudDHluFtiLrLD0kmM2//6q9VFS+JLLDxv9GzMPV9v3XuzYgHEGSUGCngbRCLd4W6CxPCLHTDwVMkDA0y/qEa/lFFBoF2EEME8CAD6hsZK8+djlmSatuiXXsWfNh27NU6Yelro1bytPElRbaGaO1FGPfc7zPg9HvHlIaVD8AjID9y/+bgZ/6iP9ks7J/QZevh8w/cd2PlGs8CKt92R7MQEk0yA7GtWq9ETN3zRs7fpR7FaWi/3yXaipW1IjFnbaSM70N7dsRzbzbHd8aCx7+wmKskUO5esz0sPmvXYF67gBzoNfxptxb5stxM10iLg1pOTO23NhcUptW1hE6gFYYprC8QMMPNsMM+4pamVbps/HGkSsg+1Cv4d+0Jh//Sm3DjGix4rfwFoJNh2/0cDFgAAAABJRU5ErkJggg==\" class=\"ndarray_image_preview\" /><pre class=\"ndarray_raw_data\">array([[  0,   0,   0,   0,   0,   0,   0,   0,   0,   0,   0,   0,   0,\n",
              "          0,   0,   0,   0,   0,   0,   0,   0,   0,   0,   0,   0,   0,\n",
              "          0,   0],\n",
              "       [  0,   0,   0,   0,   0,   0,   0,   0,   0,   0,   0,   0,   0,\n",
              "          0,   0,   0,   0,   0,   0,   0,   0,   0,   0,   0,   0,   0,\n",
              "          0,   0],\n",
              "       [  0,   0,   0,   0,   0,   0,   0,   0,   0,   0,   0,   0,   0,\n",
              "          0,   0,   0,   0,   0,   0,   0,   0,   0,   0,   0,   0,   0,\n",
              "          0,   0],\n",
              "       [  0,   0,   0,   0,   0,   0,   0,   0,   0,   0,   0,   0,   1,\n",
              "          0,   0,  13,  73,   0,   0,   1,   4,   0,   0,   0,   0,   1,\n",
              "          1,   0],\n",
              "       [  0,   0,   0,   0,   0,   0,   0,   0,   0,   0,   0,   0,   3,\n",
              "          0,  36, 136, 127,  62,  54,   0,   0,   0,   1,   3,   4,   0,\n",
              "          0,   3],\n",
              "       [  0,   0,   0,   0,   0,   0,   0,   0,   0,   0,   0,   0,   6,\n",
              "          0, 102, 204, 176, 134, 144, 123,  23,   0,   0,   0,   0,  12,\n",
              "         10,   0],\n",
              "       [  0,   0,   0,   0,   0,   0,   0,   0,   0,   0,   0,   0,   0,\n",
              "          0, 155, 236, 207, 178, 107, 156, 161, 109,  64,  23,  77, 130,\n",
              "         72,  15],\n",
              "       [  0,   0,   0,   0,   0,   0,   0,   0,   0,   0,   0,   1,   0,\n",
              "         69, 207, 223, 218, 216, 216, 163, 127, 121, 122, 146, 141,  88,\n",
              "        172,  66],\n",
              "       [  0,   0,   0,   0,   0,   0,   0,   0,   0,   1,   1,   1,   0,\n",
              "        200, 232, 232, 233, 229, 223, 223, 215, 213, 164, 127, 123, 196,\n",
              "        229,   0],\n",
              "       [  0,   0,   0,   0,   0,   0,   0,   0,   0,   0,   0,   0,   0,\n",
              "        183, 225, 216, 223, 228, 235, 227, 224, 222, 224, 221, 223, 245,\n",
              "        173,   0],\n",
              "       [  0,   0,   0,   0,   0,   0,   0,   0,   0,   0,   0,   0,   0,\n",
              "        193, 228, 218, 213, 198, 180, 212, 210, 211, 213, 223, 220, 243,\n",
              "        202,   0],\n",
              "       [  0,   0,   0,   0,   0,   0,   0,   0,   0,   1,   3,   0,  12,\n",
              "        219, 220, 212, 218, 192, 169, 227, 208, 218, 224, 212, 226, 197,\n",
              "        209,  52],\n",
              "       [  0,   0,   0,   0,   0,   0,   0,   0,   0,   0,   6,   0,  99,\n",
              "        244, 222, 220, 218, 203, 198, 221, 215, 213, 222, 220, 245, 119,\n",
              "        167,  56],\n",
              "       [  0,   0,   0,   0,   0,   0,   0,   0,   0,   4,   0,   0,  55,\n",
              "        236, 228, 230, 228, 240, 232, 213, 218, 223, 234, 217, 217, 209,\n",
              "         92,   0],\n",
              "       [  0,   0,   1,   4,   6,   7,   2,   0,   0,   0,   0,   0, 237,\n",
              "        226, 217, 223, 222, 219, 222, 221, 216, 223, 229, 215, 218, 255,\n",
              "         77,   0],\n",
              "       [  0,   3,   0,   0,   0,   0,   0,   0,   0,  62, 145, 204, 228,\n",
              "        207, 213, 221, 218, 208, 211, 218, 224, 223, 219, 215, 224, 244,\n",
              "        159,   0],\n",
              "       [  0,   0,   0,   0,  18,  44,  82, 107, 189, 228, 220, 222, 217,\n",
              "        226, 200, 205, 211, 230, 224, 234, 176, 188, 250, 248, 233, 238,\n",
              "        215,   0],\n",
              "       [  0,  57, 187, 208, 224, 221, 224, 208, 204, 214, 208, 209, 200,\n",
              "        159, 245, 193, 206, 223, 255, 255, 221, 234, 221, 211, 220, 232,\n",
              "        246,   0],\n",
              "       [  3, 202, 228, 224, 221, 211, 211, 214, 205, 205, 205, 220, 240,\n",
              "         80, 150, 255, 229, 221, 188, 154, 191, 210, 204, 209, 222, 228,\n",
              "        225,   0],\n",
              "       [ 98, 233, 198, 210, 222, 229, 229, 234, 249, 220, 194, 215, 217,\n",
              "        241,  65,  73, 106, 117, 168, 219, 221, 215, 217, 223, 223, 224,\n",
              "        229,  29],\n",
              "       [ 75, 204, 212, 204, 193, 205, 211, 225, 216, 185, 197, 206, 198,\n",
              "        213, 240, 195, 227, 245, 239, 223, 218, 212, 209, 222, 220, 221,\n",
              "        230,  67],\n",
              "       [ 48, 203, 183, 194, 213, 197, 185, 190, 194, 192, 202, 214, 219,\n",
              "        221, 220, 236, 225, 216, 199, 206, 186, 181, 177, 172, 181, 205,\n",
              "        206, 115],\n",
              "       [  0, 122, 219, 193, 179, 171, 183, 196, 204, 210, 213, 207, 211,\n",
              "        210, 200, 196, 194, 191, 195, 191, 198, 192, 176, 156, 167, 177,\n",
              "        210,  92],\n",
              "       [  0,   0,  74, 189, 212, 191, 175, 172, 175, 181, 185, 188, 189,\n",
              "        188, 193, 198, 204, 209, 210, 210, 211, 188, 188, 194, 192, 216,\n",
              "        170,   0],\n",
              "       [  2,   0,   0,   0,  66, 200, 222, 237, 239, 242, 246, 243, 244,\n",
              "        221, 220, 193, 191, 179, 182, 182, 181, 176, 166, 168,  99,  58,\n",
              "          0,   0],\n",
              "       [  0,   0,   0,   0,   0,   0,   0,  40,  61,  44,  72,  41,  35,\n",
              "          0,   0,   0,   0,   0,   0,   0,   0,   0,   0,   0,   0,   0,\n",
              "          0,   0],\n",
              "       [  0,   0,   0,   0,   0,   0,   0,   0,   0,   0,   0,   0,   0,\n",
              "          0,   0,   0,   0,   0,   0,   0,   0,   0,   0,   0,   0,   0,\n",
              "          0,   0],\n",
              "       [  0,   0,   0,   0,   0,   0,   0,   0,   0,   0,   0,   0,   0,\n",
              "          0,   0,   0,   0,   0,   0,   0,   0,   0,   0,   0,   0,   0,\n",
              "          0,   0]], dtype=uint8)</pre></div><script>\n",
              "      (() => {\n",
              "      const titles = ['show data', 'hide data'];\n",
              "      let index = 0\n",
              "      document.querySelector('#id-1567794f-fc0c-4902-98af-406232828f21 button').onclick = (e) => {\n",
              "        document.querySelector('#id-1567794f-fc0c-4902-98af-406232828f21').classList.toggle('show_array');\n",
              "        index = (++index) % 2;\n",
              "        document.querySelector('#id-1567794f-fc0c-4902-98af-406232828f21 button').textContent = titles[index];\n",
              "        e.preventDefault();\n",
              "        e.stopPropagation();\n",
              "      }\n",
              "      })();\n",
              "    </script>"
            ]
          },
          "metadata": {},
          "execution_count": 17
        }
      ]
    },
    {
      "cell_type": "code",
      "source": [
        "#Data Normalization\n",
        "\n",
        "X_train_n = X_train_full/255.0\n",
        "X_test_n = X_test/255.0"
      ],
      "metadata": {
        "id": "EVY8hAU__QVh"
      },
      "execution_count": null,
      "outputs": []
    },
    {
      "cell_type": "code",
      "source": [
        "X_valid, X_train = X_train_n[:5000], X_train_n[5000:]\n",
        "y_valid, y_train = y_train_full[:5000], y_train_full[5000:]"
      ],
      "metadata": {
        "id": "Pj4L4CBDALDf"
      },
      "execution_count": null,
      "outputs": []
    },
    {
      "cell_type": "code",
      "source": [
        "X_test = X_test_n"
      ],
      "metadata": {
        "id": "BJfbsvpCAlOW"
      },
      "execution_count": null,
      "outputs": []
    },
    {
      "cell_type": "code",
      "source": [
        "np.random.seed(42)\n",
        "tf.random.set_seed(42)"
      ],
      "metadata": {
        "id": "sJyvA1oOAsV-"
      },
      "execution_count": null,
      "outputs": []
    },
    {
      "cell_type": "code",
      "source": [
        "model = keras.models.Sequential()\n",
        "model.add(keras.layers.Flatten(input_shape=[28,28]))\n",
        "model.add(keras.layers.Dense(300, activation=\"relu\"))\n",
        "model.add(keras.layers.Dense(100, activation=\"relu\"))\n",
        "model.add(keras.layers.Dense(10, activation=\"softmax\"))"
      ],
      "metadata": {
        "id": "QNHUX072BRod"
      },
      "execution_count": null,
      "outputs": []
    },
    {
      "cell_type": "code",
      "source": [
        "model.summary()"
      ],
      "metadata": {
        "colab": {
          "base_uri": "https://localhost:8080/"
        },
        "id": "4QBS9j9mB0Hr",
        "outputId": "8f29c599-423d-4d4b-b4bb-1e9c87b7fecd"
      },
      "execution_count": null,
      "outputs": [
        {
          "output_type": "stream",
          "name": "stdout",
          "text": [
            "Model: \"sequential\"\n",
            "_________________________________________________________________\n",
            " Layer (type)                Output Shape              Param #   \n",
            "=================================================================\n",
            " flatten (Flatten)           (None, 784)               0         \n",
            "                                                                 \n",
            " dense (Dense)               (None, 300)               235500    \n",
            "                                                                 \n",
            " dense_1 (Dense)             (None, 100)               30100     \n",
            "                                                                 \n",
            " dense_2 (Dense)             (None, 10)                1010      \n",
            "                                                                 \n",
            "=================================================================\n",
            "Total params: 266610 (1.02 MB)\n",
            "Trainable params: 266610 (1.02 MB)\n",
            "Non-trainable params: 0 (0.00 Byte)\n",
            "_________________________________________________________________\n"
          ]
        }
      ]
    },
    {
      "cell_type": "code",
      "source": [
        "import pydot\n",
        "keras.utils.plot_model(model)"
      ],
      "metadata": {
        "colab": {
          "base_uri": "https://localhost:8080/",
          "height": 466
        },
        "id": "J9ZTq5bLB2SK",
        "outputId": "ca2bfc90-71c9-4ec8-b1f7-8be4a8f85265"
      },
      "execution_count": null,
      "outputs": [
        {
          "output_type": "execute_result",
          "data": {
            "image/png": "[encoded data removed]",
            "text/plain": [
              "<IPython.core.display.Image object>"
            ]
          },
          "metadata": {},
          "execution_count": 25
        }
      ]
    },
    {
      "cell_type": "code",
      "source": [
        "weights, biases = model.layers[1].get_weights()"
      ],
      "metadata": {
        "id": "tI_-Rod9CP80"
      },
      "execution_count": null,
      "outputs": []
    },
    {
      "cell_type": "code",
      "source": [
        "weights"
      ],
      "metadata": {
        "colab": {
          "base_uri": "https://localhost:8080/"
        },
        "id": "1-WOdeBkCdou",
        "outputId": "30212b0a-0dfe-47da-8be8-d771e7443ebe"
      },
      "execution_count": null,
      "outputs": [
        {
          "output_type": "execute_result",
          "data": {
            "text/plain": [
              "array([[ 0.02372561,  0.00733127, -0.07114877, ..., -0.04755778,\n",
              "        -0.01522756,  0.040421  ],\n",
              "       [-0.05020944,  0.03179274, -0.03338771, ..., -0.06486566,\n",
              "        -0.03376454, -0.04265603],\n",
              "       [ 0.06987089, -0.02188766, -0.01124383, ..., -0.06867313,\n",
              "         0.03897274,  0.05129682],\n",
              "       ...,\n",
              "       [-0.06248643, -0.06116705, -0.0146038 , ...,  0.01290906,\n",
              "        -0.04584574, -0.04415473],\n",
              "       [-0.07366227,  0.04502846,  0.02704521, ...,  0.03497083,\n",
              "        -0.00391748, -0.0623783 ],\n",
              "       [ 0.00211871,  0.07436773,  0.02241919, ..., -0.07409667,\n",
              "         0.06711067,  0.03224504]], dtype=float32)"
            ]
          },
          "metadata": {},
          "execution_count": 27
        }
      ]
    },
    {
      "cell_type": "code",
      "source": [
        "biases.shape"
      ],
      "metadata": {
        "colab": {
          "base_uri": "https://localhost:8080/"
        },
        "id": "B78I5aQuCfZL",
        "outputId": "4b0e53e3-2f1f-4b3f-debc-bb6e92787434"
      },
      "execution_count": null,
      "outputs": [
        {
          "output_type": "execute_result",
          "data": {
            "text/plain": [
              "(300,)"
            ]
          },
          "metadata": {},
          "execution_count": 29
        }
      ]
    },
    {
      "cell_type": "code",
      "source": [
        "model.compile(loss=\"sparse_categorical_crossentropy\",\n",
        "              optimizer=\"sgd\",\n",
        "              metrics=[\"accuracy\"])"
      ],
      "metadata": {
        "id": "pv1LzTcHClxg"
      },
      "execution_count": null,
      "outputs": []
    },
    {
      "cell_type": "code",
      "source": [
        "model_history = model.fit(X_train, y_train, epochs=30,\n",
        "                         validation_data=(X_valid, y_valid))"
      ],
      "metadata": {
        "colab": {
          "base_uri": "https://localhost:8080/"
        },
        "id": "Ibd68buBC4oq",
        "outputId": "3725b231-1f6e-47c4-d320-c2355e6996fe"
      },
      "execution_count": null,
      "outputs": [
        {
          "output_type": "stream",
          "name": "stdout",
          "text": [
            "Epoch 1/30\n",
            "1719/1719 [==============================] - 8s 3ms/step - loss: 0.7237 - accuracy: 0.7599 - val_loss: 0.5206 - val_accuracy: 0.8228\n",
            "Epoch 2/30\n",
            "1719/1719 [==============================] - 6s 4ms/step - loss: 0.4902 - accuracy: 0.8293 - val_loss: 0.4381 - val_accuracy: 0.8532\n",
            "Epoch 3/30\n",
            "1719/1719 [==============================] - 8s 5ms/step - loss: 0.4453 - accuracy: 0.8449 - val_loss: 0.5465 - val_accuracy: 0.7922\n",
            "Epoch 4/30\n",
            "1719/1719 [==============================] - 5s 3ms/step - loss: 0.4185 - accuracy: 0.8549 - val_loss: 0.3990 - val_accuracy: 0.8634\n",
            "Epoch 5/30\n",
            "1719/1719 [==============================] - 6s 3ms/step - loss: 0.3991 - accuracy: 0.8609 - val_loss: 0.3788 - val_accuracy: 0.8668\n",
            "Epoch 6/30\n",
            "1719/1719 [==============================] - 6s 3ms/step - loss: 0.3798 - accuracy: 0.8662 - val_loss: 0.3779 - val_accuracy: 0.8710\n",
            "Epoch 7/30\n",
            "1719/1719 [==============================] - 5s 3ms/step - loss: 0.3670 - accuracy: 0.8699 - val_loss: 0.3670 - val_accuracy: 0.8708\n",
            "Epoch 8/30\n",
            "1719/1719 [==============================] - 6s 3ms/step - loss: 0.3549 - accuracy: 0.8741 - val_loss: 0.3883 - val_accuracy: 0.8608\n",
            "Epoch 9/30\n",
            "1719/1719 [==============================] - 5s 3ms/step - loss: 0.3440 - accuracy: 0.8782 - val_loss: 0.3560 - val_accuracy: 0.8708\n",
            "Epoch 10/30\n",
            "1719/1719 [==============================] - 6s 3ms/step - loss: 0.3342 - accuracy: 0.8803 - val_loss: 0.3491 - val_accuracy: 0.8738\n",
            "Epoch 11/30\n",
            "1719/1719 [==============================] - 5s 3ms/step - loss: 0.3255 - accuracy: 0.8834 - val_loss: 0.3450 - val_accuracy: 0.8770\n",
            "Epoch 12/30\n",
            "1719/1719 [==============================] - 6s 3ms/step - loss: 0.3163 - accuracy: 0.8859 - val_loss: 0.3337 - val_accuracy: 0.8780\n",
            "Epoch 13/30\n",
            "1719/1719 [==============================] - 6s 3ms/step - loss: 0.3091 - accuracy: 0.8886 - val_loss: 0.3326 - val_accuracy: 0.8820\n",
            "Epoch 14/30\n",
            "1719/1719 [==============================] - 6s 3ms/step - loss: 0.3030 - accuracy: 0.8905 - val_loss: 0.3543 - val_accuracy: 0.8694\n",
            "Epoch 15/30\n",
            "1719/1719 [==============================] - 6s 3ms/step - loss: 0.2949 - accuracy: 0.8935 - val_loss: 0.3255 - val_accuracy: 0.8830\n",
            "Epoch 16/30\n",
            "1719/1719 [==============================] - 5s 3ms/step - loss: 0.2899 - accuracy: 0.8954 - val_loss: 0.3119 - val_accuracy: 0.8868\n",
            "Epoch 17/30\n",
            "1719/1719 [==============================] - 6s 3ms/step - loss: 0.2841 - accuracy: 0.8969 - val_loss: 0.3684 - val_accuracy: 0.8712\n",
            "Epoch 18/30\n",
            "1719/1719 [==============================] - 5s 3ms/step - loss: 0.2780 - accuracy: 0.8994 - val_loss: 0.3169 - val_accuracy: 0.8890\n",
            "Epoch 19/30\n",
            "1719/1719 [==============================] - 6s 3ms/step - loss: 0.2728 - accuracy: 0.9015 - val_loss: 0.3098 - val_accuracy: 0.8888\n",
            "Epoch 20/30\n",
            "1719/1719 [==============================] - 5s 3ms/step - loss: 0.2675 - accuracy: 0.9035 - val_loss: 0.3384 - val_accuracy: 0.8762\n",
            "Epoch 21/30\n",
            "1719/1719 [==============================] - 5s 3ms/step - loss: 0.2622 - accuracy: 0.9054 - val_loss: 0.3059 - val_accuracy: 0.8896\n",
            "Epoch 22/30\n",
            "1719/1719 [==============================] - 6s 3ms/step - loss: 0.2574 - accuracy: 0.9064 - val_loss: 0.3004 - val_accuracy: 0.8904\n",
            "Epoch 23/30\n",
            "1719/1719 [==============================] - 5s 3ms/step - loss: 0.2532 - accuracy: 0.9092 - val_loss: 0.3054 - val_accuracy: 0.8880\n",
            "Epoch 24/30\n",
            "1719/1719 [==============================] - 6s 3ms/step - loss: 0.2490 - accuracy: 0.9090 - val_loss: 0.3047 - val_accuracy: 0.8910\n",
            "Epoch 25/30\n",
            "1719/1719 [==============================] - 5s 3ms/step - loss: 0.2443 - accuracy: 0.9113 - val_loss: 0.2984 - val_accuracy: 0.8912\n",
            "Epoch 26/30\n",
            "1719/1719 [==============================] - 8s 5ms/step - loss: 0.2403 - accuracy: 0.9136 - val_loss: 0.3050 - val_accuracy: 0.8908\n",
            "Epoch 27/30\n",
            "1719/1719 [==============================] - 10s 6ms/step - loss: 0.2370 - accuracy: 0.9141 - val_loss: 0.3013 - val_accuracy: 0.8920\n",
            "Epoch 28/30\n",
            "1719/1719 [==============================] - 5s 3ms/step - loss: 0.2330 - accuracy: 0.9154 - val_loss: 0.3029 - val_accuracy: 0.8906\n",
            "Epoch 29/30\n",
            "1719/1719 [==============================] - 5s 3ms/step - loss: 0.2287 - accuracy: 0.9181 - val_loss: 0.3147 - val_accuracy: 0.8856\n",
            "Epoch 30/30\n",
            "1719/1719 [==============================] - 6s 4ms/step - loss: 0.2252 - accuracy: 0.9189 - val_loss: 0.3128 - val_accuracy: 0.8882\n"
          ]
        }
      ]
    },
    {
      "cell_type": "code",
      "source": [
        "model_history.params"
      ],
      "metadata": {
        "colab": {
          "base_uri": "https://localhost:8080/"
        },
        "id": "PjWJDVNPC7N_",
        "outputId": "2a9efa18-52f9-4f41-c2a1-f441476e9fbf"
      },
      "execution_count": null,
      "outputs": [
        {
          "output_type": "execute_result",
          "data": {
            "text/plain": [
              "{'verbose': 1, 'epochs': 30, 'steps': 1719}"
            ]
          },
          "metadata": {},
          "execution_count": 32
        }
      ]
    },
    {
      "cell_type": "code",
      "source": [
        "model_history.history"
      ],
      "metadata": {
        "colab": {
          "base_uri": "https://localhost:8080/"
        },
        "id": "YvbRa939DfDo",
        "outputId": "411540f3-9541-48cc-999e-286983a2fe00"
      },
      "execution_count": null,
      "outputs": [
        {
          "output_type": "execute_result",
          "data": {
            "text/plain": [
              "{'loss': [0.7237484455108643,\n",
              "  0.49018484354019165,\n",
              "  0.4452676773071289,\n",
              "  0.41846466064453125,\n",
              "  0.399078905582428,\n",
              "  0.379751056432724,\n",
              "  0.36701101064682007,\n",
              "  0.35485029220581055,\n",
              "  0.34404605627059937,\n",
              "  0.33417412638664246,\n",
              "  0.32554009556770325,\n",
              "  0.3163265287876129,\n",
              "  0.30905085802078247,\n",
              "  0.3029560148715973,\n",
              "  0.2948797643184662,\n",
              "  0.2898577153682709,\n",
              "  0.28411245346069336,\n",
              "  0.27804040908813477,\n",
              "  0.2728461027145386,\n",
              "  0.26749685406684875,\n",
              "  0.2622157037258148,\n",
              "  0.25742924213409424,\n",
              "  0.2531526982784271,\n",
              "  0.2489699423313141,\n",
              "  0.24432604014873505,\n",
              "  0.2402876615524292,\n",
              "  0.2369515299797058,\n",
              "  0.2329576015472412,\n",
              "  0.22866779565811157,\n",
              "  0.22520335018634796],\n",
              " 'accuracy': [0.7598727345466614,\n",
              "  0.8293091058731079,\n",
              "  0.8448727130889893,\n",
              "  0.8549090623855591,\n",
              "  0.8609272837638855,\n",
              "  0.8662182092666626,\n",
              "  0.8699454665184021,\n",
              "  0.8740909099578857,\n",
              "  0.8781818151473999,\n",
              "  0.8803454637527466,\n",
              "  0.8833818435668945,\n",
              "  0.8858727216720581,\n",
              "  0.8886181712150574,\n",
              "  0.8905272483825684,\n",
              "  0.8934727311134338,\n",
              "  0.8953818082809448,\n",
              "  0.8968909382820129,\n",
              "  0.8993818163871765,\n",
              "  0.9015091061592102,\n",
              "  0.9035272598266602,\n",
              "  0.9054363369941711,\n",
              "  0.9063636660575867,\n",
              "  0.9092000126838684,\n",
              "  0.9090363383293152,\n",
              "  0.9112908840179443,\n",
              "  0.9135817885398865,\n",
              "  0.9141272902488708,\n",
              "  0.9154363870620728,\n",
              "  0.9180908799171448,\n",
              "  0.9188908934593201],\n",
              " 'val_loss': [0.5205850601196289,\n",
              "  0.4380996525287628,\n",
              "  0.5465133190155029,\n",
              "  0.3989897668361664,\n",
              "  0.378803014755249,\n",
              "  0.37787526845932007,\n",
              "  0.36697298288345337,\n",
              "  0.3883431553840637,\n",
              "  0.35595372319221497,\n",
              "  0.34908148646354675,\n",
              "  0.3450362980365753,\n",
              "  0.33365896344184875,\n",
              "  0.3326106667518616,\n",
              "  0.35426148772239685,\n",
              "  0.32549089193344116,\n",
              "  0.31191104650497437,\n",
              "  0.36838871240615845,\n",
              "  0.31690099835395813,\n",
              "  0.30978620052337646,\n",
              "  0.33840012550354004,\n",
              "  0.3058599829673767,\n",
              "  0.30043351650238037,\n",
              "  0.305448442697525,\n",
              "  0.30466824769973755,\n",
              "  0.29838988184928894,\n",
              "  0.3050346374511719,\n",
              "  0.30133530497550964,\n",
              "  0.3028721213340759,\n",
              "  0.31468233466148376,\n",
              "  0.31284812092781067],\n",
              " 'val_accuracy': [0.8227999806404114,\n",
              "  0.8532000184059143,\n",
              "  0.7922000288963318,\n",
              "  0.8633999824523926,\n",
              "  0.8668000102043152,\n",
              "  0.8709999918937683,\n",
              "  0.8708000183105469,\n",
              "  0.86080002784729,\n",
              "  0.8708000183105469,\n",
              "  0.8737999796867371,\n",
              "  0.8769999742507935,\n",
              "  0.878000020980835,\n",
              "  0.8820000290870667,\n",
              "  0.8694000244140625,\n",
              "  0.8830000162124634,\n",
              "  0.8867999911308289,\n",
              "  0.8712000250816345,\n",
              "  0.8889999985694885,\n",
              "  0.8888000249862671,\n",
              "  0.8762000203132629,\n",
              "  0.8895999789237976,\n",
              "  0.8903999924659729,\n",
              "  0.8880000114440918,\n",
              "  0.890999972820282,\n",
              "  0.8912000060081482,\n",
              "  0.8907999992370605,\n",
              "  0.8920000195503235,\n",
              "  0.8906000256538391,\n",
              "  0.8855999708175659,\n",
              "  0.8881999850273132]}"
            ]
          },
          "metadata": {},
          "execution_count": 33
        }
      ]
    },
    {
      "cell_type": "code",
      "source": [
        "import pandas as pd\n",
        "pd.DataFrame(model_history.history).plot(figsize=(8,5))\n",
        "plt.grid(True)\n",
        "plt.gca().set_ylim(0,1)\n",
        "plt.show()"
      ],
      "metadata": {
        "colab": {
          "base_uri": "https://localhost:8080/",
          "height": 429
        },
        "id": "smq8svqWDpRb",
        "outputId": "a31ecf68-7053-4c1d-9c0b-acf7389b0534"
      },
      "execution_count": null,
      "outputs": [
        {
          "output_type": "display_data",
          "data": {
            "text/plain": [
              "<Figure size 800x500 with 1 Axes>"
            ],
            "image/png": "[encoded data removed]"
          },
          "metadata": {}
        }
      ]
    },
    {
      "cell_type": "code",
      "source": [
        "model.evaluate(X_test, y_test)"
      ],
      "metadata": {
        "colab": {
          "base_uri": "https://localhost:8080/"
        },
        "id": "doiteQGcDzjb",
        "outputId": "27070eba-91fa-4aa0-ff5c-de96248fcc04"
      },
      "execution_count": null,
      "outputs": [
        {
          "output_type": "stream",
          "name": "stdout",
          "text": [
            "313/313 [==============================] - 1s 4ms/step - loss: 0.3430 - accuracy: 0.8801\n"
          ]
        },
        {
          "output_type": "execute_result",
          "data": {
            "text/plain": [
              "[0.3429567813873291, 0.8801000118255615]"
            ]
          },
          "metadata": {},
          "execution_count": 35
        }
      ]
    },
    {
      "cell_type": "code",
      "source": [
        "X_new = X_test[:3]"
      ],
      "metadata": {
        "id": "UZ9IAwjQEEVs"
      },
      "execution_count": null,
      "outputs": []
    },
    {
      "cell_type": "code",
      "source": [
        "y_proba = model.predict(X_new)\n",
        "y_proba.round(2)"
      ],
      "metadata": {
        "colab": {
          "base_uri": "https://localhost:8080/"
        },
        "id": "S0YqqRkmEQzN",
        "outputId": "eaef6c65-3aae-424a-a705-6c00cda84fa5"
      },
      "execution_count": null,
      "outputs": [
        {
          "output_type": "stream",
          "name": "stdout",
          "text": [
            "1/1 [==============================] - 0s 152ms/step\n"
          ]
        },
        {
          "output_type": "execute_result",
          "data": {
            "text/plain": [
              "array([[0.  , 0.  , 0.  , 0.  , 0.  , 0.03, 0.  , 0.04, 0.  , 0.93],\n",
              "       [0.  , 0.  , 0.98, 0.  , 0.02, 0.  , 0.  , 0.  , 0.  , 0.  ],\n",
              "       [0.  , 1.  , 0.  , 0.  , 0.  , 0.  , 0.  , 0.  , 0.  , 0.  ]],\n",
              "      dtype=float32)"
            ]
          },
          "metadata": {},
          "execution_count": 37
        }
      ]
    },
    {
      "cell_type": "code",
      "source": [
        "y_pred_probs = model.predict(X_new)\n",
        "\n",
        "# Convert predicted probabilities to class labels\n",
        "y_pred = np.argmax(y_pred_probs, axis=-1)\n",
        "y_pred"
      ],
      "metadata": {
        "colab": {
          "base_uri": "https://localhost:8080/"
        },
        "id": "pT4wrLcvEXId",
        "outputId": "c00a763a-afe2-4cb1-d102-ad1de6359b0b"
      },
      "execution_count": null,
      "outputs": [
        {
          "output_type": "stream",
          "name": "stdout",
          "text": [
            "1/1 [==============================] - 0s 26ms/step\n"
          ]
        },
        {
          "output_type": "execute_result",
          "data": {
            "text/plain": [
              "array([9, 2, 1])"
            ]
          },
          "metadata": {},
          "execution_count": 42
        }
      ]
    },
    {
      "cell_type": "code",
      "source": [
        "np.array(class_names)[y_pred]"
      ],
      "metadata": {
        "colab": {
          "base_uri": "https://localhost:8080/"
        },
        "id": "QcVI741uEgFy",
        "outputId": "cf6a27c8-61fd-4187-debc-c052973e10fe"
      },
      "execution_count": null,
      "outputs": [
        {
          "output_type": "execute_result",
          "data": {
            "text/plain": [
              "array(['Ankle boot', 'Pullover', 'Trouser'], dtype='<U11')"
            ]
          },
          "metadata": {},
          "execution_count": 43
        }
      ]
    },
    {
      "cell_type": "code",
      "source": [
        "print(y_test[:3])"
      ],
      "metadata": {
        "colab": {
          "base_uri": "https://localhost:8080/"
        },
        "id": "LvtKPGmbFEbM",
        "outputId": "b08a8a79-d06e-4df5-cbad-272a59ea94ad"
      },
      "execution_count": null,
      "outputs": [
        {
          "output_type": "stream",
          "name": "stdout",
          "text": [
            "[9 2 1]\n"
          ]
        }
      ]
    },
    {
      "cell_type": "code",
      "source": [
        "print(plt.imshow(X_test[0]))"
      ],
      "metadata": {
        "colab": {
          "base_uri": "https://localhost:8080/",
          "height": 448
        },
        "id": "EC5l211jFGrb",
        "outputId": "ffebb8b0-8cdd-4c7c-9473-64edaca9b3a5"
      },
      "execution_count": null,
      "outputs": [
        {
          "output_type": "stream",
          "name": "stdout",
          "text": [
            "AxesImage(size=(28, 28))\n"
          ]
        },
        {
          "output_type": "display_data",
          "data": {
            "text/plain": [
              "<Figure size 640x480 with 1 Axes>"
            ],
            "image/png": "[encoded data removed]"
          },
          "metadata": {}
        }
      ]
    },
    {
      "cell_type": "code",
      "source": [],
      "metadata": {
        "id": "B-lOQgLMFKRp"
      },
      "execution_count": null,
      "outputs": []
    },
    {
      "cell_type": "markdown",
      "source": [
        "#Regression"
      ],
      "metadata": {
        "id": "4bP8NeieB9_m"
      }
    },
    {
      "cell_type": "code",
      "source": [
        "from sklearn.datasets import fetch_california_housing\n",
        "housing = fetch_california_housing()"
      ],
      "metadata": {
        "id": "op409ffSB_kV"
      },
      "execution_count": null,
      "outputs": []
    },
    {
      "cell_type": "code",
      "source": [
        "import numpy as np\n",
        "import pandas as pd\n",
        "import matplotlib.pyplot as plt\n",
        "import matplotlib as mpl\n",
        "import tensorflow as tf\n",
        "from tensorflow import keras"
      ],
      "metadata": {
        "id": "MoHeiqLBCCrp"
      },
      "execution_count": null,
      "outputs": []
    },
    {
      "cell_type": "code",
      "source": [
        "print(housing.feature_names)"
      ],
      "metadata": {
        "colab": {
          "base_uri": "https://localhost:8080/"
        },
        "id": "DU66UuxgCMau",
        "outputId": "2791ecbc-6c15-4ce9-effa-4ac6ee2c5125"
      },
      "execution_count": null,
      "outputs": [
        {
          "output_type": "stream",
          "name": "stdout",
          "text": [
            "['MedInc', 'HouseAge', 'AveRooms', 'AveBedrms', 'Population', 'AveOccup', 'Latitude', 'Longitude']\n"
          ]
        }
      ]
    },
    {
      "cell_type": "code",
      "source": [
        "from sklearn.model_selection import train_test_split\n",
        "X_train_full, X_test, y_train_full, y_test = train_test_split(housing.data, housing.target, random_state=42)\n",
        "X_train, X_valid, y_train, y_valid = train_test_split(X_train_full, y_train_full, random_state=42)"
      ],
      "metadata": {
        "id": "4jKw8aR-CsKs"
      },
      "execution_count": null,
      "outputs": []
    },
    {
      "cell_type": "code",
      "source": [
        "from sklearn.preprocessing import StandardScaler\n",
        "scaler = StandardScaler()\n",
        "X_train = scaler.fit_transform(X_train)\n",
        "X_valid = scaler.transform(X_valid)\n",
        "X_test = scaler.transform(X_test)"
      ],
      "metadata": {
        "id": "WlA1Z2QlC1i9"
      },
      "execution_count": null,
      "outputs": []
    },
    {
      "cell_type": "code",
      "source": [
        "np.random.seed(42)\n",
        "tf.random.set_seed(42)"
      ],
      "metadata": {
        "id": "BjfeQWDkC9un"
      },
      "execution_count": null,
      "outputs": []
    },
    {
      "cell_type": "code",
      "source": [
        "X_train.shape"
      ],
      "metadata": {
        "colab": {
          "base_uri": "https://localhost:8080/"
        },
        "id": "OZQZK8h4DIL4",
        "outputId": "8833f4b1-5f2f-4ee1-94e2-1710b87eaf44"
      },
      "execution_count": null,
      "outputs": [
        {
          "output_type": "execute_result",
          "data": {
            "text/plain": [
              "(11610, 8)"
            ]
          },
          "metadata": {},
          "execution_count": 6
        }
      ]
    },
    {
      "cell_type": "code",
      "source": [
        "model = keras.models.Sequential([\n",
        "    keras.layers.Dense(30, activation=\"relu\", input_shape=[8]),\n",
        "    keras.layers.Dense(30, activation=\"relu\"),\n",
        "    keras.layers.Dense(1)\n",
        "])"
      ],
      "metadata": {
        "id": "EB1Kr6MtDLAu"
      },
      "execution_count": null,
      "outputs": []
    },
    {
      "cell_type": "code",
      "source": [
        "model.compile(loss=\"mean_squared_error\",\n",
        "                optimizer=keras.optimizers.SGD(learning_rate=1e-3),\n",
        "                metrics=[\"mae\"])"
      ],
      "metadata": {
        "id": "GVhu0NonDiop"
      },
      "execution_count": null,
      "outputs": []
    },
    {
      "cell_type": "code",
      "source": [
        "model.summary()"
      ],
      "metadata": {
        "colab": {
          "base_uri": "https://localhost:8080/"
        },
        "id": "HqIITJgwDwl6",
        "outputId": "50b61199-4f4f-46f3-d8a4-1038e56cb2ba"
      },
      "execution_count": null,
      "outputs": [
        {
          "output_type": "stream",
          "name": "stdout",
          "text": [
            "Model: \"sequential\"\n",
            "_________________________________________________________________\n",
            " Layer (type)                Output Shape              Param #   \n",
            "=================================================================\n",
            " dense (Dense)               (None, 30)                270       \n",
            "                                                                 \n",
            " dense_1 (Dense)             (None, 30)                930       \n",
            "                                                                 \n",
            " dense_2 (Dense)             (None, 1)                 31        \n",
            "                                                                 \n",
            "=================================================================\n",
            "Total params: 1231 (4.81 KB)\n",
            "Trainable params: 1231 (4.81 KB)\n",
            "Non-trainable params: 0 (0.00 Byte)\n",
            "_________________________________________________________________\n"
          ]
        }
      ]
    },
    {
      "cell_type": "code",
      "source": [
        "model.compile(loss=\"mean_squared_error\",\n",
        "              optimizer=keras.optimizers.SGD(learning_rate=1e-3),\n",
        "              metrics = [\"mae\"])"
      ],
      "metadata": {
        "id": "oHTu0XjfDtkS"
      },
      "execution_count": null,
      "outputs": []
    },
    {
      "cell_type": "code",
      "source": [
        "model_history = model.fit(X_train, y_train, epochs=20,\n",
        "                         validation_data=(X_valid, y_valid))"
      ],
      "metadata": {
        "colab": {
          "base_uri": "https://localhost:8080/"
        },
        "id": "mFYau4TUD9xS",
        "outputId": "5b86a84e-4135-432c-ab5d-08f6c043da60"
      },
      "execution_count": null,
      "outputs": [
        {
          "metadata": {
            "tags": null
          },
          "name": "stdout",
          "output_type": "stream",
          "text": [
            "Epoch 1/20\n",
            "363/363 [==============================] - 1s 4ms/step - loss: 0.3843 - mae: 0.4425 - val_loss: 0.4328 - val_mae: 0.4350\n",
            "Epoch 2/20\n",
            "363/363 [==============================] - 1s 4ms/step - loss: 0.3822 - mae: 0.4413 - val_loss: 0.4394 - val_mae: 0.4359\n",
            "Epoch 3/20\n",
            "363/363 [==============================] - 1s 4ms/step - loss: 0.3805 - mae: 0.4400 - val_loss: 0.4337 - val_mae: 0.4329\n",
            "Epoch 4/20\n",
            "363/363 [==============================] - 1s 3ms/step - loss: 0.3786 - mae: 0.4389 - val_loss: 0.4371 - val_mae: 0.4342\n",
            "Epoch 5/20\n",
            "363/363 [==============================] - 2s 4ms/step - loss: 0.3769 - mae: 0.4377 - val_loss: 0.4369 - val_mae: 0.4338\n",
            "Epoch 6/20\n",
            "363/363 [==============================] - 2s 5ms/step - loss: 0.3755 - mae: 0.4368 - val_loss: 0.4313 - val_mae: 0.4317\n",
            "Epoch 7/20\n",
            "363/363 [==============================] - 1s 4ms/step - loss: 0.3739 - mae: 0.4364 - val_loss: 0.4287 - val_mae: 0.4286\n",
            "Epoch 8/20\n",
            "363/363 [==============================] - 1s 4ms/step - loss: 0.3727 - mae: 0.4347 - val_loss: 0.4283 - val_mae: 0.4302\n",
            "Epoch 9/20\n",
            "363/363 [==============================] - 1s 3ms/step - loss: 0.3713 - mae: 0.4345 - val_loss: 0.4247 - val_mae: 0.4274\n",
            "Epoch 10/20\n",
            "363/363 [==============================] - 1s 3ms/step - loss: 0.3704 - mae: 0.4332 - val_loss: 0.4163 - val_mae: 0.4283\n",
            "Epoch 11/20\n",
            "363/363 [==============================] - 1s 4ms/step - loss: 0.3690 - mae: 0.4323 - val_loss: 0.4211 - val_mae: 0.4294\n",
            "Epoch 12/20\n",
            "363/363 [==============================] - 1s 3ms/step - loss: 0.3679 - mae: 0.4317 - val_loss: 0.4206 - val_mae: 0.4301\n",
            "Epoch 13/20\n",
            "363/363 [==============================] - 1s 3ms/step - loss: 0.3672 - mae: 0.4314 - val_loss: 0.4199 - val_mae: 0.4280\n",
            "Epoch 14/20\n",
            "363/363 [==============================] - 1s 4ms/step - loss: 0.3662 - mae: 0.4304 - val_loss: 0.4047 - val_mae: 0.4275\n",
            "Epoch 15/20\n",
            "363/363 [==============================] - 2s 5ms/step - loss: 0.3651 - mae: 0.4298 - val_loss: 0.4031 - val_mae: 0.4296\n",
            "Epoch 16/20\n",
            "363/363 [==============================] - 1s 4ms/step - loss: 0.3646 - mae: 0.4295 - val_loss: 0.4012 - val_mae: 0.4279\n",
            "Epoch 17/20\n",
            "363/363 [==============================] - 1s 4ms/step - loss: 0.3636 - mae: 0.4293 - val_loss: 0.3923 - val_mae: 0.4238\n",
            "Epoch 18/20\n",
            "363/363 [==============================] - 1s 3ms/step - loss: 0.3628 - mae: 0.4285 - val_loss: 0.3985 - val_mae: 0.4244\n",
            "Epoch 19/20\n",
            "363/363 [==============================] - 1s 4ms/step - loss: 0.3619 - mae: 0.4282 - val_loss: 0.3880 - val_mae: 0.4213\n",
            "Epoch 20/20\n",
            "363/363 [==============================] - 1s 4ms/step - loss: 0.3612 - mae: 0.4268 - val_loss: 0.3964 - val_mae: 0.4240\n"
          ]
        }
      ]
    },
    {
      "cell_type": "code",
      "source": [
        "mae_test = model.evaluate(X_test, y_test)"
      ],
      "metadata": {
        "colab": {
          "base_uri": "https://localhost:8080/"
        },
        "id": "E_pIRllqEGGT",
        "outputId": "53ccabbf-e352-431c-cd38-c186b325925c"
      },
      "execution_count": null,
      "outputs": [
        {
          "output_type": "stream",
          "name": "stdout",
          "text": [
            "162/162 [==============================] - 1s 5ms/step - loss: 0.3610 - mae: 0.4278\n"
          ]
        }
      ]
    },
    {
      "cell_type": "code",
      "source": [
        "model_history.history"
      ],
      "metadata": {
        "colab": {
          "base_uri": "https://localhost:8080/"
        },
        "id": "RWL_H8rjEvgM",
        "outputId": "22e71075-5e3d-4ac2-c4fd-4c0d7d14d604"
      },
      "execution_count": null,
      "outputs": [
        {
          "output_type": "execute_result",
          "data": {
            "text/plain": [
              "{'loss': [0.38432806730270386,\n",
              "  0.38221317529678345,\n",
              "  0.38046795129776,\n",
              "  0.3785684108734131,\n",
              "  0.3769403100013733,\n",
              "  0.3754999339580536,\n",
              "  0.3739463984966278,\n",
              "  0.37266892194747925,\n",
              "  0.3712652921676636,\n",
              "  0.37039998173713684,\n",
              "  0.3690473139286041,\n",
              "  0.36794036626815796,\n",
              "  0.36718088388442993,\n",
              "  0.36620432138442993,\n",
              "  0.36507847905158997,\n",
              "  0.3646102547645569,\n",
              "  0.36363235116004944,\n",
              "  0.3627525568008423,\n",
              "  0.36191070079803467,\n",
              "  0.36115312576293945],\n",
              " 'mae': [0.4425492286682129,\n",
              "  0.44130173325538635,\n",
              "  0.4399910271167755,\n",
              "  0.43888282775878906,\n",
              "  0.43767881393432617,\n",
              "  0.43678390979766846,\n",
              "  0.4364404082298279,\n",
              "  0.4346744418144226,\n",
              "  0.4345317482948303,\n",
              "  0.43323761224746704,\n",
              "  0.4322594106197357,\n",
              "  0.4317425787448883,\n",
              "  0.4313725233078003,\n",
              "  0.43041133880615234,\n",
              "  0.42980319261550903,\n",
              "  0.42951104044914246,\n",
              "  0.42930883169174194,\n",
              "  0.42854586243629456,\n",
              "  0.4282010495662689,\n",
              "  0.42675331234931946],\n",
              " 'val_loss': [0.4328053295612335,\n",
              "  0.43941009044647217,\n",
              "  0.4337225556373596,\n",
              "  0.4371088445186615,\n",
              "  0.43689557909965515,\n",
              "  0.4312717914581299,\n",
              "  0.428726464509964,\n",
              "  0.42827409505844116,\n",
              "  0.42469605803489685,\n",
              "  0.41628313064575195,\n",
              "  0.421071857213974,\n",
              "  0.42061328887939453,\n",
              "  0.4198820888996124,\n",
              "  0.40474000573158264,\n",
              "  0.40308284759521484,\n",
              "  0.4011537730693817,\n",
              "  0.39226073026657104,\n",
              "  0.39848560094833374,\n",
              "  0.38803642988204956,\n",
              "  0.3963986337184906],\n",
              " 'val_mae': [0.43503084778785706,\n",
              "  0.4358889162540436,\n",
              "  0.43288668990135193,\n",
              "  0.43420153856277466,\n",
              "  0.43380945920944214,\n",
              "  0.43171757459640503,\n",
              "  0.4285524785518646,\n",
              "  0.4302103519439697,\n",
              "  0.427428662776947,\n",
              "  0.428301602602005,\n",
              "  0.4294187128543854,\n",
              "  0.43008118867874146,\n",
              "  0.42802587151527405,\n",
              "  0.4274681508541107,\n",
              "  0.42961204051971436,\n",
              "  0.42790618538856506,\n",
              "  0.4238221049308777,\n",
              "  0.42440590262413025,\n",
              "  0.4213063716888428,\n",
              "  0.4239969849586487]}"
            ]
          },
          "metadata": {},
          "execution_count": 20
        }
      ]
    },
    {
      "cell_type": "code",
      "source": [
        "pd.DataFrame(model_history.history).plot(figsize=(8,5))\n",
        "plt.grid(True)\n",
        "plt.gca().set_ylim(0,1)\n",
        "plt.show()"
      ],
      "metadata": {
        "colab": {
          "base_uri": "https://localhost:8080/",
          "height": 429
        },
        "id": "iCswcLYcEX0d",
        "outputId": "95ab6dd6-ff21-4647-f0e0-64593ab80afd"
      },
      "execution_count": null,
      "outputs": [
        {
          "output_type": "display_data",
          "data": {
            "text/plain": [
              "<Figure size 800x500 with 1 Axes>"
            ],
            "image/png": "[encoded data removed]"
          },
          "metadata": {}
        }
      ]
    },
    {
      "cell_type": "code",
      "source": [
        "X_new = X_test[:3]"
      ],
      "metadata": {
        "id": "v0LUlBbeEdmQ"
      },
      "execution_count": null,
      "outputs": []
    },
    {
      "cell_type": "code",
      "source": [
        "y_Pred = model.predict(X_new)\n",
        "print(y_Pred)\n"
      ],
      "metadata": {
        "colab": {
          "base_uri": "https://localhost:8080/"
        },
        "id": "CO7-gUTpEfAu",
        "outputId": "a27de8b0-b4ac-49bd-aff5-1674df35df0e"
      },
      "execution_count": null,
      "outputs": [
        {
          "output_type": "stream",
          "name": "stdout",
          "text": [
            "1/1 [==============================] - 0s 18ms/step\n",
            "[[0.7691   ]\n",
            " [1.8109511]\n",
            " [4.032874 ]]\n"
          ]
        }
      ]
    },
    {
      "cell_type": "code",
      "source": [
        "del model"
      ],
      "metadata": {
        "id": "bWe2Wr-aIXQ4"
      },
      "execution_count": null,
      "outputs": []
    },
    {
      "cell_type": "code",
      "source": [
        "keras.backend.clear_session()"
      ],
      "metadata": {
        "id": "6r136OaOIs7y"
      },
      "execution_count": null,
      "outputs": []
    },
    {
      "cell_type": "markdown",
      "source": [
        "#Functional API"
      ],
      "metadata": {
        "id": "ySt-XDXPIN0c"
      }
    },
    {
      "cell_type": "code",
      "source": [
        "input_ = keras.layers.Input(shape=X_train.shape[1:])\n",
        "hidden1 = keras.layers.Dense(30, activation=\"relu\")(input_)\n",
        "hidden2 = keras.layers.Dense(30, activation=\"relu\")(hidden1)\n",
        "concat = keras.layers.concatenate([input_, hidden2])\n",
        "output = keras.layers.Dense(1)(concat)\n",
        "model = keras.Model(inputs=[input_], outputs=[output])"
      ],
      "metadata": {
        "id": "pEvbsLV0Fb1z"
      },
      "execution_count": null,
      "outputs": []
    },
    {
      "cell_type": "code",
      "source": [
        "model.summary()"
      ],
      "metadata": {
        "colab": {
          "base_uri": "https://localhost:8080/"
        },
        "id": "bagRTyx5J2uL",
        "outputId": "ccd12619-370a-4a48-ba9c-f819da630fd5"
      },
      "execution_count": null,
      "outputs": [
        {
          "output_type": "stream",
          "name": "stdout",
          "text": [
            "Model: \"model\"\n",
            "__________________________________________________________________________________________________\n",
            " Layer (type)                Output Shape                 Param #   Connected to                  \n",
            "==================================================================================================\n",
            " input_3 (InputLayer)        [(None, 8)]                  0         []                            \n",
            "                                                                                                  \n",
            " dense (Dense)               (None, 30)                   270       ['input_3[0][0]']             \n",
            "                                                                                                  \n",
            " dense_1 (Dense)             (None, 30)                   930       ['dense[0][0]']               \n",
            "                                                                                                  \n",
            " concatenate (Concatenate)   (None, 38)                   0         ['input_3[0][0]',             \n",
            "                                                                     'dense_1[0][0]']             \n",
            "                                                                                                  \n",
            " dense_2 (Dense)             (None, 1)                    39        ['concatenate[0][0]']         \n",
            "                                                                                                  \n",
            "==================================================================================================\n",
            "Total params: 1239 (4.84 KB)\n",
            "Trainable params: 1239 (4.84 KB)\n",
            "Non-trainable params: 0 (0.00 Byte)\n",
            "__________________________________________________________________________________________________\n"
          ]
        }
      ]
    },
    {
      "cell_type": "code",
      "source": [
        "model.compile(loss=\"mean_squared_error\",\n",
        "              optimizer=keras.optimizers.SGD(learning_rate=1e-3),\n",
        "              metrics = [\"mae\"])"
      ],
      "metadata": {
        "id": "jfpGjLTJKUwm"
      },
      "execution_count": null,
      "outputs": []
    },
    {
      "cell_type": "code",
      "source": [],
      "metadata": {
        "id": "NZlUqzgSK8gZ"
      },
      "execution_count": null,
      "outputs": []
    },
    {
      "cell_type": "code",
      "source": [
        "model_history = model.fit(X_train, y_train, epochs=40,\n",
        "                         validation_data=(X_valid, y_valid))"
      ],
      "metadata": {
        "id": "wqP5ejkfKxq_",
        "outputId": "4aaf6e09-7124-4e95-f7ad-74366c3059ab",
        "colab": {
          "base_uri": "https://localhost:8080/"
        }
      },
      "execution_count": null,
      "outputs": [
        {
          "output_type": "stream",
          "name": "stdout",
          "text": [
            "Epoch 1/40\n",
            "363/363 [==============================] - 4s 9ms/step - loss: 1.5606 - mae: 0.9074 - val_loss: 5.1948 - val_mae: 0.7059\n",
            "Epoch 2/40\n",
            "363/363 [==============================] - 2s 5ms/step - loss: 0.7553 - mae: 0.6326 - val_loss: 0.8896 - val_mae: 0.6010\n",
            "Epoch 3/40\n",
            "363/363 [==============================] - 1s 4ms/step - loss: 0.6641 - mae: 0.5915 - val_loss: 0.6196 - val_mae: 0.5628\n",
            "Epoch 4/40\n",
            "363/363 [==============================] - 2s 6ms/step - loss: 0.6145 - mae: 0.5679 - val_loss: 0.5913 - val_mae: 0.5471\n",
            "Epoch 5/40\n",
            "363/363 [==============================] - 2s 7ms/step - loss: 0.5789 - mae: 0.5512 - val_loss: 0.5517 - val_mae: 0.5273\n",
            "Epoch 6/40\n",
            "363/363 [==============================] - 2s 6ms/step - loss: 0.5483 - mae: 0.5352 - val_loss: 0.5163 - val_mae: 0.5127\n",
            "Epoch 7/40\n",
            "363/363 [==============================] - 3s 8ms/step - loss: 0.5234 - mae: 0.5230 - val_loss: 0.4924 - val_mae: 0.5027\n",
            "Epoch 8/40\n",
            "363/363 [==============================] - 2s 5ms/step - loss: 0.5020 - mae: 0.5128 - val_loss: 0.4725 - val_mae: 0.4901\n",
            "Epoch 9/40\n",
            "363/363 [==============================] - 1s 4ms/step - loss: 0.4852 - mae: 0.5033 - val_loss: 0.4662 - val_mae: 0.4872\n",
            "Epoch 10/40\n",
            "363/363 [==============================] - 1s 3ms/step - loss: 0.4710 - mae: 0.4966 - val_loss: 0.4392 - val_mae: 0.4773\n",
            "Epoch 11/40\n",
            "363/363 [==============================] - 1s 4ms/step - loss: 0.4584 - mae: 0.4887 - val_loss: 0.4292 - val_mae: 0.4741\n",
            "Epoch 12/40\n",
            "363/363 [==============================] - 2s 5ms/step - loss: 0.4485 - mae: 0.4839 - val_loss: 0.4265 - val_mae: 0.4697\n",
            "Epoch 13/40\n",
            "363/363 [==============================] - 2s 5ms/step - loss: 0.4397 - mae: 0.4786 - val_loss: 0.4105 - val_mae: 0.4616\n",
            "Epoch 14/40\n",
            "363/363 [==============================] - 2s 6ms/step - loss: 0.4324 - mae: 0.4746 - val_loss: 0.4047 - val_mae: 0.4573\n",
            "Epoch 15/40\n",
            "363/363 [==============================] - 3s 8ms/step - loss: 0.4255 - mae: 0.4702 - val_loss: 0.3979 - val_mae: 0.4555\n",
            "Epoch 16/40\n",
            "363/363 [==============================] - 2s 6ms/step - loss: 0.4201 - mae: 0.4676 - val_loss: 0.3932 - val_mae: 0.4498\n",
            "Epoch 17/40\n",
            "363/363 [==============================] - 2s 7ms/step - loss: 0.4152 - mae: 0.4642 - val_loss: 0.3920 - val_mae: 0.4490\n",
            "Epoch 18/40\n",
            "363/363 [==============================] - 2s 6ms/step - loss: 0.4109 - mae: 0.4613 - val_loss: 0.3840 - val_mae: 0.4461\n",
            "Epoch 19/40\n",
            "363/363 [==============================] - 2s 6ms/step - loss: 0.4072 - mae: 0.4587 - val_loss: 0.3845 - val_mae: 0.4459\n",
            "Epoch 20/40\n",
            "363/363 [==============================] - 3s 9ms/step - loss: 0.4033 - mae: 0.4571 - val_loss: 0.3813 - val_mae: 0.4420\n",
            "Epoch 21/40\n",
            "363/363 [==============================] - 3s 8ms/step - loss: 0.4002 - mae: 0.4547 - val_loss: 0.3753 - val_mae: 0.4401\n",
            "Epoch 22/40\n",
            "363/363 [==============================] - 3s 8ms/step - loss: 0.3969 - mae: 0.4526 - val_loss: 0.3784 - val_mae: 0.4380\n",
            "Epoch 23/40\n",
            "363/363 [==============================] - 2s 6ms/step - loss: 0.3941 - mae: 0.4504 - val_loss: 0.3700 - val_mae: 0.4391\n",
            "Epoch 24/40\n",
            "363/363 [==============================] - 1s 4ms/step - loss: 0.3915 - mae: 0.4496 - val_loss: 0.3922 - val_mae: 0.4391\n",
            "Epoch 25/40\n",
            "363/363 [==============================] - 1s 3ms/step - loss: 0.3891 - mae: 0.4475 - val_loss: 0.3767 - val_mae: 0.4373\n",
            "Epoch 26/40\n",
            "363/363 [==============================] - 1s 4ms/step - loss: 0.3865 - mae: 0.4459 - val_loss: 0.3978 - val_mae: 0.4382\n",
            "Epoch 27/40\n",
            "363/363 [==============================] - 2s 6ms/step - loss: 0.3851 - mae: 0.4449 - val_loss: 0.3633 - val_mae: 0.4329\n",
            "Epoch 28/40\n",
            "363/363 [==============================] - 1s 4ms/step - loss: 0.3825 - mae: 0.4434 - val_loss: 0.3900 - val_mae: 0.4380\n",
            "Epoch 29/40\n",
            "363/363 [==============================] - 1s 4ms/step - loss: 0.3811 - mae: 0.4433 - val_loss: 0.3641 - val_mae: 0.4291\n",
            "Epoch 30/40\n",
            "363/363 [==============================] - 1s 4ms/step - loss: 0.3793 - mae: 0.4411 - val_loss: 0.3597 - val_mae: 0.4300\n",
            "Epoch 31/40\n",
            "363/363 [==============================] - 1s 4ms/step - loss: 0.3775 - mae: 0.4406 - val_loss: 0.3574 - val_mae: 0.4266\n",
            "Epoch 32/40\n",
            "363/363 [==============================] - 1s 3ms/step - loss: 0.3760 - mae: 0.4393 - val_loss: 0.3659 - val_mae: 0.4278\n",
            "Epoch 33/40\n",
            "363/363 [==============================] - 1s 4ms/step - loss: 0.3743 - mae: 0.4382 - val_loss: 0.3593 - val_mae: 0.4257\n",
            "Epoch 34/40\n",
            "363/363 [==============================] - 1s 4ms/step - loss: 0.3732 - mae: 0.4374 - val_loss: 0.3568 - val_mae: 0.4253\n",
            "Epoch 35/40\n",
            "363/363 [==============================] - 2s 5ms/step - loss: 0.3715 - mae: 0.4364 - val_loss: 0.3969 - val_mae: 0.4305\n",
            "Epoch 36/40\n",
            "363/363 [==============================] - 2s 5ms/step - loss: 0.3705 - mae: 0.4356 - val_loss: 0.3512 - val_mae: 0.4230\n",
            "Epoch 37/40\n",
            "363/363 [==============================] - 1s 4ms/step - loss: 0.3687 - mae: 0.4343 - val_loss: 0.3904 - val_mae: 0.4295\n",
            "Epoch 38/40\n",
            "363/363 [==============================] - 1s 4ms/step - loss: 0.3676 - mae: 0.4338 - val_loss: 0.3570 - val_mae: 0.4259\n",
            "Epoch 39/40\n",
            "363/363 [==============================] - 1s 4ms/step - loss: 0.3660 - mae: 0.4326 - val_loss: 0.3686 - val_mae: 0.4254\n",
            "Epoch 40/40\n",
            "363/363 [==============================] - 1s 4ms/step - loss: 0.3651 - mae: 0.4323 - val_loss: 0.3508 - val_mae: 0.4219\n"
          ]
        }
      ]
    },
    {
      "cell_type": "code",
      "source": [
        "mae_test = model.evaluate(X_test, y_test)"
      ],
      "metadata": {
        "id": "jIfbYf3eK2pB",
        "outputId": "6cf06368-c5f0-46c4-aeae-1c4e5a75e1d1",
        "colab": {
          "base_uri": "https://localhost:8080/"
        }
      },
      "execution_count": null,
      "outputs": [
        {
          "output_type": "stream",
          "name": "stdout",
          "text": [
            "162/162 [==============================] - 0s 2ms/step - loss: 0.3609 - mae: 0.4282\n"
          ]
        }
      ]
    },
    {
      "cell_type": "code",
      "source": [
        "model_history.history"
      ],
      "metadata": {
        "id": "GbYf5J3XK_pj",
        "outputId": "e0404dfc-b8d8-4133-a43b-58cd30bffc2e",
        "colab": {
          "base_uri": "https://localhost:8080/"
        }
      },
      "execution_count": null,
      "outputs": [
        {
          "output_type": "execute_result",
          "data": {
            "text/plain": [
              "{'loss': [1.5605509281158447,\n",
              "  0.7552621364593506,\n",
              "  0.6640812158584595,\n",
              "  0.6144717335700989,\n",
              "  0.5789351463317871,\n",
              "  0.5482585430145264,\n",
              "  0.5234082937240601,\n",
              "  0.5020477175712585,\n",
              "  0.485249400138855,\n",
              "  0.4710136651992798,\n",
              "  0.45840519666671753,\n",
              "  0.4484744668006897,\n",
              "  0.439685195684433,\n",
              "  0.43235424160957336,\n",
              "  0.425468772649765,\n",
              "  0.42007485032081604,\n",
              "  0.4152367413043976,\n",
              "  0.4108557105064392,\n",
              "  0.40718206763267517,\n",
              "  0.40333911776542664,\n",
              "  0.40023118257522583,\n",
              "  0.39688530564308167,\n",
              "  0.3940874934196472,\n",
              "  0.39153897762298584,\n",
              "  0.38914889097213745,\n",
              "  0.38651299476623535,\n",
              "  0.38505804538726807,\n",
              "  0.3825221359729767,\n",
              "  0.3810839056968689,\n",
              "  0.37926700711250305,\n",
              "  0.3774685859680176,\n",
              "  0.3759938180446625,\n",
              "  0.3743128180503845,\n",
              "  0.3731776177883148,\n",
              "  0.3715268671512604,\n",
              "  0.3705317974090576,\n",
              "  0.3687162399291992,\n",
              "  0.36756983399391174,\n",
              "  0.36602476239204407,\n",
              "  0.36509954929351807],\n",
              " 'mae': [0.9073617458343506,\n",
              "  0.6326003074645996,\n",
              "  0.5915167331695557,\n",
              "  0.5678789019584656,\n",
              "  0.5512150526046753,\n",
              "  0.535240888595581,\n",
              "  0.523004949092865,\n",
              "  0.5128471851348877,\n",
              "  0.5032751560211182,\n",
              "  0.4965834319591522,\n",
              "  0.48868364095687866,\n",
              "  0.4839373528957367,\n",
              "  0.47861388325691223,\n",
              "  0.4745844900608063,\n",
              "  0.47018128633499146,\n",
              "  0.4676027297973633,\n",
              "  0.46419572830200195,\n",
              "  0.46130189299583435,\n",
              "  0.45873400568962097,\n",
              "  0.4570765793323517,\n",
              "  0.45468392968177795,\n",
              "  0.4525641202926636,\n",
              "  0.45036017894744873,\n",
              "  0.449606716632843,\n",
              "  0.44745174050331116,\n",
              "  0.4459436535835266,\n",
              "  0.4448763132095337,\n",
              "  0.44343331456184387,\n",
              "  0.44325748085975647,\n",
              "  0.44111892580986023,\n",
              "  0.4406244158744812,\n",
              "  0.4393382966518402,\n",
              "  0.4382328987121582,\n",
              "  0.437444269657135,\n",
              "  0.43640702962875366,\n",
              "  0.43561840057373047,\n",
              "  0.4342826306819916,\n",
              "  0.43376612663269043,\n",
              "  0.4326258599758148,\n",
              "  0.43231678009033203],\n",
              " 'val_loss': [5.194799900054932,\n",
              "  0.8895957469940186,\n",
              "  0.6196284890174866,\n",
              "  0.5913227200508118,\n",
              "  0.5516689419746399,\n",
              "  0.5163469910621643,\n",
              "  0.49244430661201477,\n",
              "  0.4725290834903717,\n",
              "  0.4661848843097687,\n",
              "  0.439211905002594,\n",
              "  0.4292071461677551,\n",
              "  0.4264869689941406,\n",
              "  0.41053494811058044,\n",
              "  0.40469983220100403,\n",
              "  0.3979000747203827,\n",
              "  0.3932439684867859,\n",
              "  0.3920022249221802,\n",
              "  0.3839679956436157,\n",
              "  0.3845338821411133,\n",
              "  0.3812623620033264,\n",
              "  0.3752698302268982,\n",
              "  0.37837427854537964,\n",
              "  0.3699771463871002,\n",
              "  0.3921900689601898,\n",
              "  0.3767157793045044,\n",
              "  0.3977995812892914,\n",
              "  0.3632981777191162,\n",
              "  0.39000651240348816,\n",
              "  0.364115446805954,\n",
              "  0.35966357588768005,\n",
              "  0.35741281509399414,\n",
              "  0.3659159541130066,\n",
              "  0.3593343496322632,\n",
              "  0.35682085156440735,\n",
              "  0.3969166874885559,\n",
              "  0.3511680066585541,\n",
              "  0.3903733491897583,\n",
              "  0.3569706976413727,\n",
              "  0.3685687184333801,\n",
              "  0.3508206605911255],\n",
              " 'val_mae': [0.7059135437011719,\n",
              "  0.6009608507156372,\n",
              "  0.562795877456665,\n",
              "  0.5470607280731201,\n",
              "  0.527274489402771,\n",
              "  0.5127254128456116,\n",
              "  0.5026621222496033,\n",
              "  0.49013552069664,\n",
              "  0.4871559739112854,\n",
              "  0.47733116149902344,\n",
              "  0.47412434220314026,\n",
              "  0.4697209894657135,\n",
              "  0.4616416394710541,\n",
              "  0.457285076379776,\n",
              "  0.45552486181259155,\n",
              "  0.44980597496032715,\n",
              "  0.4490024447441101,\n",
              "  0.4461488723754883,\n",
              "  0.4458555579185486,\n",
              "  0.4420112073421478,\n",
              "  0.4400635361671448,\n",
              "  0.437972754240036,\n",
              "  0.4390799105167389,\n",
              "  0.4391383230686188,\n",
              "  0.4373185932636261,\n",
              "  0.43815505504608154,\n",
              "  0.4329340159893036,\n",
              "  0.437978059053421,\n",
              "  0.4290611445903778,\n",
              "  0.42998427152633667,\n",
              "  0.4265541136264801,\n",
              "  0.4278458058834076,\n",
              "  0.4257269501686096,\n",
              "  0.4253235161304474,\n",
              "  0.4305499792098999,\n",
              "  0.42298486828804016,\n",
              "  0.42946019768714905,\n",
              "  0.42590707540512085,\n",
              "  0.4253847599029541,\n",
              "  0.42188581824302673]}"
            ]
          },
          "metadata": {},
          "execution_count": 35
        }
      ]
    },
    {
      "cell_type": "code",
      "source": [
        "pd.DataFrame(model_history.history).plot(figsize=(8,5))\n",
        "plt.grid(True)\n",
        "plt.gca().set_ylim(0,1)\n",
        "plt.show()"
      ],
      "metadata": {
        "id": "4UeMMkFALCXq",
        "outputId": "768173a2-135b-44a1-afaf-d3132c61c8bd",
        "colab": {
          "base_uri": "https://localhost:8080/",
          "height": 429
        }
      },
      "execution_count": null,
      "outputs": [
        {
          "output_type": "display_data",
          "data": {
            "text/plain": [
              "<Figure size 800x500 with 1 Axes>"
            ],
            "image/png": "[encoded data removed]"
          },
          "metadata": {}
        }
      ]
    },
    {
      "cell_type": "markdown",
      "source": [
        "#Saving and Restoring"
      ],
      "metadata": {
        "id": "3Dum4JZ1LkFH"
      }
    },
    {
      "cell_type": "code",
      "source": [
        "model.save(\"my_keras_model.h5\")"
      ],
      "metadata": {
        "id": "wI1ydfdnLRJV",
        "outputId": "048f18ea-d527-4fe8-8ac1-c1cdf643d08e",
        "colab": {
          "base_uri": "https://localhost:8080/"
        }
      },
      "execution_count": null,
      "outputs": [
        {
          "output_type": "stream",
          "name": "stderr",
          "text": [
            "/usr/local/lib/python3.10/dist-packages/keras/src/engine/training.py:3103: UserWarning: You are saving your model as an HDF5 file via `model.save()`. This file format is considered legacy. We recommend using instead the native Keras format, e.g. `model.save('my_model.keras')`.\n",
            "  saving_api.save_model(\n"
          ]
        }
      ]
    },
    {
      "cell_type": "code",
      "source": [
        "%pwd"
      ],
      "metadata": {
        "id": "iUKx_xDrLtLm",
        "outputId": "e411c603-142c-439d-8bc0-8f4ffe4d2b04",
        "colab": {
          "base_uri": "https://localhost:8080/",
          "height": 36
        }
      },
      "execution_count": null,
      "outputs": [
        {
          "output_type": "execute_result",
          "data": {
            "text/plain": [
              "'/content'"
            ],
            "application/vnd.google.colaboratory.intrinsic+json": {
              "type": "string"
            }
          },
          "metadata": {},
          "execution_count": 38
        }
      ]
    },
    {
      "cell_type": "code",
      "source": [
        "del  model"
      ],
      "metadata": {
        "id": "2yVbM4PLLv7C"
      },
      "execution_count": null,
      "outputs": []
    },
    {
      "cell_type": "code",
      "source": [
        "keras.backend.clear_session()"
      ],
      "metadata": {
        "id": "d4X1Dk2uL5K5"
      },
      "execution_count": null,
      "outputs": []
    },
    {
      "cell_type": "code",
      "source": [
        "model = keras.models.load_model(\"my_keras_model.h5\")"
      ],
      "metadata": {
        "id": "RLUyBlcwL7Nq"
      },
      "execution_count": null,
      "outputs": []
    },
    {
      "cell_type": "code",
      "source": [
        "model.summary()"
      ],
      "metadata": {
        "id": "Ob2myIitL-Do",
        "outputId": "2a646849-58c2-4bd9-aa70-4081df4183c9",
        "colab": {
          "base_uri": "https://localhost:8080/"
        }
      },
      "execution_count": null,
      "outputs": [
        {
          "output_type": "stream",
          "name": "stdout",
          "text": [
            "Model: \"model\"\n",
            "__________________________________________________________________________________________________\n",
            " Layer (type)                Output Shape                 Param #   Connected to                  \n",
            "==================================================================================================\n",
            " input_3 (InputLayer)        [(None, 8)]                  0         []                            \n",
            "                                                                                                  \n",
            " dense (Dense)               (None, 30)                   270       ['input_3[0][0]']             \n",
            "                                                                                                  \n",
            " dense_1 (Dense)             (None, 30)                   930       ['dense[0][0]']               \n",
            "                                                                                                  \n",
            " concatenate (Concatenate)   (None, 38)                   0         ['input_3[0][0]',             \n",
            "                                                                     'dense_1[0][0]']             \n",
            "                                                                                                  \n",
            " dense_2 (Dense)             (None, 1)                    39        ['concatenate[0][0]']         \n",
            "                                                                                                  \n",
            "==================================================================================================\n",
            "Total params: 1239 (4.84 KB)\n",
            "Trainable params: 1239 (4.84 KB)\n",
            "Non-trainable params: 0 (0.00 Byte)\n",
            "__________________________________________________________________________________________________\n"
          ]
        }
      ]
    },
    {
      "cell_type": "code",
      "source": [
        "y_pred = model.predict(X_new)\n",
        "print(y_pred)"
      ],
      "metadata": {
        "id": "-IA-S-9gMAeQ",
        "outputId": "adb1ac6f-8b71-4958-f46f-df817c777c7f",
        "colab": {
          "base_uri": "https://localhost:8080/"
        }
      },
      "execution_count": null,
      "outputs": [
        {
          "output_type": "stream",
          "name": "stdout",
          "text": [
            "1/1 [==============================] - 0s 81ms/step\n",
            "[[0.56467736]\n",
            " [1.66342   ]\n",
            " [3.8632648 ]]\n"
          ]
        }
      ]
    },
    {
      "cell_type": "code",
      "source": [
        "#Using callbacks during Training\n",
        "keras.backend.clear_session()\n",
        "np.random.seed(42)\n",
        "tf.random.set_seed(42)"
      ],
      "metadata": {
        "id": "2vtDZ5hQMHpL"
      },
      "execution_count": null,
      "outputs": []
    },
    {
      "cell_type": "code",
      "source": [
        "model = keras.models.Sequential([\n",
        "    keras.layers.Dense(30, activation=\"relu\", input_shape=[8]),\n",
        "    keras.layers.Dense(30, activation=\"relu\"),\n",
        "    keras.layers.Dense(1)\n",
        "])"
      ],
      "metadata": {
        "id": "QXlb4AyRMT3V"
      },
      "execution_count": null,
      "outputs": []
    },
    {
      "cell_type": "code",
      "source": [
        "model.compile(loss=\"mean_squared_error\",\n",
        "              optimizer=keras.optimizers.SGD(learning_rate=1e-3),\n",
        "              metrics = [\"mae\"])"
      ],
      "metadata": {
        "id": "YNjC58sqMbji"
      },
      "execution_count": null,
      "outputs": []
    },
    {
      "cell_type": "code",
      "source": [
        "checkpoint_cb = keras.callbacks.ModelCheckpoint(\"Model - {epoch:02d}.h5\")"
      ],
      "metadata": {
        "id": "Ml0NY_pXM136"
      },
      "execution_count": null,
      "outputs": []
    },
    {
      "cell_type": "code",
      "source": [
        "history = model.fit(X_train, y_train, epochs=10,\n",
        "                    validation_data=(X_valid, y_valid),\n",
        "                    callbacks=[checkpoint_cb])"
      ],
      "metadata": {
        "id": "gH6eBC9mMnGG",
        "outputId": "da53abe2-f4dc-41a5-df93-fdd48c0787d5",
        "colab": {
          "base_uri": "https://localhost:8080/"
        }
      },
      "execution_count": null,
      "outputs": [
        {
          "output_type": "stream",
          "name": "stdout",
          "text": [
            "Epoch 1/10\n",
            "363/363 [==============================] - 4s 6ms/step - loss: 2.0698 - mae: 1.0489 - val_loss: 0.9257 - val_mae: 0.7166\n",
            "Epoch 2/10\n",
            " 52/363 [===>..........................] - ETA: 0s - loss: 0.8942 - mae: 0.7152"
          ]
        },
        {
          "output_type": "stream",
          "name": "stderr",
          "text": [
            "/usr/local/lib/python3.10/dist-packages/keras/src/engine/training.py:3103: UserWarning: You are saving your model as an HDF5 file via `model.save()`. This file format is considered legacy. We recommend using instead the native Keras format, e.g. `model.save('my_model.keras')`.\n",
            "  saving_api.save_model(\n"
          ]
        },
        {
          "output_type": "stream",
          "name": "stdout",
          "text": [
            "363/363 [==============================] - 1s 4ms/step - loss: 0.7793 - mae: 0.6641 - val_loss: 0.6935 - val_mae: 0.6120\n",
            "Epoch 3/10\n",
            "363/363 [==============================] - 1s 4ms/step - loss: 0.6698 - mae: 0.6045 - val_loss: 0.6143 - val_mae: 0.5707\n",
            "Epoch 4/10\n",
            "363/363 [==============================] - 1s 4ms/step - loss: 0.6184 - mae: 0.5768 - val_loss: 0.6279 - val_mae: 0.5567\n",
            "Epoch 5/10\n",
            "363/363 [==============================] - 1s 4ms/step - loss: 0.5797 - mae: 0.5554 - val_loss: 0.5869 - val_mae: 0.5334\n",
            "Epoch 6/10\n",
            "363/363 [==============================] - 1s 4ms/step - loss: 0.5460 - mae: 0.5381 - val_loss: 0.5159 - val_mae: 0.5163\n",
            "Epoch 7/10\n",
            "363/363 [==============================] - 1s 4ms/step - loss: 0.5200 - mae: 0.5235 - val_loss: 0.4745 - val_mae: 0.4978\n",
            "Epoch 8/10\n",
            "363/363 [==============================] - 1s 4ms/step - loss: 0.4982 - mae: 0.5111 - val_loss: 0.5716 - val_mae: 0.4952\n",
            "Epoch 9/10\n",
            "363/363 [==============================] - 2s 5ms/step - loss: 0.4794 - mae: 0.5012 - val_loss: 0.4534 - val_mae: 0.4803\n",
            "Epoch 10/10\n",
            "363/363 [==============================] - 2s 4ms/step - loss: 0.4650 - mae: 0.4931 - val_loss: 0.4388 - val_mae: 0.4697\n"
          ]
        }
      ]
    },
    {
      "cell_type": "code",
      "source": [
        "%ls"
      ],
      "metadata": {
        "id": "qFqIxOLhMzpk",
        "outputId": "2a9133b9-0f57-4036-a7b8-a09e9b91ba50",
        "colab": {
          "base_uri": "https://localhost:8080/"
        }
      },
      "execution_count": null,
      "outputs": [
        {
          "output_type": "stream",
          "name": "stdout",
          "text": [
            "'Model - 01.h5'  'Model - 04.h5'  'Model - 07.h5'  'Model - 10.h5'\n",
            "'Model - 02.h5'  'Model - 05.h5'  'Model - 08.h5'   my_keras_model.h5\n",
            "'Model - 03.h5'  'Model - 06.h5'  'Model - 09.h5'   \u001b[0m\u001b[01;34msample_data\u001b[0m/\n"
          ]
        }
      ]
    },
    {
      "cell_type": "code",
      "source": [
        "del model\n",
        "keras.backend.clear_session()"
      ],
      "metadata": {
        "id": "vHtPuZPyOWUc"
      },
      "execution_count": null,
      "outputs": []
    },
    {
      "cell_type": "code",
      "source": [
        "model = keras.models.load_model(\"Model - 09.h5\")"
      ],
      "metadata": {
        "id": "3nkFU6yDOlKh"
      },
      "execution_count": null,
      "outputs": []
    },
    {
      "cell_type": "code",
      "source": [
        "mse_test = model.evaluate(X_test, y_test)"
      ],
      "metadata": {
        "id": "sDYF0rjxOsi9",
        "outputId": "218a8a4b-bf98-472f-b5a6-3ca6d4165e4b",
        "colab": {
          "base_uri": "https://localhost:8080/"
        }
      },
      "execution_count": null,
      "outputs": [
        {
          "metadata": {
            "tags": null
          },
          "name": "stdout",
          "output_type": "stream",
          "text": [
            "162/162 [==============================] - 1s 4ms/step - loss: 0.4623 - mae: 0.4912\n"
          ]
        }
      ]
    },
    {
      "cell_type": "code",
      "source": [
        "#Best Model only\n",
        "model = keras.models.Sequential([\n",
        "    keras.layers.Dense(30, activation=\"relu\", input_shape=[8]),\n",
        "    keras.layers.Dense(30, activation=\"relu\"),\n",
        "    keras.layers.Dense(1)\n",
        "])"
      ],
      "metadata": {
        "id": "O4eS14bWOuHZ"
      },
      "execution_count": null,
      "outputs": []
    },
    {
      "cell_type": "code",
      "source": [
        "model.compile(loss=\"mean_squared_error\",\n",
        "              optimizer=keras.optimizers.SGD(learning_rate=1e-3),\n",
        "              metrics = [\"mae\"])"
      ],
      "metadata": {
        "id": "HkulwDlbPTTC"
      },
      "execution_count": null,
      "outputs": []
    },
    {
      "cell_type": "code",
      "source": [
        "checkpoint_cb = keras.callbacks.ModelCheckpoint(\"Best_model.h5\", save_best_only=True)"
      ],
      "metadata": {
        "id": "2uFuOjgaPWeb"
      },
      "execution_count": null,
      "outputs": []
    },
    {
      "cell_type": "code",
      "source": [
        "history = model.fit(X_train, y_train, epochs=10,\n",
        "                    validation_data=(X_valid, y_valid),\n",
        "                    callbacks=[checkpoint_cb])"
      ],
      "metadata": {
        "id": "RTzGKdQ9PgzE",
        "outputId": "174ce7bc-975b-440a-a7de-0725e3adbbe1",
        "colab": {
          "base_uri": "https://localhost:8080/"
        }
      },
      "execution_count": null,
      "outputs": [
        {
          "output_type": "stream",
          "name": "stdout",
          "text": [
            "Epoch 1/10\n",
            "363/363 [==============================] - 5s 7ms/step - loss: 2.0726 - mae: 1.0171 - val_loss: 1.5724 - val_mae: 0.7331\n",
            "Epoch 2/10\n",
            " 54/363 [===>..........................] - ETA: 0s - loss: 0.9123 - mae: 0.7211"
          ]
        },
        {
          "output_type": "stream",
          "name": "stderr",
          "text": [
            "/usr/local/lib/python3.10/dist-packages/keras/src/engine/training.py:3103: UserWarning: You are saving your model as an HDF5 file via `model.save()`. This file format is considered legacy. We recommend using instead the native Keras format, e.g. `model.save('my_model.keras')`.\n",
            "  saving_api.save_model(\n"
          ]
        },
        {
          "output_type": "stream",
          "name": "stdout",
          "text": [
            "363/363 [==============================] - 1s 4ms/step - loss: 0.7505 - mae: 0.6567 - val_loss: 0.6425 - val_mae: 0.6043\n",
            "Epoch 3/10\n",
            "363/363 [==============================] - 1s 3ms/step - loss: 0.6340 - mae: 0.5896 - val_loss: 0.5775 - val_mae: 0.5567\n",
            "Epoch 4/10\n",
            "363/363 [==============================] - 1s 4ms/step - loss: 0.5765 - mae: 0.5547 - val_loss: 0.5286 - val_mae: 0.5346\n",
            "Epoch 5/10\n",
            "363/363 [==============================] - 1s 3ms/step - loss: 0.5370 - mae: 0.5313 - val_loss: 0.4879 - val_mae: 0.5063\n",
            "Epoch 6/10\n",
            "363/363 [==============================] - 1s 4ms/step - loss: 0.5070 - mae: 0.5145 - val_loss: 0.4630 - val_mae: 0.4921\n",
            "Epoch 7/10\n",
            "363/363 [==============================] - 2s 6ms/step - loss: 0.4856 - mae: 0.5014 - val_loss: 0.4435 - val_mae: 0.4799\n",
            "Epoch 8/10\n",
            "363/363 [==============================] - 2s 5ms/step - loss: 0.4688 - mae: 0.4924 - val_loss: 0.4294 - val_mae: 0.4703\n",
            "Epoch 9/10\n",
            "363/363 [==============================] - 1s 4ms/step - loss: 0.4558 - mae: 0.4854 - val_loss: 0.4195 - val_mae: 0.4655\n",
            "Epoch 10/10\n",
            "363/363 [==============================] - 1s 4ms/step - loss: 0.4455 - mae: 0.4797 - val_loss: 0.4100 - val_mae: 0.4588\n"
          ]
        }
      ]
    },
    {
      "cell_type": "code",
      "source": [
        "model = keras.models.load_model(\"Best_model.h5\")\n",
        "mse_test = model.evaluate(X_test, y_test)"
      ],
      "metadata": {
        "id": "RC5b3SzjPlOy",
        "outputId": "f33b94f1-9969-43c2-e127-de6aba445e1d",
        "colab": {
          "base_uri": "https://localhost:8080/"
        }
      },
      "execution_count": null,
      "outputs": [
        {
          "output_type": "stream",
          "name": "stdout",
          "text": [
            "162/162 [==============================] - 1s 5ms/step - loss: 0.4339 - mae: 0.4715\n"
          ]
        }
      ]
    },
    {
      "cell_type": "code",
      "source": [
        "model = keras.models.Sequential([\n",
        "    keras.layers.Dense(30, activation=\"relu\", input_shape=[8]),\n",
        "    keras.layers.Dense(30, activation=\"relu\"),\n",
        "    keras.layers.Dense(1)\n",
        "])"
      ],
      "metadata": {
        "id": "uqzHgEZqQEBq"
      },
      "execution_count": null,
      "outputs": []
    },
    {
      "cell_type": "code",
      "source": [
        "model.compile(loss=\"mean_squared_error\",\n",
        "              optimizer=keras.optimizers.SGD(learning_rate=1e-3),\n",
        "              metrics = [\"mae\"])"
      ],
      "metadata": {
        "id": "4O367zQiQCwI"
      },
      "execution_count": null,
      "outputs": []
    },
    {
      "cell_type": "code",
      "source": [
        "checkpoint_cb = keras.callbacks.ModelCheckpoint(\"early_stop_model.h5\", save_best_only=True)"
      ],
      "metadata": {
        "id": "VrThJkKiQLRV"
      },
      "execution_count": null,
      "outputs": []
    },
    {
      "cell_type": "code",
      "source": [
        "early_stopping_cb = keras.callbacks.EarlyStopping(patience=10,\n",
        "                                                  restore_best_weights=True)"
      ],
      "metadata": {
        "id": "XWdpj2UZQW7d"
      },
      "execution_count": null,
      "outputs": []
    },
    {
      "cell_type": "code",
      "source": [
        "history = model.fit(X_train, y_train, epochs=200,\n",
        "                    validation_data=(X_valid, y_valid),\n",
        "                    callbacks=[checkpoint_cb, early_stopping_cb])"
      ],
      "metadata": {
        "id": "x1P0ju5WPxu-",
        "outputId": "b20b49f7-cb39-4a05-f68a-522e3dd5f0df",
        "colab": {
          "base_uri": "https://localhost:8080/"
        }
      },
      "execution_count": null,
      "outputs": [
        {
          "output_type": "stream",
          "name": "stdout",
          "text": [
            "Epoch 1/200\n",
            "363/363 [==============================] - 3s 6ms/step - loss: 1.7477 - mae: 0.8695 - val_loss: 0.8200 - val_mae: 0.6210\n",
            "Epoch 2/200\n",
            " 53/363 [===>..........................] - ETA: 0s - loss: 0.7298 - mae: 0.6331"
          ]
        },
        {
          "output_type": "stream",
          "name": "stderr",
          "text": [
            "/usr/local/lib/python3.10/dist-packages/keras/src/engine/training.py:3103: UserWarning: You are saving your model as an HDF5 file via `model.save()`. This file format is considered legacy. We recommend using instead the native Keras format, e.g. `model.save('my_model.keras')`.\n",
            "  saving_api.save_model(\n"
          ]
        },
        {
          "output_type": "stream",
          "name": "stdout",
          "text": [
            "363/363 [==============================] - 2s 5ms/step - loss: 0.6562 - mae: 0.6013 - val_loss: 0.6124 - val_mae: 0.5745\n",
            "Epoch 3/200\n",
            "363/363 [==============================] - 2s 5ms/step - loss: 0.5993 - mae: 0.5708 - val_loss: 0.5520 - val_mae: 0.5433\n",
            "Epoch 4/200\n",
            "363/363 [==============================] - 1s 4ms/step - loss: 0.5605 - mae: 0.5493 - val_loss: 0.5182 - val_mae: 0.5319\n",
            "Epoch 5/200\n",
            "363/363 [==============================] - 2s 4ms/step - loss: 0.5306 - mae: 0.5326 - val_loss: 0.4881 - val_mae: 0.5102\n",
            "Epoch 6/200\n",
            "363/363 [==============================] - 2s 6ms/step - loss: 0.5046 - mae: 0.5188 - val_loss: 0.4745 - val_mae: 0.4994\n",
            "Epoch 7/200\n",
            "363/363 [==============================] - 1s 4ms/step - loss: 0.4843 - mae: 0.5070 - val_loss: 0.4534 - val_mae: 0.4865\n",
            "Epoch 8/200\n",
            "363/363 [==============================] - 1s 4ms/step - loss: 0.4674 - mae: 0.4972 - val_loss: 0.4449 - val_mae: 0.4778\n",
            "Epoch 9/200\n",
            "363/363 [==============================] - 1s 4ms/step - loss: 0.4539 - mae: 0.4896 - val_loss: 0.4449 - val_mae: 0.4733\n",
            "Epoch 10/200\n",
            "363/363 [==============================] - 1s 4ms/step - loss: 0.4428 - mae: 0.4834 - val_loss: 0.4410 - val_mae: 0.4669\n",
            "Epoch 11/200\n",
            "363/363 [==============================] - 1s 4ms/step - loss: 0.4346 - mae: 0.4781 - val_loss: 0.4433 - val_mae: 0.4655\n",
            "Epoch 12/200\n",
            "363/363 [==============================] - 1s 4ms/step - loss: 0.4276 - mae: 0.4744 - val_loss: 0.4459 - val_mae: 0.4612\n",
            "Epoch 13/200\n",
            "363/363 [==============================] - 1s 4ms/step - loss: 0.4216 - mae: 0.4708 - val_loss: 0.4636 - val_mae: 0.4623\n",
            "Epoch 14/200\n",
            "363/363 [==============================] - 2s 5ms/step - loss: 0.4168 - mae: 0.4678 - val_loss: 0.4538 - val_mae: 0.4587\n",
            "Epoch 15/200\n",
            "363/363 [==============================] - 2s 5ms/step - loss: 0.4128 - mae: 0.4656 - val_loss: 0.4451 - val_mae: 0.4549\n",
            "Epoch 16/200\n",
            "363/363 [==============================] - 1s 3ms/step - loss: 0.4091 - mae: 0.4634 - val_loss: 0.4447 - val_mae: 0.4530\n",
            "Epoch 17/200\n",
            "363/363 [==============================] - 2s 4ms/step - loss: 0.4057 - mae: 0.4609 - val_loss: 0.4513 - val_mae: 0.4509\n",
            "Epoch 18/200\n",
            "363/363 [==============================] - 1s 4ms/step - loss: 0.4031 - mae: 0.4593 - val_loss: 0.4520 - val_mae: 0.4487\n",
            "Epoch 19/200\n",
            "363/363 [==============================] - 1s 4ms/step - loss: 0.3998 - mae: 0.4572 - val_loss: 0.4392 - val_mae: 0.4464\n",
            "Epoch 20/200\n",
            "363/363 [==============================] - 1s 4ms/step - loss: 0.3978 - mae: 0.4555 - val_loss: 0.4765 - val_mae: 0.4502\n",
            "Epoch 21/200\n",
            "363/363 [==============================] - 2s 5ms/step - loss: 0.3953 - mae: 0.4542 - val_loss: 0.4632 - val_mae: 0.4487\n",
            "Epoch 22/200\n",
            "363/363 [==============================] - 1s 4ms/step - loss: 0.3930 - mae: 0.4526 - val_loss: 0.4784 - val_mae: 0.4483\n",
            "Epoch 23/200\n",
            "363/363 [==============================] - 2s 5ms/step - loss: 0.3910 - mae: 0.4517 - val_loss: 0.4159 - val_mae: 0.4387\n",
            "Epoch 24/200\n",
            "363/363 [==============================] - 2s 4ms/step - loss: 0.3889 - mae: 0.4496 - val_loss: 0.4357 - val_mae: 0.4404\n",
            "Epoch 25/200\n",
            "363/363 [==============================] - 1s 4ms/step - loss: 0.3870 - mae: 0.4489 - val_loss: 0.4466 - val_mae: 0.4407\n",
            "Epoch 26/200\n",
            "363/363 [==============================] - 1s 3ms/step - loss: 0.3853 - mae: 0.4474 - val_loss: 0.4500 - val_mae: 0.4399\n",
            "Epoch 27/200\n",
            "363/363 [==============================] - 1s 4ms/step - loss: 0.3838 - mae: 0.4465 - val_loss: 0.4155 - val_mae: 0.4373\n",
            "Epoch 28/200\n",
            "363/363 [==============================] - 1s 4ms/step - loss: 0.3821 - mae: 0.4450 - val_loss: 0.4366 - val_mae: 0.4402\n",
            "Epoch 29/200\n",
            "363/363 [==============================] - 1s 3ms/step - loss: 0.3807 - mae: 0.4442 - val_loss: 0.4218 - val_mae: 0.4375\n",
            "Epoch 30/200\n",
            "363/363 [==============================] - 1s 4ms/step - loss: 0.3791 - mae: 0.4430 - val_loss: 0.4399 - val_mae: 0.4365\n",
            "Epoch 31/200\n",
            "363/363 [==============================] - 1s 4ms/step - loss: 0.3774 - mae: 0.4419 - val_loss: 0.4234 - val_mae: 0.4341\n",
            "Epoch 32/200\n",
            "363/363 [==============================] - 2s 5ms/step - loss: 0.3761 - mae: 0.4410 - val_loss: 0.4559 - val_mae: 0.4388\n",
            "Epoch 33/200\n",
            "363/363 [==============================] - 2s 4ms/step - loss: 0.3753 - mae: 0.4405 - val_loss: 0.4125 - val_mae: 0.4335\n",
            "Epoch 34/200\n",
            "363/363 [==============================] - 1s 4ms/step - loss: 0.3736 - mae: 0.4391 - val_loss: 0.4071 - val_mae: 0.4330\n",
            "Epoch 35/200\n",
            "363/363 [==============================] - 1s 4ms/step - loss: 0.3726 - mae: 0.4382 - val_loss: 0.4308 - val_mae: 0.4342\n",
            "Epoch 36/200\n",
            "363/363 [==============================] - 1s 4ms/step - loss: 0.3716 - mae: 0.4379 - val_loss: 0.3954 - val_mae: 0.4286\n",
            "Epoch 37/200\n",
            "363/363 [==============================] - 1s 3ms/step - loss: 0.3704 - mae: 0.4366 - val_loss: 0.4123 - val_mae: 0.4312\n",
            "Epoch 38/200\n",
            "363/363 [==============================] - 1s 3ms/step - loss: 0.3693 - mae: 0.4360 - val_loss: 0.3990 - val_mae: 0.4294\n",
            "Epoch 39/200\n",
            "363/363 [==============================] - 1s 3ms/step - loss: 0.3685 - mae: 0.4355 - val_loss: 0.3937 - val_mae: 0.4278\n",
            "Epoch 40/200\n",
            "363/363 [==============================] - 1s 3ms/step - loss: 0.3674 - mae: 0.4347 - val_loss: 0.4037 - val_mae: 0.4258\n",
            "Epoch 41/200\n",
            "363/363 [==============================] - 2s 5ms/step - loss: 0.3666 - mae: 0.4334 - val_loss: 0.4103 - val_mae: 0.4281\n",
            "Epoch 42/200\n",
            "363/363 [==============================] - 2s 5ms/step - loss: 0.3657 - mae: 0.4332 - val_loss: 0.4181 - val_mae: 0.4268\n",
            "Epoch 43/200\n",
            "363/363 [==============================] - 1s 3ms/step - loss: 0.3645 - mae: 0.4318 - val_loss: 0.4258 - val_mae: 0.4274\n",
            "Epoch 44/200\n",
            "363/363 [==============================] - 1s 4ms/step - loss: 0.3637 - mae: 0.4313 - val_loss: 0.4319 - val_mae: 0.4304\n",
            "Epoch 45/200\n",
            "363/363 [==============================] - 1s 3ms/step - loss: 0.3630 - mae: 0.4315 - val_loss: 0.3998 - val_mae: 0.4235\n",
            "Epoch 46/200\n",
            "363/363 [==============================] - 1s 3ms/step - loss: 0.3619 - mae: 0.4296 - val_loss: 0.3919 - val_mae: 0.4244\n",
            "Epoch 47/200\n",
            "363/363 [==============================] - 1s 3ms/step - loss: 0.3613 - mae: 0.4296 - val_loss: 0.3973 - val_mae: 0.4229\n",
            "Epoch 48/200\n",
            "363/363 [==============================] - 1s 4ms/step - loss: 0.3605 - mae: 0.4288 - val_loss: 0.4191 - val_mae: 0.4260\n",
            "Epoch 49/200\n",
            "363/363 [==============================] - 1s 4ms/step - loss: 0.3600 - mae: 0.4285 - val_loss: 0.3988 - val_mae: 0.4247\n",
            "Epoch 50/200\n",
            "363/363 [==============================] - 2s 5ms/step - loss: 0.3590 - mae: 0.4279 - val_loss: 0.3806 - val_mae: 0.4202\n",
            "Epoch 51/200\n",
            "363/363 [==============================] - 2s 5ms/step - loss: 0.3582 - mae: 0.4267 - val_loss: 0.4002 - val_mae: 0.4256\n",
            "Epoch 52/200\n",
            "363/363 [==============================] - 1s 4ms/step - loss: 0.3575 - mae: 0.4267 - val_loss: 0.3705 - val_mae: 0.4183\n",
            "Epoch 53/200\n",
            "363/363 [==============================] - 1s 3ms/step - loss: 0.3569 - mae: 0.4261 - val_loss: 0.4058 - val_mae: 0.4213\n",
            "Epoch 54/200\n",
            "363/363 [==============================] - 1s 4ms/step - loss: 0.3560 - mae: 0.4250 - val_loss: 0.3859 - val_mae: 0.4218\n",
            "Epoch 55/200\n",
            "363/363 [==============================] - 1s 4ms/step - loss: 0.3554 - mae: 0.4253 - val_loss: 0.3811 - val_mae: 0.4183\n",
            "Epoch 56/200\n",
            "363/363 [==============================] - 1s 3ms/step - loss: 0.3546 - mae: 0.4243 - val_loss: 0.3829 - val_mae: 0.4195\n",
            "Epoch 57/200\n",
            "363/363 [==============================] - 1s 3ms/step - loss: 0.3539 - mae: 0.4239 - val_loss: 0.3742 - val_mae: 0.4171\n",
            "Epoch 58/200\n",
            "363/363 [==============================] - 1s 3ms/step - loss: 0.3535 - mae: 0.4233 - val_loss: 0.3885 - val_mae: 0.4175\n",
            "Epoch 59/200\n",
            "363/363 [==============================] - 2s 4ms/step - loss: 0.3530 - mae: 0.4230 - val_loss: 0.3974 - val_mae: 0.4185\n",
            "Epoch 60/200\n",
            "363/363 [==============================] - 2s 7ms/step - loss: 0.3523 - mae: 0.4224 - val_loss: 0.3848 - val_mae: 0.4188\n",
            "Epoch 61/200\n",
            "363/363 [==============================] - 2s 5ms/step - loss: 0.3514 - mae: 0.4217 - val_loss: 0.4029 - val_mae: 0.4234\n",
            "Epoch 62/200\n",
            "363/363 [==============================] - 1s 4ms/step - loss: 0.3513 - mae: 0.4220 - val_loss: 0.3829 - val_mae: 0.4169\n"
          ]
        }
      ]
    },
    {
      "cell_type": "code",
      "source": [
        "model = keras.models.load_model(\"early_stop_model.h5\")\n",
        "mse_test = model.evaluate(X_test, y_test)"
      ],
      "metadata": {
        "id": "_wfzR99rQji0",
        "outputId": "a477230e-a78b-4d02-8670-63d388e9fb18",
        "colab": {
          "base_uri": "https://localhost:8080/"
        }
      },
      "execution_count": null,
      "outputs": [
        {
          "output_type": "stream",
          "name": "stdout",
          "text": [
            "162/162 [==============================] - 1s 3ms/step - loss: 0.3587 - mae: 0.4236\n"
          ]
        }
      ]
    },
    {
      "cell_type": "code",
      "source": [],
      "metadata": {
        "id": "uz8ytoqyRGBw"
      },
      "execution_count": null,
      "outputs": []
    }
  ]
}