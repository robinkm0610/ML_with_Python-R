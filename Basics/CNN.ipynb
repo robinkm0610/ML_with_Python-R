{
  "nbformat": 4,
  "nbformat_minor": 0,
  "metadata": {
    "colab": {
      "provenance": [],
      "gpuType": "T4",
      "authorship_tag": "ABX9TyNGptPfq0jIejjljvQI7sTP",
      "include_colab_link": true
    },
    "kernelspec": {
      "name": "python3",
      "display_name": "Python 3"
    },
    "language_info": {
      "name": "python"
    },
    "accelerator": "GPU"
  },
  "cells": [
    {
      "cell_type": "markdown",
      "metadata": {
        "id": "view-in-github",
        "colab_type": "text"
      },
      "source": [
        "<a href=\"https://colab.research.google.com/github/robinkm0610/ML_with_Python-R/blob/main/Basics/CNN.ipynb\" target=\"_parent\"><img src=\"https://colab.research.google.com/assets/colab-badge.svg\" alt=\"Open In Colab\"/></a>"
      ]
    },
    {
      "cell_type": "code",
      "execution_count": null,
      "metadata": {
        "id": "tpQPmJ6mRiW3"
      },
      "outputs": [],
      "source": [
        "import numpy as np\n",
        "import matplotlib.pyplot as plt\n",
        "import pandas as pd\n",
        "import tensorflow as tf\n",
        "import tensorflow.keras as keras"
      ]
    },
    {
      "cell_type": "code",
      "source": [
        "fashion_mnist = keras.datasets.fashion_mnist\n",
        "(X_train_full, y_train_full), (X_test, y_test) = fashion_mnist.load_data()"
      ],
      "metadata": {
        "colab": {
          "base_uri": "https://localhost:8080/"
        },
        "id": "hBKrsEcRNkA6",
        "outputId": "2f1641c6-dac1-4767-d229-7e624fd9a5a1"
      },
      "execution_count": null,
      "outputs": [
        {
          "output_type": "stream",
          "name": "stdout",
          "text": [
            "Downloading data from https://storage.googleapis.com/tensorflow/tf-keras-datasets/train-labels-idx1-ubyte.gz\n",
            "29515/29515 [==============================] - 0s 0us/step\n",
            "Downloading data from https://storage.googleapis.com/tensorflow/tf-keras-datasets/train-images-idx3-ubyte.gz\n",
            "26421880/26421880 [==============================] - 2s 0us/step\n",
            "Downloading data from https://storage.googleapis.com/tensorflow/tf-keras-datasets/t10k-labels-idx1-ubyte.gz\n",
            "5148/5148 [==============================] - 0s 0us/step\n",
            "Downloading data from https://storage.googleapis.com/tensorflow/tf-keras-datasets/t10k-images-idx3-ubyte.gz\n",
            "4422102/4422102 [==============================] - 1s 0us/step\n"
          ]
        }
      ]
    },
    {
      "cell_type": "code",
      "source": [
        "class_names = [\"T-shirt/top\", \"Trouser\", \"Pullover\", \"Dress\", \"Coat\",\n",
        "               \"Sandal\", \"Shirt\", \"Sneaker\", \"Bag\", \"Ankle boot\"]"
      ],
      "metadata": {
        "id": "6kpJwq6kN2ep"
      },
      "execution_count": null,
      "outputs": []
    },
    {
      "cell_type": "code",
      "source": [
        "#Data Reshape\n",
        "X_train_full = X_train_full.reshape((60000, 28, 28, 1))\n",
        "X_test = X_test.reshape((10000, 28, 28, 1))"
      ],
      "metadata": {
        "id": "ZaI9lJLrN9qb"
      },
      "execution_count": null,
      "outputs": []
    },
    {
      "cell_type": "code",
      "source": [
        "#Data normalization\n",
        "X_train_n = X_train_full / 255.0\n",
        "X_test_n = X_test / 255.0"
      ],
      "metadata": {
        "id": "moARJ27sODe3"
      },
      "execution_count": null,
      "outputs": []
    },
    {
      "cell_type": "code",
      "source": [
        "X_valid, X_train = X_train_n[:5000], X_train_n[5000:]\n",
        "y_valid, y_train = y_train_full[:5000], y_train_full[5000:]\n",
        "X_test = X_test_n"
      ],
      "metadata": {
        "id": "1gCzUJ8QOa5M"
      },
      "execution_count": null,
      "outputs": []
    },
    {
      "cell_type": "code",
      "source": [
        "np.random.seed(42)\n",
        "tf.random.set_seed(42)"
      ],
      "metadata": {
        "id": "_VAyMEBhO_2U"
      },
      "execution_count": null,
      "outputs": []
    },
    {
      "cell_type": "code",
      "source": [
        "model = keras.models.Sequential()\n",
        "model.add(keras.layers.Conv2D(32, kernel_size=3, strides=1, padding='valid', activation='relu', input_shape=(28, 28, 1)))\n",
        "model.add(keras.layers.MaxPooling2D(2,2))\n",
        "\n",
        "model.add(keras.layers.Flatten())\n",
        "model.add(keras.layers.Dense(300, activation='relu'))\n",
        "model.add(keras.layers.Dense(100, activation='relu'))\n",
        "model.add(keras.layers.Dense(10, activation='softmax'))"
      ],
      "metadata": {
        "id": "DfFTPhb5PKX-"
      },
      "execution_count": null,
      "outputs": []
    },
    {
      "cell_type": "code",
      "source": [
        "model.summary()"
      ],
      "metadata": {
        "colab": {
          "base_uri": "https://localhost:8080/"
        },
        "id": "SILDnacmQzDz",
        "outputId": "a57b47fd-e452-4c5b-8a30-d1c4b94340c6"
      },
      "execution_count": null,
      "outputs": [
        {
          "output_type": "stream",
          "name": "stdout",
          "text": [
            "Model: \"sequential_1\"\n",
            "_________________________________________________________________\n",
            " Layer (type)                Output Shape              Param #   \n",
            "=================================================================\n",
            " conv2d_1 (Conv2D)           (None, 26, 26, 32)        320       \n",
            "                                                                 \n",
            " max_pooling2d_1 (MaxPoolin  (None, 13, 13, 32)        0         \n",
            " g2D)                                                            \n",
            "                                                                 \n",
            " flatten (Flatten)           (None, 5408)              0         \n",
            "                                                                 \n",
            " dense (Dense)               (None, 300)               1622700   \n",
            "                                                                 \n",
            " dense_1 (Dense)             (None, 100)               30100     \n",
            "                                                                 \n",
            " dense_2 (Dense)             (None, 10)                1010      \n",
            "                                                                 \n",
            "=================================================================\n",
            "Total params: 1654130 (6.31 MB)\n",
            "Trainable params: 1654130 (6.31 MB)\n",
            "Non-trainable params: 0 (0.00 Byte)\n",
            "_________________________________________________________________\n"
          ]
        }
      ]
    },
    {
      "cell_type": "code",
      "source": [
        "model.compile(loss='sparse_categorical_crossentropy', optimizer='sgd', metrics=['accuracy'])"
      ],
      "metadata": {
        "id": "4_HWl_pVRBq4"
      },
      "execution_count": null,
      "outputs": []
    },
    {
      "cell_type": "code",
      "source": [
        "model_history = model.fit(X_train, y_train, epochs=20,batch_size = 64, validation_data=(X_valid, y_valid))"
      ],
      "metadata": {
        "colab": {
          "base_uri": "https://localhost:8080/"
        },
        "id": "gW_tThzxRHGT",
        "outputId": "39f5289f-6b1c-4fbb-a00f-142bb7c2ccf1"
      },
      "execution_count": null,
      "outputs": [
        {
          "output_type": "stream",
          "name": "stdout",
          "text": [
            "Epoch 1/20\n",
            "860/860 [==============================] - 4s 4ms/step - loss: 0.3198 - accuracy: 0.8844 - val_loss: 0.3636 - val_accuracy: 0.8702\n",
            "Epoch 2/20\n",
            "860/860 [==============================] - 3s 4ms/step - loss: 0.3095 - accuracy: 0.8881 - val_loss: 0.3295 - val_accuracy: 0.8814\n",
            "Epoch 3/20\n",
            "860/860 [==============================] - 4s 5ms/step - loss: 0.3018 - accuracy: 0.8897 - val_loss: 0.6158 - val_accuracy: 0.7878\n",
            "Epoch 4/20\n",
            "860/860 [==============================] - 3s 4ms/step - loss: 0.2932 - accuracy: 0.8945 - val_loss: 0.3163 - val_accuracy: 0.8862\n",
            "Epoch 5/20\n",
            "860/860 [==============================] - 3s 4ms/step - loss: 0.2878 - accuracy: 0.8956 - val_loss: 0.2996 - val_accuracy: 0.8912\n",
            "Epoch 6/20\n",
            "860/860 [==============================] - 3s 4ms/step - loss: 0.2785 - accuracy: 0.8990 - val_loss: 0.2931 - val_accuracy: 0.8978\n",
            "Epoch 7/20\n",
            "860/860 [==============================] - 4s 5ms/step - loss: 0.2727 - accuracy: 0.9023 - val_loss: 0.3138 - val_accuracy: 0.8888\n",
            "Epoch 8/20\n",
            "860/860 [==============================] - 3s 4ms/step - loss: 0.2662 - accuracy: 0.9039 - val_loss: 0.3576 - val_accuracy: 0.8712\n",
            "Epoch 9/20\n",
            "860/860 [==============================] - 3s 4ms/step - loss: 0.2609 - accuracy: 0.9045 - val_loss: 0.2953 - val_accuracy: 0.8920\n",
            "Epoch 10/20\n",
            "860/860 [==============================] - 4s 5ms/step - loss: 0.2546 - accuracy: 0.9069 - val_loss: 0.3042 - val_accuracy: 0.8892\n",
            "Epoch 11/20\n",
            "860/860 [==============================] - 4s 4ms/step - loss: 0.2493 - accuracy: 0.9093 - val_loss: 0.2870 - val_accuracy: 0.8958\n",
            "Epoch 12/20\n",
            "860/860 [==============================] - 3s 4ms/step - loss: 0.2436 - accuracy: 0.9118 - val_loss: 0.2743 - val_accuracy: 0.8978\n",
            "Epoch 13/20\n",
            "860/860 [==============================] - 5s 5ms/step - loss: 0.2396 - accuracy: 0.9134 - val_loss: 0.2868 - val_accuracy: 0.8992\n",
            "Epoch 14/20\n",
            "860/860 [==============================] - 4s 4ms/step - loss: 0.2349 - accuracy: 0.9151 - val_loss: 0.3274 - val_accuracy: 0.8800\n",
            "Epoch 15/20\n",
            "860/860 [==============================] - 3s 4ms/step - loss: 0.2292 - accuracy: 0.9172 - val_loss: 0.3183 - val_accuracy: 0.8866\n",
            "Epoch 16/20\n",
            "860/860 [==============================] - 3s 4ms/step - loss: 0.2253 - accuracy: 0.9187 - val_loss: 0.2632 - val_accuracy: 0.9022\n",
            "Epoch 17/20\n",
            "860/860 [==============================] - 4s 5ms/step - loss: 0.2198 - accuracy: 0.9203 - val_loss: 0.3597 - val_accuracy: 0.8772\n",
            "Epoch 18/20\n",
            "860/860 [==============================] - 4s 4ms/step - loss: 0.2169 - accuracy: 0.9205 - val_loss: 0.3320 - val_accuracy: 0.8852\n",
            "Epoch 19/20\n",
            "860/860 [==============================] - 4s 4ms/step - loss: 0.2123 - accuracy: 0.9227 - val_loss: 0.2751 - val_accuracy: 0.9016\n",
            "Epoch 20/20\n",
            "860/860 [==============================] - 4s 4ms/step - loss: 0.2082 - accuracy: 0.9247 - val_loss: 0.2850 - val_accuracy: 0.9018\n"
          ]
        }
      ]
    },
    {
      "cell_type": "code",
      "source": [
        "import pandas as pd\n",
        "\n",
        "pd.DataFrame(model_history.history).plot(figsize=(8, 5))\n",
        "plt.grid(True)\n",
        "plt.gca().set_ylim(0, 1)\n",
        "plt.show()"
      ],
      "metadata": {
        "colab": {
          "base_uri": "https://localhost:8080/",
          "height": 429
        },
        "id": "i7KDDuD2Ri0F",
        "outputId": "9e056f30-0dff-497c-e0de-af5339ecb08c"
      },
      "execution_count": null,
      "outputs": [
        {
          "output_type": "display_data",
          "data": {
            "text/plain": [
              "<Figure size 800x500 with 1 Axes>"
            ],
            "image/png": "[encoded data removed]"
          },
          "metadata": {}
        }
      ]
    },
    {
      "cell_type": "code",
      "source": [
        "ev = model.evaluate(X_test, y_test)"
      ],
      "metadata": {
        "colab": {
          "base_uri": "https://localhost:8080/"
        },
        "id": "SBrBqnHzSV4K",
        "outputId": "8a48b9f2-2404-4a7a-94a0-b778244036b2"
      },
      "execution_count": null,
      "outputs": [
        {
          "output_type": "stream",
          "name": "stdout",
          "text": [
            "313/313 [==============================] - 1s 3ms/step - loss: 0.2960 - accuracy: 0.8942\n"
          ]
        }
      ]
    },
    {
      "cell_type": "code",
      "source": [
        "ev"
      ],
      "metadata": {
        "colab": {
          "base_uri": "https://localhost:8080/"
        },
        "id": "gNtmiympTZSj",
        "outputId": "141a047f-b4da-4674-8837-93504d4266e4"
      },
      "execution_count": null,
      "outputs": [
        {
          "output_type": "execute_result",
          "data": {
            "text/plain": [
              "[0.2960171699523926, 0.8942000269889832]"
            ]
          },
          "metadata": {},
          "execution_count": 18
        }
      ]
    },
    {
      "cell_type": "code",
      "source": [
        "X_new = X_test[:3]\n",
        "y_pred = model.predict(X_new)\n",
        "y_pred"
      ],
      "metadata": {
        "colab": {
          "base_uri": "https://localhost:8080/"
        },
        "id": "bt-Eox3hTeQZ",
        "outputId": "ec061c86-e62e-44c3-e78c-8f62a770c7b4"
      },
      "execution_count": null,
      "outputs": [
        {
          "output_type": "stream",
          "name": "stdout",
          "text": [
            "1/1 [==============================] - 0s 132ms/step\n"
          ]
        },
        {
          "output_type": "execute_result",
          "data": {
            "text/plain": [
              "array([[4.3410259e-05, 7.4337913e-06, 1.5066762e-05, 4.9178097e-06,\n",
              "        6.5218401e-06, 2.6684033e-03, 5.0998378e-06, 2.0565171e-02,\n",
              "        1.2608613e-03, 9.7542316e-01],\n",
              "       [1.0668157e-04, 4.4793529e-09, 9.9840492e-01, 6.1325193e-07,\n",
              "        7.2634738e-04, 7.8142648e-10, 7.6130964e-04, 2.0264387e-11,\n",
              "        2.5250776e-07, 4.8859961e-10],\n",
              "       [6.4159121e-07, 9.9999630e-01, 2.8132467e-09, 1.6295813e-06,\n",
              "        1.3541734e-06, 2.2494526e-10, 9.5790519e-08, 3.2062630e-11,\n",
              "        5.1733934e-10, 1.8041002e-10]], dtype=float32)"
            ]
          },
          "metadata": {},
          "execution_count": 20
        }
      ]
    },
    {
      "cell_type": "code",
      "source": [
        "y_test[:3]"
      ],
      "metadata": {
        "colab": {
          "base_uri": "https://localhost:8080/"
        },
        "id": "IHebksQ3TbQe",
        "outputId": "2ac3a504-5323-4fde-f745-fc12b33a6fd5"
      },
      "execution_count": null,
      "outputs": [
        {
          "output_type": "execute_result",
          "data": {
            "text/plain": [
              "array([9, 2, 1], dtype=uint8)"
            ]
          },
          "metadata": {},
          "execution_count": 21
        }
      ]
    },
    {
      "cell_type": "code",
      "source": [
        "print(plt.imshow(X_new[0].reshape(28,28)))"
      ],
      "metadata": {
        "colab": {
          "base_uri": "https://localhost:8080/",
          "height": 448
        },
        "id": "OnMICtDUTyhM",
        "outputId": "4d5cdbe6-4ed3-4696-ab6c-4047091c1039"
      },
      "execution_count": null,
      "outputs": [
        {
          "output_type": "stream",
          "name": "stdout",
          "text": [
            "AxesImage(size=(28, 28))\n"
          ]
        },
        {
          "output_type": "display_data",
          "data": {
            "text/plain": [
              "<Figure size 640x480 with 1 Axes>"
            ],
            "image/png": "[encoded data removed]"
          },
          "metadata": {}
        }
      ]
    },
    {
      "cell_type": "code",
      "source": [
        "keras.backend.clear_session()"
      ],
      "metadata": {
        "id": "w0uDldmtT6ox"
      },
      "execution_count": null,
      "outputs": []
    },
    {
      "cell_type": "code",
      "source": [
        "del model"
      ],
      "metadata": {
        "id": "WMIPmgxTT-4f"
      },
      "execution_count": null,
      "outputs": []
    },
    {
      "cell_type": "code",
      "source": [
        "model_a = keras.models.Sequential()\n",
        "model_a.add(keras.layers.Conv2D(filters = 32, kernel_size=(3,3), strides=1, padding='valid', activation='relu', input_shape=(28, 28, 1)))\n",
        "model_a.add(keras.layers.MaxPooling2D(2,2))\n",
        "model_a.add(keras.layers.Flatten())\n",
        "model_a.add(keras.layers.Dense(300, activation='relu'))\n",
        "model_a.add(keras.layers.Dense(100, activation='relu'))\n",
        "model_a.add(keras.layers.Dense(10, activation='softmax'))\n",
        "\n",
        "model_b = keras.models.Sequential()\n",
        "model_b.add(keras.layers.Conv2D(filters = 64, kernel_size=(3,3), strides=1, padding='valid', activation='relu', input_shape=(28, 28, 1)))\n",
        "model_b.add(keras.layers.Flatten())\n",
        "model_b.add(keras.layers.Dense(300, activation='relu'))\n",
        "model_b.add(keras.layers.Dense(100, activation='relu'))\n",
        "model_b.add(keras.layers.Dense(10, activation='softmax'))"
      ],
      "metadata": {
        "id": "rdLyHzTdUAwi"
      },
      "execution_count": null,
      "outputs": []
    },
    {
      "cell_type": "code",
      "source": [
        "model_a.compile(loss='sparse_categorical_crossentropy', optimizer='sgd', metrics=['accuracy'])\n",
        "model_b.compile(loss='sparse_categorical_crossentropy', optimizer='sgd', metrics=['accuracy'])"
      ],
      "metadata": {
        "id": "n8EcWu1lYg-p"
      },
      "execution_count": null,
      "outputs": []
    },
    {
      "cell_type": "code",
      "source": [
        "model_a.summary()"
      ],
      "metadata": {
        "colab": {
          "base_uri": "https://localhost:8080/"
        },
        "id": "CaZRloC1YmUt",
        "outputId": "3b41ea3e-06a2-4c74-8363-ee7db3930d34"
      },
      "execution_count": null,
      "outputs": [
        {
          "output_type": "stream",
          "name": "stdout",
          "text": [
            "Model: \"sequential\"\n",
            "_________________________________________________________________\n",
            " Layer (type)                Output Shape              Param #   \n",
            "=================================================================\n",
            " conv2d (Conv2D)             (None, 26, 26, 32)        320       \n",
            "                                                                 \n",
            " max_pooling2d (MaxPooling2  (None, 13, 13, 32)        0         \n",
            " D)                                                              \n",
            "                                                                 \n",
            " flatten (Flatten)           (None, 5408)              0         \n",
            "                                                                 \n",
            " dense (Dense)               (None, 300)               1622700   \n",
            "                                                                 \n",
            " dense_1 (Dense)             (None, 100)               30100     \n",
            "                                                                 \n",
            " dense_2 (Dense)             (None, 10)                1010      \n",
            "                                                                 \n",
            "=================================================================\n",
            "Total params: 1654130 (6.31 MB)\n",
            "Trainable params: 1654130 (6.31 MB)\n",
            "Non-trainable params: 0 (0.00 Byte)\n",
            "_________________________________________________________________\n"
          ]
        }
      ]
    },
    {
      "cell_type": "code",
      "source": [
        "model_b.summary()"
      ],
      "metadata": {
        "colab": {
          "base_uri": "https://localhost:8080/"
        },
        "id": "DhmNf1NPYpXa",
        "outputId": "54a2a539-63b4-4c1f-de12-b64a432b81e7"
      },
      "execution_count": null,
      "outputs": [
        {
          "output_type": "stream",
          "name": "stdout",
          "text": [
            "Model: \"sequential_1\"\n",
            "_________________________________________________________________\n",
            " Layer (type)                Output Shape              Param #   \n",
            "=================================================================\n",
            " conv2d_1 (Conv2D)           (None, 26, 26, 64)        640       \n",
            "                                                                 \n",
            " flatten_1 (Flatten)         (None, 43264)             0         \n",
            "                                                                 \n",
            " dense_3 (Dense)             (None, 300)               12979500  \n",
            "                                                                 \n",
            " dense_4 (Dense)             (None, 100)               30100     \n",
            "                                                                 \n",
            " dense_5 (Dense)             (None, 10)                1010      \n",
            "                                                                 \n",
            "=================================================================\n",
            "Total params: 13011250 (49.63 MB)\n",
            "Trainable params: 13011250 (49.63 MB)\n",
            "Non-trainable params: 0 (0.00 Byte)\n",
            "_________________________________________________________________\n"
          ]
        }
      ]
    },
    {
      "cell_type": "code",
      "source": [
        "model_history_a = model_a.fit(X_train, y_train, epochs=20,batch_size = 64, validation_data=(X_valid, y_valid))"
      ],
      "metadata": {
        "colab": {
          "base_uri": "https://localhost:8080/"
        },
        "id": "d_MDZxBuY5ix",
        "outputId": "32679543-71b6-4c0c-9e22-963cfeb51f34"
      },
      "execution_count": null,
      "outputs": [
        {
          "output_type": "stream",
          "name": "stdout",
          "text": [
            "Epoch 1/20\n",
            "860/860 [==============================] - 5s 4ms/step - loss: 0.8550 - accuracy: 0.7017 - val_loss: 0.7421 - val_accuracy: 0.7376\n",
            "Epoch 2/20\n",
            "860/860 [==============================] - 3s 4ms/step - loss: 0.5341 - accuracy: 0.8057 - val_loss: 0.4894 - val_accuracy: 0.8158\n",
            "Epoch 3/20\n",
            "860/860 [==============================] - 3s 4ms/step - loss: 0.4793 - accuracy: 0.8264 - val_loss: 0.9895 - val_accuracy: 0.6946\n",
            "Epoch 4/20\n",
            "860/860 [==============================] - 4s 5ms/step - loss: 0.4415 - accuracy: 0.8432 - val_loss: 0.4054 - val_accuracy: 0.8616\n",
            "Epoch 5/20\n",
            "860/860 [==============================] - 3s 4ms/step - loss: 0.4167 - accuracy: 0.8506 - val_loss: 0.4238 - val_accuracy: 0.8524\n",
            "Epoch 6/20\n",
            "860/860 [==============================] - 3s 4ms/step - loss: 0.3924 - accuracy: 0.8598 - val_loss: 0.3657 - val_accuracy: 0.8734\n",
            "Epoch 7/20\n",
            "860/860 [==============================] - 3s 4ms/step - loss: 0.3747 - accuracy: 0.8667 - val_loss: 0.4117 - val_accuracy: 0.8580\n",
            "Epoch 8/20\n",
            "860/860 [==============================] - 4s 5ms/step - loss: 0.3598 - accuracy: 0.8716 - val_loss: 0.4986 - val_accuracy: 0.8204\n",
            "Epoch 9/20\n",
            "860/860 [==============================] - 4s 5ms/step - loss: 0.3462 - accuracy: 0.8739 - val_loss: 0.3747 - val_accuracy: 0.8650\n",
            "Epoch 10/20\n",
            "860/860 [==============================] - 5s 6ms/step - loss: 0.3347 - accuracy: 0.8793 - val_loss: 0.3864 - val_accuracy: 0.8584\n",
            "Epoch 11/20\n",
            "860/860 [==============================] - 5s 6ms/step - loss: 0.3228 - accuracy: 0.8822 - val_loss: 0.3357 - val_accuracy: 0.8772\n",
            "Epoch 12/20\n",
            "860/860 [==============================] - 3s 4ms/step - loss: 0.3126 - accuracy: 0.8866 - val_loss: 0.3297 - val_accuracy: 0.8826\n",
            "Epoch 13/20\n",
            "860/860 [==============================] - 4s 5ms/step - loss: 0.3057 - accuracy: 0.8889 - val_loss: 0.3301 - val_accuracy: 0.8846\n",
            "Epoch 14/20\n",
            "860/860 [==============================] - 4s 5ms/step - loss: 0.2968 - accuracy: 0.8920 - val_loss: 0.3992 - val_accuracy: 0.8484\n",
            "Epoch 15/20\n",
            "860/860 [==============================] - 3s 4ms/step - loss: 0.2894 - accuracy: 0.8947 - val_loss: 0.3899 - val_accuracy: 0.8592\n",
            "Epoch 16/20\n",
            "860/860 [==============================] - 3s 4ms/step - loss: 0.2838 - accuracy: 0.8972 - val_loss: 0.2957 - val_accuracy: 0.8932\n",
            "Epoch 17/20\n",
            "860/860 [==============================] - 4s 5ms/step - loss: 0.2765 - accuracy: 0.8996 - val_loss: 0.3768 - val_accuracy: 0.8678\n",
            "Epoch 18/20\n",
            "860/860 [==============================] - 3s 4ms/step - loss: 0.2709 - accuracy: 0.9008 - val_loss: 0.3382 - val_accuracy: 0.8808\n",
            "Epoch 19/20\n",
            "860/860 [==============================] - 4s 5ms/step - loss: 0.2647 - accuracy: 0.9040 - val_loss: 0.3072 - val_accuracy: 0.8874\n",
            "Epoch 20/20\n",
            "860/860 [==============================] - 3s 4ms/step - loss: 0.2597 - accuracy: 0.9050 - val_loss: 0.3179 - val_accuracy: 0.8852\n"
          ]
        }
      ]
    },
    {
      "cell_type": "code",
      "source": [
        "model_history_b = model_b.fit(X_train, y_train, epochs=20,batch_size = 64, validation_data=(X_valid, y_valid))"
      ],
      "metadata": {
        "colab": {
          "base_uri": "https://localhost:8080/"
        },
        "id": "bZPSH17xY2GU",
        "outputId": "53aa2afa-8b9d-44ca-f45c-4aa27b4335d1"
      },
      "execution_count": null,
      "outputs": [
        {
          "output_type": "stream",
          "name": "stdout",
          "text": [
            "Epoch 1/20\n",
            "860/860 [==============================] - 7s 7ms/step - loss: 0.7113 - accuracy: 0.7519 - val_loss: 0.6899 - val_accuracy: 0.7522\n",
            "Epoch 2/20\n",
            "860/860 [==============================] - 6s 6ms/step - loss: 0.4836 - accuracy: 0.8251 - val_loss: 0.4760 - val_accuracy: 0.8132\n",
            "Epoch 3/20\n",
            "860/860 [==============================] - 5s 6ms/step - loss: 0.4347 - accuracy: 0.8423 - val_loss: 0.9714 - val_accuracy: 0.6984\n",
            "Epoch 4/20\n",
            "860/860 [==============================] - 5s 6ms/step - loss: 0.4051 - accuracy: 0.8541 - val_loss: 0.3890 - val_accuracy: 0.8634\n",
            "Epoch 5/20\n",
            "860/860 [==============================] - 6s 7ms/step - loss: 0.3855 - accuracy: 0.8612 - val_loss: 0.3817 - val_accuracy: 0.8626\n",
            "Epoch 6/20\n",
            "860/860 [==============================] - 5s 6ms/step - loss: 0.3657 - accuracy: 0.8664 - val_loss: 0.3576 - val_accuracy: 0.8736\n",
            "Epoch 7/20\n",
            "860/860 [==============================] - 6s 7ms/step - loss: 0.3518 - accuracy: 0.8716 - val_loss: 0.3812 - val_accuracy: 0.8662\n",
            "Epoch 8/20\n",
            "860/860 [==============================] - 5s 6ms/step - loss: 0.3394 - accuracy: 0.8770 - val_loss: 0.4253 - val_accuracy: 0.8404\n",
            "Epoch 9/20\n",
            "860/860 [==============================] - 6s 7ms/step - loss: 0.3285 - accuracy: 0.8798 - val_loss: 0.3687 - val_accuracy: 0.8606\n",
            "Epoch 10/20\n",
            "860/860 [==============================] - 5s 6ms/step - loss: 0.3192 - accuracy: 0.8833 - val_loss: 0.3783 - val_accuracy: 0.8580\n",
            "Epoch 11/20\n",
            "860/860 [==============================] - 6s 6ms/step - loss: 0.3087 - accuracy: 0.8870 - val_loss: 0.3351 - val_accuracy: 0.8786\n",
            "Epoch 12/20\n",
            "860/860 [==============================] - 5s 6ms/step - loss: 0.2991 - accuracy: 0.8904 - val_loss: 0.3242 - val_accuracy: 0.8836\n",
            "Epoch 13/20\n",
            "860/860 [==============================] - 5s 6ms/step - loss: 0.2924 - accuracy: 0.8924 - val_loss: 0.3272 - val_accuracy: 0.8860\n",
            "Epoch 14/20\n",
            "860/860 [==============================] - 6s 7ms/step - loss: 0.2852 - accuracy: 0.8951 - val_loss: 0.3763 - val_accuracy: 0.8594\n",
            "Epoch 15/20\n",
            "860/860 [==============================] - 5s 6ms/step - loss: 0.2773 - accuracy: 0.8976 - val_loss: 0.3463 - val_accuracy: 0.8726\n",
            "Epoch 16/20\n",
            "860/860 [==============================] - 6s 7ms/step - loss: 0.2717 - accuracy: 0.9008 - val_loss: 0.2939 - val_accuracy: 0.8904\n",
            "Epoch 17/20\n",
            "860/860 [==============================] - 5s 6ms/step - loss: 0.2635 - accuracy: 0.9037 - val_loss: 0.3685 - val_accuracy: 0.8682\n",
            "Epoch 18/20\n",
            "860/860 [==============================] - 6s 7ms/step - loss: 0.2576 - accuracy: 0.9049 - val_loss: 0.3261 - val_accuracy: 0.8838\n",
            "Epoch 19/20\n",
            "860/860 [==============================] - 5s 6ms/step - loss: 0.2520 - accuracy: 0.9070 - val_loss: 0.3016 - val_accuracy: 0.8912\n",
            "Epoch 20/20\n",
            "860/860 [==============================] - 6s 6ms/step - loss: 0.2456 - accuracy: 0.9097 - val_loss: 0.3175 - val_accuracy: 0.8846\n"
          ]
        }
      ]
    },
    {
      "cell_type": "code",
      "source": [
        "model_history_a.history"
      ],
      "metadata": {
        "colab": {
          "base_uri": "https://localhost:8080/"
        },
        "id": "HBzL0MBcZJBv",
        "outputId": "2ea600c2-70d1-436a-d07c-11eb73e25681"
      },
      "execution_count": null,
      "outputs": [
        {
          "output_type": "execute_result",
          "data": {
            "text/plain": [
              "{'loss': [0.8550171852111816,\n",
              "  0.5340949296951294,\n",
              "  0.47925451397895813,\n",
              "  0.4415024220943451,\n",
              "  0.4167311191558838,\n",
              "  0.39236533641815186,\n",
              "  0.3747188150882721,\n",
              "  0.35975906252861023,\n",
              "  0.34620341658592224,\n",
              "  0.3347194194793701,\n",
              "  0.3228054344654083,\n",
              "  0.3125780522823334,\n",
              "  0.3057144582271576,\n",
              "  0.2968098819255829,\n",
              "  0.28943920135498047,\n",
              "  0.28375256061553955,\n",
              "  0.27652478218078613,\n",
              "  0.27091774344444275,\n",
              "  0.26472997665405273,\n",
              "  0.2596780061721802],\n",
              " 'accuracy': [0.7016909122467041,\n",
              "  0.8056908845901489,\n",
              "  0.8264363408088684,\n",
              "  0.8431817889213562,\n",
              "  0.8506181836128235,\n",
              "  0.859781801700592,\n",
              "  0.8666727542877197,\n",
              "  0.8716182112693787,\n",
              "  0.8739091157913208,\n",
              "  0.8792726993560791,\n",
              "  0.8822363615036011,\n",
              "  0.8865636587142944,\n",
              "  0.8889272809028625,\n",
              "  0.89201819896698,\n",
              "  0.8946545720100403,\n",
              "  0.8972363471984863,\n",
              "  0.8996182084083557,\n",
              "  0.9007999897003174,\n",
              "  0.9039999842643738,\n",
              "  0.9050182104110718],\n",
              " 'val_loss': [0.7420786619186401,\n",
              "  0.48936727643013,\n",
              "  0.9895431399345398,\n",
              "  0.40541139245033264,\n",
              "  0.4237944781780243,\n",
              "  0.36568397283554077,\n",
              "  0.4116750955581665,\n",
              "  0.49859970808029175,\n",
              "  0.3746940791606903,\n",
              "  0.38639402389526367,\n",
              "  0.33574026823043823,\n",
              "  0.3297294080257416,\n",
              "  0.33006805181503296,\n",
              "  0.3991917073726654,\n",
              "  0.3898795545101166,\n",
              "  0.29568761587142944,\n",
              "  0.3768004775047302,\n",
              "  0.33820289373397827,\n",
              "  0.30723482370376587,\n",
              "  0.31787386536598206],\n",
              " 'val_accuracy': [0.7376000285148621,\n",
              "  0.8158000111579895,\n",
              "  0.694599986076355,\n",
              "  0.8615999817848206,\n",
              "  0.852400004863739,\n",
              "  0.8733999729156494,\n",
              "  0.8579999804496765,\n",
              "  0.8203999996185303,\n",
              "  0.8650000095367432,\n",
              "  0.8583999872207642,\n",
              "  0.8772000074386597,\n",
              "  0.8826000094413757,\n",
              "  0.8845999836921692,\n",
              "  0.8483999967575073,\n",
              "  0.8592000007629395,\n",
              "  0.8931999802589417,\n",
              "  0.8677999973297119,\n",
              "  0.8808000087738037,\n",
              "  0.8873999714851379,\n",
              "  0.885200023651123]}"
            ]
          },
          "metadata": {},
          "execution_count": 31
        }
      ]
    },
    {
      "cell_type": "code",
      "source": [
        "model_history_b.history"
      ],
      "metadata": {
        "colab": {
          "base_uri": "https://localhost:8080/"
        },
        "id": "FQOf9ZBmZxpo",
        "outputId": "49ed673d-a00d-400c-b9d2-fdbde9e49fc8"
      },
      "execution_count": null,
      "outputs": [
        {
          "output_type": "execute_result",
          "data": {
            "text/plain": [
              "{'loss': [0.7113305330276489,\n",
              "  0.48355013132095337,\n",
              "  0.43473100662231445,\n",
              "  0.4051242470741272,\n",
              "  0.38545653223991394,\n",
              "  0.3657003343105316,\n",
              "  0.3517710566520691,\n",
              "  0.33939769864082336,\n",
              "  0.32850873470306396,\n",
              "  0.3191726505756378,\n",
              "  0.308694988489151,\n",
              "  0.2991127371788025,\n",
              "  0.2924363613128662,\n",
              "  0.2852461040019989,\n",
              "  0.27728593349456787,\n",
              "  0.27168986201286316,\n",
              "  0.2635093927383423,\n",
              "  0.2576046288013458,\n",
              "  0.2520011067390442,\n",
              "  0.2455509603023529],\n",
              " 'accuracy': [0.7518908977508545,\n",
              "  0.8251454830169678,\n",
              "  0.8423454761505127,\n",
              "  0.8540909290313721,\n",
              "  0.8611999750137329,\n",
              "  0.8663636445999146,\n",
              "  0.8716182112693787,\n",
              "  0.8769999742507935,\n",
              "  0.8797818422317505,\n",
              "  0.8832908868789673,\n",
              "  0.8870000243186951,\n",
              "  0.8903636336326599,\n",
              "  0.8923636078834534,\n",
              "  0.8951454758644104,\n",
              "  0.897599995136261,\n",
              "  0.9008363485336304,\n",
              "  0.9036545157432556,\n",
              "  0.9048908948898315,\n",
              "  0.9070000052452087,\n",
              "  0.9096545577049255],\n",
              " 'val_loss': [0.6899253129959106,\n",
              "  0.476028710603714,\n",
              "  0.9713773727416992,\n",
              "  0.3890325129032135,\n",
              "  0.3817063570022583,\n",
              "  0.35756704211235046,\n",
              "  0.3811902403831482,\n",
              "  0.4252515733242035,\n",
              "  0.3686589300632477,\n",
              "  0.378317654132843,\n",
              "  0.3351440131664276,\n",
              "  0.32422935962677,\n",
              "  0.3271678388118744,\n",
              "  0.376324862241745,\n",
              "  0.3463107645511627,\n",
              "  0.29391902685165405,\n",
              "  0.3685149550437927,\n",
              "  0.3261292278766632,\n",
              "  0.30162662267684937,\n",
              "  0.3174828588962555],\n",
              " 'val_accuracy': [0.7522000074386597,\n",
              "  0.8131999969482422,\n",
              "  0.6984000205993652,\n",
              "  0.8633999824523926,\n",
              "  0.8626000285148621,\n",
              "  0.8736000061035156,\n",
              "  0.8661999702453613,\n",
              "  0.840399980545044,\n",
              "  0.8605999946594238,\n",
              "  0.8579999804496765,\n",
              "  0.878600001335144,\n",
              "  0.8835999965667725,\n",
              "  0.8859999775886536,\n",
              "  0.8593999743461609,\n",
              "  0.8726000189781189,\n",
              "  0.8903999924659729,\n",
              "  0.8682000041007996,\n",
              "  0.8838000297546387,\n",
              "  0.8912000060081482,\n",
              "  0.8845999836921692]}"
            ]
          },
          "metadata": {},
          "execution_count": 32
        }
      ]
    },
    {
      "cell_type": "markdown",
      "source": [
        "#Dog Cat Classification"
      ],
      "metadata": {
        "id": "lU8F1MXbr5Gs"
      }
    },
    {
      "cell_type": "code",
      "source": [
        "import pandas as pd\n",
        "import numpy as np\n",
        "import matplotlib.pyplot as plt\n",
        "import tensorflow as tf\n",
        "import tensorflow.keras as keras\n",
        "import os"
      ],
      "metadata": {
        "id": "A8cRBhQAZ1H7"
      },
      "execution_count": null,
      "outputs": []
    },
    {
      "cell_type": "code",
      "source": [],
      "metadata": {
        "id": "7-Q5lcyRsM-j"
      },
      "execution_count": null,
      "outputs": []
    },
    {
      "cell_type": "code",
      "source": [
        "from google.colab import drive\n",
        "drive.mount('/content/drive')"
      ],
      "metadata": {
        "id": "HZpjDNwQsvtt"
      },
      "execution_count": null,
      "outputs": []
    }
  ]
}