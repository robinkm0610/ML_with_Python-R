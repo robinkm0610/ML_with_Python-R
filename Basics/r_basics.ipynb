{
  "nbformat": 4,
  "nbformat_minor": 0,
  "metadata": {
    "colab": {
      "provenance": [],
      "authorship_tag": "ABX9TyOAYzv34lb28riR9orSB6gu",
      "include_colab_link": true
    },
    "kernelspec": {
      "name": "ir",
      "display_name": "R"
    },
    "language_info": {
      "name": "R"
    }
  },
  "cells": [
    {
      "cell_type": "markdown",
      "metadata": {
        "id": "view-in-github",
        "colab_type": "text"
      },
      "source": [
        "<a href=\"https://colab.research.google.com/github/robinkm0610/ML_with_Python-R/blob/main/Basics/r_basics.ipynb\" target=\"_parent\"><img src=\"https://colab.research.google.com/assets/colab-badge.svg\" alt=\"Open In Colab\"/></a>"
      ]
    },
    {
      "cell_type": "code",
      "execution_count": 1,
      "metadata": {
        "colab": {
          "base_uri": "https://localhost:8080/",
          "height": 34
        },
        "id": "Gpt_Hgg0HDTE",
        "outputId": "3bf721dd-c2e6-44d0-9b79-9c8a4f7c1ce2"
      },
      "outputs": [
        {
          "output_type": "display_data",
          "data": {
            "text/html": [
              "7"
            ],
            "text/markdown": "7",
            "text/latex": "7",
            "text/plain": [
              "[1] 7"
            ]
          },
          "metadata": {}
        }
      ],
      "source": [
        "2+5"
      ]
    },
    {
      "cell_type": "code",
      "source": [
        "print(\"Hello World\")"
      ],
      "metadata": {
        "colab": {
          "base_uri": "https://localhost:8080/"
        },
        "id": "h-tof6EeJNKz",
        "outputId": "4235778f-1669-4c1a-b36f-24bf6560456f"
      },
      "execution_count": 2,
      "outputs": [
        {
          "output_type": "stream",
          "name": "stdout",
          "text": [
            "[1] \"Hello World\"\n"
          ]
        }
      ]
    },
    {
      "cell_type": "code",
      "source": [
        "x <-2\n",
        "x"
      ],
      "metadata": {
        "colab": {
          "base_uri": "https://localhost:8080/",
          "height": 34
        },
        "id": "YfsruailMucx",
        "outputId": "fb36accf-f294-4c2e-9a33-00fcc752baa9"
      },
      "execution_count": 5,
      "outputs": [
        {
          "output_type": "display_data",
          "data": {
            "text/html": [
              "2"
            ],
            "text/markdown": "2",
            "text/latex": "2",
            "text/plain": [
              "[1] 2"
            ]
          },
          "metadata": {}
        }
      ]
    },
    {
      "cell_type": "code",
      "source": [
        "y <-c(1,2,3,4,5)\n",
        "y"
      ],
      "metadata": {
        "colab": {
          "base_uri": "https://localhost:8080/",
          "height": 34
        },
        "id": "ZayVxsHaMxLS",
        "outputId": "0b55f6d4-0a26-46cd-aa08-5b96672c4093"
      },
      "execution_count": 7,
      "outputs": [
        {
          "output_type": "display_data",
          "data": {
            "text/html": [
              "<style>\n",
              ".list-inline {list-style: none; margin:0; padding: 0}\n",
              ".list-inline>li {display: inline-block}\n",
              ".list-inline>li:not(:last-child)::after {content: \"\\00b7\"; padding: 0 .5ex}\n",
              "</style>\n",
              "<ol class=list-inline><li>1</li><li>2</li><li>3</li><li>4</li><li>5</li></ol>\n"
            ],
            "text/markdown": "1. 1\n2. 2\n3. 3\n4. 4\n5. 5\n\n\n",
            "text/latex": "\\begin{enumerate*}\n\\item 1\n\\item 2\n\\item 3\n\\item 4\n\\item 5\n\\end{enumerate*}\n",
            "text/plain": [
              "[1] 1 2 3 4 5"
            ]
          },
          "metadata": {}
        }
      ]
    },
    {
      "cell_type": "code",
      "source": [
        "y <- 1:10\n",
        "y"
      ],
      "metadata": {
        "colab": {
          "base_uri": "https://localhost:8080/",
          "height": 34
        },
        "id": "_Wjd1og2MyjC",
        "outputId": "f20fd753-a68a-4773-dd23-298b42483258"
      },
      "execution_count": 10,
      "outputs": [
        {
          "output_type": "display_data",
          "data": {
            "text/html": [
              "<style>\n",
              ".list-inline {list-style: none; margin:0; padding: 0}\n",
              ".list-inline>li {display: inline-block}\n",
              ".list-inline>li:not(:last-child)::after {content: \"\\00b7\"; padding: 0 .5ex}\n",
              "</style>\n",
              "<ol class=list-inline><li>1</li><li>2</li><li>3</li><li>4</li><li>5</li><li>6</li><li>7</li><li>8</li><li>9</li><li>10</li></ol>\n"
            ],
            "text/markdown": "1. 1\n2. 2\n3. 3\n4. 4\n5. 5\n6. 6\n7. 7\n8. 8\n9. 9\n10. 10\n\n\n",
            "text/latex": "\\begin{enumerate*}\n\\item 1\n\\item 2\n\\item 3\n\\item 4\n\\item 5\n\\item 6\n\\item 7\n\\item 8\n\\item 9\n\\item 10\n\\end{enumerate*}\n",
            "text/plain": [
              " [1]  1  2  3  4  5  6  7  8  9 10"
            ]
          },
          "metadata": {}
        }
      ]
    },
    {
      "cell_type": "code",
      "source": [
        "x <-y <- 1:10\n",
        "print(x)\n",
        "print(y)"
      ],
      "metadata": {
        "colab": {
          "base_uri": "https://localhost:8080/"
        },
        "id": "oh1PQ6r1NEpJ",
        "outputId": "63d0f333-8d82-4eb9-d26c-9fd7dcab3ffa"
      },
      "execution_count": 11,
      "outputs": [
        {
          "output_type": "stream",
          "name": "stdout",
          "text": [
            " [1]  1  2  3  4  5  6  7  8  9 10\n",
            " [1]  1  2  3  4  5  6  7  8  9 10\n"
          ]
        }
      ]
    },
    {
      "cell_type": "code",
      "source": [
        "z <- x+y\n",
        "z"
      ],
      "metadata": {
        "colab": {
          "base_uri": "https://localhost:8080/",
          "height": 34
        },
        "id": "qUvXY55jNZtI",
        "outputId": "50557654-fb1d-4f53-d47a-adc787a8cf78"
      },
      "execution_count": 12,
      "outputs": [
        {
          "output_type": "display_data",
          "data": {
            "text/html": [
              "<style>\n",
              ".list-inline {list-style: none; margin:0; padding: 0}\n",
              ".list-inline>li {display: inline-block}\n",
              ".list-inline>li:not(:last-child)::after {content: \"\\00b7\"; padding: 0 .5ex}\n",
              "</style>\n",
              "<ol class=list-inline><li>2</li><li>4</li><li>6</li><li>8</li><li>10</li><li>12</li><li>14</li><li>16</li><li>18</li><li>20</li></ol>\n"
            ],
            "text/markdown": "1. 2\n2. 4\n3. 6\n4. 8\n5. 10\n6. 12\n7. 14\n8. 16\n9. 18\n10. 20\n\n\n",
            "text/latex": "\\begin{enumerate*}\n\\item 2\n\\item 4\n\\item 6\n\\item 8\n\\item 10\n\\item 12\n\\item 14\n\\item 16\n\\item 18\n\\item 20\n\\end{enumerate*}\n",
            "text/plain": [
              " [1]  2  4  6  8 10 12 14 16 18 20"
            ]
          },
          "metadata": {}
        }
      ]
    },
    {
      "cell_type": "code",
      "source": [
        "z1 <- x*y\n",
        "z1"
      ],
      "metadata": {
        "colab": {
          "base_uri": "https://localhost:8080/",
          "height": 34
        },
        "id": "oOKzyyWpNeyB",
        "outputId": "f5aa8f4f-8264-465e-81d6-90eec6fe1664"
      },
      "execution_count": 13,
      "outputs": [
        {
          "output_type": "display_data",
          "data": {
            "text/html": [
              "<style>\n",
              ".list-inline {list-style: none; margin:0; padding: 0}\n",
              ".list-inline>li {display: inline-block}\n",
              ".list-inline>li:not(:last-child)::after {content: \"\\00b7\"; padding: 0 .5ex}\n",
              "</style>\n",
              "<ol class=list-inline><li>1</li><li>4</li><li>9</li><li>16</li><li>25</li><li>36</li><li>49</li><li>64</li><li>81</li><li>100</li></ol>\n"
            ],
            "text/markdown": "1. 1\n2. 4\n3. 9\n4. 16\n5. 25\n6. 36\n7. 49\n8. 64\n9. 81\n10. 100\n\n\n",
            "text/latex": "\\begin{enumerate*}\n\\item 1\n\\item 4\n\\item 9\n\\item 16\n\\item 25\n\\item 36\n\\item 49\n\\item 64\n\\item 81\n\\item 100\n\\end{enumerate*}\n",
            "text/plain": [
              " [1]   1   4   9  16  25  36  49  64  81 100"
            ]
          },
          "metadata": {}
        }
      ]
    },
    {
      "cell_type": "code",
      "source": [
        "rm (x)"
      ],
      "metadata": {
        "id": "ZcmoyQFWNlKe"
      },
      "execution_count": 14,
      "outputs": []
    },
    {
      "cell_type": "code",
      "source": [
        "x"
      ],
      "metadata": {
        "colab": {
          "base_uri": "https://localhost:8080/",
          "height": 73
        },
        "id": "ILXS8fclNufj",
        "outputId": "22a728c7-865c-4bbe-fe1d-b483dcb44e6c"
      },
      "execution_count": 15,
      "outputs": [
        {
          "output_type": "error",
          "ename": "ERROR",
          "evalue": "Error in eval(expr, envir, enclos): object 'x' not found\n",
          "traceback": [
            "Error in eval(expr, envir, enclos): object 'x' not found\nTraceback:\n"
          ]
        }
      ]
    },
    {
      "cell_type": "code",
      "source": [
        "y"
      ],
      "metadata": {
        "colab": {
          "base_uri": "https://localhost:8080/",
          "height": 34
        },
        "id": "oxm8KxAsNvbt",
        "outputId": "7a0fc0d9-db27-4a92-8e24-c62a258d95d4"
      },
      "execution_count": 16,
      "outputs": [
        {
          "output_type": "display_data",
          "data": {
            "text/html": [
              "<style>\n",
              ".list-inline {list-style: none; margin:0; padding: 0}\n",
              ".list-inline>li {display: inline-block}\n",
              ".list-inline>li:not(:last-child)::after {content: \"\\00b7\"; padding: 0 .5ex}\n",
              "</style>\n",
              "<ol class=list-inline><li>1</li><li>2</li><li>3</li><li>4</li><li>5</li><li>6</li><li>7</li><li>8</li><li>9</li><li>10</li></ol>\n"
            ],
            "text/markdown": "1. 1\n2. 2\n3. 3\n4. 4\n5. 5\n6. 6\n7. 7\n8. 8\n9. 9\n10. 10\n\n\n",
            "text/latex": "\\begin{enumerate*}\n\\item 1\n\\item 2\n\\item 3\n\\item 4\n\\item 5\n\\item 6\n\\item 7\n\\item 8\n\\item 9\n\\item 10\n\\end{enumerate*}\n",
            "text/plain": [
              " [1]  1  2  3  4  5  6  7  8  9 10"
            ]
          },
          "metadata": {}
        }
      ]
    },
    {
      "cell_type": "markdown",
      "source": [
        "packages in R"
      ],
      "metadata": {
        "id": "55wWXbLGN1ic"
      }
    },
    {
      "cell_type": "code",
      "source": [
        "install.packages(\"LiblineaR\")"
      ],
      "metadata": {
        "colab": {
          "base_uri": "https://localhost:8080/"
        },
        "id": "3Fkuo-IwNxkz",
        "outputId": "d7b8eba6-1be7-4320-ac50-4ee3c422db91"
      },
      "execution_count": 17,
      "outputs": [
        {
          "output_type": "stream",
          "name": "stderr",
          "text": [
            "Installing package into ‘/usr/local/lib/R/site-library’\n",
            "(as ‘lib’ is unspecified)\n",
            "\n"
          ]
        }
      ]
    },
    {
      "cell_type": "code",
      "source": [
        "library()"
      ],
      "metadata": {
        "id": "uzwzzatvOskl"
      },
      "execution_count": 18,
      "outputs": []
    },
    {
      "cell_type": "code",
      "source": [
        "search() #loaded packages"
      ],
      "metadata": {
        "colab": {
          "base_uri": "https://localhost:8080/",
          "height": 52
        },
        "id": "rjzyig-dOxc9",
        "outputId": "1768244c-7d41-4a3a-d0ce-ac08f1db49ef"
      },
      "execution_count": 20,
      "outputs": [
        {
          "output_type": "display_data",
          "data": {
            "text/html": [
              "<style>\n",
              ".list-inline {list-style: none; margin:0; padding: 0}\n",
              ".list-inline>li {display: inline-block}\n",
              ".list-inline>li:not(:last-child)::after {content: \"\\00b7\"; padding: 0 .5ex}\n",
              "</style>\n",
              "<ol class=list-inline><li>'.GlobalEnv'</li><li>'jupyter:irkernel'</li><li>'package:stats'</li><li>'package:graphics'</li><li>'package:grDevices'</li><li>'package:utils'</li><li>'package:datasets'</li><li>'package:methods'</li><li>'Autoloads'</li><li>'package:base'</li></ol>\n"
            ],
            "text/markdown": "1. '.GlobalEnv'\n2. 'jupyter:irkernel'\n3. 'package:stats'\n4. 'package:graphics'\n5. 'package:grDevices'\n6. 'package:utils'\n7. 'package:datasets'\n8. 'package:methods'\n9. 'Autoloads'\n10. 'package:base'\n\n\n",
            "text/latex": "\\begin{enumerate*}\n\\item '.GlobalEnv'\n\\item 'jupyter:irkernel'\n\\item 'package:stats'\n\\item 'package:graphics'\n\\item 'package:grDevices'\n\\item 'package:utils'\n\\item 'package:datasets'\n\\item 'package:methods'\n\\item 'Autoloads'\n\\item 'package:base'\n\\end{enumerate*}\n",
            "text/plain": [
              " [1] \".GlobalEnv\"        \"jupyter:irkernel\"  \"package:stats\"    \n",
              " [4] \"package:graphics\"  \"package:grDevices\" \"package:utils\"    \n",
              " [7] \"package:datasets\"  \"package:methods\"   \"Autoloads\"        \n",
              "[10] \"package:base\"     "
            ]
          },
          "metadata": {}
        }
      ]
    },
    {
      "cell_type": "code",
      "source": [
        "require(\"LiblineaR\")"
      ],
      "metadata": {
        "colab": {
          "base_uri": "https://localhost:8080/"
        },
        "id": "Ujlh8n1hPEJN",
        "outputId": "bb6b91a1-b41a-42a9-e7de-a6ee4e45d0e9"
      },
      "execution_count": 21,
      "outputs": [
        {
          "output_type": "stream",
          "name": "stderr",
          "text": [
            "Loading required package: LiblineaR\n",
            "\n"
          ]
        }
      ]
    },
    {
      "cell_type": "code",
      "source": [
        "search()"
      ],
      "metadata": {
        "colab": {
          "base_uri": "https://localhost:8080/",
          "height": 52
        },
        "id": "AO-DV6CxPRJv",
        "outputId": "04df1fbd-853b-4750-e3ab-6392acb0c93d"
      },
      "execution_count": 22,
      "outputs": [
        {
          "output_type": "display_data",
          "data": {
            "text/html": [
              "<style>\n",
              ".list-inline {list-style: none; margin:0; padding: 0}\n",
              ".list-inline>li {display: inline-block}\n",
              ".list-inline>li:not(:last-child)::after {content: \"\\00b7\"; padding: 0 .5ex}\n",
              "</style>\n",
              "<ol class=list-inline><li>'.GlobalEnv'</li><li>'package:LiblineaR'</li><li>'jupyter:irkernel'</li><li>'package:stats'</li><li>'package:graphics'</li><li>'package:grDevices'</li><li>'package:utils'</li><li>'package:datasets'</li><li>'package:methods'</li><li>'Autoloads'</li><li>'package:base'</li></ol>\n"
            ],
            "text/markdown": "1. '.GlobalEnv'\n2. 'package:LiblineaR'\n3. 'jupyter:irkernel'\n4. 'package:stats'\n5. 'package:graphics'\n6. 'package:grDevices'\n7. 'package:utils'\n8. 'package:datasets'\n9. 'package:methods'\n10. 'Autoloads'\n11. 'package:base'\n\n\n",
            "text/latex": "\\begin{enumerate*}\n\\item '.GlobalEnv'\n\\item 'package:LiblineaR'\n\\item 'jupyter:irkernel'\n\\item 'package:stats'\n\\item 'package:graphics'\n\\item 'package:grDevices'\n\\item 'package:utils'\n\\item 'package:datasets'\n\\item 'package:methods'\n\\item 'Autoloads'\n\\item 'package:base'\n\\end{enumerate*}\n",
            "text/plain": [
              " [1] \".GlobalEnv\"        \"package:LiblineaR\" \"jupyter:irkernel\" \n",
              " [4] \"package:stats\"     \"package:graphics\"  \"package:grDevices\"\n",
              " [7] \"package:utils\"     \"package:datasets\"  \"package:methods\"  \n",
              "[10] \"Autoloads\"         \"package:base\"     "
            ]
          },
          "metadata": {}
        }
      ]
    },
    {
      "cell_type": "code",
      "source": [
        "detach(\"package:LiblineaR\",unload = TRUE) #to unload the package"
      ],
      "metadata": {
        "id": "H929WLPHPTev"
      },
      "execution_count": 23,
      "outputs": []
    },
    {
      "cell_type": "code",
      "source": [
        "search()"
      ],
      "metadata": {
        "colab": {
          "base_uri": "https://localhost:8080/",
          "height": 52
        },
        "id": "PUmU2kfNPmpv",
        "outputId": "7cbf20bd-aa2e-4623-e890-3d548b0c338c"
      },
      "execution_count": 24,
      "outputs": [
        {
          "output_type": "display_data",
          "data": {
            "text/html": [
              "<style>\n",
              ".list-inline {list-style: none; margin:0; padding: 0}\n",
              ".list-inline>li {display: inline-block}\n",
              ".list-inline>li:not(:last-child)::after {content: \"\\00b7\"; padding: 0 .5ex}\n",
              "</style>\n",
              "<ol class=list-inline><li>'.GlobalEnv'</li><li>'jupyter:irkernel'</li><li>'package:stats'</li><li>'package:graphics'</li><li>'package:grDevices'</li><li>'package:utils'</li><li>'package:datasets'</li><li>'package:methods'</li><li>'Autoloads'</li><li>'package:base'</li></ol>\n"
            ],
            "text/markdown": "1. '.GlobalEnv'\n2. 'jupyter:irkernel'\n3. 'package:stats'\n4. 'package:graphics'\n5. 'package:grDevices'\n6. 'package:utils'\n7. 'package:datasets'\n8. 'package:methods'\n9. 'Autoloads'\n10. 'package:base'\n\n\n",
            "text/latex": "\\begin{enumerate*}\n\\item '.GlobalEnv'\n\\item 'jupyter:irkernel'\n\\item 'package:stats'\n\\item 'package:graphics'\n\\item 'package:grDevices'\n\\item 'package:utils'\n\\item 'package:datasets'\n\\item 'package:methods'\n\\item 'Autoloads'\n\\item 'package:base'\n\\end{enumerate*}\n",
            "text/plain": [
              " [1] \".GlobalEnv\"        \"jupyter:irkernel\"  \"package:stats\"    \n",
              " [4] \"package:graphics\"  \"package:grDevices\" \"package:utils\"    \n",
              " [7] \"package:datasets\"  \"package:methods\"   \"Autoloads\"        \n",
              "[10] \"package:base\"     "
            ]
          },
          "metadata": {}
        }
      ]
    },
    {
      "cell_type": "code",
      "source": [
        "remove.packages(\"LiblineaR\") #to remove the packages"
      ],
      "metadata": {
        "colab": {
          "base_uri": "https://localhost:8080/"
        },
        "id": "ak_GFWCVPoQg",
        "outputId": "c6cf27d0-9d79-43f8-9383-d277daad9765"
      },
      "execution_count": 25,
      "outputs": [
        {
          "output_type": "stream",
          "name": "stderr",
          "text": [
            "Removing package from ‘/usr/local/lib/R/site-library’\n",
            "(as ‘lib’ is unspecified)\n",
            "\n"
          ]
        }
      ]
    },
    {
      "cell_type": "code",
      "source": [
        "library()"
      ],
      "metadata": {
        "id": "2CTbEjOoPusF"
      },
      "execution_count": 26,
      "outputs": []
    },
    {
      "cell_type": "code",
      "source": [
        "??ggplot2 # to know more about the package"
      ],
      "metadata": {
        "id": "Y6MGpaIjPyb0"
      },
      "execution_count": 28,
      "outputs": []
    },
    {
      "cell_type": "markdown",
      "source": [
        "Inputting data"
      ],
      "metadata": {
        "id": "OQZr3UxdQKzp"
      }
    },
    {
      "cell_type": "code",
      "source": [
        "data() #inbuilt datasets"
      ],
      "metadata": {
        "id": "Y-4WCW2AP8y1"
      },
      "execution_count": 30,
      "outputs": []
    },
    {
      "cell_type": "code",
      "source": [
        "library(help = \"datasets\") #another way to load inbuilt datsets"
      ],
      "metadata": {
        "id": "qyopLFoDQP1W"
      },
      "execution_count": 31,
      "outputs": []
    },
    {
      "cell_type": "code",
      "source": [
        "? iris"
      ],
      "metadata": {
        "id": "DN9BBgJrQfxU"
      },
      "execution_count": 35,
      "outputs": []
    },
    {
      "cell_type": "code",
      "source": [
        "str(iris)"
      ],
      "metadata": {
        "colab": {
          "base_uri": "https://localhost:8080/"
        },
        "id": "UbnTlp6RQpDW",
        "outputId": "b5abbd7a-57a7-4f8c-f1ef-043c9feae5e9"
      },
      "execution_count": 33,
      "outputs": [
        {
          "output_type": "stream",
          "name": "stdout",
          "text": [
            "'data.frame':\t150 obs. of  5 variables:\n",
            " $ Sepal.Length: num  5.1 4.9 4.7 4.6 5 5.4 4.6 5 4.4 4.9 ...\n",
            " $ Sepal.Width : num  3.5 3 3.2 3.1 3.6 3.9 3.4 3.4 2.9 3.1 ...\n",
            " $ Petal.Length: num  1.4 1.4 1.3 1.5 1.4 1.7 1.4 1.5 1.4 1.5 ...\n",
            " $ Petal.Width : num  0.2 0.2 0.2 0.2 0.2 0.4 0.3 0.2 0.2 0.1 ...\n",
            " $ Species     : Factor w/ 3 levels \"setosa\",\"versicolor\",..: 1 1 1 1 1 1 1 1 1 1 ...\n"
          ]
        }
      ]
    },
    {
      "cell_type": "code",
      "source": [
        "iris"
      ],
      "metadata": {
        "colab": {
          "base_uri": "https://localhost:8080/",
          "height": 1000
        },
        "id": "kcAdYsUXQuSX",
        "outputId": "9b60ef08-708b-4269-aa32-85eaae83f272"
      },
      "execution_count": 36,
      "outputs": [
        {
          "output_type": "display_data",
          "data": {
            "text/html": [
              "<table class=\"dataframe\">\n",
              "<caption>A data.frame: 150 × 5</caption>\n",
              "<thead>\n",
              "\t<tr><th scope=col>Sepal.Length</th><th scope=col>Sepal.Width</th><th scope=col>Petal.Length</th><th scope=col>Petal.Width</th><th scope=col>Species</th></tr>\n",
              "\t<tr><th scope=col>&lt;dbl&gt;</th><th scope=col>&lt;dbl&gt;</th><th scope=col>&lt;dbl&gt;</th><th scope=col>&lt;dbl&gt;</th><th scope=col>&lt;fct&gt;</th></tr>\n",
              "</thead>\n",
              "<tbody>\n",
              "\t<tr><td>5.1</td><td>3.5</td><td>1.4</td><td>0.2</td><td>setosa</td></tr>\n",
              "\t<tr><td>4.9</td><td>3.0</td><td>1.4</td><td>0.2</td><td>setosa</td></tr>\n",
              "\t<tr><td>4.7</td><td>3.2</td><td>1.3</td><td>0.2</td><td>setosa</td></tr>\n",
              "\t<tr><td>4.6</td><td>3.1</td><td>1.5</td><td>0.2</td><td>setosa</td></tr>\n",
              "\t<tr><td>5.0</td><td>3.6</td><td>1.4</td><td>0.2</td><td>setosa</td></tr>\n",
              "\t<tr><td>5.4</td><td>3.9</td><td>1.7</td><td>0.4</td><td>setosa</td></tr>\n",
              "\t<tr><td>4.6</td><td>3.4</td><td>1.4</td><td>0.3</td><td>setosa</td></tr>\n",
              "\t<tr><td>5.0</td><td>3.4</td><td>1.5</td><td>0.2</td><td>setosa</td></tr>\n",
              "\t<tr><td>4.4</td><td>2.9</td><td>1.4</td><td>0.2</td><td>setosa</td></tr>\n",
              "\t<tr><td>4.9</td><td>3.1</td><td>1.5</td><td>0.1</td><td>setosa</td></tr>\n",
              "\t<tr><td>5.4</td><td>3.7</td><td>1.5</td><td>0.2</td><td>setosa</td></tr>\n",
              "\t<tr><td>4.8</td><td>3.4</td><td>1.6</td><td>0.2</td><td>setosa</td></tr>\n",
              "\t<tr><td>4.8</td><td>3.0</td><td>1.4</td><td>0.1</td><td>setosa</td></tr>\n",
              "\t<tr><td>4.3</td><td>3.0</td><td>1.1</td><td>0.1</td><td>setosa</td></tr>\n",
              "\t<tr><td>5.8</td><td>4.0</td><td>1.2</td><td>0.2</td><td>setosa</td></tr>\n",
              "\t<tr><td>5.7</td><td>4.4</td><td>1.5</td><td>0.4</td><td>setosa</td></tr>\n",
              "\t<tr><td>5.4</td><td>3.9</td><td>1.3</td><td>0.4</td><td>setosa</td></tr>\n",
              "\t<tr><td>5.1</td><td>3.5</td><td>1.4</td><td>0.3</td><td>setosa</td></tr>\n",
              "\t<tr><td>5.7</td><td>3.8</td><td>1.7</td><td>0.3</td><td>setosa</td></tr>\n",
              "\t<tr><td>5.1</td><td>3.8</td><td>1.5</td><td>0.3</td><td>setosa</td></tr>\n",
              "\t<tr><td>5.4</td><td>3.4</td><td>1.7</td><td>0.2</td><td>setosa</td></tr>\n",
              "\t<tr><td>5.1</td><td>3.7</td><td>1.5</td><td>0.4</td><td>setosa</td></tr>\n",
              "\t<tr><td>4.6</td><td>3.6</td><td>1.0</td><td>0.2</td><td>setosa</td></tr>\n",
              "\t<tr><td>5.1</td><td>3.3</td><td>1.7</td><td>0.5</td><td>setosa</td></tr>\n",
              "\t<tr><td>4.8</td><td>3.4</td><td>1.9</td><td>0.2</td><td>setosa</td></tr>\n",
              "\t<tr><td>5.0</td><td>3.0</td><td>1.6</td><td>0.2</td><td>setosa</td></tr>\n",
              "\t<tr><td>5.0</td><td>3.4</td><td>1.6</td><td>0.4</td><td>setosa</td></tr>\n",
              "\t<tr><td>5.2</td><td>3.5</td><td>1.5</td><td>0.2</td><td>setosa</td></tr>\n",
              "\t<tr><td>5.2</td><td>3.4</td><td>1.4</td><td>0.2</td><td>setosa</td></tr>\n",
              "\t<tr><td>4.7</td><td>3.2</td><td>1.6</td><td>0.2</td><td>setosa</td></tr>\n",
              "\t<tr><td>⋮</td><td>⋮</td><td>⋮</td><td>⋮</td><td>⋮</td></tr>\n",
              "\t<tr><td>6.9</td><td>3.2</td><td>5.7</td><td>2.3</td><td>virginica</td></tr>\n",
              "\t<tr><td>5.6</td><td>2.8</td><td>4.9</td><td>2.0</td><td>virginica</td></tr>\n",
              "\t<tr><td>7.7</td><td>2.8</td><td>6.7</td><td>2.0</td><td>virginica</td></tr>\n",
              "\t<tr><td>6.3</td><td>2.7</td><td>4.9</td><td>1.8</td><td>virginica</td></tr>\n",
              "\t<tr><td>6.7</td><td>3.3</td><td>5.7</td><td>2.1</td><td>virginica</td></tr>\n",
              "\t<tr><td>7.2</td><td>3.2</td><td>6.0</td><td>1.8</td><td>virginica</td></tr>\n",
              "\t<tr><td>6.2</td><td>2.8</td><td>4.8</td><td>1.8</td><td>virginica</td></tr>\n",
              "\t<tr><td>6.1</td><td>3.0</td><td>4.9</td><td>1.8</td><td>virginica</td></tr>\n",
              "\t<tr><td>6.4</td><td>2.8</td><td>5.6</td><td>2.1</td><td>virginica</td></tr>\n",
              "\t<tr><td>7.2</td><td>3.0</td><td>5.8</td><td>1.6</td><td>virginica</td></tr>\n",
              "\t<tr><td>7.4</td><td>2.8</td><td>6.1</td><td>1.9</td><td>virginica</td></tr>\n",
              "\t<tr><td>7.9</td><td>3.8</td><td>6.4</td><td>2.0</td><td>virginica</td></tr>\n",
              "\t<tr><td>6.4</td><td>2.8</td><td>5.6</td><td>2.2</td><td>virginica</td></tr>\n",
              "\t<tr><td>6.3</td><td>2.8</td><td>5.1</td><td>1.5</td><td>virginica</td></tr>\n",
              "\t<tr><td>6.1</td><td>2.6</td><td>5.6</td><td>1.4</td><td>virginica</td></tr>\n",
              "\t<tr><td>7.7</td><td>3.0</td><td>6.1</td><td>2.3</td><td>virginica</td></tr>\n",
              "\t<tr><td>6.3</td><td>3.4</td><td>5.6</td><td>2.4</td><td>virginica</td></tr>\n",
              "\t<tr><td>6.4</td><td>3.1</td><td>5.5</td><td>1.8</td><td>virginica</td></tr>\n",
              "\t<tr><td>6.0</td><td>3.0</td><td>4.8</td><td>1.8</td><td>virginica</td></tr>\n",
              "\t<tr><td>6.9</td><td>3.1</td><td>5.4</td><td>2.1</td><td>virginica</td></tr>\n",
              "\t<tr><td>6.7</td><td>3.1</td><td>5.6</td><td>2.4</td><td>virginica</td></tr>\n",
              "\t<tr><td>6.9</td><td>3.1</td><td>5.1</td><td>2.3</td><td>virginica</td></tr>\n",
              "\t<tr><td>5.8</td><td>2.7</td><td>5.1</td><td>1.9</td><td>virginica</td></tr>\n",
              "\t<tr><td>6.8</td><td>3.2</td><td>5.9</td><td>2.3</td><td>virginica</td></tr>\n",
              "\t<tr><td>6.7</td><td>3.3</td><td>5.7</td><td>2.5</td><td>virginica</td></tr>\n",
              "\t<tr><td>6.7</td><td>3.0</td><td>5.2</td><td>2.3</td><td>virginica</td></tr>\n",
              "\t<tr><td>6.3</td><td>2.5</td><td>5.0</td><td>1.9</td><td>virginica</td></tr>\n",
              "\t<tr><td>6.5</td><td>3.0</td><td>5.2</td><td>2.0</td><td>virginica</td></tr>\n",
              "\t<tr><td>6.2</td><td>3.4</td><td>5.4</td><td>2.3</td><td>virginica</td></tr>\n",
              "\t<tr><td>5.9</td><td>3.0</td><td>5.1</td><td>1.8</td><td>virginica</td></tr>\n",
              "</tbody>\n",
              "</table>\n"
            ],
            "text/markdown": "\nA data.frame: 150 × 5\n\n| Sepal.Length &lt;dbl&gt; | Sepal.Width &lt;dbl&gt; | Petal.Length &lt;dbl&gt; | Petal.Width &lt;dbl&gt; | Species &lt;fct&gt; |\n|---|---|---|---|---|\n| 5.1 | 3.5 | 1.4 | 0.2 | setosa |\n| 4.9 | 3.0 | 1.4 | 0.2 | setosa |\n| 4.7 | 3.2 | 1.3 | 0.2 | setosa |\n| 4.6 | 3.1 | 1.5 | 0.2 | setosa |\n| 5.0 | 3.6 | 1.4 | 0.2 | setosa |\n| 5.4 | 3.9 | 1.7 | 0.4 | setosa |\n| 4.6 | 3.4 | 1.4 | 0.3 | setosa |\n| 5.0 | 3.4 | 1.5 | 0.2 | setosa |\n| 4.4 | 2.9 | 1.4 | 0.2 | setosa |\n| 4.9 | 3.1 | 1.5 | 0.1 | setosa |\n| 5.4 | 3.7 | 1.5 | 0.2 | setosa |\n| 4.8 | 3.4 | 1.6 | 0.2 | setosa |\n| 4.8 | 3.0 | 1.4 | 0.1 | setosa |\n| 4.3 | 3.0 | 1.1 | 0.1 | setosa |\n| 5.8 | 4.0 | 1.2 | 0.2 | setosa |\n| 5.7 | 4.4 | 1.5 | 0.4 | setosa |\n| 5.4 | 3.9 | 1.3 | 0.4 | setosa |\n| 5.1 | 3.5 | 1.4 | 0.3 | setosa |\n| 5.7 | 3.8 | 1.7 | 0.3 | setosa |\n| 5.1 | 3.8 | 1.5 | 0.3 | setosa |\n| 5.4 | 3.4 | 1.7 | 0.2 | setosa |\n| 5.1 | 3.7 | 1.5 | 0.4 | setosa |\n| 4.6 | 3.6 | 1.0 | 0.2 | setosa |\n| 5.1 | 3.3 | 1.7 | 0.5 | setosa |\n| 4.8 | 3.4 | 1.9 | 0.2 | setosa |\n| 5.0 | 3.0 | 1.6 | 0.2 | setosa |\n| 5.0 | 3.4 | 1.6 | 0.4 | setosa |\n| 5.2 | 3.5 | 1.5 | 0.2 | setosa |\n| 5.2 | 3.4 | 1.4 | 0.2 | setosa |\n| 4.7 | 3.2 | 1.6 | 0.2 | setosa |\n| ⋮ | ⋮ | ⋮ | ⋮ | ⋮ |\n| 6.9 | 3.2 | 5.7 | 2.3 | virginica |\n| 5.6 | 2.8 | 4.9 | 2.0 | virginica |\n| 7.7 | 2.8 | 6.7 | 2.0 | virginica |\n| 6.3 | 2.7 | 4.9 | 1.8 | virginica |\n| 6.7 | 3.3 | 5.7 | 2.1 | virginica |\n| 7.2 | 3.2 | 6.0 | 1.8 | virginica |\n| 6.2 | 2.8 | 4.8 | 1.8 | virginica |\n| 6.1 | 3.0 | 4.9 | 1.8 | virginica |\n| 6.4 | 2.8 | 5.6 | 2.1 | virginica |\n| 7.2 | 3.0 | 5.8 | 1.6 | virginica |\n| 7.4 | 2.8 | 6.1 | 1.9 | virginica |\n| 7.9 | 3.8 | 6.4 | 2.0 | virginica |\n| 6.4 | 2.8 | 5.6 | 2.2 | virginica |\n| 6.3 | 2.8 | 5.1 | 1.5 | virginica |\n| 6.1 | 2.6 | 5.6 | 1.4 | virginica |\n| 7.7 | 3.0 | 6.1 | 2.3 | virginica |\n| 6.3 | 3.4 | 5.6 | 2.4 | virginica |\n| 6.4 | 3.1 | 5.5 | 1.8 | virginica |\n| 6.0 | 3.0 | 4.8 | 1.8 | virginica |\n| 6.9 | 3.1 | 5.4 | 2.1 | virginica |\n| 6.7 | 3.1 | 5.6 | 2.4 | virginica |\n| 6.9 | 3.1 | 5.1 | 2.3 | virginica |\n| 5.8 | 2.7 | 5.1 | 1.9 | virginica |\n| 6.8 | 3.2 | 5.9 | 2.3 | virginica |\n| 6.7 | 3.3 | 5.7 | 2.5 | virginica |\n| 6.7 | 3.0 | 5.2 | 2.3 | virginica |\n| 6.3 | 2.5 | 5.0 | 1.9 | virginica |\n| 6.5 | 3.0 | 5.2 | 2.0 | virginica |\n| 6.2 | 3.4 | 5.4 | 2.3 | virginica |\n| 5.9 | 3.0 | 5.1 | 1.8 | virginica |\n\n",
            "text/latex": "A data.frame: 150 × 5\n\\begin{tabular}{lllll}\n Sepal.Length & Sepal.Width & Petal.Length & Petal.Width & Species\\\\\n <dbl> & <dbl> & <dbl> & <dbl> & <fct>\\\\\n\\hline\n\t 5.1 & 3.5 & 1.4 & 0.2 & setosa\\\\\n\t 4.9 & 3.0 & 1.4 & 0.2 & setosa\\\\\n\t 4.7 & 3.2 & 1.3 & 0.2 & setosa\\\\\n\t 4.6 & 3.1 & 1.5 & 0.2 & setosa\\\\\n\t 5.0 & 3.6 & 1.4 & 0.2 & setosa\\\\\n\t 5.4 & 3.9 & 1.7 & 0.4 & setosa\\\\\n\t 4.6 & 3.4 & 1.4 & 0.3 & setosa\\\\\n\t 5.0 & 3.4 & 1.5 & 0.2 & setosa\\\\\n\t 4.4 & 2.9 & 1.4 & 0.2 & setosa\\\\\n\t 4.9 & 3.1 & 1.5 & 0.1 & setosa\\\\\n\t 5.4 & 3.7 & 1.5 & 0.2 & setosa\\\\\n\t 4.8 & 3.4 & 1.6 & 0.2 & setosa\\\\\n\t 4.8 & 3.0 & 1.4 & 0.1 & setosa\\\\\n\t 4.3 & 3.0 & 1.1 & 0.1 & setosa\\\\\n\t 5.8 & 4.0 & 1.2 & 0.2 & setosa\\\\\n\t 5.7 & 4.4 & 1.5 & 0.4 & setosa\\\\\n\t 5.4 & 3.9 & 1.3 & 0.4 & setosa\\\\\n\t 5.1 & 3.5 & 1.4 & 0.3 & setosa\\\\\n\t 5.7 & 3.8 & 1.7 & 0.3 & setosa\\\\\n\t 5.1 & 3.8 & 1.5 & 0.3 & setosa\\\\\n\t 5.4 & 3.4 & 1.7 & 0.2 & setosa\\\\\n\t 5.1 & 3.7 & 1.5 & 0.4 & setosa\\\\\n\t 4.6 & 3.6 & 1.0 & 0.2 & setosa\\\\\n\t 5.1 & 3.3 & 1.7 & 0.5 & setosa\\\\\n\t 4.8 & 3.4 & 1.9 & 0.2 & setosa\\\\\n\t 5.0 & 3.0 & 1.6 & 0.2 & setosa\\\\\n\t 5.0 & 3.4 & 1.6 & 0.4 & setosa\\\\\n\t 5.2 & 3.5 & 1.5 & 0.2 & setosa\\\\\n\t 5.2 & 3.4 & 1.4 & 0.2 & setosa\\\\\n\t 4.7 & 3.2 & 1.6 & 0.2 & setosa\\\\\n\t ⋮ & ⋮ & ⋮ & ⋮ & ⋮\\\\\n\t 6.9 & 3.2 & 5.7 & 2.3 & virginica\\\\\n\t 5.6 & 2.8 & 4.9 & 2.0 & virginica\\\\\n\t 7.7 & 2.8 & 6.7 & 2.0 & virginica\\\\\n\t 6.3 & 2.7 & 4.9 & 1.8 & virginica\\\\\n\t 6.7 & 3.3 & 5.7 & 2.1 & virginica\\\\\n\t 7.2 & 3.2 & 6.0 & 1.8 & virginica\\\\\n\t 6.2 & 2.8 & 4.8 & 1.8 & virginica\\\\\n\t 6.1 & 3.0 & 4.9 & 1.8 & virginica\\\\\n\t 6.4 & 2.8 & 5.6 & 2.1 & virginica\\\\\n\t 7.2 & 3.0 & 5.8 & 1.6 & virginica\\\\\n\t 7.4 & 2.8 & 6.1 & 1.9 & virginica\\\\\n\t 7.9 & 3.8 & 6.4 & 2.0 & virginica\\\\\n\t 6.4 & 2.8 & 5.6 & 2.2 & virginica\\\\\n\t 6.3 & 2.8 & 5.1 & 1.5 & virginica\\\\\n\t 6.1 & 2.6 & 5.6 & 1.4 & virginica\\\\\n\t 7.7 & 3.0 & 6.1 & 2.3 & virginica\\\\\n\t 6.3 & 3.4 & 5.6 & 2.4 & virginica\\\\\n\t 6.4 & 3.1 & 5.5 & 1.8 & virginica\\\\\n\t 6.0 & 3.0 & 4.8 & 1.8 & virginica\\\\\n\t 6.9 & 3.1 & 5.4 & 2.1 & virginica\\\\\n\t 6.7 & 3.1 & 5.6 & 2.4 & virginica\\\\\n\t 6.9 & 3.1 & 5.1 & 2.3 & virginica\\\\\n\t 5.8 & 2.7 & 5.1 & 1.9 & virginica\\\\\n\t 6.8 & 3.2 & 5.9 & 2.3 & virginica\\\\\n\t 6.7 & 3.3 & 5.7 & 2.5 & virginica\\\\\n\t 6.7 & 3.0 & 5.2 & 2.3 & virginica\\\\\n\t 6.3 & 2.5 & 5.0 & 1.9 & virginica\\\\\n\t 6.5 & 3.0 & 5.2 & 2.0 & virginica\\\\\n\t 6.2 & 3.4 & 5.4 & 2.3 & virginica\\\\\n\t 5.9 & 3.0 & 5.1 & 1.8 & virginica\\\\\n\\end{tabular}\n",
            "text/plain": [
              "    Sepal.Length Sepal.Width Petal.Length Petal.Width Species  \n",
              "1   5.1          3.5         1.4          0.2         setosa   \n",
              "2   4.9          3.0         1.4          0.2         setosa   \n",
              "3   4.7          3.2         1.3          0.2         setosa   \n",
              "4   4.6          3.1         1.5          0.2         setosa   \n",
              "5   5.0          3.6         1.4          0.2         setosa   \n",
              "6   5.4          3.9         1.7          0.4         setosa   \n",
              "7   4.6          3.4         1.4          0.3         setosa   \n",
              "8   5.0          3.4         1.5          0.2         setosa   \n",
              "9   4.4          2.9         1.4          0.2         setosa   \n",
              "10  4.9          3.1         1.5          0.1         setosa   \n",
              "11  5.4          3.7         1.5          0.2         setosa   \n",
              "12  4.8          3.4         1.6          0.2         setosa   \n",
              "13  4.8          3.0         1.4          0.1         setosa   \n",
              "14  4.3          3.0         1.1          0.1         setosa   \n",
              "15  5.8          4.0         1.2          0.2         setosa   \n",
              "16  5.7          4.4         1.5          0.4         setosa   \n",
              "17  5.4          3.9         1.3          0.4         setosa   \n",
              "18  5.1          3.5         1.4          0.3         setosa   \n",
              "19  5.7          3.8         1.7          0.3         setosa   \n",
              "20  5.1          3.8         1.5          0.3         setosa   \n",
              "21  5.4          3.4         1.7          0.2         setosa   \n",
              "22  5.1          3.7         1.5          0.4         setosa   \n",
              "23  4.6          3.6         1.0          0.2         setosa   \n",
              "24  5.1          3.3         1.7          0.5         setosa   \n",
              "25  4.8          3.4         1.9          0.2         setosa   \n",
              "26  5.0          3.0         1.6          0.2         setosa   \n",
              "27  5.0          3.4         1.6          0.4         setosa   \n",
              "28  5.2          3.5         1.5          0.2         setosa   \n",
              "29  5.2          3.4         1.4          0.2         setosa   \n",
              "30  4.7          3.2         1.6          0.2         setosa   \n",
              "⋮   ⋮            ⋮           ⋮            ⋮           ⋮        \n",
              "121 6.9          3.2         5.7          2.3         virginica\n",
              "122 5.6          2.8         4.9          2.0         virginica\n",
              "123 7.7          2.8         6.7          2.0         virginica\n",
              "124 6.3          2.7         4.9          1.8         virginica\n",
              "125 6.7          3.3         5.7          2.1         virginica\n",
              "126 7.2          3.2         6.0          1.8         virginica\n",
              "127 6.2          2.8         4.8          1.8         virginica\n",
              "128 6.1          3.0         4.9          1.8         virginica\n",
              "129 6.4          2.8         5.6          2.1         virginica\n",
              "130 7.2          3.0         5.8          1.6         virginica\n",
              "131 7.4          2.8         6.1          1.9         virginica\n",
              "132 7.9          3.8         6.4          2.0         virginica\n",
              "133 6.4          2.8         5.6          2.2         virginica\n",
              "134 6.3          2.8         5.1          1.5         virginica\n",
              "135 6.1          2.6         5.6          1.4         virginica\n",
              "136 7.7          3.0         6.1          2.3         virginica\n",
              "137 6.3          3.4         5.6          2.4         virginica\n",
              "138 6.4          3.1         5.5          1.8         virginica\n",
              "139 6.0          3.0         4.8          1.8         virginica\n",
              "140 6.9          3.1         5.4          2.1         virginica\n",
              "141 6.7          3.1         5.6          2.4         virginica\n",
              "142 6.9          3.1         5.1          2.3         virginica\n",
              "143 5.8          2.7         5.1          1.9         virginica\n",
              "144 6.8          3.2         5.9          2.3         virginica\n",
              "145 6.7          3.3         5.7          2.5         virginica\n",
              "146 6.7          3.0         5.2          2.3         virginica\n",
              "147 6.3          2.5         5.0          1.9         virginica\n",
              "148 6.5          3.0         5.2          2.0         virginica\n",
              "149 6.2          3.4         5.4          2.3         virginica\n",
              "150 5.9          3.0         5.1          1.8         virginica"
            ]
          },
          "metadata": {}
        }
      ]
    },
    {
      "cell_type": "code",
      "source": [
        "data(\"iris\")"
      ],
      "metadata": {
        "id": "Z8yrVewsQ4On"
      },
      "execution_count": 37,
      "outputs": []
    },
    {
      "cell_type": "code",
      "source": [
        "#Enter data manually\n",
        "x1 <- 1:10\n",
        "x1"
      ],
      "metadata": {
        "colab": {
          "base_uri": "https://localhost:8080/",
          "height": 34
        },
        "id": "imXOzA8dQ73t",
        "outputId": "b443e502-c19f-46d9-e38c-477c007e73d6"
      },
      "execution_count": 39,
      "outputs": [
        {
          "output_type": "display_data",
          "data": {
            "text/html": [
              "<style>\n",
              ".list-inline {list-style: none; margin:0; padding: 0}\n",
              ".list-inline>li {display: inline-block}\n",
              ".list-inline>li:not(:last-child)::after {content: \"\\00b7\"; padding: 0 .5ex}\n",
              "</style>\n",
              "<ol class=list-inline><li>1</li><li>2</li><li>3</li><li>4</li><li>5</li><li>6</li><li>7</li><li>8</li><li>9</li><li>10</li></ol>\n"
            ],
            "text/markdown": "1. 1\n2. 2\n3. 3\n4. 4\n5. 5\n6. 6\n7. 7\n8. 8\n9. 9\n10. 10\n\n\n",
            "text/latex": "\\begin{enumerate*}\n\\item 1\n\\item 2\n\\item 3\n\\item 4\n\\item 5\n\\item 6\n\\item 7\n\\item 8\n\\item 9\n\\item 10\n\\end{enumerate*}\n",
            "text/plain": [
              " [1]  1  2  3  4  5  6  7  8  9 10"
            ]
          },
          "metadata": {}
        }
      ]
    },
    {
      "cell_type": "code",
      "source": [
        "x2 <- c(2,5,7,4)\n",
        "x2"
      ],
      "metadata": {
        "colab": {
          "base_uri": "https://localhost:8080/",
          "height": 34
        },
        "id": "6GGfmKOBRDzg",
        "outputId": "15172e0c-8fc6-41c3-a373-f203e7c4e98b"
      },
      "execution_count": 40,
      "outputs": [
        {
          "output_type": "display_data",
          "data": {
            "text/html": [
              "<style>\n",
              ".list-inline {list-style: none; margin:0; padding: 0}\n",
              ".list-inline>li {display: inline-block}\n",
              ".list-inline>li:not(:last-child)::after {content: \"\\00b7\"; padding: 0 .5ex}\n",
              "</style>\n",
              "<ol class=list-inline><li>2</li><li>5</li><li>7</li><li>4</li></ol>\n"
            ],
            "text/markdown": "1. 2\n2. 5\n3. 7\n4. 4\n\n\n",
            "text/latex": "\\begin{enumerate*}\n\\item 2\n\\item 5\n\\item 7\n\\item 4\n\\end{enumerate*}\n",
            "text/plain": [
              "[1] 2 5 7 4"
            ]
          },
          "metadata": {}
        }
      ]
    },
    {
      "cell_type": "code",
      "source": [
        "x3 <- seq(5,50, by=5)\n",
        "x3"
      ],
      "metadata": {
        "colab": {
          "base_uri": "https://localhost:8080/",
          "height": 34
        },
        "id": "byCRuoCRROdq",
        "outputId": "b8251b99-af4e-4359-fc47-daca17a40a42"
      },
      "execution_count": 41,
      "outputs": [
        {
          "output_type": "display_data",
          "data": {
            "text/html": [
              "<style>\n",
              ".list-inline {list-style: none; margin:0; padding: 0}\n",
              ".list-inline>li {display: inline-block}\n",
              ".list-inline>li:not(:last-child)::after {content: \"\\00b7\"; padding: 0 .5ex}\n",
              "</style>\n",
              "<ol class=list-inline><li>5</li><li>10</li><li>15</li><li>20</li><li>25</li><li>30</li><li>35</li><li>40</li><li>45</li><li>50</li></ol>\n"
            ],
            "text/markdown": "1. 5\n2. 10\n3. 15\n4. 20\n5. 25\n6. 30\n7. 35\n8. 40\n9. 45\n10. 50\n\n\n",
            "text/latex": "\\begin{enumerate*}\n\\item 5\n\\item 10\n\\item 15\n\\item 20\n\\item 25\n\\item 30\n\\item 35\n\\item 40\n\\item 45\n\\item 50\n\\end{enumerate*}\n",
            "text/plain": [
              " [1]  5 10 15 20 25 30 35 40 45 50"
            ]
          },
          "metadata": {}
        }
      ]
    },
    {
      "cell_type": "code",
      "source": [
        "x4 <- scan() # to enter the input variables"
      ],
      "metadata": {
        "id": "YJYgqqWERWl6"
      },
      "execution_count": 46,
      "outputs": []
    },
    {
      "cell_type": "code",
      "source": [
        "product <- read.table(\"customer.txt\",header=TRUE, sep = \"\\t\")"
      ],
      "metadata": {
        "id": "7CU0qRvlRmN8"
      },
      "execution_count": 48,
      "outputs": []
    },
    {
      "cell_type": "code",
      "source": [
        "product"
      ],
      "metadata": {
        "colab": {
          "base_uri": "https://localhost:8080/",
          "height": 1000
        },
        "id": "BVB1YD7GSr8M",
        "outputId": "d8d6f05f-2ff8-4a45-ae43-7392ba190267"
      },
      "execution_count": 49,
      "outputs": [
        {
          "output_type": "display_data",
          "data": {
            "text/html": [
              "<table class=\"dataframe\">\n",
              "<caption>A data.frame: 500 × 8</caption>\n",
              "<thead>\n",
              "\t<tr><th scope=col>Email</th><th scope=col>Address</th><th scope=col>Avatar</th><th scope=col>Avg..Session.Length</th><th scope=col>Time.on.App</th><th scope=col>Time.on.Website</th><th scope=col>Length.of.Membership</th><th scope=col>Yearly.Amount.Spent</th></tr>\n",
              "\t<tr><th scope=col>&lt;chr&gt;</th><th scope=col>&lt;chr&gt;</th><th scope=col>&lt;chr&gt;</th><th scope=col>&lt;dbl&gt;</th><th scope=col>&lt;dbl&gt;</th><th scope=col>&lt;dbl&gt;</th><th scope=col>&lt;dbl&gt;</th><th scope=col>&lt;dbl&gt;</th></tr>\n",
              "</thead>\n",
              "<tbody>\n",
              "\t<tr><td>mstephenson@fernandez.com      </td><td>835 Frank Tunnel\n",
              "Wrightmouth, MI 82180-9605                </td><td>Violet          </td><td>34.49727</td><td>12.65565</td><td>39.57767</td><td>4.082621</td><td>587.9511</td></tr>\n",
              "\t<tr><td>hduke@hotmail.com              </td><td>4547 Archer Common\n",
              "Diazchester, CA 06566-8576              </td><td>DarkGreen       </td><td>31.92627</td><td>11.10946</td><td>37.26896</td><td>2.664034</td><td>392.2049</td></tr>\n",
              "\t<tr><td>pallen@yahoo.com               </td><td>24645 Valerie Unions Suite 582\n",
              "Cobbborough, DC 99414-7564  </td><td>Bisque          </td><td>33.00091</td><td>11.33028</td><td>37.11060</td><td>4.104543</td><td>487.5475</td></tr>\n",
              "\t<tr><td>riverarebecca@gmail.com        </td><td>1414 David Throughway\n",
              "Port Jason, OH 22070-1220            </td><td>SaddleBrown     </td><td>34.30556</td><td>13.71751</td><td>36.72128</td><td>3.120179</td><td>581.8523</td></tr>\n",
              "\t<tr><td>mstephens@davidson-herman.com  </td><td>14023 Rodriguez Passage\n",
              "Port Jacobville, PR 37242-1057     </td><td>MediumAquaMarine</td><td>33.33067</td><td>12.79519</td><td>37.53665</td><td>4.446308</td><td>599.4061</td></tr>\n",
              "\t<tr><td>alvareznancy@lucas.biz         </td><td>645 Martha Park Apt. 611\n",
              "Jeffreychester, MN 67218-7250     </td><td>FloralWhite     </td><td>33.87104</td><td>12.02693</td><td>34.47688</td><td>5.493507</td><td>637.1024</td></tr>\n",
              "\t<tr><td>katherine20@yahoo.com          </td><td>68388 Reyes Lights Suite 692\n",
              "Josephbury, WV 92213-0247     </td><td>DarkSlateBlue   </td><td>32.02160</td><td>11.36635</td><td>36.68378</td><td>4.685017</td><td>521.5722</td></tr>\n",
              "\t<tr><td>awatkins@yahoo.com             </td><td>Unit 6538 Box 8980\n",
              "DPO AP 09026-4941                       </td><td>Aqua            </td><td>32.73914</td><td>12.35196</td><td>37.37336</td><td>4.434273</td><td>549.9041</td></tr>\n",
              "\t<tr><td>vchurch@walter-martinez.com    </td><td>860 Lee Key\n",
              "West Debra, SD 97450-0495                      </td><td>Salmon          </td><td>33.98777</td><td>13.38624</td><td>37.53450</td><td>3.273434</td><td>570.2004</td></tr>\n",
              "\t<tr><td>bonnie69@lin.biz               </td><td>PSC 2734, Box 5255\n",
              "APO AA 98456-7482                       </td><td>Brown           </td><td>31.93655</td><td>11.81413</td><td>37.14517</td><td>3.202806</td><td>427.1994</td></tr>\n",
              "\t<tr><td>andrew06@peterson.com          </td><td>26104 Alexander Groves\n",
              "Alexandriaport, WY 28244-9149       </td><td>Tomato          </td><td>33.99257</td><td>13.33898</td><td>37.22581</td><td>2.482608</td><td>492.6060</td></tr>\n",
              "\t<tr><td>ryanwerner@freeman.biz         </td><td>Unit 2413 Box 0347\n",
              "DPO AA 07580-2652                       </td><td>Tomato          </td><td>33.87936</td><td>11.58478</td><td>37.08793</td><td>3.713209</td><td>522.3374</td></tr>\n",
              "\t<tr><td>knelson@gmail.com              </td><td>6705 Miller Orchard Suite 186\n",
              "Lake Shanestad, MO 75696-5051</td><td>RoyalBlue       </td><td>29.53243</td><td>10.96130</td><td>37.42022</td><td>4.046423</td><td>408.6404</td></tr>\n",
              "\t<tr><td>wrightpeter@yahoo.com          </td><td>05302 Dunlap Ferry\n",
              "New Stephaniehaven, MP 42268            </td><td>Bisque          </td><td>33.19033</td><td>12.95923</td><td>36.14467</td><td>3.918542</td><td>573.4159</td></tr>\n",
              "\t<tr><td>taylormason@gmail.com          </td><td>7773 Powell Springs Suite 190\n",
              "Samanthaland, ND 44358       </td><td>DarkBlue        </td><td>32.38798</td><td>13.14873</td><td>36.61996</td><td>2.494544</td><td>470.4527</td></tr>\n",
              "\t<tr><td>jstark@anderson.com            </td><td>49558 Ramirez Road Suite 399\n",
              "Phillipstad, OH 35641-3238    </td><td>Peru            </td><td>30.73772</td><td>12.63661</td><td>36.21376</td><td>3.357847</td><td>461.7807</td></tr>\n",
              "\t<tr><td>wjennings@gmail.com            </td><td>6362 Wilson Mountain\n",
              "Johnsonfurt, GA 15169                 </td><td>PowderBlue      </td><td>32.12539</td><td>11.73386</td><td>34.89409</td><td>3.136133</td><td>457.8477</td></tr>\n",
              "\t<tr><td>rebecca45@hale-bauer.biz       </td><td>8982 Burton Row\n",
              "Wilsonton, PW 88606                        </td><td>OliveDrab       </td><td>32.33890</td><td>12.01319</td><td>38.38514</td><td>2.420806</td><td>407.7045</td></tr>\n",
              "\t<tr><td>alejandro75@hotmail.com        </td><td>64475 Andre Club Apt. 795\n",
              "Port Dannytown, PW 63227         </td><td>Cyan            </td><td>32.18781</td><td>14.71539</td><td>38.24411</td><td>1.516576</td><td>452.3157</td></tr>\n",
              "\t<tr><td>samuel46@love-west.net         </td><td>544 Alexander Heights Suite 768\n",
              "North Johnview, MT 57912   </td><td>LightSeaGreen   </td><td>32.61786</td><td>13.98959</td><td>37.19050</td><td>4.064549</td><td>605.0610</td></tr>\n",
              "\t<tr><td>megan33@gmail.com              </td><td>84426 Julia Vista\n",
              "North Teresa, KY 50756                   </td><td>PeachPuff       </td><td>32.91279</td><td>11.36549</td><td>37.60779</td><td>4.599937</td><td>534.7057</td></tr>\n",
              "\t<tr><td>agolden@yahoo.com              </td><td>PSC 2490, Box 2120\n",
              "APO AE 15445-2876                       </td><td>Black           </td><td>33.50309</td><td>12.87798</td><td>37.44102</td><td>1.559152</td><td>419.9388</td></tr>\n",
              "\t<tr><td>vstafford@hotmail.com          </td><td>PSC 5723, Box 8159\n",
              "APO AA 74738                            </td><td>Olive           </td><td>31.53160</td><td>13.37856</td><td>38.73401</td><td>2.245148</td><td>436.5156</td></tr>\n",
              "\t<tr><td>denise22@hernandez-townsend.com</td><td>USNS Cardenas\n",
              "FPO AA 85439-9449                            </td><td>Silver          </td><td>32.90325</td><td>11.65758</td><td>36.77260</td><td>3.919302</td><td>519.3410</td></tr>\n",
              "\t<tr><td>youngbarbara@yahoo.com         </td><td>019 Elliott Tunnel Suite 190\n",
              "Nicholsbury, WV 60804-4440    </td><td>Wheat           </td><td>34.50755</td><td>12.89367</td><td>37.63576</td><td>5.705154</td><td>700.9171</td></tr>\n",
              "\t<tr><td>william25@mcconnell.com        </td><td>9495 Mary Fall Apt. 777\n",
              "Glassport, ND 17957-5596           </td><td>Teal            </td><td>33.02933</td><td>11.76581</td><td>37.73852</td><td>2.721736</td><td>423.1800</td></tr>\n",
              "\t<tr><td>ijones@schaefer-carr.net       </td><td>657 Judith Crossroad\n",
              "Hancockchester, VI 75658-5788         </td><td>Linen           </td><td>33.54123</td><td>12.78389</td><td>36.43065</td><td>4.648199</td><td>619.8956</td></tr>\n",
              "\t<tr><td>heatherhall@yahoo.com          </td><td>8522 Regina Port Suite 782\n",
              "Port Kaitlin, TX 50501-7264     </td><td>MediumSlateBlue </td><td>32.33599</td><td>13.00782</td><td>37.85178</td><td>2.996365</td><td>486.8389</td></tr>\n",
              "\t<tr><td>tinasmith@martinez.info        </td><td>40000 Ann Port Suite 474\n",
              "Youngberg, MS 03651               </td><td>LemonChiffon    </td><td>33.11021</td><td>11.98204</td><td>35.29309</td><td>3.923489</td><td>529.5377</td></tr>\n",
              "\t<tr><td>chasejennifer@hotmail.com      </td><td>9507 Robert Prairie Apt. 601\n",
              "East Crystalview, SC 56814    </td><td>DarkOrchid      </td><td>33.10544</td><td>11.96502</td><td>37.27781</td><td>4.742578</td><td>554.7221</td></tr>\n",
              "\t<tr><td>⋮</td><td>⋮</td><td>⋮</td><td>⋮</td><td>⋮</td><td>⋮</td><td>⋮</td><td>⋮</td></tr>\n",
              "\t<tr><td>kennethperry@bowen.org       </td><td>272 Frederick Lodge\n",
              "East Andrew, FL 07414                    </td><td>SlateGray     </td><td>32.51820</td><td>11.50925</td><td>36.59929</td><td>3.022676</td><td>424.7288</td></tr>\n",
              "\t<tr><td>prussell@lopez.com           </td><td>9985 Wolf Pass\n",
              "Brandimouth, CA 63346                         </td><td>Bisque        </td><td>34.52302</td><td>11.40577</td><td>36.37827</td><td>4.041245</td><td>541.0498</td></tr>\n",
              "\t<tr><td>mosleyjacob@yahoo.com        </td><td>PSC 1790, Box 8872\n",
              "APO AE 01821-4769                         </td><td>Orange        </td><td>33.66599</td><td>12.26372</td><td>38.86023</td><td>3.139527</td><td>469.3831</td></tr>\n",
              "\t<tr><td>rhaas@yahoo.com              </td><td>4502 Jennifer Prairie Suite 029\n",
              "Lake Jesse, LA 02328-3633    </td><td>DimGray       </td><td>31.60984</td><td>12.71070</td><td>36.16646</td><td>2.562819</td><td>444.5455</td></tr>\n",
              "\t<tr><td>antonioharris@hotmail.com    </td><td>4307 Nicholas Drive Apt. 259\n",
              "Ramirezberg, AS 59832           </td><td>MediumBlue    </td><td>33.70089</td><td>13.47158</td><td>37.07164</td><td>2.379076</td><td>492.5568</td></tr>\n",
              "\t<tr><td>austinthomas@gmail.com       </td><td>5855 Gross Burgs Suite 169\n",
              "Ballland, AS 98525                </td><td>AntiqueWhite  </td><td>33.81173</td><td>11.18681</td><td>36.29889</td><td>4.301996</td><td>535.3216</td></tr>\n",
              "\t<tr><td>bethsullivan@reed.net        </td><td>80500 Mary Corners Apt. 225\n",
              "Wallsville, ME 80526             </td><td>Beige         </td><td>34.33668</td><td>11.24681</td><td>38.68258</td><td>2.094762</td><td>408.9583</td></tr>\n",
              "\t<tr><td>ncummings@yahoo.com          </td><td>344 Jessica Stravenue\n",
              "New Brian, MA 04730-6761               </td><td>Beige         </td><td>31.06133</td><td>12.35764</td><td>36.16604</td><td>4.089331</td><td>487.5555</td></tr>\n",
              "\t<tr><td>hking@hotmail.com            </td><td>85181 Christian Courts Suite 758\n",
              "Larryfurt, MS 38722-6766    </td><td>PeachPuff     </td><td>33.06977</td><td>11.76433</td><td>36.87503</td><td>3.516051</td><td>487.6462</td></tr>\n",
              "\t<tr><td>annstone@hotmail.com         </td><td>543 Reynolds Burg\n",
              "Melindaberg, KY 46631                      </td><td>LightPink     </td><td>34.60624</td><td>11.76188</td><td>38.12652</td><td>1.820811</td><td>402.1671</td></tr>\n",
              "\t<tr><td>christopher44@hotmail.com    </td><td>549 Anna Avenue\n",
              "Port Laura, CA 76209-9339                    </td><td>WhiteSmoke    </td><td>34.23824</td><td>11.55030</td><td>35.76933</td><td>4.183144</td><td>551.0230</td></tr>\n",
              "\t<tr><td>autumn88@mendoza-mills.com   </td><td>214 Obrien Lakes Suite 572\n",
              "South Jeremy, KS 52867-7617       </td><td>MediumOrchid  </td><td>32.04781</td><td>12.48267</td><td>35.53602</td><td>3.393903</td><td>497.3896</td></tr>\n",
              "\t<tr><td>dhudson@ramos.net            </td><td>5661 Grant Centers\n",
              "Stevensfurt, CT 53959                     </td><td>Olive         </td><td>30.97168</td><td>11.73136</td><td>36.07455</td><td>4.426364</td><td>494.6386</td></tr>\n",
              "\t<tr><td>egomez@hotmail.com           </td><td>768 Riley Pine Apt. 624\n",
              "Kellymouth, OK 98992-3108            </td><td>MistyRose     </td><td>33.60685</td><td>12.21407</td><td>37.19843</td><td>2.905238</td><td>479.2474</td></tr>\n",
              "\t<tr><td>kimberlyruiz@smith-gordon.com</td><td>503 Adams Pines Apt. 638\n",
              "North Ashleyside, AZ 34687-6128     </td><td>DarkRed       </td><td>33.44813</td><td>11.90376</td><td>36.87454</td><td>2.782758</td><td>462.6565</td></tr>\n",
              "\t<tr><td>mooremichelle@logan.com      </td><td>07813 Randy Point\n",
              "Lake Thomasberg, MO 06013-9920             </td><td>Pink          </td><td>33.36938</td><td>12.22248</td><td>36.35523</td><td>3.447018</td><td>515.5025</td></tr>\n",
              "\t<tr><td>aaron22@gmail.com            </td><td>38678 Sean Drive Suite 293\n",
              "Karentown, IA 78306-2717          </td><td>DarkGray      </td><td>33.45230</td><td>12.00592</td><td>36.53410</td><td>4.712234</td><td>576.4776</td></tr>\n",
              "\t<tr><td>michelleshepherd@price.com   </td><td>6820 Erica Vista Apt. 418\n",
              "Brightside, IA 50639               </td><td>Orchid        </td><td>32.90469</td><td>11.91375</td><td>36.05865</td><td>1.228112</td><td>357.8580</td></tr>\n",
              "\t<tr><td>zscott@wright.com            </td><td>9909 Hoffman Ranch Suite 195\n",
              "Scotthaven, SC 53575            </td><td>PeachPuff     </td><td>35.63085</td><td>12.12540</td><td>38.18776</td><td>4.019051</td><td>597.7399</td></tr>\n",
              "\t<tr><td>tracy79@wheeler.net          </td><td>513 Moore Crescent Apt. 416\n",
              "Amandaberg, GU 03655-2219        </td><td>Magenta       </td><td>32.24635</td><td>11.30555</td><td>37.13313</td><td>1.707390</td><td>327.3780</td></tr>\n",
              "\t<tr><td>brian28@sanchez.org          </td><td>7446 Mary Ferry\n",
              "Lake Sherryfurt, GA 49066-0207               </td><td>GhostWhite    </td><td>34.69559</td><td>11.60900</td><td>37.68488</td><td>3.163092</td><td>510.4014</td></tr>\n",
              "\t<tr><td>leonardhancock@hotmail.com   </td><td>64147 Alexander Station Apt. 474\n",
              "East Jasonview, MN 83788    </td><td>SeaShell      </td><td>34.34392</td><td>11.69306</td><td>36.81293</td><td>3.447093</td><td>510.5015</td></tr>\n",
              "\t<tr><td>davidsonkathleen@gmail.com   </td><td>70128 Zimmerman Overpass\n",
              "Robertsshire, VA 59860              </td><td>DarkBlue      </td><td>33.68094</td><td>11.20157</td><td>37.83545</td><td>2.208814</td><td>403.8195</td></tr>\n",
              "\t<tr><td>nathan84@lowery.net          </td><td>01242 Stephanie Ways Suite 003\n",
              "Churchville, MO 35617         </td><td>MediumSeaGreen</td><td>32.06091</td><td>12.62543</td><td>35.53914</td><td>5.412358</td><td>627.6033</td></tr>\n",
              "\t<tr><td>kellydeborah@chan.biz        </td><td>354 Sanchez Wall Suite 884\n",
              "Juliabury, VI 39735               </td><td>DarkTurquoise </td><td>33.43110</td><td>13.35063</td><td>37.96597</td><td>2.768852</td><td>510.6618</td></tr>\n",
              "\t<tr><td>lewisjessica@craig-evans.com </td><td>4483 Jones Motorway Suite 872\n",
              "Lake Jamiefurt, UT 75292       </td><td>Tan           </td><td>33.23766</td><td>13.56616</td><td>36.41798</td><td>3.746573</td><td>573.8474</td></tr>\n",
              "\t<tr><td>katrina56@gmail.com          </td><td>172 Owen Divide Suite 497\n",
              "West Richard, CA 19320             </td><td>PaleVioletRed </td><td>34.70253</td><td>11.69574</td><td>37.19027</td><td>3.576526</td><td>529.0490</td></tr>\n",
              "\t<tr><td>dale88@hotmail.com           </td><td>0787 Andrews Ranch Apt. 633\n",
              "South Chadburgh, TN 56128        </td><td>Cornsilk      </td><td>32.64678</td><td>11.49941</td><td>38.33258</td><td>4.958264</td><td>551.6201</td></tr>\n",
              "\t<tr><td>cwilson@hotmail.com          </td><td>680 Jennifer Lodge Apt. 808\n",
              "Brendachester, TX 05000-5873     </td><td>Teal          </td><td>33.32250</td><td>12.39142</td><td>36.84009</td><td>2.336485</td><td>456.4695</td></tr>\n",
              "\t<tr><td>hannahwilson@davidson.com    </td><td>49791 Rachel Heights Apt. 898\n",
              "East Drewborough, OR 55919-9528</td><td>DarkMagenta   </td><td>33.71598</td><td>12.41881</td><td>35.77102</td><td>2.735160</td><td>497.7786</td></tr>\n",
              "</tbody>\n",
              "</table>\n"
            ],
            "text/markdown": "\nA data.frame: 500 × 8\n\n| Email &lt;chr&gt; | Address &lt;chr&gt; | Avatar &lt;chr&gt; | Avg..Session.Length &lt;dbl&gt; | Time.on.App &lt;dbl&gt; | Time.on.Website &lt;dbl&gt; | Length.of.Membership &lt;dbl&gt; | Yearly.Amount.Spent &lt;dbl&gt; |\n|---|---|---|---|---|---|---|---|\n| mstephenson@fernandez.com       | 835 Frank Tunnel\nWrightmouth, MI 82180-9605                 | Violet           | 34.49727 | 12.65565 | 39.57767 | 4.082621 | 587.9511 |\n| hduke@hotmail.com               | 4547 Archer Common\nDiazchester, CA 06566-8576               | DarkGreen        | 31.92627 | 11.10946 | 37.26896 | 2.664034 | 392.2049 |\n| pallen@yahoo.com                | 24645 Valerie Unions Suite 582\nCobbborough, DC 99414-7564   | Bisque           | 33.00091 | 11.33028 | 37.11060 | 4.104543 | 487.5475 |\n| riverarebecca@gmail.com         | 1414 David Throughway\nPort Jason, OH 22070-1220             | SaddleBrown      | 34.30556 | 13.71751 | 36.72128 | 3.120179 | 581.8523 |\n| mstephens@davidson-herman.com   | 14023 Rodriguez Passage\nPort Jacobville, PR 37242-1057      | MediumAquaMarine | 33.33067 | 12.79519 | 37.53665 | 4.446308 | 599.4061 |\n| alvareznancy@lucas.biz          | 645 Martha Park Apt. 611\nJeffreychester, MN 67218-7250      | FloralWhite      | 33.87104 | 12.02693 | 34.47688 | 5.493507 | 637.1024 |\n| katherine20@yahoo.com           | 68388 Reyes Lights Suite 692\nJosephbury, WV 92213-0247      | DarkSlateBlue    | 32.02160 | 11.36635 | 36.68378 | 4.685017 | 521.5722 |\n| awatkins@yahoo.com              | Unit 6538 Box 8980\nDPO AP 09026-4941                        | Aqua             | 32.73914 | 12.35196 | 37.37336 | 4.434273 | 549.9041 |\n| vchurch@walter-martinez.com     | 860 Lee Key\nWest Debra, SD 97450-0495                       | Salmon           | 33.98777 | 13.38624 | 37.53450 | 3.273434 | 570.2004 |\n| bonnie69@lin.biz                | PSC 2734, Box 5255\nAPO AA 98456-7482                        | Brown            | 31.93655 | 11.81413 | 37.14517 | 3.202806 | 427.1994 |\n| andrew06@peterson.com           | 26104 Alexander Groves\nAlexandriaport, WY 28244-9149        | Tomato           | 33.99257 | 13.33898 | 37.22581 | 2.482608 | 492.6060 |\n| ryanwerner@freeman.biz          | Unit 2413 Box 0347\nDPO AA 07580-2652                        | Tomato           | 33.87936 | 11.58478 | 37.08793 | 3.713209 | 522.3374 |\n| knelson@gmail.com               | 6705 Miller Orchard Suite 186\nLake Shanestad, MO 75696-5051 | RoyalBlue        | 29.53243 | 10.96130 | 37.42022 | 4.046423 | 408.6404 |\n| wrightpeter@yahoo.com           | 05302 Dunlap Ferry\nNew Stephaniehaven, MP 42268             | Bisque           | 33.19033 | 12.95923 | 36.14467 | 3.918542 | 573.4159 |\n| taylormason@gmail.com           | 7773 Powell Springs Suite 190\nSamanthaland, ND 44358        | DarkBlue         | 32.38798 | 13.14873 | 36.61996 | 2.494544 | 470.4527 |\n| jstark@anderson.com             | 49558 Ramirez Road Suite 399\nPhillipstad, OH 35641-3238     | Peru             | 30.73772 | 12.63661 | 36.21376 | 3.357847 | 461.7807 |\n| wjennings@gmail.com             | 6362 Wilson Mountain\nJohnsonfurt, GA 15169                  | PowderBlue       | 32.12539 | 11.73386 | 34.89409 | 3.136133 | 457.8477 |\n| rebecca45@hale-bauer.biz        | 8982 Burton Row\nWilsonton, PW 88606                         | OliveDrab        | 32.33890 | 12.01319 | 38.38514 | 2.420806 | 407.7045 |\n| alejandro75@hotmail.com         | 64475 Andre Club Apt. 795\nPort Dannytown, PW 63227          | Cyan             | 32.18781 | 14.71539 | 38.24411 | 1.516576 | 452.3157 |\n| samuel46@love-west.net          | 544 Alexander Heights Suite 768\nNorth Johnview, MT 57912    | LightSeaGreen    | 32.61786 | 13.98959 | 37.19050 | 4.064549 | 605.0610 |\n| megan33@gmail.com               | 84426 Julia Vista\nNorth Teresa, KY 50756                    | PeachPuff        | 32.91279 | 11.36549 | 37.60779 | 4.599937 | 534.7057 |\n| agolden@yahoo.com               | PSC 2490, Box 2120\nAPO AE 15445-2876                        | Black            | 33.50309 | 12.87798 | 37.44102 | 1.559152 | 419.9388 |\n| vstafford@hotmail.com           | PSC 5723, Box 8159\nAPO AA 74738                             | Olive            | 31.53160 | 13.37856 | 38.73401 | 2.245148 | 436.5156 |\n| denise22@hernandez-townsend.com | USNS Cardenas\nFPO AA 85439-9449                             | Silver           | 32.90325 | 11.65758 | 36.77260 | 3.919302 | 519.3410 |\n| youngbarbara@yahoo.com          | 019 Elliott Tunnel Suite 190\nNicholsbury, WV 60804-4440     | Wheat            | 34.50755 | 12.89367 | 37.63576 | 5.705154 | 700.9171 |\n| william25@mcconnell.com         | 9495 Mary Fall Apt. 777\nGlassport, ND 17957-5596            | Teal             | 33.02933 | 11.76581 | 37.73852 | 2.721736 | 423.1800 |\n| ijones@schaefer-carr.net        | 657 Judith Crossroad\nHancockchester, VI 75658-5788          | Linen            | 33.54123 | 12.78389 | 36.43065 | 4.648199 | 619.8956 |\n| heatherhall@yahoo.com           | 8522 Regina Port Suite 782\nPort Kaitlin, TX 50501-7264      | MediumSlateBlue  | 32.33599 | 13.00782 | 37.85178 | 2.996365 | 486.8389 |\n| tinasmith@martinez.info         | 40000 Ann Port Suite 474\nYoungberg, MS 03651                | LemonChiffon     | 33.11021 | 11.98204 | 35.29309 | 3.923489 | 529.5377 |\n| chasejennifer@hotmail.com       | 9507 Robert Prairie Apt. 601\nEast Crystalview, SC 56814     | DarkOrchid       | 33.10544 | 11.96502 | 37.27781 | 4.742578 | 554.7221 |\n| ⋮ | ⋮ | ⋮ | ⋮ | ⋮ | ⋮ | ⋮ | ⋮ |\n| kennethperry@bowen.org        | 272 Frederick Lodge\nEast Andrew, FL 07414                     | SlateGray      | 32.51820 | 11.50925 | 36.59929 | 3.022676 | 424.7288 |\n| prussell@lopez.com            | 9985 Wolf Pass\nBrandimouth, CA 63346                          | Bisque         | 34.52302 | 11.40577 | 36.37827 | 4.041245 | 541.0498 |\n| mosleyjacob@yahoo.com         | PSC 1790, Box 8872\nAPO AE 01821-4769                          | Orange         | 33.66599 | 12.26372 | 38.86023 | 3.139527 | 469.3831 |\n| rhaas@yahoo.com               | 4502 Jennifer Prairie Suite 029\nLake Jesse, LA 02328-3633     | DimGray        | 31.60984 | 12.71070 | 36.16646 | 2.562819 | 444.5455 |\n| antonioharris@hotmail.com     | 4307 Nicholas Drive Apt. 259\nRamirezberg, AS 59832            | MediumBlue     | 33.70089 | 13.47158 | 37.07164 | 2.379076 | 492.5568 |\n| austinthomas@gmail.com        | 5855 Gross Burgs Suite 169\nBallland, AS 98525                 | AntiqueWhite   | 33.81173 | 11.18681 | 36.29889 | 4.301996 | 535.3216 |\n| bethsullivan@reed.net         | 80500 Mary Corners Apt. 225\nWallsville, ME 80526              | Beige          | 34.33668 | 11.24681 | 38.68258 | 2.094762 | 408.9583 |\n| ncummings@yahoo.com           | 344 Jessica Stravenue\nNew Brian, MA 04730-6761                | Beige          | 31.06133 | 12.35764 | 36.16604 | 4.089331 | 487.5555 |\n| hking@hotmail.com             | 85181 Christian Courts Suite 758\nLarryfurt, MS 38722-6766     | PeachPuff      | 33.06977 | 11.76433 | 36.87503 | 3.516051 | 487.6462 |\n| annstone@hotmail.com          | 543 Reynolds Burg\nMelindaberg, KY 46631                       | LightPink      | 34.60624 | 11.76188 | 38.12652 | 1.820811 | 402.1671 |\n| christopher44@hotmail.com     | 549 Anna Avenue\nPort Laura, CA 76209-9339                     | WhiteSmoke     | 34.23824 | 11.55030 | 35.76933 | 4.183144 | 551.0230 |\n| autumn88@mendoza-mills.com    | 214 Obrien Lakes Suite 572\nSouth Jeremy, KS 52867-7617        | MediumOrchid   | 32.04781 | 12.48267 | 35.53602 | 3.393903 | 497.3896 |\n| dhudson@ramos.net             | 5661 Grant Centers\nStevensfurt, CT 53959                      | Olive          | 30.97168 | 11.73136 | 36.07455 | 4.426364 | 494.6386 |\n| egomez@hotmail.com            | 768 Riley Pine Apt. 624\nKellymouth, OK 98992-3108             | MistyRose      | 33.60685 | 12.21407 | 37.19843 | 2.905238 | 479.2474 |\n| kimberlyruiz@smith-gordon.com | 503 Adams Pines Apt. 638\nNorth Ashleyside, AZ 34687-6128      | DarkRed        | 33.44813 | 11.90376 | 36.87454 | 2.782758 | 462.6565 |\n| mooremichelle@logan.com       | 07813 Randy Point\nLake Thomasberg, MO 06013-9920              | Pink           | 33.36938 | 12.22248 | 36.35523 | 3.447018 | 515.5025 |\n| aaron22@gmail.com             | 38678 Sean Drive Suite 293\nKarentown, IA 78306-2717           | DarkGray       | 33.45230 | 12.00592 | 36.53410 | 4.712234 | 576.4776 |\n| michelleshepherd@price.com    | 6820 Erica Vista Apt. 418\nBrightside, IA 50639                | Orchid         | 32.90469 | 11.91375 | 36.05865 | 1.228112 | 357.8580 |\n| zscott@wright.com             | 9909 Hoffman Ranch Suite 195\nScotthaven, SC 53575             | PeachPuff      | 35.63085 | 12.12540 | 38.18776 | 4.019051 | 597.7399 |\n| tracy79@wheeler.net           | 513 Moore Crescent Apt. 416\nAmandaberg, GU 03655-2219         | Magenta        | 32.24635 | 11.30555 | 37.13313 | 1.707390 | 327.3780 |\n| brian28@sanchez.org           | 7446 Mary Ferry\nLake Sherryfurt, GA 49066-0207                | GhostWhite     | 34.69559 | 11.60900 | 37.68488 | 3.163092 | 510.4014 |\n| leonardhancock@hotmail.com    | 64147 Alexander Station Apt. 474\nEast Jasonview, MN 83788     | SeaShell       | 34.34392 | 11.69306 | 36.81293 | 3.447093 | 510.5015 |\n| davidsonkathleen@gmail.com    | 70128 Zimmerman Overpass\nRobertsshire, VA 59860               | DarkBlue       | 33.68094 | 11.20157 | 37.83545 | 2.208814 | 403.8195 |\n| nathan84@lowery.net           | 01242 Stephanie Ways Suite 003\nChurchville, MO 35617          | MediumSeaGreen | 32.06091 | 12.62543 | 35.53914 | 5.412358 | 627.6033 |\n| kellydeborah@chan.biz         | 354 Sanchez Wall Suite 884\nJuliabury, VI 39735                | DarkTurquoise  | 33.43110 | 13.35063 | 37.96597 | 2.768852 | 510.6618 |\n| lewisjessica@craig-evans.com  | 4483 Jones Motorway Suite 872\nLake Jamiefurt, UT 75292        | Tan            | 33.23766 | 13.56616 | 36.41798 | 3.746573 | 573.8474 |\n| katrina56@gmail.com           | 172 Owen Divide Suite 497\nWest Richard, CA 19320              | PaleVioletRed  | 34.70253 | 11.69574 | 37.19027 | 3.576526 | 529.0490 |\n| dale88@hotmail.com            | 0787 Andrews Ranch Apt. 633\nSouth Chadburgh, TN 56128         | Cornsilk       | 32.64678 | 11.49941 | 38.33258 | 4.958264 | 551.6201 |\n| cwilson@hotmail.com           | 680 Jennifer Lodge Apt. 808\nBrendachester, TX 05000-5873      | Teal           | 33.32250 | 12.39142 | 36.84009 | 2.336485 | 456.4695 |\n| hannahwilson@davidson.com     | 49791 Rachel Heights Apt. 898\nEast Drewborough, OR 55919-9528 | DarkMagenta    | 33.71598 | 12.41881 | 35.77102 | 2.735160 | 497.7786 |\n\n",
            "text/latex": "A data.frame: 500 × 8\n\\begin{tabular}{llllllll}\n Email & Address & Avatar & Avg..Session.Length & Time.on.App & Time.on.Website & Length.of.Membership & Yearly.Amount.Spent\\\\\n <chr> & <chr> & <chr> & <dbl> & <dbl> & <dbl> & <dbl> & <dbl>\\\\\n\\hline\n\t mstephenson@fernandez.com       & 835 Frank Tunnel\nWrightmouth, MI 82180-9605                 & Violet           & 34.49727 & 12.65565 & 39.57767 & 4.082621 & 587.9511\\\\\n\t hduke@hotmail.com               & 4547 Archer Common\nDiazchester, CA 06566-8576               & DarkGreen        & 31.92627 & 11.10946 & 37.26896 & 2.664034 & 392.2049\\\\\n\t pallen@yahoo.com                & 24645 Valerie Unions Suite 582\nCobbborough, DC 99414-7564   & Bisque           & 33.00091 & 11.33028 & 37.11060 & 4.104543 & 487.5475\\\\\n\t riverarebecca@gmail.com         & 1414 David Throughway\nPort Jason, OH 22070-1220             & SaddleBrown      & 34.30556 & 13.71751 & 36.72128 & 3.120179 & 581.8523\\\\\n\t mstephens@davidson-herman.com   & 14023 Rodriguez Passage\nPort Jacobville, PR 37242-1057      & MediumAquaMarine & 33.33067 & 12.79519 & 37.53665 & 4.446308 & 599.4061\\\\\n\t alvareznancy@lucas.biz          & 645 Martha Park Apt. 611\nJeffreychester, MN 67218-7250      & FloralWhite      & 33.87104 & 12.02693 & 34.47688 & 5.493507 & 637.1024\\\\\n\t katherine20@yahoo.com           & 68388 Reyes Lights Suite 692\nJosephbury, WV 92213-0247      & DarkSlateBlue    & 32.02160 & 11.36635 & 36.68378 & 4.685017 & 521.5722\\\\\n\t awatkins@yahoo.com              & Unit 6538 Box 8980\nDPO AP 09026-4941                        & Aqua             & 32.73914 & 12.35196 & 37.37336 & 4.434273 & 549.9041\\\\\n\t vchurch@walter-martinez.com     & 860 Lee Key\nWest Debra, SD 97450-0495                       & Salmon           & 33.98777 & 13.38624 & 37.53450 & 3.273434 & 570.2004\\\\\n\t bonnie69@lin.biz                & PSC 2734, Box 5255\nAPO AA 98456-7482                        & Brown            & 31.93655 & 11.81413 & 37.14517 & 3.202806 & 427.1994\\\\\n\t andrew06@peterson.com           & 26104 Alexander Groves\nAlexandriaport, WY 28244-9149        & Tomato           & 33.99257 & 13.33898 & 37.22581 & 2.482608 & 492.6060\\\\\n\t ryanwerner@freeman.biz          & Unit 2413 Box 0347\nDPO AA 07580-2652                        & Tomato           & 33.87936 & 11.58478 & 37.08793 & 3.713209 & 522.3374\\\\\n\t knelson@gmail.com               & 6705 Miller Orchard Suite 186\nLake Shanestad, MO 75696-5051 & RoyalBlue        & 29.53243 & 10.96130 & 37.42022 & 4.046423 & 408.6404\\\\\n\t wrightpeter@yahoo.com           & 05302 Dunlap Ferry\nNew Stephaniehaven, MP 42268             & Bisque           & 33.19033 & 12.95923 & 36.14467 & 3.918542 & 573.4159\\\\\n\t taylormason@gmail.com           & 7773 Powell Springs Suite 190\nSamanthaland, ND 44358        & DarkBlue         & 32.38798 & 13.14873 & 36.61996 & 2.494544 & 470.4527\\\\\n\t jstark@anderson.com             & 49558 Ramirez Road Suite 399\nPhillipstad, OH 35641-3238     & Peru             & 30.73772 & 12.63661 & 36.21376 & 3.357847 & 461.7807\\\\\n\t wjennings@gmail.com             & 6362 Wilson Mountain\nJohnsonfurt, GA 15169                  & PowderBlue       & 32.12539 & 11.73386 & 34.89409 & 3.136133 & 457.8477\\\\\n\t rebecca45@hale-bauer.biz        & 8982 Burton Row\nWilsonton, PW 88606                         & OliveDrab        & 32.33890 & 12.01319 & 38.38514 & 2.420806 & 407.7045\\\\\n\t alejandro75@hotmail.com         & 64475 Andre Club Apt. 795\nPort Dannytown, PW 63227          & Cyan             & 32.18781 & 14.71539 & 38.24411 & 1.516576 & 452.3157\\\\\n\t samuel46@love-west.net          & 544 Alexander Heights Suite 768\nNorth Johnview, MT 57912    & LightSeaGreen    & 32.61786 & 13.98959 & 37.19050 & 4.064549 & 605.0610\\\\\n\t megan33@gmail.com               & 84426 Julia Vista\nNorth Teresa, KY 50756                    & PeachPuff        & 32.91279 & 11.36549 & 37.60779 & 4.599937 & 534.7057\\\\\n\t agolden@yahoo.com               & PSC 2490, Box 2120\nAPO AE 15445-2876                        & Black            & 33.50309 & 12.87798 & 37.44102 & 1.559152 & 419.9388\\\\\n\t vstafford@hotmail.com           & PSC 5723, Box 8159\nAPO AA 74738                             & Olive            & 31.53160 & 13.37856 & 38.73401 & 2.245148 & 436.5156\\\\\n\t denise22@hernandez-townsend.com & USNS Cardenas\nFPO AA 85439-9449                             & Silver           & 32.90325 & 11.65758 & 36.77260 & 3.919302 & 519.3410\\\\\n\t youngbarbara@yahoo.com          & 019 Elliott Tunnel Suite 190\nNicholsbury, WV 60804-4440     & Wheat            & 34.50755 & 12.89367 & 37.63576 & 5.705154 & 700.9171\\\\\n\t william25@mcconnell.com         & 9495 Mary Fall Apt. 777\nGlassport, ND 17957-5596            & Teal             & 33.02933 & 11.76581 & 37.73852 & 2.721736 & 423.1800\\\\\n\t ijones@schaefer-carr.net        & 657 Judith Crossroad\nHancockchester, VI 75658-5788          & Linen            & 33.54123 & 12.78389 & 36.43065 & 4.648199 & 619.8956\\\\\n\t heatherhall@yahoo.com           & 8522 Regina Port Suite 782\nPort Kaitlin, TX 50501-7264      & MediumSlateBlue  & 32.33599 & 13.00782 & 37.85178 & 2.996365 & 486.8389\\\\\n\t tinasmith@martinez.info         & 40000 Ann Port Suite 474\nYoungberg, MS 03651                & LemonChiffon     & 33.11021 & 11.98204 & 35.29309 & 3.923489 & 529.5377\\\\\n\t chasejennifer@hotmail.com       & 9507 Robert Prairie Apt. 601\nEast Crystalview, SC 56814     & DarkOrchid       & 33.10544 & 11.96502 & 37.27781 & 4.742578 & 554.7221\\\\\n\t ⋮ & ⋮ & ⋮ & ⋮ & ⋮ & ⋮ & ⋮ & ⋮\\\\\n\t kennethperry@bowen.org        & 272 Frederick Lodge\nEast Andrew, FL 07414                     & SlateGray      & 32.51820 & 11.50925 & 36.59929 & 3.022676 & 424.7288\\\\\n\t prussell@lopez.com            & 9985 Wolf Pass\nBrandimouth, CA 63346                          & Bisque         & 34.52302 & 11.40577 & 36.37827 & 4.041245 & 541.0498\\\\\n\t mosleyjacob@yahoo.com         & PSC 1790, Box 8872\nAPO AE 01821-4769                          & Orange         & 33.66599 & 12.26372 & 38.86023 & 3.139527 & 469.3831\\\\\n\t rhaas@yahoo.com               & 4502 Jennifer Prairie Suite 029\nLake Jesse, LA 02328-3633     & DimGray        & 31.60984 & 12.71070 & 36.16646 & 2.562819 & 444.5455\\\\\n\t antonioharris@hotmail.com     & 4307 Nicholas Drive Apt. 259\nRamirezberg, AS 59832            & MediumBlue     & 33.70089 & 13.47158 & 37.07164 & 2.379076 & 492.5568\\\\\n\t austinthomas@gmail.com        & 5855 Gross Burgs Suite 169\nBallland, AS 98525                 & AntiqueWhite   & 33.81173 & 11.18681 & 36.29889 & 4.301996 & 535.3216\\\\\n\t bethsullivan@reed.net         & 80500 Mary Corners Apt. 225\nWallsville, ME 80526              & Beige          & 34.33668 & 11.24681 & 38.68258 & 2.094762 & 408.9583\\\\\n\t ncummings@yahoo.com           & 344 Jessica Stravenue\nNew Brian, MA 04730-6761                & Beige          & 31.06133 & 12.35764 & 36.16604 & 4.089331 & 487.5555\\\\\n\t hking@hotmail.com             & 85181 Christian Courts Suite 758\nLarryfurt, MS 38722-6766     & PeachPuff      & 33.06977 & 11.76433 & 36.87503 & 3.516051 & 487.6462\\\\\n\t annstone@hotmail.com          & 543 Reynolds Burg\nMelindaberg, KY 46631                       & LightPink      & 34.60624 & 11.76188 & 38.12652 & 1.820811 & 402.1671\\\\\n\t christopher44@hotmail.com     & 549 Anna Avenue\nPort Laura, CA 76209-9339                     & WhiteSmoke     & 34.23824 & 11.55030 & 35.76933 & 4.183144 & 551.0230\\\\\n\t autumn88@mendoza-mills.com    & 214 Obrien Lakes Suite 572\nSouth Jeremy, KS 52867-7617        & MediumOrchid   & 32.04781 & 12.48267 & 35.53602 & 3.393903 & 497.3896\\\\\n\t dhudson@ramos.net             & 5661 Grant Centers\nStevensfurt, CT 53959                      & Olive          & 30.97168 & 11.73136 & 36.07455 & 4.426364 & 494.6386\\\\\n\t egomez@hotmail.com            & 768 Riley Pine Apt. 624\nKellymouth, OK 98992-3108             & MistyRose      & 33.60685 & 12.21407 & 37.19843 & 2.905238 & 479.2474\\\\\n\t kimberlyruiz@smith-gordon.com & 503 Adams Pines Apt. 638\nNorth Ashleyside, AZ 34687-6128      & DarkRed        & 33.44813 & 11.90376 & 36.87454 & 2.782758 & 462.6565\\\\\n\t mooremichelle@logan.com       & 07813 Randy Point\nLake Thomasberg, MO 06013-9920              & Pink           & 33.36938 & 12.22248 & 36.35523 & 3.447018 & 515.5025\\\\\n\t aaron22@gmail.com             & 38678 Sean Drive Suite 293\nKarentown, IA 78306-2717           & DarkGray       & 33.45230 & 12.00592 & 36.53410 & 4.712234 & 576.4776\\\\\n\t michelleshepherd@price.com    & 6820 Erica Vista Apt. 418\nBrightside, IA 50639                & Orchid         & 32.90469 & 11.91375 & 36.05865 & 1.228112 & 357.8580\\\\\n\t zscott@wright.com             & 9909 Hoffman Ranch Suite 195\nScotthaven, SC 53575             & PeachPuff      & 35.63085 & 12.12540 & 38.18776 & 4.019051 & 597.7399\\\\\n\t tracy79@wheeler.net           & 513 Moore Crescent Apt. 416\nAmandaberg, GU 03655-2219         & Magenta        & 32.24635 & 11.30555 & 37.13313 & 1.707390 & 327.3780\\\\\n\t brian28@sanchez.org           & 7446 Mary Ferry\nLake Sherryfurt, GA 49066-0207                & GhostWhite     & 34.69559 & 11.60900 & 37.68488 & 3.163092 & 510.4014\\\\\n\t leonardhancock@hotmail.com    & 64147 Alexander Station Apt. 474\nEast Jasonview, MN 83788     & SeaShell       & 34.34392 & 11.69306 & 36.81293 & 3.447093 & 510.5015\\\\\n\t davidsonkathleen@gmail.com    & 70128 Zimmerman Overpass\nRobertsshire, VA 59860               & DarkBlue       & 33.68094 & 11.20157 & 37.83545 & 2.208814 & 403.8195\\\\\n\t nathan84@lowery.net           & 01242 Stephanie Ways Suite 003\nChurchville, MO 35617          & MediumSeaGreen & 32.06091 & 12.62543 & 35.53914 & 5.412358 & 627.6033\\\\\n\t kellydeborah@chan.biz         & 354 Sanchez Wall Suite 884\nJuliabury, VI 39735                & DarkTurquoise  & 33.43110 & 13.35063 & 37.96597 & 2.768852 & 510.6618\\\\\n\t lewisjessica@craig-evans.com  & 4483 Jones Motorway Suite 872\nLake Jamiefurt, UT 75292        & Tan            & 33.23766 & 13.56616 & 36.41798 & 3.746573 & 573.8474\\\\\n\t katrina56@gmail.com           & 172 Owen Divide Suite 497\nWest Richard, CA 19320              & PaleVioletRed  & 34.70253 & 11.69574 & 37.19027 & 3.576526 & 529.0490\\\\\n\t dale88@hotmail.com            & 0787 Andrews Ranch Apt. 633\nSouth Chadburgh, TN 56128         & Cornsilk       & 32.64678 & 11.49941 & 38.33258 & 4.958264 & 551.6201\\\\\n\t cwilson@hotmail.com           & 680 Jennifer Lodge Apt. 808\nBrendachester, TX 05000-5873      & Teal           & 33.32250 & 12.39142 & 36.84009 & 2.336485 & 456.4695\\\\\n\t hannahwilson@davidson.com     & 49791 Rachel Heights Apt. 898\nEast Drewborough, OR 55919-9528 & DarkMagenta    & 33.71598 & 12.41881 & 35.77102 & 2.735160 & 497.7786\\\\\n\\end{tabular}\n",
            "text/plain": [
              "    Email                          \n",
              "1   mstephenson@fernandez.com      \n",
              "2   hduke@hotmail.com              \n",
              "3   pallen@yahoo.com               \n",
              "4   riverarebecca@gmail.com        \n",
              "5   mstephens@davidson-herman.com  \n",
              "6   alvareznancy@lucas.biz         \n",
              "7   katherine20@yahoo.com          \n",
              "8   awatkins@yahoo.com             \n",
              "9   vchurch@walter-martinez.com    \n",
              "10  bonnie69@lin.biz               \n",
              "11  andrew06@peterson.com          \n",
              "12  ryanwerner@freeman.biz         \n",
              "13  knelson@gmail.com              \n",
              "14  wrightpeter@yahoo.com          \n",
              "15  taylormason@gmail.com          \n",
              "16  jstark@anderson.com            \n",
              "17  wjennings@gmail.com            \n",
              "18  rebecca45@hale-bauer.biz       \n",
              "19  alejandro75@hotmail.com        \n",
              "20  samuel46@love-west.net         \n",
              "21  megan33@gmail.com              \n",
              "22  agolden@yahoo.com              \n",
              "23  vstafford@hotmail.com          \n",
              "24  denise22@hernandez-townsend.com\n",
              "25  youngbarbara@yahoo.com         \n",
              "26  william25@mcconnell.com        \n",
              "27  ijones@schaefer-carr.net       \n",
              "28  heatherhall@yahoo.com          \n",
              "29  tinasmith@martinez.info        \n",
              "30  chasejennifer@hotmail.com      \n",
              "⋮   ⋮                              \n",
              "471 kennethperry@bowen.org         \n",
              "472 prussell@lopez.com             \n",
              "473 mosleyjacob@yahoo.com          \n",
              "474 rhaas@yahoo.com                \n",
              "475 antonioharris@hotmail.com      \n",
              "476 austinthomas@gmail.com         \n",
              "477 bethsullivan@reed.net          \n",
              "478 ncummings@yahoo.com            \n",
              "479 hking@hotmail.com              \n",
              "480 annstone@hotmail.com           \n",
              "481 christopher44@hotmail.com      \n",
              "482 autumn88@mendoza-mills.com     \n",
              "483 dhudson@ramos.net              \n",
              "484 egomez@hotmail.com             \n",
              "485 kimberlyruiz@smith-gordon.com  \n",
              "486 mooremichelle@logan.com        \n",
              "487 aaron22@gmail.com              \n",
              "488 michelleshepherd@price.com     \n",
              "489 zscott@wright.com              \n",
              "490 tracy79@wheeler.net            \n",
              "491 brian28@sanchez.org            \n",
              "492 leonardhancock@hotmail.com     \n",
              "493 davidsonkathleen@gmail.com     \n",
              "494 nathan84@lowery.net            \n",
              "495 kellydeborah@chan.biz          \n",
              "496 lewisjessica@craig-evans.com   \n",
              "497 katrina56@gmail.com            \n",
              "498 dale88@hotmail.com             \n",
              "499 cwilson@hotmail.com            \n",
              "500 hannahwilson@davidson.com      \n",
              "    Address                                                       \n",
              "1   835 Frank Tunnel\\nWrightmouth, MI 82180-9605                  \n",
              "2   4547 Archer Common\\nDiazchester, CA 06566-8576                \n",
              "3   24645 Valerie Unions Suite 582\\nCobbborough, DC 99414-7564    \n",
              "4   1414 David Throughway\\nPort Jason, OH 22070-1220              \n",
              "5   14023 Rodriguez Passage\\nPort Jacobville, PR 37242-1057       \n",
              "6   645 Martha Park Apt. 611\\nJeffreychester, MN 67218-7250       \n",
              "7   68388 Reyes Lights Suite 692\\nJosephbury, WV 92213-0247       \n",
              "8   Unit 6538 Box 8980\\nDPO AP 09026-4941                         \n",
              "9   860 Lee Key\\nWest Debra, SD 97450-0495                        \n",
              "10  PSC 2734, Box 5255\\nAPO AA 98456-7482                         \n",
              "11  26104 Alexander Groves\\nAlexandriaport, WY 28244-9149         \n",
              "12  Unit 2413 Box 0347\\nDPO AA 07580-2652                         \n",
              "13  6705 Miller Orchard Suite 186\\nLake Shanestad, MO 75696-5051  \n",
              "14  05302 Dunlap Ferry\\nNew Stephaniehaven, MP 42268              \n",
              "15  7773 Powell Springs Suite 190\\nSamanthaland, ND 44358         \n",
              "16  49558 Ramirez Road Suite 399\\nPhillipstad, OH 35641-3238      \n",
              "17  6362 Wilson Mountain\\nJohnsonfurt, GA 15169                   \n",
              "18  8982 Burton Row\\nWilsonton, PW 88606                          \n",
              "19  64475 Andre Club Apt. 795\\nPort Dannytown, PW 63227           \n",
              "20  544 Alexander Heights Suite 768\\nNorth Johnview, MT 57912     \n",
              "21  84426 Julia Vista\\nNorth Teresa, KY 50756                     \n",
              "22  PSC 2490, Box 2120\\nAPO AE 15445-2876                         \n",
              "23  PSC 5723, Box 8159\\nAPO AA 74738                              \n",
              "24  USNS Cardenas\\nFPO AA 85439-9449                              \n",
              "25  019 Elliott Tunnel Suite 190\\nNicholsbury, WV 60804-4440      \n",
              "26  9495 Mary Fall Apt. 777\\nGlassport, ND 17957-5596             \n",
              "27  657 Judith Crossroad\\nHancockchester, VI 75658-5788           \n",
              "28  8522 Regina Port Suite 782\\nPort Kaitlin, TX 50501-7264       \n",
              "29  40000 Ann Port Suite 474\\nYoungberg, MS 03651                 \n",
              "30  9507 Robert Prairie Apt. 601\\nEast Crystalview, SC 56814      \n",
              "⋮   ⋮                                                             \n",
              "471 272 Frederick Lodge\\nEast Andrew, FL 07414                    \n",
              "472 9985 Wolf Pass\\nBrandimouth, CA 63346                         \n",
              "473 PSC 1790, Box 8872\\nAPO AE 01821-4769                         \n",
              "474 4502 Jennifer Prairie Suite 029\\nLake Jesse, LA 02328-3633    \n",
              "475 4307 Nicholas Drive Apt. 259\\nRamirezberg, AS 59832           \n",
              "476 5855 Gross Burgs Suite 169\\nBallland, AS 98525                \n",
              "477 80500 Mary Corners Apt. 225\\nWallsville, ME 80526             \n",
              "478 344 Jessica Stravenue\\nNew Brian, MA 04730-6761               \n",
              "479 85181 Christian Courts Suite 758\\nLarryfurt, MS 38722-6766    \n",
              "480 543 Reynolds Burg\\nMelindaberg, KY 46631                      \n",
              "481 549 Anna Avenue\\nPort Laura, CA 76209-9339                    \n",
              "482 214 Obrien Lakes Suite 572\\nSouth Jeremy, KS 52867-7617       \n",
              "483 5661 Grant Centers\\nStevensfurt, CT 53959                     \n",
              "484 768 Riley Pine Apt. 624\\nKellymouth, OK 98992-3108            \n",
              "485 503 Adams Pines Apt. 638\\nNorth Ashleyside, AZ 34687-6128     \n",
              "486 07813 Randy Point\\nLake Thomasberg, MO 06013-9920             \n",
              "487 38678 Sean Drive Suite 293\\nKarentown, IA 78306-2717          \n",
              "488 6820 Erica Vista Apt. 418\\nBrightside, IA 50639               \n",
              "489 9909 Hoffman Ranch Suite 195\\nScotthaven, SC 53575            \n",
              "490 513 Moore Crescent Apt. 416\\nAmandaberg, GU 03655-2219        \n",
              "491 7446 Mary Ferry\\nLake Sherryfurt, GA 49066-0207               \n",
              "492 64147 Alexander Station Apt. 474\\nEast Jasonview, MN 83788    \n",
              "493 70128 Zimmerman Overpass\\nRobertsshire, VA 59860              \n",
              "494 01242 Stephanie Ways Suite 003\\nChurchville, MO 35617         \n",
              "495 354 Sanchez Wall Suite 884\\nJuliabury, VI 39735               \n",
              "496 4483 Jones Motorway Suite 872\\nLake Jamiefurt, UT 75292       \n",
              "497 172 Owen Divide Suite 497\\nWest Richard, CA 19320             \n",
              "498 0787 Andrews Ranch Apt. 633\\nSouth Chadburgh, TN 56128        \n",
              "499 680 Jennifer Lodge Apt. 808\\nBrendachester, TX 05000-5873     \n",
              "500 49791 Rachel Heights Apt. 898\\nEast Drewborough, OR 55919-9528\n",
              "    Avatar           Avg..Session.Length Time.on.App Time.on.Website\n",
              "1   Violet           34.49727            12.65565    39.57767       \n",
              "2   DarkGreen        31.92627            11.10946    37.26896       \n",
              "3   Bisque           33.00091            11.33028    37.11060       \n",
              "4   SaddleBrown      34.30556            13.71751    36.72128       \n",
              "5   MediumAquaMarine 33.33067            12.79519    37.53665       \n",
              "6   FloralWhite      33.87104            12.02693    34.47688       \n",
              "7   DarkSlateBlue    32.02160            11.36635    36.68378       \n",
              "8   Aqua             32.73914            12.35196    37.37336       \n",
              "9   Salmon           33.98777            13.38624    37.53450       \n",
              "10  Brown            31.93655            11.81413    37.14517       \n",
              "11  Tomato           33.99257            13.33898    37.22581       \n",
              "12  Tomato           33.87936            11.58478    37.08793       \n",
              "13  RoyalBlue        29.53243            10.96130    37.42022       \n",
              "14  Bisque           33.19033            12.95923    36.14467       \n",
              "15  DarkBlue         32.38798            13.14873    36.61996       \n",
              "16  Peru             30.73772            12.63661    36.21376       \n",
              "17  PowderBlue       32.12539            11.73386    34.89409       \n",
              "18  OliveDrab        32.33890            12.01319    38.38514       \n",
              "19  Cyan             32.18781            14.71539    38.24411       \n",
              "20  LightSeaGreen    32.61786            13.98959    37.19050       \n",
              "21  PeachPuff        32.91279            11.36549    37.60779       \n",
              "22  Black            33.50309            12.87798    37.44102       \n",
              "23  Olive            31.53160            13.37856    38.73401       \n",
              "24  Silver           32.90325            11.65758    36.77260       \n",
              "25  Wheat            34.50755            12.89367    37.63576       \n",
              "26  Teal             33.02933            11.76581    37.73852       \n",
              "27  Linen            33.54123            12.78389    36.43065       \n",
              "28  MediumSlateBlue  32.33599            13.00782    37.85178       \n",
              "29  LemonChiffon     33.11021            11.98204    35.29309       \n",
              "30  DarkOrchid       33.10544            11.96502    37.27781       \n",
              "⋮   ⋮                ⋮                   ⋮           ⋮              \n",
              "471 SlateGray        32.51820            11.50925    36.59929       \n",
              "472 Bisque           34.52302            11.40577    36.37827       \n",
              "473 Orange           33.66599            12.26372    38.86023       \n",
              "474 DimGray          31.60984            12.71070    36.16646       \n",
              "475 MediumBlue       33.70089            13.47158    37.07164       \n",
              "476 AntiqueWhite     33.81173            11.18681    36.29889       \n",
              "477 Beige            34.33668            11.24681    38.68258       \n",
              "478 Beige            31.06133            12.35764    36.16604       \n",
              "479 PeachPuff        33.06977            11.76433    36.87503       \n",
              "480 LightPink        34.60624            11.76188    38.12652       \n",
              "481 WhiteSmoke       34.23824            11.55030    35.76933       \n",
              "482 MediumOrchid     32.04781            12.48267    35.53602       \n",
              "483 Olive            30.97168            11.73136    36.07455       \n",
              "484 MistyRose        33.60685            12.21407    37.19843       \n",
              "485 DarkRed          33.44813            11.90376    36.87454       \n",
              "486 Pink             33.36938            12.22248    36.35523       \n",
              "487 DarkGray         33.45230            12.00592    36.53410       \n",
              "488 Orchid           32.90469            11.91375    36.05865       \n",
              "489 PeachPuff        35.63085            12.12540    38.18776       \n",
              "490 Magenta          32.24635            11.30555    37.13313       \n",
              "491 GhostWhite       34.69559            11.60900    37.68488       \n",
              "492 SeaShell         34.34392            11.69306    36.81293       \n",
              "493 DarkBlue         33.68094            11.20157    37.83545       \n",
              "494 MediumSeaGreen   32.06091            12.62543    35.53914       \n",
              "495 DarkTurquoise    33.43110            13.35063    37.96597       \n",
              "496 Tan              33.23766            13.56616    36.41798       \n",
              "497 PaleVioletRed    34.70253            11.69574    37.19027       \n",
              "498 Cornsilk         32.64678            11.49941    38.33258       \n",
              "499 Teal             33.32250            12.39142    36.84009       \n",
              "500 DarkMagenta      33.71598            12.41881    35.77102       \n",
              "    Length.of.Membership Yearly.Amount.Spent\n",
              "1   4.082621             587.9511           \n",
              "2   2.664034             392.2049           \n",
              "3   4.104543             487.5475           \n",
              "4   3.120179             581.8523           \n",
              "5   4.446308             599.4061           \n",
              "6   5.493507             637.1024           \n",
              "7   4.685017             521.5722           \n",
              "8   4.434273             549.9041           \n",
              "9   3.273434             570.2004           \n",
              "10  3.202806             427.1994           \n",
              "11  2.482608             492.6060           \n",
              "12  3.713209             522.3374           \n",
              "13  4.046423             408.6404           \n",
              "14  3.918542             573.4159           \n",
              "15  2.494544             470.4527           \n",
              "16  3.357847             461.7807           \n",
              "17  3.136133             457.8477           \n",
              "18  2.420806             407.7045           \n",
              "19  1.516576             452.3157           \n",
              "20  4.064549             605.0610           \n",
              "21  4.599937             534.7057           \n",
              "22  1.559152             419.9388           \n",
              "23  2.245148             436.5156           \n",
              "24  3.919302             519.3410           \n",
              "25  5.705154             700.9171           \n",
              "26  2.721736             423.1800           \n",
              "27  4.648199             619.8956           \n",
              "28  2.996365             486.8389           \n",
              "29  3.923489             529.5377           \n",
              "30  4.742578             554.7221           \n",
              "⋮   ⋮                    ⋮                  \n",
              "471 3.022676             424.7288           \n",
              "472 4.041245             541.0498           \n",
              "473 3.139527             469.3831           \n",
              "474 2.562819             444.5455           \n",
              "475 2.379076             492.5568           \n",
              "476 4.301996             535.3216           \n",
              "477 2.094762             408.9583           \n",
              "478 4.089331             487.5555           \n",
              "479 3.516051             487.6462           \n",
              "480 1.820811             402.1671           \n",
              "481 4.183144             551.0230           \n",
              "482 3.393903             497.3896           \n",
              "483 4.426364             494.6386           \n",
              "484 2.905238             479.2474           \n",
              "485 2.782758             462.6565           \n",
              "486 3.447018             515.5025           \n",
              "487 4.712234             576.4776           \n",
              "488 1.228112             357.8580           \n",
              "489 4.019051             597.7399           \n",
              "490 1.707390             327.3780           \n",
              "491 3.163092             510.4014           \n",
              "492 3.447093             510.5015           \n",
              "493 2.208814             403.8195           \n",
              "494 5.412358             627.6033           \n",
              "495 2.768852             510.6618           \n",
              "496 3.746573             573.8474           \n",
              "497 3.576526             529.0490           \n",
              "498 4.958264             551.6201           \n",
              "499 2.336485             456.4695           \n",
              "500 2.735160             497.7786           "
            ]
          },
          "metadata": {}
        }
      ]
    },
    {
      "cell_type": "code",
      "source": [
        "str(product)"
      ],
      "metadata": {
        "colab": {
          "base_uri": "https://localhost:8080/"
        },
        "id": "yv1VKyNwS9bj",
        "outputId": "5319d557-2e7a-4106-db54-7e243590b035"
      },
      "execution_count": 50,
      "outputs": [
        {
          "output_type": "stream",
          "name": "stdout",
          "text": [
            "'data.frame':\t500 obs. of  8 variables:\n",
            " $ Email               : chr  \"mstephenson@fernandez.com\" \"hduke@hotmail.com\" \"pallen@yahoo.com\" \"riverarebecca@gmail.com\" ...\n",
            " $ Address             : chr  \"835 Frank Tunnel\\nWrightmouth, MI 82180-9605\" \"4547 Archer Common\\nDiazchester, CA 06566-8576\" \"24645 Valerie Unions Suite 582\\nCobbborough, DC 99414-7564\" \"1414 David Throughway\\nPort Jason, OH 22070-1220\" ...\n",
            " $ Avatar              : chr  \"Violet\" \"DarkGreen\" \"Bisque\" \"SaddleBrown\" ...\n",
            " $ Avg..Session.Length : num  34.5 31.9 33 34.3 33.3 ...\n",
            " $ Time.on.App         : num  12.7 11.1 11.3 13.7 12.8 ...\n",
            " $ Time.on.Website     : num  39.6 37.3 37.1 36.7 37.5 ...\n",
            " $ Length.of.Membership: num  4.08 2.66 4.1 3.12 4.45 ...\n",
            " $ Yearly.Amount.Spent : num  588 392 488 582 599 ...\n"
          ]
        }
      ]
    },
    {
      "cell_type": "code",
      "source": [
        "customer <- read.csv(\"Customer.csv\", header=TRUE)"
      ],
      "metadata": {
        "id": "Avjt6YVzTB5n"
      },
      "execution_count": 56,
      "outputs": []
    },
    {
      "cell_type": "code",
      "source": [
        "str(customer)"
      ],
      "metadata": {
        "colab": {
          "base_uri": "https://localhost:8080/"
        },
        "id": "bAqgUxczTR2s",
        "outputId": "06bd695b-42b5-4d61-f398-a0330eb5f2ac"
      },
      "execution_count": 57,
      "outputs": [
        {
          "output_type": "stream",
          "name": "stdout",
          "text": [
            "'data.frame':\t793 obs. of  9 variables:\n",
            " $ Customer.ID  : chr  \"CG-12520\" \"DV-13045\" \"SO-20335\" \"BH-11710\" ...\n",
            " $ Customer.Name: chr  \"Claire Gute\" \"Darrin Van Huff\" \"Sean O'Donnell\" \"Brosina Hoffman\" ...\n",
            " $ Segment      : chr  \"Consumer\" \"Corporate\" \"Consumer\" \"Consumer\" ...\n",
            " $ Age          : int  67 31 65 20 50 66 20 46 18 66 ...\n",
            " $ Country      : chr  \"United States\" \"United States\" \"United States\" \"United States\" ...\n",
            " $ City         : chr  \"Henderson\" \"Los Angeles\" \"Fort Lauderdale\" \"Los Angeles\" ...\n",
            " $ State        : chr  \"Kentucky\" \"California\" \"Florida\" \"California\" ...\n",
            " $ Postal.Code  : int  42420 90036 33311 90032 28027 98103 76106 53711 84084 94109 ...\n",
            " $ Region       : chr  \"South\" \"West\" \"South\" \"West\" ...\n"
          ]
        }
      ]
    },
    {
      "cell_type": "code",
      "source": [
        "View(customer)"
      ],
      "metadata": {
        "colab": {
          "base_uri": "https://localhost:8080/",
          "height": 1000
        },
        "id": "l4YF7H2wThkV",
        "outputId": "a4728901-7aea-4ad2-85e8-e6913ad2ebb5"
      },
      "execution_count": 58,
      "outputs": [
        {
          "output_type": "display_data",
          "data": {
            "text/plain": [
              "    Customer.ID Customer.Name      Segment     Age Country      \n",
              "1   CG-12520    Claire Gute        Consumer    67  United States\n",
              "2   DV-13045    Darrin Van Huff    Corporate   31  United States\n",
              "3   SO-20335    Sean O'Donnell     Consumer    65  United States\n",
              "4   BH-11710    Brosina Hoffman    Consumer    20  United States\n",
              "5   AA-10480    Andrew Allen       Consumer    50  United States\n",
              "6   IM-15070    Irene Maddox       Consumer    66  United States\n",
              "7   HP-14815    Harold Pawlan      Home Office 20  United States\n",
              "8   PK-19075    Pete Kriz          Consumer    46  United States\n",
              "9   AG-10270    Alejandro Grove    Consumer    18  United States\n",
              "10  ZD-21925    Zuschuss Donatelli Consumer    66  United States\n",
              "11  KB-16585    Ken Black          Corporate   67  United States\n",
              "12  SF-20065    Sandra Flanagan    Consumer    41  United States\n",
              "13  EB-13870    Emily Burns        Consumer    34  United States\n",
              "14  EH-13945    Eric Hoffmann      Consumer    21  United States\n",
              "15  TB-21520    Tracy Blumstein    Consumer    48  United States\n",
              "16  MA-17560    Matt Abelman       Home Office 19  United States\n",
              "17  GH-14485    Gene Hale          Corporate   28  United States\n",
              "18  SN-20710    Steve Nguyen       Home Office 46  United States\n",
              "19  LC-16930    Linda Cazamias     Corporate   31  United States\n",
              "20  RA-19885    Ruben Ausman       Corporate   51  United States\n",
              "21  ES-14080    Erin Smith         Corporate   20  United States\n",
              "22  ON-18715    Odella Nelson      Corporate   27  United States\n",
              "23  PO-18865    Patrick O'Donnell  Consumer    64  United States\n",
              "24  LH-16900    Lena Hernandez     Consumer    66  United States\n",
              "25  DP-13000    Darren Powers      Consumer    40  United States\n",
              "26  JM-15265    Janet Molinari     Corporate   23  United States\n",
              "27  TB-21055    Ted Butterfield    Consumer    34  United States\n",
              "28  KM-16720    Kunst Miller       Consumer    69  United States\n",
              "29  PS-18970    Paul Stevenson     Home Office 31  United States\n",
              "30  BS-11590    Brendan Sweed      Corporate   45  United States\n",
              "⋮   ⋮           ⋮                  ⋮           ⋮   ⋮            \n",
              "764 FC-14245    Frank Carlisle     Home Office 20  United States\n",
              "765 TH-21115    Thea Hudgings      Corporate   38  United States\n",
              "766 JK-16090    Juliana Krohn      Consumer    51  United States\n",
              "767 SB-20185    Sarah Brown        Consumer    31  United States\n",
              "768 BG-11035    Barry Gonzalez     Consumer    57  United States\n",
              "769 BW-11065    Barry Weirich      Consumer    30  United States\n",
              "770 MG-18205    Mitch Gastineau    Corporate   55  United States\n",
              "771 DO-13645    Doug O'Connell     Consumer    20  United States\n",
              "772 BP-11050    Barry Pond         Corporate   65  United States\n",
              "773 TS-21655    Trudy Schmidt      Consumer    21  United States\n",
              "774 EM-14200    Evan Minnotte      Home Office 52  United States\n",
              "775 AO-10810    Anthony O'Donnell  Corporate   66  United States\n",
              "776 MH-17440    Mark Haberlin      Corporate   47  United States\n",
              "777 SS-20515    Shirley Schmidt    Home Office 31  United States\n",
              "778 LD-16855    Lela Donovan       Corporate   52  United States\n",
              "779 VP-21760    Victoria Pisteka   Corporate   35  United States\n",
              "780 TC-21145    Theresa Coyne      Corporate   63  United States\n",
              "781 IM-15055    Ionia McGrath      Consumer    40  United States\n",
              "782 AR-10570    Anemone Ratner     Consumer    36  United States\n",
              "783 CM-12715    Craig Molinari     Corporate   53  United States\n",
              "784 FW-14395    Fred Wasserman     Corporate   41  United States\n",
              "785 LC-16960    Lindsay Castell    Home Office 57  United States\n",
              "786 HE-14800    Harold Engle       Corporate   31  United States\n",
              "787 BD-11560    Brendan Dodson     Home Office 54  United States\n",
              "788 HD-14785    Harold Dahlen      Home Office 32  United States\n",
              "789 CJ-11875    Carl Jackson       Corporate   64  United States\n",
              "790 RS-19870    Roy Skaria         Home Office 39  United States\n",
              "791 SC-20845    Sung Chung         Consumer    69  United States\n",
              "792 RE-19405    Ricardo Emerson    Consumer    35  United States\n",
              "793 SM-20905    Susan MacKendrick  Consumer    46  United States\n",
              "    City              State          Postal.Code Region \n",
              "1   Henderson         Kentucky       42420       South  \n",
              "2   Los Angeles       California     90036       West   \n",
              "3   Fort Lauderdale   Florida        33311       South  \n",
              "4   Los Angeles       California     90032       West   \n",
              "5   Concord           North Carolina 28027       South  \n",
              "6   Seattle           Washington     98103       West   \n",
              "7   Fort Worth        Texas          76106       Central\n",
              "8   Madison           Wisconsin      53711       Central\n",
              "9   West Jordan       Utah           84084       West   \n",
              "10  San Francisco     California     94109       West   \n",
              "11  Fremont           Nebraska       68025       Central\n",
              "12  Philadelphia      Pennsylvania   19140       East   \n",
              "13  Orem              Utah           84057       West   \n",
              "14  Los Angeles       California     90049       West   \n",
              "15  Philadelphia      Pennsylvania   19140       East   \n",
              "16  Houston           Texas          77095       Central\n",
              "17  Richardson        Texas          75080       Central\n",
              "18  Houston           Texas          77041       Central\n",
              "19  Naperville        Illinois       60540       Central\n",
              "20  Los Angeles       California     90049       West   \n",
              "21  Melbourne         Florida        32935       South  \n",
              "22  Eagan             Minnesota      55122       Central\n",
              "23  Westland          Michigan       48185       Central\n",
              "24  Dover             Delaware       19901       East   \n",
              "25  New Albany        Indiana        47150       Central\n",
              "26  New York City     New York       10024       East   \n",
              "27  Troy              New York       12180       East   \n",
              "28  Los Angeles       California     90004       West   \n",
              "29  Chicago           Illinois       60610       Central\n",
              "30  Gilbert           Arizona        85234       West   \n",
              "⋮   ⋮                 ⋮              ⋮           ⋮      \n",
              "764 Lakewood          Ohio           44107       East   \n",
              "765 Philadelphia      Pennsylvania   19140       East   \n",
              "766 Omaha             Nebraska       68104       Central\n",
              "767 Concord           New Hampshire   3301       East   \n",
              "768 Monroe            Louisiana      71203       South  \n",
              "769 Raleigh           North Carolina 27604       South  \n",
              "770 Jacksonville      Florida        32216       South  \n",
              "771 Los Angeles       California     90036       West   \n",
              "772 Cranston          Rhode Island    2920       East   \n",
              "773 Milwaukee         Wisconsin      53209       Central\n",
              "774 Virginia Beach    Virginia       23464       South  \n",
              "775 Los Angeles       California     90045       West   \n",
              "776 New York City     New York       10035       East   \n",
              "777 Louisville        Kentucky       40214       South  \n",
              "778 Chicago           Illinois       60653       Central\n",
              "779 San Francisco     California     94109       West   \n",
              "780 Lakewood          New Jersey      8701       East   \n",
              "781 Roseville         California     95661       West   \n",
              "782 Columbus          Georgia        31907       South  \n",
              "783 Huntsville        Texas          77340       Central\n",
              "784 Huntsville        Alabama        35810       South  \n",
              "785 Arlington         Virginia       22204       South  \n",
              "786 Chicago           Illinois       60623       Central\n",
              "787 Fresno            California     93727       West   \n",
              "788 Philadelphia      Pennsylvania   19143       East   \n",
              "789 Philadelphia      Pennsylvania   19140       East   \n",
              "790 Burlington        Iowa           52601       Central\n",
              "791 Arlington Heights Illinois       60004       Central\n",
              "792 Kent              Ohio           44240       East   \n",
              "793 Newark            Ohio           43055       East   "
            ],
            "text/html": [
              "<table class=\"dataframe\">\n",
              "<caption>A data.frame: 793 × 9</caption>\n",
              "<thead>\n",
              "\t<tr><th scope=col>Customer.ID</th><th scope=col>Customer.Name</th><th scope=col>Segment</th><th scope=col>Age</th><th scope=col>Country</th><th scope=col>City</th><th scope=col>State</th><th scope=col>Postal.Code</th><th scope=col>Region</th></tr>\n",
              "\t<tr><th scope=col>&lt;chr&gt;</th><th scope=col>&lt;chr&gt;</th><th scope=col>&lt;chr&gt;</th><th scope=col>&lt;int&gt;</th><th scope=col>&lt;chr&gt;</th><th scope=col>&lt;chr&gt;</th><th scope=col>&lt;chr&gt;</th><th scope=col>&lt;int&gt;</th><th scope=col>&lt;chr&gt;</th></tr>\n",
              "</thead>\n",
              "<tbody>\n",
              "\t<tr><td>CG-12520</td><td>Claire Gute       </td><td>Consumer   </td><td>67</td><td>United States</td><td>Henderson      </td><td>Kentucky      </td><td>42420</td><td>South  </td></tr>\n",
              "\t<tr><td>DV-13045</td><td>Darrin Van Huff   </td><td>Corporate  </td><td>31</td><td>United States</td><td>Los Angeles    </td><td>California    </td><td>90036</td><td>West   </td></tr>\n",
              "\t<tr><td>SO-20335</td><td>Sean O'Donnell    </td><td>Consumer   </td><td>65</td><td>United States</td><td>Fort Lauderdale</td><td>Florida       </td><td>33311</td><td>South  </td></tr>\n",
              "\t<tr><td>BH-11710</td><td>Brosina Hoffman   </td><td>Consumer   </td><td>20</td><td>United States</td><td>Los Angeles    </td><td>California    </td><td>90032</td><td>West   </td></tr>\n",
              "\t<tr><td>AA-10480</td><td>Andrew Allen      </td><td>Consumer   </td><td>50</td><td>United States</td><td>Concord        </td><td>North Carolina</td><td>28027</td><td>South  </td></tr>\n",
              "\t<tr><td>IM-15070</td><td>Irene Maddox      </td><td>Consumer   </td><td>66</td><td>United States</td><td>Seattle        </td><td>Washington    </td><td>98103</td><td>West   </td></tr>\n",
              "\t<tr><td>HP-14815</td><td>Harold Pawlan     </td><td>Home Office</td><td>20</td><td>United States</td><td>Fort Worth     </td><td>Texas         </td><td>76106</td><td>Central</td></tr>\n",
              "\t<tr><td>PK-19075</td><td>Pete Kriz         </td><td>Consumer   </td><td>46</td><td>United States</td><td>Madison        </td><td>Wisconsin     </td><td>53711</td><td>Central</td></tr>\n",
              "\t<tr><td>AG-10270</td><td>Alejandro Grove   </td><td>Consumer   </td><td>18</td><td>United States</td><td>West Jordan    </td><td>Utah          </td><td>84084</td><td>West   </td></tr>\n",
              "\t<tr><td>ZD-21925</td><td>Zuschuss Donatelli</td><td>Consumer   </td><td>66</td><td>United States</td><td>San Francisco  </td><td>California    </td><td>94109</td><td>West   </td></tr>\n",
              "\t<tr><td>KB-16585</td><td>Ken Black         </td><td>Corporate  </td><td>67</td><td>United States</td><td>Fremont        </td><td>Nebraska      </td><td>68025</td><td>Central</td></tr>\n",
              "\t<tr><td>SF-20065</td><td>Sandra Flanagan   </td><td>Consumer   </td><td>41</td><td>United States</td><td>Philadelphia   </td><td>Pennsylvania  </td><td>19140</td><td>East   </td></tr>\n",
              "\t<tr><td>EB-13870</td><td>Emily Burns       </td><td>Consumer   </td><td>34</td><td>United States</td><td>Orem           </td><td>Utah          </td><td>84057</td><td>West   </td></tr>\n",
              "\t<tr><td>EH-13945</td><td>Eric Hoffmann     </td><td>Consumer   </td><td>21</td><td>United States</td><td>Los Angeles    </td><td>California    </td><td>90049</td><td>West   </td></tr>\n",
              "\t<tr><td>TB-21520</td><td>Tracy Blumstein   </td><td>Consumer   </td><td>48</td><td>United States</td><td>Philadelphia   </td><td>Pennsylvania  </td><td>19140</td><td>East   </td></tr>\n",
              "\t<tr><td>MA-17560</td><td>Matt Abelman      </td><td>Home Office</td><td>19</td><td>United States</td><td>Houston        </td><td>Texas         </td><td>77095</td><td>Central</td></tr>\n",
              "\t<tr><td>GH-14485</td><td>Gene Hale         </td><td>Corporate  </td><td>28</td><td>United States</td><td>Richardson     </td><td>Texas         </td><td>75080</td><td>Central</td></tr>\n",
              "\t<tr><td>SN-20710</td><td>Steve Nguyen      </td><td>Home Office</td><td>46</td><td>United States</td><td>Houston        </td><td>Texas         </td><td>77041</td><td>Central</td></tr>\n",
              "\t<tr><td>LC-16930</td><td>Linda Cazamias    </td><td>Corporate  </td><td>31</td><td>United States</td><td>Naperville     </td><td>Illinois      </td><td>60540</td><td>Central</td></tr>\n",
              "\t<tr><td>RA-19885</td><td>Ruben Ausman      </td><td>Corporate  </td><td>51</td><td>United States</td><td>Los Angeles    </td><td>California    </td><td>90049</td><td>West   </td></tr>\n",
              "\t<tr><td>ES-14080</td><td>Erin Smith        </td><td>Corporate  </td><td>20</td><td>United States</td><td>Melbourne      </td><td>Florida       </td><td>32935</td><td>South  </td></tr>\n",
              "\t<tr><td>ON-18715</td><td>Odella Nelson     </td><td>Corporate  </td><td>27</td><td>United States</td><td>Eagan          </td><td>Minnesota     </td><td>55122</td><td>Central</td></tr>\n",
              "\t<tr><td>PO-18865</td><td>Patrick O'Donnell </td><td>Consumer   </td><td>64</td><td>United States</td><td>Westland       </td><td>Michigan      </td><td>48185</td><td>Central</td></tr>\n",
              "\t<tr><td>LH-16900</td><td>Lena Hernandez    </td><td>Consumer   </td><td>66</td><td>United States</td><td>Dover          </td><td>Delaware      </td><td>19901</td><td>East   </td></tr>\n",
              "\t<tr><td>DP-13000</td><td>Darren Powers     </td><td>Consumer   </td><td>40</td><td>United States</td><td>New Albany     </td><td>Indiana       </td><td>47150</td><td>Central</td></tr>\n",
              "\t<tr><td>JM-15265</td><td>Janet Molinari    </td><td>Corporate  </td><td>23</td><td>United States</td><td>New York City  </td><td>New York      </td><td>10024</td><td>East   </td></tr>\n",
              "\t<tr><td>TB-21055</td><td>Ted Butterfield   </td><td>Consumer   </td><td>34</td><td>United States</td><td>Troy           </td><td>New York      </td><td>12180</td><td>East   </td></tr>\n",
              "\t<tr><td>KM-16720</td><td>Kunst Miller      </td><td>Consumer   </td><td>69</td><td>United States</td><td>Los Angeles    </td><td>California    </td><td>90004</td><td>West   </td></tr>\n",
              "\t<tr><td>PS-18970</td><td>Paul Stevenson    </td><td>Home Office</td><td>31</td><td>United States</td><td>Chicago        </td><td>Illinois      </td><td>60610</td><td>Central</td></tr>\n",
              "\t<tr><td>BS-11590</td><td>Brendan Sweed     </td><td>Corporate  </td><td>45</td><td>United States</td><td>Gilbert        </td><td>Arizona       </td><td>85234</td><td>West   </td></tr>\n",
              "\t<tr><td>⋮</td><td>⋮</td><td>⋮</td><td>⋮</td><td>⋮</td><td>⋮</td><td>⋮</td><td>⋮</td><td>⋮</td></tr>\n",
              "\t<tr><td>FC-14245</td><td>Frank Carlisle   </td><td>Home Office</td><td>20</td><td>United States</td><td>Lakewood         </td><td>Ohio          </td><td>44107</td><td>East   </td></tr>\n",
              "\t<tr><td>TH-21115</td><td>Thea Hudgings    </td><td>Corporate  </td><td>38</td><td>United States</td><td>Philadelphia     </td><td>Pennsylvania  </td><td>19140</td><td>East   </td></tr>\n",
              "\t<tr><td>JK-16090</td><td>Juliana Krohn    </td><td>Consumer   </td><td>51</td><td>United States</td><td>Omaha            </td><td>Nebraska      </td><td>68104</td><td>Central</td></tr>\n",
              "\t<tr><td>SB-20185</td><td>Sarah Brown      </td><td>Consumer   </td><td>31</td><td>United States</td><td>Concord          </td><td>New Hampshire </td><td> 3301</td><td>East   </td></tr>\n",
              "\t<tr><td>BG-11035</td><td>Barry Gonzalez   </td><td>Consumer   </td><td>57</td><td>United States</td><td>Monroe           </td><td>Louisiana     </td><td>71203</td><td>South  </td></tr>\n",
              "\t<tr><td>BW-11065</td><td>Barry Weirich    </td><td>Consumer   </td><td>30</td><td>United States</td><td>Raleigh          </td><td>North Carolina</td><td>27604</td><td>South  </td></tr>\n",
              "\t<tr><td>MG-18205</td><td>Mitch Gastineau  </td><td>Corporate  </td><td>55</td><td>United States</td><td>Jacksonville     </td><td>Florida       </td><td>32216</td><td>South  </td></tr>\n",
              "\t<tr><td>DO-13645</td><td>Doug O'Connell   </td><td>Consumer   </td><td>20</td><td>United States</td><td>Los Angeles      </td><td>California    </td><td>90036</td><td>West   </td></tr>\n",
              "\t<tr><td>BP-11050</td><td>Barry Pond       </td><td>Corporate  </td><td>65</td><td>United States</td><td>Cranston         </td><td>Rhode Island  </td><td> 2920</td><td>East   </td></tr>\n",
              "\t<tr><td>TS-21655</td><td>Trudy Schmidt    </td><td>Consumer   </td><td>21</td><td>United States</td><td>Milwaukee        </td><td>Wisconsin     </td><td>53209</td><td>Central</td></tr>\n",
              "\t<tr><td>EM-14200</td><td>Evan Minnotte    </td><td>Home Office</td><td>52</td><td>United States</td><td>Virginia Beach   </td><td>Virginia      </td><td>23464</td><td>South  </td></tr>\n",
              "\t<tr><td>AO-10810</td><td>Anthony O'Donnell</td><td>Corporate  </td><td>66</td><td>United States</td><td>Los Angeles      </td><td>California    </td><td>90045</td><td>West   </td></tr>\n",
              "\t<tr><td>MH-17440</td><td>Mark Haberlin    </td><td>Corporate  </td><td>47</td><td>United States</td><td>New York City    </td><td>New York      </td><td>10035</td><td>East   </td></tr>\n",
              "\t<tr><td>SS-20515</td><td>Shirley Schmidt  </td><td>Home Office</td><td>31</td><td>United States</td><td>Louisville       </td><td>Kentucky      </td><td>40214</td><td>South  </td></tr>\n",
              "\t<tr><td>LD-16855</td><td>Lela Donovan     </td><td>Corporate  </td><td>52</td><td>United States</td><td>Chicago          </td><td>Illinois      </td><td>60653</td><td>Central</td></tr>\n",
              "\t<tr><td>VP-21760</td><td>Victoria Pisteka </td><td>Corporate  </td><td>35</td><td>United States</td><td>San Francisco    </td><td>California    </td><td>94109</td><td>West   </td></tr>\n",
              "\t<tr><td>TC-21145</td><td>Theresa Coyne    </td><td>Corporate  </td><td>63</td><td>United States</td><td>Lakewood         </td><td>New Jersey    </td><td> 8701</td><td>East   </td></tr>\n",
              "\t<tr><td>IM-15055</td><td>Ionia McGrath    </td><td>Consumer   </td><td>40</td><td>United States</td><td>Roseville        </td><td>California    </td><td>95661</td><td>West   </td></tr>\n",
              "\t<tr><td>AR-10570</td><td>Anemone Ratner   </td><td>Consumer   </td><td>36</td><td>United States</td><td>Columbus         </td><td>Georgia       </td><td>31907</td><td>South  </td></tr>\n",
              "\t<tr><td>CM-12715</td><td>Craig Molinari   </td><td>Corporate  </td><td>53</td><td>United States</td><td>Huntsville       </td><td>Texas         </td><td>77340</td><td>Central</td></tr>\n",
              "\t<tr><td>FW-14395</td><td>Fred Wasserman   </td><td>Corporate  </td><td>41</td><td>United States</td><td>Huntsville       </td><td>Alabama       </td><td>35810</td><td>South  </td></tr>\n",
              "\t<tr><td>LC-16960</td><td>Lindsay Castell  </td><td>Home Office</td><td>57</td><td>United States</td><td>Arlington        </td><td>Virginia      </td><td>22204</td><td>South  </td></tr>\n",
              "\t<tr><td>HE-14800</td><td>Harold Engle     </td><td>Corporate  </td><td>31</td><td>United States</td><td>Chicago          </td><td>Illinois      </td><td>60623</td><td>Central</td></tr>\n",
              "\t<tr><td>BD-11560</td><td>Brendan Dodson   </td><td>Home Office</td><td>54</td><td>United States</td><td>Fresno           </td><td>California    </td><td>93727</td><td>West   </td></tr>\n",
              "\t<tr><td>HD-14785</td><td>Harold Dahlen    </td><td>Home Office</td><td>32</td><td>United States</td><td>Philadelphia     </td><td>Pennsylvania  </td><td>19143</td><td>East   </td></tr>\n",
              "\t<tr><td>CJ-11875</td><td>Carl Jackson     </td><td>Corporate  </td><td>64</td><td>United States</td><td>Philadelphia     </td><td>Pennsylvania  </td><td>19140</td><td>East   </td></tr>\n",
              "\t<tr><td>RS-19870</td><td>Roy Skaria       </td><td>Home Office</td><td>39</td><td>United States</td><td>Burlington       </td><td>Iowa          </td><td>52601</td><td>Central</td></tr>\n",
              "\t<tr><td>SC-20845</td><td>Sung Chung       </td><td>Consumer   </td><td>69</td><td>United States</td><td>Arlington Heights</td><td>Illinois      </td><td>60004</td><td>Central</td></tr>\n",
              "\t<tr><td>RE-19405</td><td>Ricardo Emerson  </td><td>Consumer   </td><td>35</td><td>United States</td><td>Kent             </td><td>Ohio          </td><td>44240</td><td>East   </td></tr>\n",
              "\t<tr><td>SM-20905</td><td>Susan MacKendrick</td><td>Consumer   </td><td>46</td><td>United States</td><td>Newark           </td><td>Ohio          </td><td>43055</td><td>East   </td></tr>\n",
              "</tbody>\n",
              "</table>\n"
            ],
            "text/markdown": "\nA data.frame: 793 × 9\n\n| Customer.ID &lt;chr&gt; | Customer.Name &lt;chr&gt; | Segment &lt;chr&gt; | Age &lt;int&gt; | Country &lt;chr&gt; | City &lt;chr&gt; | State &lt;chr&gt; | Postal.Code &lt;int&gt; | Region &lt;chr&gt; |\n|---|---|---|---|---|---|---|---|---|\n| CG-12520 | Claire Gute        | Consumer    | 67 | United States | Henderson       | Kentucky       | 42420 | South   |\n| DV-13045 | Darrin Van Huff    | Corporate   | 31 | United States | Los Angeles     | California     | 90036 | West    |\n| SO-20335 | Sean O'Donnell     | Consumer    | 65 | United States | Fort Lauderdale | Florida        | 33311 | South   |\n| BH-11710 | Brosina Hoffman    | Consumer    | 20 | United States | Los Angeles     | California     | 90032 | West    |\n| AA-10480 | Andrew Allen       | Consumer    | 50 | United States | Concord         | North Carolina | 28027 | South   |\n| IM-15070 | Irene Maddox       | Consumer    | 66 | United States | Seattle         | Washington     | 98103 | West    |\n| HP-14815 | Harold Pawlan      | Home Office | 20 | United States | Fort Worth      | Texas          | 76106 | Central |\n| PK-19075 | Pete Kriz          | Consumer    | 46 | United States | Madison         | Wisconsin      | 53711 | Central |\n| AG-10270 | Alejandro Grove    | Consumer    | 18 | United States | West Jordan     | Utah           | 84084 | West    |\n| ZD-21925 | Zuschuss Donatelli | Consumer    | 66 | United States | San Francisco   | California     | 94109 | West    |\n| KB-16585 | Ken Black          | Corporate   | 67 | United States | Fremont         | Nebraska       | 68025 | Central |\n| SF-20065 | Sandra Flanagan    | Consumer    | 41 | United States | Philadelphia    | Pennsylvania   | 19140 | East    |\n| EB-13870 | Emily Burns        | Consumer    | 34 | United States | Orem            | Utah           | 84057 | West    |\n| EH-13945 | Eric Hoffmann      | Consumer    | 21 | United States | Los Angeles     | California     | 90049 | West    |\n| TB-21520 | Tracy Blumstein    | Consumer    | 48 | United States | Philadelphia    | Pennsylvania   | 19140 | East    |\n| MA-17560 | Matt Abelman       | Home Office | 19 | United States | Houston         | Texas          | 77095 | Central |\n| GH-14485 | Gene Hale          | Corporate   | 28 | United States | Richardson      | Texas          | 75080 | Central |\n| SN-20710 | Steve Nguyen       | Home Office | 46 | United States | Houston         | Texas          | 77041 | Central |\n| LC-16930 | Linda Cazamias     | Corporate   | 31 | United States | Naperville      | Illinois       | 60540 | Central |\n| RA-19885 | Ruben Ausman       | Corporate   | 51 | United States | Los Angeles     | California     | 90049 | West    |\n| ES-14080 | Erin Smith         | Corporate   | 20 | United States | Melbourne       | Florida        | 32935 | South   |\n| ON-18715 | Odella Nelson      | Corporate   | 27 | United States | Eagan           | Minnesota      | 55122 | Central |\n| PO-18865 | Patrick O'Donnell  | Consumer    | 64 | United States | Westland        | Michigan       | 48185 | Central |\n| LH-16900 | Lena Hernandez     | Consumer    | 66 | United States | Dover           | Delaware       | 19901 | East    |\n| DP-13000 | Darren Powers      | Consumer    | 40 | United States | New Albany      | Indiana        | 47150 | Central |\n| JM-15265 | Janet Molinari     | Corporate   | 23 | United States | New York City   | New York       | 10024 | East    |\n| TB-21055 | Ted Butterfield    | Consumer    | 34 | United States | Troy            | New York       | 12180 | East    |\n| KM-16720 | Kunst Miller       | Consumer    | 69 | United States | Los Angeles     | California     | 90004 | West    |\n| PS-18970 | Paul Stevenson     | Home Office | 31 | United States | Chicago         | Illinois       | 60610 | Central |\n| BS-11590 | Brendan Sweed      | Corporate   | 45 | United States | Gilbert         | Arizona        | 85234 | West    |\n| ⋮ | ⋮ | ⋮ | ⋮ | ⋮ | ⋮ | ⋮ | ⋮ | ⋮ |\n| FC-14245 | Frank Carlisle    | Home Office | 20 | United States | Lakewood          | Ohio           | 44107 | East    |\n| TH-21115 | Thea Hudgings     | Corporate   | 38 | United States | Philadelphia      | Pennsylvania   | 19140 | East    |\n| JK-16090 | Juliana Krohn     | Consumer    | 51 | United States | Omaha             | Nebraska       | 68104 | Central |\n| SB-20185 | Sarah Brown       | Consumer    | 31 | United States | Concord           | New Hampshire  |  3301 | East    |\n| BG-11035 | Barry Gonzalez    | Consumer    | 57 | United States | Monroe            | Louisiana      | 71203 | South   |\n| BW-11065 | Barry Weirich     | Consumer    | 30 | United States | Raleigh           | North Carolina | 27604 | South   |\n| MG-18205 | Mitch Gastineau   | Corporate   | 55 | United States | Jacksonville      | Florida        | 32216 | South   |\n| DO-13645 | Doug O'Connell    | Consumer    | 20 | United States | Los Angeles       | California     | 90036 | West    |\n| BP-11050 | Barry Pond        | Corporate   | 65 | United States | Cranston          | Rhode Island   |  2920 | East    |\n| TS-21655 | Trudy Schmidt     | Consumer    | 21 | United States | Milwaukee         | Wisconsin      | 53209 | Central |\n| EM-14200 | Evan Minnotte     | Home Office | 52 | United States | Virginia Beach    | Virginia       | 23464 | South   |\n| AO-10810 | Anthony O'Donnell | Corporate   | 66 | United States | Los Angeles       | California     | 90045 | West    |\n| MH-17440 | Mark Haberlin     | Corporate   | 47 | United States | New York City     | New York       | 10035 | East    |\n| SS-20515 | Shirley Schmidt   | Home Office | 31 | United States | Louisville        | Kentucky       | 40214 | South   |\n| LD-16855 | Lela Donovan      | Corporate   | 52 | United States | Chicago           | Illinois       | 60653 | Central |\n| VP-21760 | Victoria Pisteka  | Corporate   | 35 | United States | San Francisco     | California     | 94109 | West    |\n| TC-21145 | Theresa Coyne     | Corporate   | 63 | United States | Lakewood          | New Jersey     |  8701 | East    |\n| IM-15055 | Ionia McGrath     | Consumer    | 40 | United States | Roseville         | California     | 95661 | West    |\n| AR-10570 | Anemone Ratner    | Consumer    | 36 | United States | Columbus          | Georgia        | 31907 | South   |\n| CM-12715 | Craig Molinari    | Corporate   | 53 | United States | Huntsville        | Texas          | 77340 | Central |\n| FW-14395 | Fred Wasserman    | Corporate   | 41 | United States | Huntsville        | Alabama        | 35810 | South   |\n| LC-16960 | Lindsay Castell   | Home Office | 57 | United States | Arlington         | Virginia       | 22204 | South   |\n| HE-14800 | Harold Engle      | Corporate   | 31 | United States | Chicago           | Illinois       | 60623 | Central |\n| BD-11560 | Brendan Dodson    | Home Office | 54 | United States | Fresno            | California     | 93727 | West    |\n| HD-14785 | Harold Dahlen     | Home Office | 32 | United States | Philadelphia      | Pennsylvania   | 19143 | East    |\n| CJ-11875 | Carl Jackson      | Corporate   | 64 | United States | Philadelphia      | Pennsylvania   | 19140 | East    |\n| RS-19870 | Roy Skaria        | Home Office | 39 | United States | Burlington        | Iowa           | 52601 | Central |\n| SC-20845 | Sung Chung        | Consumer    | 69 | United States | Arlington Heights | Illinois       | 60004 | Central |\n| RE-19405 | Ricardo Emerson   | Consumer    | 35 | United States | Kent              | Ohio           | 44240 | East    |\n| SM-20905 | Susan MacKendrick | Consumer    | 46 | United States | Newark            | Ohio           | 43055 | East    |\n\n",
            "text/latex": "A data.frame: 793 × 9\n\\begin{tabular}{lllllllll}\n Customer.ID & Customer.Name & Segment & Age & Country & City & State & Postal.Code & Region\\\\\n <chr> & <chr> & <chr> & <int> & <chr> & <chr> & <chr> & <int> & <chr>\\\\\n\\hline\n\t CG-12520 & Claire Gute        & Consumer    & 67 & United States & Henderson       & Kentucky       & 42420 & South  \\\\\n\t DV-13045 & Darrin Van Huff    & Corporate   & 31 & United States & Los Angeles     & California     & 90036 & West   \\\\\n\t SO-20335 & Sean O'Donnell     & Consumer    & 65 & United States & Fort Lauderdale & Florida        & 33311 & South  \\\\\n\t BH-11710 & Brosina Hoffman    & Consumer    & 20 & United States & Los Angeles     & California     & 90032 & West   \\\\\n\t AA-10480 & Andrew Allen       & Consumer    & 50 & United States & Concord         & North Carolina & 28027 & South  \\\\\n\t IM-15070 & Irene Maddox       & Consumer    & 66 & United States & Seattle         & Washington     & 98103 & West   \\\\\n\t HP-14815 & Harold Pawlan      & Home Office & 20 & United States & Fort Worth      & Texas          & 76106 & Central\\\\\n\t PK-19075 & Pete Kriz          & Consumer    & 46 & United States & Madison         & Wisconsin      & 53711 & Central\\\\\n\t AG-10270 & Alejandro Grove    & Consumer    & 18 & United States & West Jordan     & Utah           & 84084 & West   \\\\\n\t ZD-21925 & Zuschuss Donatelli & Consumer    & 66 & United States & San Francisco   & California     & 94109 & West   \\\\\n\t KB-16585 & Ken Black          & Corporate   & 67 & United States & Fremont         & Nebraska       & 68025 & Central\\\\\n\t SF-20065 & Sandra Flanagan    & Consumer    & 41 & United States & Philadelphia    & Pennsylvania   & 19140 & East   \\\\\n\t EB-13870 & Emily Burns        & Consumer    & 34 & United States & Orem            & Utah           & 84057 & West   \\\\\n\t EH-13945 & Eric Hoffmann      & Consumer    & 21 & United States & Los Angeles     & California     & 90049 & West   \\\\\n\t TB-21520 & Tracy Blumstein    & Consumer    & 48 & United States & Philadelphia    & Pennsylvania   & 19140 & East   \\\\\n\t MA-17560 & Matt Abelman       & Home Office & 19 & United States & Houston         & Texas          & 77095 & Central\\\\\n\t GH-14485 & Gene Hale          & Corporate   & 28 & United States & Richardson      & Texas          & 75080 & Central\\\\\n\t SN-20710 & Steve Nguyen       & Home Office & 46 & United States & Houston         & Texas          & 77041 & Central\\\\\n\t LC-16930 & Linda Cazamias     & Corporate   & 31 & United States & Naperville      & Illinois       & 60540 & Central\\\\\n\t RA-19885 & Ruben Ausman       & Corporate   & 51 & United States & Los Angeles     & California     & 90049 & West   \\\\\n\t ES-14080 & Erin Smith         & Corporate   & 20 & United States & Melbourne       & Florida        & 32935 & South  \\\\\n\t ON-18715 & Odella Nelson      & Corporate   & 27 & United States & Eagan           & Minnesota      & 55122 & Central\\\\\n\t PO-18865 & Patrick O'Donnell  & Consumer    & 64 & United States & Westland        & Michigan       & 48185 & Central\\\\\n\t LH-16900 & Lena Hernandez     & Consumer    & 66 & United States & Dover           & Delaware       & 19901 & East   \\\\\n\t DP-13000 & Darren Powers      & Consumer    & 40 & United States & New Albany      & Indiana        & 47150 & Central\\\\\n\t JM-15265 & Janet Molinari     & Corporate   & 23 & United States & New York City   & New York       & 10024 & East   \\\\\n\t TB-21055 & Ted Butterfield    & Consumer    & 34 & United States & Troy            & New York       & 12180 & East   \\\\\n\t KM-16720 & Kunst Miller       & Consumer    & 69 & United States & Los Angeles     & California     & 90004 & West   \\\\\n\t PS-18970 & Paul Stevenson     & Home Office & 31 & United States & Chicago         & Illinois       & 60610 & Central\\\\\n\t BS-11590 & Brendan Sweed      & Corporate   & 45 & United States & Gilbert         & Arizona        & 85234 & West   \\\\\n\t ⋮ & ⋮ & ⋮ & ⋮ & ⋮ & ⋮ & ⋮ & ⋮ & ⋮\\\\\n\t FC-14245 & Frank Carlisle    & Home Office & 20 & United States & Lakewood          & Ohio           & 44107 & East   \\\\\n\t TH-21115 & Thea Hudgings     & Corporate   & 38 & United States & Philadelphia      & Pennsylvania   & 19140 & East   \\\\\n\t JK-16090 & Juliana Krohn     & Consumer    & 51 & United States & Omaha             & Nebraska       & 68104 & Central\\\\\n\t SB-20185 & Sarah Brown       & Consumer    & 31 & United States & Concord           & New Hampshire  &  3301 & East   \\\\\n\t BG-11035 & Barry Gonzalez    & Consumer    & 57 & United States & Monroe            & Louisiana      & 71203 & South  \\\\\n\t BW-11065 & Barry Weirich     & Consumer    & 30 & United States & Raleigh           & North Carolina & 27604 & South  \\\\\n\t MG-18205 & Mitch Gastineau   & Corporate   & 55 & United States & Jacksonville      & Florida        & 32216 & South  \\\\\n\t DO-13645 & Doug O'Connell    & Consumer    & 20 & United States & Los Angeles       & California     & 90036 & West   \\\\\n\t BP-11050 & Barry Pond        & Corporate   & 65 & United States & Cranston          & Rhode Island   &  2920 & East   \\\\\n\t TS-21655 & Trudy Schmidt     & Consumer    & 21 & United States & Milwaukee         & Wisconsin      & 53209 & Central\\\\\n\t EM-14200 & Evan Minnotte     & Home Office & 52 & United States & Virginia Beach    & Virginia       & 23464 & South  \\\\\n\t AO-10810 & Anthony O'Donnell & Corporate   & 66 & United States & Los Angeles       & California     & 90045 & West   \\\\\n\t MH-17440 & Mark Haberlin     & Corporate   & 47 & United States & New York City     & New York       & 10035 & East   \\\\\n\t SS-20515 & Shirley Schmidt   & Home Office & 31 & United States & Louisville        & Kentucky       & 40214 & South  \\\\\n\t LD-16855 & Lela Donovan      & Corporate   & 52 & United States & Chicago           & Illinois       & 60653 & Central\\\\\n\t VP-21760 & Victoria Pisteka  & Corporate   & 35 & United States & San Francisco     & California     & 94109 & West   \\\\\n\t TC-21145 & Theresa Coyne     & Corporate   & 63 & United States & Lakewood          & New Jersey     &  8701 & East   \\\\\n\t IM-15055 & Ionia McGrath     & Consumer    & 40 & United States & Roseville         & California     & 95661 & West   \\\\\n\t AR-10570 & Anemone Ratner    & Consumer    & 36 & United States & Columbus          & Georgia        & 31907 & South  \\\\\n\t CM-12715 & Craig Molinari    & Corporate   & 53 & United States & Huntsville        & Texas          & 77340 & Central\\\\\n\t FW-14395 & Fred Wasserman    & Corporate   & 41 & United States & Huntsville        & Alabama        & 35810 & South  \\\\\n\t LC-16960 & Lindsay Castell   & Home Office & 57 & United States & Arlington         & Virginia       & 22204 & South  \\\\\n\t HE-14800 & Harold Engle      & Corporate   & 31 & United States & Chicago           & Illinois       & 60623 & Central\\\\\n\t BD-11560 & Brendan Dodson    & Home Office & 54 & United States & Fresno            & California     & 93727 & West   \\\\\n\t HD-14785 & Harold Dahlen     & Home Office & 32 & United States & Philadelphia      & Pennsylvania   & 19143 & East   \\\\\n\t CJ-11875 & Carl Jackson      & Corporate   & 64 & United States & Philadelphia      & Pennsylvania   & 19140 & East   \\\\\n\t RS-19870 & Roy Skaria        & Home Office & 39 & United States & Burlington        & Iowa           & 52601 & Central\\\\\n\t SC-20845 & Sung Chung        & Consumer    & 69 & United States & Arlington Heights & Illinois       & 60004 & Central\\\\\n\t RE-19405 & Ricardo Emerson   & Consumer    & 35 & United States & Kent              & Ohio           & 44240 & East   \\\\\n\t SM-20905 & Susan MacKendrick & Consumer    & 46 & United States & Newark            & Ohio           & 43055 & East   \\\\\n\\end{tabular}\n"
          },
          "metadata": {}
        }
      ]
    },
    {
      "cell_type": "code",
      "source": [
        "str(customer)"
      ],
      "metadata": {
        "colab": {
          "base_uri": "https://localhost:8080/"
        },
        "id": "0IIAzC2-W5vm",
        "outputId": "656c58c7-bbcf-4f2e-fffd-adc3359fc591"
      },
      "execution_count": 62,
      "outputs": [
        {
          "output_type": "stream",
          "name": "stdout",
          "text": [
            "'data.frame':\t793 obs. of  9 variables:\n",
            " $ Customer.ID  : chr  \"CG-12520\" \"DV-13045\" \"SO-20335\" \"BH-11710\" ...\n",
            " $ Customer.Name: chr  \"Claire Gute\" \"Darrin Van Huff\" \"Sean O'Donnell\" \"Brosina Hoffman\" ...\n",
            " $ Segment      : chr  \"Consumer\" \"Corporate\" \"Consumer\" \"Consumer\" ...\n",
            " $ Age          : int  67 31 65 20 50 66 20 46 18 66 ...\n",
            " $ Country      : chr  \"United States\" \"United States\" \"United States\" \"United States\" ...\n",
            " $ City         : chr  \"Henderson\" \"Los Angeles\" \"Fort Lauderdale\" \"Los Angeles\" ...\n",
            " $ State        : chr  \"Kentucky\" \"California\" \"Florida\" \"California\" ...\n",
            " $ Postal.Code  : int  42420 90036 33311 90032 28027 98103 76106 53711 84084 94109 ...\n",
            " $ Region       : chr  \"South\" \"West\" \"South\" \"West\" ...\n"
          ]
        }
      ]
    },
    {
      "cell_type": "code",
      "source": [
        "y <- table(customer$Region)\n",
        "y"
      ],
      "metadata": {
        "colab": {
          "base_uri": "https://localhost:8080/",
          "height": 71
        },
        "id": "JsOlb2PqToA7",
        "outputId": "881a01ed-efa0-4201-8921-b163d07e1516"
      },
      "execution_count": 65,
      "outputs": [
        {
          "output_type": "display_data",
          "data": {
            "text/plain": [
              "\n",
              "Central    East   South    West \n",
              "    184     220     134     255 "
            ]
          },
          "metadata": {}
        }
      ]
    },
    {
      "cell_type": "code",
      "source": [
        "barplot(y)"
      ],
      "metadata": {
        "colab": {
          "base_uri": "https://localhost:8080/",
          "height": 437
        },
        "id": "EL2USAO6XHeA",
        "outputId": "a8929d84-3376-4001-dcec-c6be0771bc3e"
      },
      "execution_count": 66,
      "outputs": [
        {
          "output_type": "display_data",
          "data": {
            "text/plain": [
              "plot without title"
            ],
            "image/png": "[encoded data removed]"
          },
          "metadata": {
            "image/png": {
              "width": 420,
              "height": 420
            }
          }
        }
      ]
    },
    {
      "cell_type": "code",
      "source": [
        "? barplot"
      ],
      "metadata": {
        "id": "9VTvCHp2XgRb"
      },
      "execution_count": 67,
      "outputs": []
    },
    {
      "cell_type": "code",
      "source": [
        "barplot(y[order(-y)])"
      ],
      "metadata": {
        "colab": {
          "base_uri": "https://localhost:8080/",
          "height": 437
        },
        "id": "_SxcMkVRXmXR",
        "outputId": "fba4f10f-2c9f-4854-bd90-a4c63fb197fd"
      },
      "execution_count": 68,
      "outputs": [
        {
          "output_type": "display_data",
          "data": {
            "text/plain": [
              "plot without title"
            ],
            "image/png": "[encoded data removed]"
          },
          "metadata": {
            "image/png": {
              "width": 420,
              "height": 420
            }
          }
        }
      ]
    },
    {
      "cell_type": "code",
      "source": [
        "barplot(y[order(y)], horiz = TRUE)"
      ],
      "metadata": {
        "colab": {
          "base_uri": "https://localhost:8080/",
          "height": 437
        },
        "id": "XtivQM8SX5JF",
        "outputId": "5b82d626-5448-491b-d23f-e605083cd6eb"
      },
      "execution_count": 69,
      "outputs": [
        {
          "output_type": "display_data",
          "data": {
            "text/plain": [
              "plot without title"
            ],
            "image/png": "[encoded data removed]"
          },
          "metadata": {
            "image/png": {
              "width": 420,
              "height": 420
            }
          }
        }
      ]
    },
    {
      "cell_type": "code",
      "source": [
        "barplot(y[order(y)],horiz = TRUE,col = c(\"red\",\"green\",\"blue\",\"beige\"))"
      ],
      "metadata": {
        "colab": {
          "base_uri": "https://localhost:8080/",
          "height": 437
        },
        "id": "bNgI_HMYYBAa",
        "outputId": "cb617bbd-6a34-4311-8d95-4d63b0afd6ae"
      },
      "execution_count": 70,
      "outputs": [
        {
          "output_type": "display_data",
          "data": {
            "text/plain": [
              "plot without title"
            ],
            "image/png": "[encoded data removed]"
          },
          "metadata": {
            "image/png": {
              "width": 420,
              "height": 420
            }
          }
        }
      ]
    },
    {
      "cell_type": "code",
      "source": [
        "colors()"
      ],
      "metadata": {
        "colab": {
          "base_uri": "https://localhost:8080/",
          "height": 867
        },
        "id": "1wUifT0eYWAu",
        "outputId": "d38a305c-c754-46fc-e694-2fef20f19fa3"
      },
      "execution_count": 72,
      "outputs": [
        {
          "output_type": "display_data",
          "data": {
            "text/html": [
              "<style>\n",
              ".list-inline {list-style: none; margin:0; padding: 0}\n",
              ".list-inline>li {display: inline-block}\n",
              ".list-inline>li:not(:last-child)::after {content: \"\\00b7\"; padding: 0 .5ex}\n",
              "</style>\n",
              "<ol class=list-inline><li>'white'</li><li>'aliceblue'</li><li>'antiquewhite'</li><li>'antiquewhite1'</li><li>'antiquewhite2'</li><li>'antiquewhite3'</li><li>'antiquewhite4'</li><li>'aquamarine'</li><li>'aquamarine1'</li><li>'aquamarine2'</li><li>'aquamarine3'</li><li>'aquamarine4'</li><li>'azure'</li><li>'azure1'</li><li>'azure2'</li><li>'azure3'</li><li>'azure4'</li><li>'beige'</li><li>'bisque'</li><li>'bisque1'</li><li>'bisque2'</li><li>'bisque3'</li><li>'bisque4'</li><li>'black'</li><li>'blanchedalmond'</li><li>'blue'</li><li>'blue1'</li><li>'blue2'</li><li>'blue3'</li><li>'blue4'</li><li>'blueviolet'</li><li>'brown'</li><li>'brown1'</li><li>'brown2'</li><li>'brown3'</li><li>'brown4'</li><li>'burlywood'</li><li>'burlywood1'</li><li>'burlywood2'</li><li>'burlywood3'</li><li>'burlywood4'</li><li>'cadetblue'</li><li>'cadetblue1'</li><li>'cadetblue2'</li><li>'cadetblue3'</li><li>'cadetblue4'</li><li>'chartreuse'</li><li>'chartreuse1'</li><li>'chartreuse2'</li><li>'chartreuse3'</li><li>'chartreuse4'</li><li>'chocolate'</li><li>'chocolate1'</li><li>'chocolate2'</li><li>'chocolate3'</li><li>'chocolate4'</li><li>'coral'</li><li>'coral1'</li><li>'coral2'</li><li>'coral3'</li><li>'coral4'</li><li>'cornflowerblue'</li><li>'cornsilk'</li><li>'cornsilk1'</li><li>'cornsilk2'</li><li>'cornsilk3'</li><li>'cornsilk4'</li><li>'cyan'</li><li>'cyan1'</li><li>'cyan2'</li><li>'cyan3'</li><li>'cyan4'</li><li>'darkblue'</li><li>'darkcyan'</li><li>'darkgoldenrod'</li><li>'darkgoldenrod1'</li><li>'darkgoldenrod2'</li><li>'darkgoldenrod3'</li><li>'darkgoldenrod4'</li><li>'darkgray'</li><li>'darkgreen'</li><li>'darkgrey'</li><li>'darkkhaki'</li><li>'darkmagenta'</li><li>'darkolivegreen'</li><li>'darkolivegreen1'</li><li>'darkolivegreen2'</li><li>'darkolivegreen3'</li><li>'darkolivegreen4'</li><li>'darkorange'</li><li>'darkorange1'</li><li>'darkorange2'</li><li>'darkorange3'</li><li>'darkorange4'</li><li>'darkorchid'</li><li>'darkorchid1'</li><li>'darkorchid2'</li><li>'darkorchid3'</li><li>'darkorchid4'</li><li>'darkred'</li><li>'darksalmon'</li><li>'darkseagreen'</li><li>'darkseagreen1'</li><li>'darkseagreen2'</li><li>'darkseagreen3'</li><li>'darkseagreen4'</li><li>'darkslateblue'</li><li>'darkslategray'</li><li>'darkslategray1'</li><li>'darkslategray2'</li><li>'darkslategray3'</li><li>'darkslategray4'</li><li>'darkslategrey'</li><li>'darkturquoise'</li><li>'darkviolet'</li><li>'deeppink'</li><li>'deeppink1'</li><li>'deeppink2'</li><li>'deeppink3'</li><li>'deeppink4'</li><li>'deepskyblue'</li><li>'deepskyblue1'</li><li>'deepskyblue2'</li><li>'deepskyblue3'</li><li>'deepskyblue4'</li><li>'dimgray'</li><li>'dimgrey'</li><li>'dodgerblue'</li><li>'dodgerblue1'</li><li>'dodgerblue2'</li><li>'dodgerblue3'</li><li>'dodgerblue4'</li><li>'firebrick'</li><li>'firebrick1'</li><li>'firebrick2'</li><li>'firebrick3'</li><li>'firebrick4'</li><li>'floralwhite'</li><li>'forestgreen'</li><li>'gainsboro'</li><li>'ghostwhite'</li><li>'gold'</li><li>'gold1'</li><li>'gold2'</li><li>'gold3'</li><li>'gold4'</li><li>'goldenrod'</li><li>'goldenrod1'</li><li>'goldenrod2'</li><li>'goldenrod3'</li><li>'goldenrod4'</li><li>'gray'</li><li>'gray0'</li><li>'gray1'</li><li>'gray2'</li><li>'gray3'</li><li>'gray4'</li><li>'gray5'</li><li>'gray6'</li><li>'gray7'</li><li>'gray8'</li><li>'gray9'</li><li>'gray10'</li><li>'gray11'</li><li>'gray12'</li><li>'gray13'</li><li>'gray14'</li><li>'gray15'</li><li>'gray16'</li><li>'gray17'</li><li>'gray18'</li><li>'gray19'</li><li>'gray20'</li><li>'gray21'</li><li>'gray22'</li><li>'gray23'</li><li>'gray24'</li><li>'gray25'</li><li>'gray26'</li><li>'gray27'</li><li>'gray28'</li><li>'gray29'</li><li>'gray30'</li><li>'gray31'</li><li>'gray32'</li><li>'gray33'</li><li>'gray34'</li><li>'gray35'</li><li>'gray36'</li><li>'gray37'</li><li>'gray38'</li><li>'gray39'</li><li>'gray40'</li><li>'gray41'</li><li>'gray42'</li><li>'gray43'</li><li>'gray44'</li><li>'gray45'</li><li>'gray46'</li><li>'gray47'</li><li>⋯</li><li>'maroon3'</li><li>'maroon4'</li><li>'mediumaquamarine'</li><li>'mediumblue'</li><li>'mediumorchid'</li><li>'mediumorchid1'</li><li>'mediumorchid2'</li><li>'mediumorchid3'</li><li>'mediumorchid4'</li><li>'mediumpurple'</li><li>'mediumpurple1'</li><li>'mediumpurple2'</li><li>'mediumpurple3'</li><li>'mediumpurple4'</li><li>'mediumseagreen'</li><li>'mediumslateblue'</li><li>'mediumspringgreen'</li><li>'mediumturquoise'</li><li>'mediumvioletred'</li><li>'midnightblue'</li><li>'mintcream'</li><li>'mistyrose'</li><li>'mistyrose1'</li><li>'mistyrose2'</li><li>'mistyrose3'</li><li>'mistyrose4'</li><li>'moccasin'</li><li>'navajowhite'</li><li>'navajowhite1'</li><li>'navajowhite2'</li><li>'navajowhite3'</li><li>'navajowhite4'</li><li>'navy'</li><li>'navyblue'</li><li>'oldlace'</li><li>'olivedrab'</li><li>'olivedrab1'</li><li>'olivedrab2'</li><li>'olivedrab3'</li><li>'olivedrab4'</li><li>'orange'</li><li>'orange1'</li><li>'orange2'</li><li>'orange3'</li><li>'orange4'</li><li>'orangered'</li><li>'orangered1'</li><li>'orangered2'</li><li>'orangered3'</li><li>'orangered4'</li><li>'orchid'</li><li>'orchid1'</li><li>'orchid2'</li><li>'orchid3'</li><li>'orchid4'</li><li>'palegoldenrod'</li><li>'palegreen'</li><li>'palegreen1'</li><li>'palegreen2'</li><li>'palegreen3'</li><li>'palegreen4'</li><li>'paleturquoise'</li><li>'paleturquoise1'</li><li>'paleturquoise2'</li><li>'paleturquoise3'</li><li>'paleturquoise4'</li><li>'palevioletred'</li><li>'palevioletred1'</li><li>'palevioletred2'</li><li>'palevioletred3'</li><li>'palevioletred4'</li><li>'papayawhip'</li><li>'peachpuff'</li><li>'peachpuff1'</li><li>'peachpuff2'</li><li>'peachpuff3'</li><li>'peachpuff4'</li><li>'peru'</li><li>'pink'</li><li>'pink1'</li><li>'pink2'</li><li>'pink3'</li><li>'pink4'</li><li>'plum'</li><li>'plum1'</li><li>'plum2'</li><li>'plum3'</li><li>'plum4'</li><li>'powderblue'</li><li>'purple'</li><li>'purple1'</li><li>'purple2'</li><li>'purple3'</li><li>'purple4'</li><li>'red'</li><li>'red1'</li><li>'red2'</li><li>'red3'</li><li>'red4'</li><li>'rosybrown'</li><li>'rosybrown1'</li><li>'rosybrown2'</li><li>'rosybrown3'</li><li>'rosybrown4'</li><li>'royalblue'</li><li>'royalblue1'</li><li>'royalblue2'</li><li>'royalblue3'</li><li>'royalblue4'</li><li>'saddlebrown'</li><li>'salmon'</li><li>'salmon1'</li><li>'salmon2'</li><li>'salmon3'</li><li>'salmon4'</li><li>'sandybrown'</li><li>'seagreen'</li><li>'seagreen1'</li><li>'seagreen2'</li><li>'seagreen3'</li><li>'seagreen4'</li><li>'seashell'</li><li>'seashell1'</li><li>'seashell2'</li><li>'seashell3'</li><li>'seashell4'</li><li>'sienna'</li><li>'sienna1'</li><li>'sienna2'</li><li>'sienna3'</li><li>'sienna4'</li><li>'skyblue'</li><li>'skyblue1'</li><li>'skyblue2'</li><li>'skyblue3'</li><li>'skyblue4'</li><li>'slateblue'</li><li>'slateblue1'</li><li>'slateblue2'</li><li>'slateblue3'</li><li>'slateblue4'</li><li>'slategray'</li><li>'slategray1'</li><li>'slategray2'</li><li>'slategray3'</li><li>'slategray4'</li><li>'slategrey'</li><li>'snow'</li><li>'snow1'</li><li>'snow2'</li><li>'snow3'</li><li>'snow4'</li><li>'springgreen'</li><li>'springgreen1'</li><li>'springgreen2'</li><li>'springgreen3'</li><li>'springgreen4'</li><li>'steelblue'</li><li>'steelblue1'</li><li>'steelblue2'</li><li>'steelblue3'</li><li>'steelblue4'</li><li>'tan'</li><li>'tan1'</li><li>'tan2'</li><li>'tan3'</li><li>'tan4'</li><li>'thistle'</li><li>'thistle1'</li><li>'thistle2'</li><li>'thistle3'</li><li>'thistle4'</li><li>'tomato'</li><li>'tomato1'</li><li>'tomato2'</li><li>'tomato3'</li><li>'tomato4'</li><li>'turquoise'</li><li>'turquoise1'</li><li>'turquoise2'</li><li>'turquoise3'</li><li>'turquoise4'</li><li>'violet'</li><li>'violetred'</li><li>'violetred1'</li><li>'violetred2'</li><li>'violetred3'</li><li>'violetred4'</li><li>'wheat'</li><li>'wheat1'</li><li>'wheat2'</li><li>'wheat3'</li><li>'wheat4'</li><li>'whitesmoke'</li><li>'yellow'</li><li>'yellow1'</li><li>'yellow2'</li><li>'yellow3'</li><li>'yellow4'</li><li>'yellowgreen'</li></ol>\n"
            ],
            "text/markdown": "1. 'white'\n2. 'aliceblue'\n3. 'antiquewhite'\n4. 'antiquewhite1'\n5. 'antiquewhite2'\n6. 'antiquewhite3'\n7. 'antiquewhite4'\n8. 'aquamarine'\n9. 'aquamarine1'\n10. 'aquamarine2'\n11. 'aquamarine3'\n12. 'aquamarine4'\n13. 'azure'\n14. 'azure1'\n15. 'azure2'\n16. 'azure3'\n17. 'azure4'\n18. 'beige'\n19. 'bisque'\n20. 'bisque1'\n21. 'bisque2'\n22. 'bisque3'\n23. 'bisque4'\n24. 'black'\n25. 'blanchedalmond'\n26. 'blue'\n27. 'blue1'\n28. 'blue2'\n29. 'blue3'\n30. 'blue4'\n31. 'blueviolet'\n32. 'brown'\n33. 'brown1'\n34. 'brown2'\n35. 'brown3'\n36. 'brown4'\n37. 'burlywood'\n38. 'burlywood1'\n39. 'burlywood2'\n40. 'burlywood3'\n41. 'burlywood4'\n42. 'cadetblue'\n43. 'cadetblue1'\n44. 'cadetblue2'\n45. 'cadetblue3'\n46. 'cadetblue4'\n47. 'chartreuse'\n48. 'chartreuse1'\n49. 'chartreuse2'\n50. 'chartreuse3'\n51. 'chartreuse4'\n52. 'chocolate'\n53. 'chocolate1'\n54. 'chocolate2'\n55. 'chocolate3'\n56. 'chocolate4'\n57. 'coral'\n58. 'coral1'\n59. 'coral2'\n60. 'coral3'\n61. 'coral4'\n62. 'cornflowerblue'\n63. 'cornsilk'\n64. 'cornsilk1'\n65. 'cornsilk2'\n66. 'cornsilk3'\n67. 'cornsilk4'\n68. 'cyan'\n69. 'cyan1'\n70. 'cyan2'\n71. 'cyan3'\n72. 'cyan4'\n73. 'darkblue'\n74. 'darkcyan'\n75. 'darkgoldenrod'\n76. 'darkgoldenrod1'\n77. 'darkgoldenrod2'\n78. 'darkgoldenrod3'\n79. 'darkgoldenrod4'\n80. 'darkgray'\n81. 'darkgreen'\n82. 'darkgrey'\n83. 'darkkhaki'\n84. 'darkmagenta'\n85. 'darkolivegreen'\n86. 'darkolivegreen1'\n87. 'darkolivegreen2'\n88. 'darkolivegreen3'\n89. 'darkolivegreen4'\n90. 'darkorange'\n91. 'darkorange1'\n92. 'darkorange2'\n93. 'darkorange3'\n94. 'darkorange4'\n95. 'darkorchid'\n96. 'darkorchid1'\n97. 'darkorchid2'\n98. 'darkorchid3'\n99. 'darkorchid4'\n100. 'darkred'\n101. 'darksalmon'\n102. 'darkseagreen'\n103. 'darkseagreen1'\n104. 'darkseagreen2'\n105. 'darkseagreen3'\n106. 'darkseagreen4'\n107. 'darkslateblue'\n108. 'darkslategray'\n109. 'darkslategray1'\n110. 'darkslategray2'\n111. 'darkslategray3'\n112. 'darkslategray4'\n113. 'darkslategrey'\n114. 'darkturquoise'\n115. 'darkviolet'\n116. 'deeppink'\n117. 'deeppink1'\n118. 'deeppink2'\n119. 'deeppink3'\n120. 'deeppink4'\n121. 'deepskyblue'\n122. 'deepskyblue1'\n123. 'deepskyblue2'\n124. 'deepskyblue3'\n125. 'deepskyblue4'\n126. 'dimgray'\n127. 'dimgrey'\n128. 'dodgerblue'\n129. 'dodgerblue1'\n130. 'dodgerblue2'\n131. 'dodgerblue3'\n132. 'dodgerblue4'\n133. 'firebrick'\n134. 'firebrick1'\n135. 'firebrick2'\n136. 'firebrick3'\n137. 'firebrick4'\n138. 'floralwhite'\n139. 'forestgreen'\n140. 'gainsboro'\n141. 'ghostwhite'\n142. 'gold'\n143. 'gold1'\n144. 'gold2'\n145. 'gold3'\n146. 'gold4'\n147. 'goldenrod'\n148. 'goldenrod1'\n149. 'goldenrod2'\n150. 'goldenrod3'\n151. 'goldenrod4'\n152. 'gray'\n153. 'gray0'\n154. 'gray1'\n155. 'gray2'\n156. 'gray3'\n157. 'gray4'\n158. 'gray5'\n159. 'gray6'\n160. 'gray7'\n161. 'gray8'\n162. 'gray9'\n163. 'gray10'\n164. 'gray11'\n165. 'gray12'\n166. 'gray13'\n167. 'gray14'\n168. 'gray15'\n169. 'gray16'\n170. 'gray17'\n171. 'gray18'\n172. 'gray19'\n173. 'gray20'\n174. 'gray21'\n175. 'gray22'\n176. 'gray23'\n177. 'gray24'\n178. 'gray25'\n179. 'gray26'\n180. 'gray27'\n181. 'gray28'\n182. 'gray29'\n183. 'gray30'\n184. 'gray31'\n185. 'gray32'\n186. 'gray33'\n187. 'gray34'\n188. 'gray35'\n189. 'gray36'\n190. 'gray37'\n191. 'gray38'\n192. 'gray39'\n193. 'gray40'\n194. 'gray41'\n195. 'gray42'\n196. 'gray43'\n197. 'gray44'\n198. 'gray45'\n199. 'gray46'\n200. 'gray47'\n201. ⋯\n202. 'maroon3'\n203. 'maroon4'\n204. 'mediumaquamarine'\n205. 'mediumblue'\n206. 'mediumorchid'\n207. 'mediumorchid1'\n208. 'mediumorchid2'\n209. 'mediumorchid3'\n210. 'mediumorchid4'\n211. 'mediumpurple'\n212. 'mediumpurple1'\n213. 'mediumpurple2'\n214. 'mediumpurple3'\n215. 'mediumpurple4'\n216. 'mediumseagreen'\n217. 'mediumslateblue'\n218. 'mediumspringgreen'\n219. 'mediumturquoise'\n220. 'mediumvioletred'\n221. 'midnightblue'\n222. 'mintcream'\n223. 'mistyrose'\n224. 'mistyrose1'\n225. 'mistyrose2'\n226. 'mistyrose3'\n227. 'mistyrose4'\n228. 'moccasin'\n229. 'navajowhite'\n230. 'navajowhite1'\n231. 'navajowhite2'\n232. 'navajowhite3'\n233. 'navajowhite4'\n234. 'navy'\n235. 'navyblue'\n236. 'oldlace'\n237. 'olivedrab'\n238. 'olivedrab1'\n239. 'olivedrab2'\n240. 'olivedrab3'\n241. 'olivedrab4'\n242. 'orange'\n243. 'orange1'\n244. 'orange2'\n245. 'orange3'\n246. 'orange4'\n247. 'orangered'\n248. 'orangered1'\n249. 'orangered2'\n250. 'orangered3'\n251. 'orangered4'\n252. 'orchid'\n253. 'orchid1'\n254. 'orchid2'\n255. 'orchid3'\n256. 'orchid4'\n257. 'palegoldenrod'\n258. 'palegreen'\n259. 'palegreen1'\n260. 'palegreen2'\n261. 'palegreen3'\n262. 'palegreen4'\n263. 'paleturquoise'\n264. 'paleturquoise1'\n265. 'paleturquoise2'\n266. 'paleturquoise3'\n267. 'paleturquoise4'\n268. 'palevioletred'\n269. 'palevioletred1'\n270. 'palevioletred2'\n271. 'palevioletred3'\n272. 'palevioletred4'\n273. 'papayawhip'\n274. 'peachpuff'\n275. 'peachpuff1'\n276. 'peachpuff2'\n277. 'peachpuff3'\n278. 'peachpuff4'\n279. 'peru'\n280. 'pink'\n281. 'pink1'\n282. 'pink2'\n283. 'pink3'\n284. 'pink4'\n285. 'plum'\n286. 'plum1'\n287. 'plum2'\n288. 'plum3'\n289. 'plum4'\n290. 'powderblue'\n291. 'purple'\n292. 'purple1'\n293. 'purple2'\n294. 'purple3'\n295. 'purple4'\n296. 'red'\n297. 'red1'\n298. 'red2'\n299. 'red3'\n300. 'red4'\n301. 'rosybrown'\n302. 'rosybrown1'\n303. 'rosybrown2'\n304. 'rosybrown3'\n305. 'rosybrown4'\n306. 'royalblue'\n307. 'royalblue1'\n308. 'royalblue2'\n309. 'royalblue3'\n310. 'royalblue4'\n311. 'saddlebrown'\n312. 'salmon'\n313. 'salmon1'\n314. 'salmon2'\n315. 'salmon3'\n316. 'salmon4'\n317. 'sandybrown'\n318. 'seagreen'\n319. 'seagreen1'\n320. 'seagreen2'\n321. 'seagreen3'\n322. 'seagreen4'\n323. 'seashell'\n324. 'seashell1'\n325. 'seashell2'\n326. 'seashell3'\n327. 'seashell4'\n328. 'sienna'\n329. 'sienna1'\n330. 'sienna2'\n331. 'sienna3'\n332. 'sienna4'\n333. 'skyblue'\n334. 'skyblue1'\n335. 'skyblue2'\n336. 'skyblue3'\n337. 'skyblue4'\n338. 'slateblue'\n339. 'slateblue1'\n340. 'slateblue2'\n341. 'slateblue3'\n342. 'slateblue4'\n343. 'slategray'\n344. 'slategray1'\n345. 'slategray2'\n346. 'slategray3'\n347. 'slategray4'\n348. 'slategrey'\n349. 'snow'\n350. 'snow1'\n351. 'snow2'\n352. 'snow3'\n353. 'snow4'\n354. 'springgreen'\n355. 'springgreen1'\n356. 'springgreen2'\n357. 'springgreen3'\n358. 'springgreen4'\n359. 'steelblue'\n360. 'steelblue1'\n361. 'steelblue2'\n362. 'steelblue3'\n363. 'steelblue4'\n364. 'tan'\n365. 'tan1'\n366. 'tan2'\n367. 'tan3'\n368. 'tan4'\n369. 'thistle'\n370. 'thistle1'\n371. 'thistle2'\n372. 'thistle3'\n373. 'thistle4'\n374. 'tomato'\n375. 'tomato1'\n376. 'tomato2'\n377. 'tomato3'\n378. 'tomato4'\n379. 'turquoise'\n380. 'turquoise1'\n381. 'turquoise2'\n382. 'turquoise3'\n383. 'turquoise4'\n384. 'violet'\n385. 'violetred'\n386. 'violetred1'\n387. 'violetred2'\n388. 'violetred3'\n389. 'violetred4'\n390. 'wheat'\n391. 'wheat1'\n392. 'wheat2'\n393. 'wheat3'\n394. 'wheat4'\n395. 'whitesmoke'\n396. 'yellow'\n397. 'yellow1'\n398. 'yellow2'\n399. 'yellow3'\n400. 'yellow4'\n401. 'yellowgreen'\n\n\n",
            "text/latex": "\\begin{enumerate*}\n\\item 'white'\n\\item 'aliceblue'\n\\item 'antiquewhite'\n\\item 'antiquewhite1'\n\\item 'antiquewhite2'\n\\item 'antiquewhite3'\n\\item 'antiquewhite4'\n\\item 'aquamarine'\n\\item 'aquamarine1'\n\\item 'aquamarine2'\n\\item 'aquamarine3'\n\\item 'aquamarine4'\n\\item 'azure'\n\\item 'azure1'\n\\item 'azure2'\n\\item 'azure3'\n\\item 'azure4'\n\\item 'beige'\n\\item 'bisque'\n\\item 'bisque1'\n\\item 'bisque2'\n\\item 'bisque3'\n\\item 'bisque4'\n\\item 'black'\n\\item 'blanchedalmond'\n\\item 'blue'\n\\item 'blue1'\n\\item 'blue2'\n\\item 'blue3'\n\\item 'blue4'\n\\item 'blueviolet'\n\\item 'brown'\n\\item 'brown1'\n\\item 'brown2'\n\\item 'brown3'\n\\item 'brown4'\n\\item 'burlywood'\n\\item 'burlywood1'\n\\item 'burlywood2'\n\\item 'burlywood3'\n\\item 'burlywood4'\n\\item 'cadetblue'\n\\item 'cadetblue1'\n\\item 'cadetblue2'\n\\item 'cadetblue3'\n\\item 'cadetblue4'\n\\item 'chartreuse'\n\\item 'chartreuse1'\n\\item 'chartreuse2'\n\\item 'chartreuse3'\n\\item 'chartreuse4'\n\\item 'chocolate'\n\\item 'chocolate1'\n\\item 'chocolate2'\n\\item 'chocolate3'\n\\item 'chocolate4'\n\\item 'coral'\n\\item 'coral1'\n\\item 'coral2'\n\\item 'coral3'\n\\item 'coral4'\n\\item 'cornflowerblue'\n\\item 'cornsilk'\n\\item 'cornsilk1'\n\\item 'cornsilk2'\n\\item 'cornsilk3'\n\\item 'cornsilk4'\n\\item 'cyan'\n\\item 'cyan1'\n\\item 'cyan2'\n\\item 'cyan3'\n\\item 'cyan4'\n\\item 'darkblue'\n\\item 'darkcyan'\n\\item 'darkgoldenrod'\n\\item 'darkgoldenrod1'\n\\item 'darkgoldenrod2'\n\\item 'darkgoldenrod3'\n\\item 'darkgoldenrod4'\n\\item 'darkgray'\n\\item 'darkgreen'\n\\item 'darkgrey'\n\\item 'darkkhaki'\n\\item 'darkmagenta'\n\\item 'darkolivegreen'\n\\item 'darkolivegreen1'\n\\item 'darkolivegreen2'\n\\item 'darkolivegreen3'\n\\item 'darkolivegreen4'\n\\item 'darkorange'\n\\item 'darkorange1'\n\\item 'darkorange2'\n\\item 'darkorange3'\n\\item 'darkorange4'\n\\item 'darkorchid'\n\\item 'darkorchid1'\n\\item 'darkorchid2'\n\\item 'darkorchid3'\n\\item 'darkorchid4'\n\\item 'darkred'\n\\item 'darksalmon'\n\\item 'darkseagreen'\n\\item 'darkseagreen1'\n\\item 'darkseagreen2'\n\\item 'darkseagreen3'\n\\item 'darkseagreen4'\n\\item 'darkslateblue'\n\\item 'darkslategray'\n\\item 'darkslategray1'\n\\item 'darkslategray2'\n\\item 'darkslategray3'\n\\item 'darkslategray4'\n\\item 'darkslategrey'\n\\item 'darkturquoise'\n\\item 'darkviolet'\n\\item 'deeppink'\n\\item 'deeppink1'\n\\item 'deeppink2'\n\\item 'deeppink3'\n\\item 'deeppink4'\n\\item 'deepskyblue'\n\\item 'deepskyblue1'\n\\item 'deepskyblue2'\n\\item 'deepskyblue3'\n\\item 'deepskyblue4'\n\\item 'dimgray'\n\\item 'dimgrey'\n\\item 'dodgerblue'\n\\item 'dodgerblue1'\n\\item 'dodgerblue2'\n\\item 'dodgerblue3'\n\\item 'dodgerblue4'\n\\item 'firebrick'\n\\item 'firebrick1'\n\\item 'firebrick2'\n\\item 'firebrick3'\n\\item 'firebrick4'\n\\item 'floralwhite'\n\\item 'forestgreen'\n\\item 'gainsboro'\n\\item 'ghostwhite'\n\\item 'gold'\n\\item 'gold1'\n\\item 'gold2'\n\\item 'gold3'\n\\item 'gold4'\n\\item 'goldenrod'\n\\item 'goldenrod1'\n\\item 'goldenrod2'\n\\item 'goldenrod3'\n\\item 'goldenrod4'\n\\item 'gray'\n\\item 'gray0'\n\\item 'gray1'\n\\item 'gray2'\n\\item 'gray3'\n\\item 'gray4'\n\\item 'gray5'\n\\item 'gray6'\n\\item 'gray7'\n\\item 'gray8'\n\\item 'gray9'\n\\item 'gray10'\n\\item 'gray11'\n\\item 'gray12'\n\\item 'gray13'\n\\item 'gray14'\n\\item 'gray15'\n\\item 'gray16'\n\\item 'gray17'\n\\item 'gray18'\n\\item 'gray19'\n\\item 'gray20'\n\\item 'gray21'\n\\item 'gray22'\n\\item 'gray23'\n\\item 'gray24'\n\\item 'gray25'\n\\item 'gray26'\n\\item 'gray27'\n\\item 'gray28'\n\\item 'gray29'\n\\item 'gray30'\n\\item 'gray31'\n\\item 'gray32'\n\\item 'gray33'\n\\item 'gray34'\n\\item 'gray35'\n\\item 'gray36'\n\\item 'gray37'\n\\item 'gray38'\n\\item 'gray39'\n\\item 'gray40'\n\\item 'gray41'\n\\item 'gray42'\n\\item 'gray43'\n\\item 'gray44'\n\\item 'gray45'\n\\item 'gray46'\n\\item 'gray47'\n\\item ⋯\n\\item 'maroon3'\n\\item 'maroon4'\n\\item 'mediumaquamarine'\n\\item 'mediumblue'\n\\item 'mediumorchid'\n\\item 'mediumorchid1'\n\\item 'mediumorchid2'\n\\item 'mediumorchid3'\n\\item 'mediumorchid4'\n\\item 'mediumpurple'\n\\item 'mediumpurple1'\n\\item 'mediumpurple2'\n\\item 'mediumpurple3'\n\\item 'mediumpurple4'\n\\item 'mediumseagreen'\n\\item 'mediumslateblue'\n\\item 'mediumspringgreen'\n\\item 'mediumturquoise'\n\\item 'mediumvioletred'\n\\item 'midnightblue'\n\\item 'mintcream'\n\\item 'mistyrose'\n\\item 'mistyrose1'\n\\item 'mistyrose2'\n\\item 'mistyrose3'\n\\item 'mistyrose4'\n\\item 'moccasin'\n\\item 'navajowhite'\n\\item 'navajowhite1'\n\\item 'navajowhite2'\n\\item 'navajowhite3'\n\\item 'navajowhite4'\n\\item 'navy'\n\\item 'navyblue'\n\\item 'oldlace'\n\\item 'olivedrab'\n\\item 'olivedrab1'\n\\item 'olivedrab2'\n\\item 'olivedrab3'\n\\item 'olivedrab4'\n\\item 'orange'\n\\item 'orange1'\n\\item 'orange2'\n\\item 'orange3'\n\\item 'orange4'\n\\item 'orangered'\n\\item 'orangered1'\n\\item 'orangered2'\n\\item 'orangered3'\n\\item 'orangered4'\n\\item 'orchid'\n\\item 'orchid1'\n\\item 'orchid2'\n\\item 'orchid3'\n\\item 'orchid4'\n\\item 'palegoldenrod'\n\\item 'palegreen'\n\\item 'palegreen1'\n\\item 'palegreen2'\n\\item 'palegreen3'\n\\item 'palegreen4'\n\\item 'paleturquoise'\n\\item 'paleturquoise1'\n\\item 'paleturquoise2'\n\\item 'paleturquoise3'\n\\item 'paleturquoise4'\n\\item 'palevioletred'\n\\item 'palevioletred1'\n\\item 'palevioletred2'\n\\item 'palevioletred3'\n\\item 'palevioletred4'\n\\item 'papayawhip'\n\\item 'peachpuff'\n\\item 'peachpuff1'\n\\item 'peachpuff2'\n\\item 'peachpuff3'\n\\item 'peachpuff4'\n\\item 'peru'\n\\item 'pink'\n\\item 'pink1'\n\\item 'pink2'\n\\item 'pink3'\n\\item 'pink4'\n\\item 'plum'\n\\item 'plum1'\n\\item 'plum2'\n\\item 'plum3'\n\\item 'plum4'\n\\item 'powderblue'\n\\item 'purple'\n\\item 'purple1'\n\\item 'purple2'\n\\item 'purple3'\n\\item 'purple4'\n\\item 'red'\n\\item 'red1'\n\\item 'red2'\n\\item 'red3'\n\\item 'red4'\n\\item 'rosybrown'\n\\item 'rosybrown1'\n\\item 'rosybrown2'\n\\item 'rosybrown3'\n\\item 'rosybrown4'\n\\item 'royalblue'\n\\item 'royalblue1'\n\\item 'royalblue2'\n\\item 'royalblue3'\n\\item 'royalblue4'\n\\item 'saddlebrown'\n\\item 'salmon'\n\\item 'salmon1'\n\\item 'salmon2'\n\\item 'salmon3'\n\\item 'salmon4'\n\\item 'sandybrown'\n\\item 'seagreen'\n\\item 'seagreen1'\n\\item 'seagreen2'\n\\item 'seagreen3'\n\\item 'seagreen4'\n\\item 'seashell'\n\\item 'seashell1'\n\\item 'seashell2'\n\\item 'seashell3'\n\\item 'seashell4'\n\\item 'sienna'\n\\item 'sienna1'\n\\item 'sienna2'\n\\item 'sienna3'\n\\item 'sienna4'\n\\item 'skyblue'\n\\item 'skyblue1'\n\\item 'skyblue2'\n\\item 'skyblue3'\n\\item 'skyblue4'\n\\item 'slateblue'\n\\item 'slateblue1'\n\\item 'slateblue2'\n\\item 'slateblue3'\n\\item 'slateblue4'\n\\item 'slategray'\n\\item 'slategray1'\n\\item 'slategray2'\n\\item 'slategray3'\n\\item 'slategray4'\n\\item 'slategrey'\n\\item 'snow'\n\\item 'snow1'\n\\item 'snow2'\n\\item 'snow3'\n\\item 'snow4'\n\\item 'springgreen'\n\\item 'springgreen1'\n\\item 'springgreen2'\n\\item 'springgreen3'\n\\item 'springgreen4'\n\\item 'steelblue'\n\\item 'steelblue1'\n\\item 'steelblue2'\n\\item 'steelblue3'\n\\item 'steelblue4'\n\\item 'tan'\n\\item 'tan1'\n\\item 'tan2'\n\\item 'tan3'\n\\item 'tan4'\n\\item 'thistle'\n\\item 'thistle1'\n\\item 'thistle2'\n\\item 'thistle3'\n\\item 'thistle4'\n\\item 'tomato'\n\\item 'tomato1'\n\\item 'tomato2'\n\\item 'tomato3'\n\\item 'tomato4'\n\\item 'turquoise'\n\\item 'turquoise1'\n\\item 'turquoise2'\n\\item 'turquoise3'\n\\item 'turquoise4'\n\\item 'violet'\n\\item 'violetred'\n\\item 'violetred1'\n\\item 'violetred2'\n\\item 'violetred3'\n\\item 'violetred4'\n\\item 'wheat'\n\\item 'wheat1'\n\\item 'wheat2'\n\\item 'wheat3'\n\\item 'wheat4'\n\\item 'whitesmoke'\n\\item 'yellow'\n\\item 'yellow1'\n\\item 'yellow2'\n\\item 'yellow3'\n\\item 'yellow4'\n\\item 'yellowgreen'\n\\end{enumerate*}\n",
            "text/plain": [
              "  [1] \"white\"                \"aliceblue\"            \"antiquewhite\"        \n",
              "  [4] \"antiquewhite1\"        \"antiquewhite2\"        \"antiquewhite3\"       \n",
              "  [7] \"antiquewhite4\"        \"aquamarine\"           \"aquamarine1\"         \n",
              " [10] \"aquamarine2\"          \"aquamarine3\"          \"aquamarine4\"         \n",
              " [13] \"azure\"                \"azure1\"               \"azure2\"              \n",
              " [16] \"azure3\"               \"azure4\"               \"beige\"               \n",
              " [19] \"bisque\"               \"bisque1\"              \"bisque2\"             \n",
              " [22] \"bisque3\"              \"bisque4\"              \"black\"               \n",
              " [25] \"blanchedalmond\"       \"blue\"                 \"blue1\"               \n",
              " [28] \"blue2\"                \"blue3\"                \"blue4\"               \n",
              " [31] \"blueviolet\"           \"brown\"                \"brown1\"              \n",
              " [34] \"brown2\"               \"brown3\"               \"brown4\"              \n",
              " [37] \"burlywood\"            \"burlywood1\"           \"burlywood2\"          \n",
              " [40] \"burlywood3\"           \"burlywood4\"           \"cadetblue\"           \n",
              " [43] \"cadetblue1\"           \"cadetblue2\"           \"cadetblue3\"          \n",
              " [46] \"cadetblue4\"           \"chartreuse\"           \"chartreuse1\"         \n",
              " [49] \"chartreuse2\"          \"chartreuse3\"          \"chartreuse4\"         \n",
              " [52] \"chocolate\"            \"chocolate1\"           \"chocolate2\"          \n",
              " [55] \"chocolate3\"           \"chocolate4\"           \"coral\"               \n",
              " [58] \"coral1\"               \"coral2\"               \"coral3\"              \n",
              " [61] \"coral4\"               \"cornflowerblue\"       \"cornsilk\"            \n",
              " [64] \"cornsilk1\"            \"cornsilk2\"            \"cornsilk3\"           \n",
              " [67] \"cornsilk4\"            \"cyan\"                 \"cyan1\"               \n",
              " [70] \"cyan2\"                \"cyan3\"                \"cyan4\"               \n",
              " [73] \"darkblue\"             \"darkcyan\"             \"darkgoldenrod\"       \n",
              " [76] \"darkgoldenrod1\"       \"darkgoldenrod2\"       \"darkgoldenrod3\"      \n",
              " [79] \"darkgoldenrod4\"       \"darkgray\"             \"darkgreen\"           \n",
              " [82] \"darkgrey\"             \"darkkhaki\"            \"darkmagenta\"         \n",
              " [85] \"darkolivegreen\"       \"darkolivegreen1\"      \"darkolivegreen2\"     \n",
              " [88] \"darkolivegreen3\"      \"darkolivegreen4\"      \"darkorange\"          \n",
              " [91] \"darkorange1\"          \"darkorange2\"          \"darkorange3\"         \n",
              " [94] \"darkorange4\"          \"darkorchid\"           \"darkorchid1\"         \n",
              " [97] \"darkorchid2\"          \"darkorchid3\"          \"darkorchid4\"         \n",
              "[100] \"darkred\"              \"darksalmon\"           \"darkseagreen\"        \n",
              "[103] \"darkseagreen1\"        \"darkseagreen2\"        \"darkseagreen3\"       \n",
              "[106] \"darkseagreen4\"        \"darkslateblue\"        \"darkslategray\"       \n",
              "[109] \"darkslategray1\"       \"darkslategray2\"       \"darkslategray3\"      \n",
              "[112] \"darkslategray4\"       \"darkslategrey\"        \"darkturquoise\"       \n",
              "[115] \"darkviolet\"           \"deeppink\"             \"deeppink1\"           \n",
              "[118] \"deeppink2\"            \"deeppink3\"            \"deeppink4\"           \n",
              "[121] \"deepskyblue\"          \"deepskyblue1\"         \"deepskyblue2\"        \n",
              "[124] \"deepskyblue3\"         \"deepskyblue4\"         \"dimgray\"             \n",
              "[127] \"dimgrey\"              \"dodgerblue\"           \"dodgerblue1\"         \n",
              "[130] \"dodgerblue2\"          \"dodgerblue3\"          \"dodgerblue4\"         \n",
              "[133] \"firebrick\"            \"firebrick1\"           \"firebrick2\"          \n",
              "[136] \"firebrick3\"           \"firebrick4\"           \"floralwhite\"         \n",
              "[139] \"forestgreen\"          \"gainsboro\"            \"ghostwhite\"          \n",
              "[142] \"gold\"                 \"gold1\"                \"gold2\"               \n",
              "[145] \"gold3\"                \"gold4\"                \"goldenrod\"           \n",
              "[148] \"goldenrod1\"           \"goldenrod2\"           \"goldenrod3\"          \n",
              "[151] \"goldenrod4\"           \"gray\"                 \"gray0\"               \n",
              "[154] \"gray1\"                \"gray2\"                \"gray3\"               \n",
              "[157] \"gray4\"                \"gray5\"                \"gray6\"               \n",
              "[160] \"gray7\"                \"gray8\"                \"gray9\"               \n",
              "[163] \"gray10\"               \"gray11\"               \"gray12\"              \n",
              "[166] \"gray13\"               \"gray14\"               \"gray15\"              \n",
              "[169] \"gray16\"               \"gray17\"               \"gray18\"              \n",
              "[172] \"gray19\"               \"gray20\"               \"gray21\"              \n",
              "[175] \"gray22\"               \"gray23\"               \"gray24\"              \n",
              "[178] \"gray25\"               \"gray26\"               \"gray27\"              \n",
              "[181] \"gray28\"               \"gray29\"               \"gray30\"              \n",
              "[184] \"gray31\"               \"gray32\"               \"gray33\"              \n",
              "[187] \"gray34\"               \"gray35\"               \"gray36\"              \n",
              "[190] \"gray37\"               \"gray38\"               \"gray39\"              \n",
              "[193] \"gray40\"               \"gray41\"               \"gray42\"              \n",
              "[196] \"gray43\"               \"gray44\"               \"gray45\"              \n",
              "[199] \"gray46\"               \"gray47\"               \"gray48\"              \n",
              "[202] \"gray49\"               \"gray50\"               \"gray51\"              \n",
              "[205] \"gray52\"               \"gray53\"               \"gray54\"              \n",
              "[208] \"gray55\"               \"gray56\"               \"gray57\"              \n",
              "[211] \"gray58\"               \"gray59\"               \"gray60\"              \n",
              "[214] \"gray61\"               \"gray62\"               \"gray63\"              \n",
              "[217] \"gray64\"               \"gray65\"               \"gray66\"              \n",
              "[220] \"gray67\"               \"gray68\"               \"gray69\"              \n",
              "[223] \"gray70\"               \"gray71\"               \"gray72\"              \n",
              "[226] \"gray73\"               \"gray74\"               \"gray75\"              \n",
              "[229] \"gray76\"               \"gray77\"               \"gray78\"              \n",
              "[232] \"gray79\"               \"gray80\"               \"gray81\"              \n",
              "[235] \"gray82\"               \"gray83\"               \"gray84\"              \n",
              "[238] \"gray85\"               \"gray86\"               \"gray87\"              \n",
              "[241] \"gray88\"               \"gray89\"               \"gray90\"              \n",
              "[244] \"gray91\"               \"gray92\"               \"gray93\"              \n",
              "[247] \"gray94\"               \"gray95\"               \"gray96\"              \n",
              "[250] \"gray97\"               \"gray98\"               \"gray99\"              \n",
              "[253] \"gray100\"              \"green\"                \"green1\"              \n",
              "[256] \"green2\"               \"green3\"               \"green4\"              \n",
              "[259] \"greenyellow\"          \"grey\"                 \"grey0\"               \n",
              "[262] \"grey1\"                \"grey2\"                \"grey3\"               \n",
              "[265] \"grey4\"                \"grey5\"                \"grey6\"               \n",
              "[268] \"grey7\"                \"grey8\"                \"grey9\"               \n",
              "[271] \"grey10\"               \"grey11\"               \"grey12\"              \n",
              "[274] \"grey13\"               \"grey14\"               \"grey15\"              \n",
              "[277] \"grey16\"               \"grey17\"               \"grey18\"              \n",
              "[280] \"grey19\"               \"grey20\"               \"grey21\"              \n",
              "[283] \"grey22\"               \"grey23\"               \"grey24\"              \n",
              "[286] \"grey25\"               \"grey26\"               \"grey27\"              \n",
              "[289] \"grey28\"               \"grey29\"               \"grey30\"              \n",
              "[292] \"grey31\"               \"grey32\"               \"grey33\"              \n",
              "[295] \"grey34\"               \"grey35\"               \"grey36\"              \n",
              "[298] \"grey37\"               \"grey38\"               \"grey39\"              \n",
              "[301] \"grey40\"               \"grey41\"               \"grey42\"              \n",
              "[304] \"grey43\"               \"grey44\"               \"grey45\"              \n",
              "[307] \"grey46\"               \"grey47\"               \"grey48\"              \n",
              "[310] \"grey49\"               \"grey50\"               \"grey51\"              \n",
              "[313] \"grey52\"               \"grey53\"               \"grey54\"              \n",
              "[316] \"grey55\"               \"grey56\"               \"grey57\"              \n",
              "[319] \"grey58\"               \"grey59\"               \"grey60\"              \n",
              "[322] \"grey61\"               \"grey62\"               \"grey63\"              \n",
              "[325] \"grey64\"               \"grey65\"               \"grey66\"              \n",
              "[328] \"grey67\"               \"grey68\"               \"grey69\"              \n",
              "[331] \"grey70\"               \"grey71\"               \"grey72\"              \n",
              "[334] \"grey73\"               \"grey74\"               \"grey75\"              \n",
              "[337] \"grey76\"               \"grey77\"               \"grey78\"              \n",
              "[340] \"grey79\"               \"grey80\"               \"grey81\"              \n",
              "[343] \"grey82\"               \"grey83\"               \"grey84\"              \n",
              "[346] \"grey85\"               \"grey86\"               \"grey87\"              \n",
              "[349] \"grey88\"               \"grey89\"               \"grey90\"              \n",
              "[352] \"grey91\"               \"grey92\"               \"grey93\"              \n",
              "[355] \"grey94\"               \"grey95\"               \"grey96\"              \n",
              "[358] \"grey97\"               \"grey98\"               \"grey99\"              \n",
              "[361] \"grey100\"              \"honeydew\"             \"honeydew1\"           \n",
              "[364] \"honeydew2\"            \"honeydew3\"            \"honeydew4\"           \n",
              "[367] \"hotpink\"              \"hotpink1\"             \"hotpink2\"            \n",
              "[370] \"hotpink3\"             \"hotpink4\"             \"indianred\"           \n",
              "[373] \"indianred1\"           \"indianred2\"           \"indianred3\"          \n",
              "[376] \"indianred4\"           \"ivory\"                \"ivory1\"              \n",
              "[379] \"ivory2\"               \"ivory3\"               \"ivory4\"              \n",
              "[382] \"khaki\"                \"khaki1\"               \"khaki2\"              \n",
              "[385] \"khaki3\"               \"khaki4\"               \"lavender\"            \n",
              "[388] \"lavenderblush\"        \"lavenderblush1\"       \"lavenderblush2\"      \n",
              "[391] \"lavenderblush3\"       \"lavenderblush4\"       \"lawngreen\"           \n",
              "[394] \"lemonchiffon\"         \"lemonchiffon1\"        \"lemonchiffon2\"       \n",
              "[397] \"lemonchiffon3\"        \"lemonchiffon4\"        \"lightblue\"           \n",
              "[400] \"lightblue1\"           \"lightblue2\"           \"lightblue3\"          \n",
              "[403] \"lightblue4\"           \"lightcoral\"           \"lightcyan\"           \n",
              "[406] \"lightcyan1\"           \"lightcyan2\"           \"lightcyan3\"          \n",
              "[409] \"lightcyan4\"           \"lightgoldenrod\"       \"lightgoldenrod1\"     \n",
              "[412] \"lightgoldenrod2\"      \"lightgoldenrod3\"      \"lightgoldenrod4\"     \n",
              "[415] \"lightgoldenrodyellow\" \"lightgray\"            \"lightgreen\"          \n",
              "[418] \"lightgrey\"            \"lightpink\"            \"lightpink1\"          \n",
              "[421] \"lightpink2\"           \"lightpink3\"           \"lightpink4\"          \n",
              "[424] \"lightsalmon\"          \"lightsalmon1\"         \"lightsalmon2\"        \n",
              "[427] \"lightsalmon3\"         \"lightsalmon4\"         \"lightseagreen\"       \n",
              "[430] \"lightskyblue\"         \"lightskyblue1\"        \"lightskyblue2\"       \n",
              "[433] \"lightskyblue3\"        \"lightskyblue4\"        \"lightslateblue\"      \n",
              "[436] \"lightslategray\"       \"lightslategrey\"       \"lightsteelblue\"      \n",
              "[439] \"lightsteelblue1\"      \"lightsteelblue2\"      \"lightsteelblue3\"     \n",
              "[442] \"lightsteelblue4\"      \"lightyellow\"          \"lightyellow1\"        \n",
              "[445] \"lightyellow2\"         \"lightyellow3\"         \"lightyellow4\"        \n",
              "[448] \"limegreen\"            \"linen\"                \"magenta\"             \n",
              "[451] \"magenta1\"             \"magenta2\"             \"magenta3\"            \n",
              "[454] \"magenta4\"             \"maroon\"               \"maroon1\"             \n",
              "[457] \"maroon2\"              \"maroon3\"              \"maroon4\"             \n",
              "[460] \"mediumaquamarine\"     \"mediumblue\"           \"mediumorchid\"        \n",
              "[463] \"mediumorchid1\"        \"mediumorchid2\"        \"mediumorchid3\"       \n",
              "[466] \"mediumorchid4\"        \"mediumpurple\"         \"mediumpurple1\"       \n",
              "[469] \"mediumpurple2\"        \"mediumpurple3\"        \"mediumpurple4\"       \n",
              "[472] \"mediumseagreen\"       \"mediumslateblue\"      \"mediumspringgreen\"   \n",
              "[475] \"mediumturquoise\"      \"mediumvioletred\"      \"midnightblue\"        \n",
              "[478] \"mintcream\"            \"mistyrose\"            \"mistyrose1\"          \n",
              "[481] \"mistyrose2\"           \"mistyrose3\"           \"mistyrose4\"          \n",
              "[484] \"moccasin\"             \"navajowhite\"          \"navajowhite1\"        \n",
              "[487] \"navajowhite2\"         \"navajowhite3\"         \"navajowhite4\"        \n",
              "[490] \"navy\"                 \"navyblue\"             \"oldlace\"             \n",
              "[493] \"olivedrab\"            \"olivedrab1\"           \"olivedrab2\"          \n",
              "[496] \"olivedrab3\"           \"olivedrab4\"           \"orange\"              \n",
              "[499] \"orange1\"              \"orange2\"              \"orange3\"             \n",
              "[502] \"orange4\"              \"orangered\"            \"orangered1\"          \n",
              "[505] \"orangered2\"           \"orangered3\"           \"orangered4\"          \n",
              "[508] \"orchid\"               \"orchid1\"              \"orchid2\"             \n",
              "[511] \"orchid3\"              \"orchid4\"              \"palegoldenrod\"       \n",
              "[514] \"palegreen\"            \"palegreen1\"           \"palegreen2\"          \n",
              "[517] \"palegreen3\"           \"palegreen4\"           \"paleturquoise\"       \n",
              "[520] \"paleturquoise1\"       \"paleturquoise2\"       \"paleturquoise3\"      \n",
              "[523] \"paleturquoise4\"       \"palevioletred\"        \"palevioletred1\"      \n",
              "[526] \"palevioletred2\"       \"palevioletred3\"       \"palevioletred4\"      \n",
              "[529] \"papayawhip\"           \"peachpuff\"            \"peachpuff1\"          \n",
              "[532] \"peachpuff2\"           \"peachpuff3\"           \"peachpuff4\"          \n",
              "[535] \"peru\"                 \"pink\"                 \"pink1\"               \n",
              "[538] \"pink2\"                \"pink3\"                \"pink4\"               \n",
              "[541] \"plum\"                 \"plum1\"                \"plum2\"               \n",
              "[544] \"plum3\"                \"plum4\"                \"powderblue\"          \n",
              "[547] \"purple\"               \"purple1\"              \"purple2\"             \n",
              "[550] \"purple3\"              \"purple4\"              \"red\"                 \n",
              "[553] \"red1\"                 \"red2\"                 \"red3\"                \n",
              "[556] \"red4\"                 \"rosybrown\"            \"rosybrown1\"          \n",
              "[559] \"rosybrown2\"           \"rosybrown3\"           \"rosybrown4\"          \n",
              "[562] \"royalblue\"            \"royalblue1\"           \"royalblue2\"          \n",
              "[565] \"royalblue3\"           \"royalblue4\"           \"saddlebrown\"         \n",
              "[568] \"salmon\"               \"salmon1\"              \"salmon2\"             \n",
              "[571] \"salmon3\"              \"salmon4\"              \"sandybrown\"          \n",
              "[574] \"seagreen\"             \"seagreen1\"            \"seagreen2\"           \n",
              "[577] \"seagreen3\"            \"seagreen4\"            \"seashell\"            \n",
              "[580] \"seashell1\"            \"seashell2\"            \"seashell3\"           \n",
              "[583] \"seashell4\"            \"sienna\"               \"sienna1\"             \n",
              "[586] \"sienna2\"              \"sienna3\"              \"sienna4\"             \n",
              "[589] \"skyblue\"              \"skyblue1\"             \"skyblue2\"            \n",
              "[592] \"skyblue3\"             \"skyblue4\"             \"slateblue\"           \n",
              "[595] \"slateblue1\"           \"slateblue2\"           \"slateblue3\"          \n",
              "[598] \"slateblue4\"           \"slategray\"            \"slategray1\"          \n",
              "[601] \"slategray2\"           \"slategray3\"           \"slategray4\"          \n",
              "[604] \"slategrey\"            \"snow\"                 \"snow1\"               \n",
              "[607] \"snow2\"                \"snow3\"                \"snow4\"               \n",
              "[610] \"springgreen\"          \"springgreen1\"         \"springgreen2\"        \n",
              "[613] \"springgreen3\"         \"springgreen4\"         \"steelblue\"           \n",
              "[616] \"steelblue1\"           \"steelblue2\"           \"steelblue3\"          \n",
              "[619] \"steelblue4\"           \"tan\"                  \"tan1\"                \n",
              "[622] \"tan2\"                 \"tan3\"                 \"tan4\"                \n",
              "[625] \"thistle\"              \"thistle1\"             \"thistle2\"            \n",
              "[628] \"thistle3\"             \"thistle4\"             \"tomato\"              \n",
              "[631] \"tomato1\"              \"tomato2\"              \"tomato3\"             \n",
              "[634] \"tomato4\"              \"turquoise\"            \"turquoise1\"          \n",
              "[637] \"turquoise2\"           \"turquoise3\"           \"turquoise4\"          \n",
              "[640] \"violet\"               \"violetred\"            \"violetred1\"          \n",
              "[643] \"violetred2\"           \"violetred3\"           \"violetred4\"          \n",
              "[646] \"wheat\"                \"wheat1\"               \"wheat2\"              \n",
              "[649] \"wheat3\"               \"wheat4\"               \"whitesmoke\"          \n",
              "[652] \"yellow\"               \"yellow1\"              \"yellow2\"             \n",
              "[655] \"yellow3\"              \"yellow4\"              \"yellowgreen\"         "
            ]
          },
          "metadata": {}
        }
      ]
    },
    {
      "cell_type": "code",
      "source": [
        "barplot(y[order(y)],horiz = TRUE,col = c(\"red\",\"green\",\"blue\",\"beige\"),border = NA)"
      ],
      "metadata": {
        "colab": {
          "base_uri": "https://localhost:8080/",
          "height": 437
        },
        "id": "kGrxjY5tYXi1",
        "outputId": "325d0dd1-59b2-4147-f444-529d8ee67851"
      },
      "execution_count": 74,
      "outputs": [
        {
          "output_type": "display_data",
          "data": {
            "text/plain": [
              "plot without title"
            ],
            "image/png": "[encoded data removed]"
          },
          "metadata": {
            "image/png": {
              "width": 420,
              "height": 420
            }
          }
        }
      ]
    },
    {
      "cell_type": "code",
      "source": [
        "barplot(y[order(y)], horiz = TRUE,col = c(\"red\",\"green\",\"blue\",\"beige\"),border = NA,main = \"Freq of \\n Regions\")"
      ],
      "metadata": {
        "colab": {
          "base_uri": "https://localhost:8080/",
          "height": 437
        },
        "id": "nVSSu-sBYs6f",
        "outputId": "a48d5a03-7621-4723-cef0-850245d1db6b"
      },
      "execution_count": 77,
      "outputs": [
        {
          "output_type": "display_data",
          "data": {
            "text/plain": [
              "Plot with title “Freq of \n",
              " Regions”"
            ],
            "image/png": "[encoded data removed]"
          },
          "metadata": {
            "image/png": {
              "width": 420,
              "height": 420
            }
          }
        }
      ]
    },
    {
      "cell_type": "code",
      "source": [
        "barplot(y[order(y)], horiz = TRUE,col = c(\"red\",\"green\",\"blue\",\"beige\"),border = NA,main = \"Freq of \\n Regions\",xlab =  \"Number of customers\")"
      ],
      "metadata": {
        "colab": {
          "base_uri": "https://localhost:8080/",
          "height": 437
        },
        "id": "Lom8LFkvZa6z",
        "outputId": "78daa903-cb0f-42ce-cbcc-5ce3052abe63"
      },
      "execution_count": 78,
      "outputs": [
        {
          "output_type": "display_data",
          "data": {
            "text/plain": [
              "Plot with title “Freq of \n",
              " Regions”"
            ],
            "image/png": "[encoded data removed]"
          },
          "metadata": {
            "image/png": {
              "width": 420,
              "height": 420
            }
          }
        }
      ]
    },
    {
      "cell_type": "code",
      "source": [
        "png(filename = \"Freq.png\",width = 888, height = 572)\n",
        "barplot(y[order(y)], horiz = TRUE,col = c(\"red\",\"green\",\"blue\",\"beige\"),border = NA,main = \"Freq of \\n Regions\")\n",
        "dev.off()\n"
      ],
      "metadata": {
        "colab": {
          "base_uri": "https://localhost:8080/",
          "height": 34
        },
        "id": "zeIhYYFKZrQD",
        "outputId": "8c1db144-bd2e-48b8-9ac1-5c7a636830cd"
      },
      "execution_count": 80,
      "outputs": [
        {
          "output_type": "display_data",
          "data": {
            "text/html": [
              "<strong>png:</strong> 2"
            ],
            "text/markdown": "**png:** 2",
            "text/latex": "\\textbf{png:} 2",
            "text/plain": [
              "png \n",
              "  2 "
            ]
          },
          "metadata": {}
        }
      ]
    },
    {
      "cell_type": "code",
      "source": [
        "hist(customer$Age)"
      ],
      "metadata": {
        "colab": {
          "base_uri": "https://localhost:8080/",
          "height": 437
        },
        "id": "1dtaoJT4alVe",
        "outputId": "e37b3bf6-22c3-42bb-868f-3f5170ab0a84"
      },
      "execution_count": 81,
      "outputs": [
        {
          "output_type": "display_data",
          "data": {
            "text/plain": [
              "Plot with title “Histogram of customer$Age”"
            ],
            "image/png": "[encoded data removed]"
          },
          "metadata": {
            "image/png": {
              "width": 420,
              "height": 420
            }
          }
        }
      ]
    },
    {
      "cell_type": "code",
      "source": [
        "hist(customer$Age,breaks = 5)"
      ],
      "metadata": {
        "colab": {
          "base_uri": "https://localhost:8080/",
          "height": 437
        },
        "id": "PYtrKsblaMve",
        "outputId": "19ff30d4-ae62-4e36-fcd9-448f2b1d7e0a"
      },
      "execution_count": 82,
      "outputs": [
        {
          "output_type": "display_data",
          "data": {
            "text/plain": [
              "Plot with title “Histogram of customer$Age”"
            ],
            "image/png": "[encoded data removed]"
          },
          "metadata": {
            "image/png": {
              "width": 420,
              "height": 420
            }
          }
        }
      ]
    },
    {
      "cell_type": "code",
      "source": [
        "hist(customer$Age,breaks = c(0,40,60,100), freq = TRUE)"
      ],
      "metadata": {
        "colab": {
          "base_uri": "https://localhost:8080/",
          "height": 493
        },
        "id": "DwtEjqkXavsV",
        "outputId": "60a3b47e-4961-408f-c8d0-0f2cfbd25875"
      },
      "execution_count": 84,
      "outputs": [
        {
          "output_type": "stream",
          "name": "stderr",
          "text": [
            "Warning message in plot.histogram(r, freq = freq1, col = col, border = border, angle = angle, :\n",
            "“the AREAS in the plot are wrong -- rather use 'freq = FALSE'”\n"
          ]
        },
        {
          "output_type": "display_data",
          "data": {
            "text/plain": [
              "Plot with title “Histogram of customer$Age”"
            ],
            "image/png": "[encoded data removed]"
          },
          "metadata": {
            "image/png": {
              "width": 420,
              "height": 420
            }
          }
        }
      ]
    },
    {
      "cell_type": "code",
      "source": [
        "hist(customer$Age,breaks = c(0,40,60,100), freq = TRUE, col = \"blue\", main = \"Histogram\")"
      ],
      "metadata": {
        "colab": {
          "base_uri": "https://localhost:8080/",
          "height": 493
        },
        "id": "FckfjAc4bH2s",
        "outputId": "447a5a40-4b9c-4caa-cd30-56e39438152b"
      },
      "execution_count": 85,
      "outputs": [
        {
          "output_type": "stream",
          "name": "stderr",
          "text": [
            "Warning message in plot.histogram(r, freq = freq1, col = col, border = border, angle = angle, :\n",
            "“the AREAS in the plot are wrong -- rather use 'freq = FALSE'”\n"
          ]
        },
        {
          "output_type": "display_data",
          "data": {
            "text/plain": [
              "Plot with title “Histogram”"
            ],
            "image/png": "[encoded data removed]"
          },
          "metadata": {
            "image/png": {
              "width": 420,
              "height": 420
            }
          }
        }
      ]
    },
    {
      "cell_type": "code",
      "source": [],
      "metadata": {
        "id": "dfJOzrnteIYq"
      },
      "execution_count": null,
      "outputs": []
    }
  ]
}